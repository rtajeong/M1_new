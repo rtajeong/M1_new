{
  "nbformat": 4,
  "nbformat_minor": 0,
  "metadata": {
    "kernelspec": {
      "display_name": "Python 3",
      "language": "python",
      "name": "python3"
    },
    "language_info": {
      "codemirror_mode": {
        "name": "ipython",
        "version": 3
      },
      "file_extension": ".py",
      "mimetype": "text/x-python",
      "name": "python",
      "nbconvert_exporter": "python",
      "pygments_lexer": "ipython3",
      "version": "3.7.6"
    },
    "colab": {
      "provenance": [],
      "collapsed_sections": [
        "5My4N2FQ22g9",
        "EZUdUmD522hD"
      ],
      "include_colab_link": true
    }
  },
  "cells": [
    {
      "cell_type": "markdown",
      "metadata": {
        "id": "view-in-github",
        "colab_type": "text"
      },
      "source": [
        "<a href=\"https://colab.research.google.com/github/rtajeong/M1_new/blob/main/lab1_python_rev1.ipynb\" target=\"_parent\"><img src=\"https://colab.research.google.com/assets/colab-badge.svg\" alt=\"Open In Colab\"/></a>"
      ]
    },
    {
      "cell_type": "markdown",
      "metadata": {
        "id": "dFr3oJCx22g6"
      },
      "source": [
        "# Tips for keys in Jupyter\n",
        "\n",
        "## In command mode (blue colored cell)\n",
        " - Shift-Enter : execute and go to the next cell\n",
        " - Ctl-Enter : execute and stay\n",
        " - Alt-Enter : execute and create a new cell\n",
        " - a/b : create a new cell in above/below\n",
        " - x: delete cell\n",
        " - shift-m : merge two cells\n",
        "\n",
        "\n",
        "## In edit mode (green colored cell)\n",
        "- ctl-shift-\"-\" : separate cell"
      ]
    },
    {
      "cell_type": "markdown",
      "metadata": {
        "id": "sA-sSKQ32_5Y"
      },
      "source": [
        "# Tips for Colab\n",
        "- ctl-M / : merge cells\n",
        "- ctl-M - : split a cell\n",
        "- ctl-M M : code -> text\n",
        "- ctl-M Y : text -> code"
      ]
    },
    {
      "cell_type": "markdown",
      "metadata": {
        "id": "5My4N2FQ22g9"
      },
      "source": [
        "## Basic Variables\n",
        "- int\n",
        "- float\n",
        "- boolean"
      ]
    },
    {
      "cell_type": "code",
      "metadata": {
        "colab": {
          "base_uri": "https://localhost:8080/"
        },
        "id": "5YJDBnuhMwN3",
        "outputId": "131693fe-fa3c-4dd8-ed95-db1ab289d25b"
      },
      "source": [
        "!ls -l"
      ],
      "execution_count": 1,
      "outputs": [
        {
          "output_type": "stream",
          "name": "stdout",
          "text": [
            "total 4\n",
            "drwxr-xr-x 1 root root 4096 Jul 20 13:28 sample_data\n"
          ]
        }
      ]
    },
    {
      "cell_type": "code",
      "metadata": {
        "id": "B5Z8uYJmMRWx",
        "colab": {
          "base_uri": "https://localhost:8080/"
        },
        "outputId": "1648c48b-81fa-4c02-a4af-d5fa004dbae7"
      },
      "source": [
        "a = 100\n",
        "id(a)"
      ],
      "execution_count": 2,
      "outputs": [
        {
          "output_type": "execute_result",
          "data": {
            "text/plain": [
              "132902060199248"
            ]
          },
          "metadata": {},
          "execution_count": 2
        }
      ]
    },
    {
      "cell_type": "code",
      "source": [
        "a = a+1\n",
        "a, id(a)"
      ],
      "metadata": {
        "colab": {
          "base_uri": "https://localhost:8080/"
        },
        "id": "hV3LxTtT7IFv",
        "outputId": "b8eb000e-59be-4952-edf5-a17b244b7434"
      },
      "execution_count": 3,
      "outputs": [
        {
          "output_type": "execute_result",
          "data": {
            "text/plain": [
              "(101, 132902060199280)"
            ]
          },
          "metadata": {},
          "execution_count": 3
        }
      ]
    },
    {
      "cell_type": "code",
      "metadata": {
        "colab": {
          "base_uri": "https://localhost:8080/"
        },
        "id": "uFjeSbJuOvOj",
        "outputId": "fe2234b9-169d-4abc-9af3-3316c186862d"
      },
      "source": [
        "a, type(a)"
      ],
      "execution_count": 4,
      "outputs": [
        {
          "output_type": "execute_result",
          "data": {
            "text/plain": [
              "(101, int)"
            ]
          },
          "metadata": {},
          "execution_count": 4
        }
      ]
    },
    {
      "cell_type": "code",
      "metadata": {
        "id": "Y7j42d-8NOSH"
      },
      "source": [
        "a = 3.14"
      ],
      "execution_count": 5,
      "outputs": []
    },
    {
      "cell_type": "code",
      "metadata": {
        "colab": {
          "base_uri": "https://localhost:8080/"
        },
        "id": "jGBxZbitNULy",
        "outputId": "3fd722b8-0c8d-4a0b-aef3-7e0bfed4bd54"
      },
      "source": [
        "a, type(a)"
      ],
      "execution_count": 6,
      "outputs": [
        {
          "output_type": "execute_result",
          "data": {
            "text/plain": [
              "(3.14, float)"
            ]
          },
          "metadata": {},
          "execution_count": 6
        }
      ]
    },
    {
      "cell_type": "code",
      "metadata": {
        "id": "5H-LaASWNI35"
      },
      "source": [
        "a = \"Hello\""
      ],
      "execution_count": 7,
      "outputs": []
    },
    {
      "cell_type": "code",
      "metadata": {
        "colab": {
          "base_uri": "https://localhost:8080/"
        },
        "id": "g2unjhtTPL76",
        "outputId": "52ca13cb-fd47-400e-9013-8899d383359a"
      },
      "source": [
        "a, type(a)"
      ],
      "execution_count": 8,
      "outputs": [
        {
          "output_type": "execute_result",
          "data": {
            "text/plain": [
              "('Hello', str)"
            ]
          },
          "metadata": {},
          "execution_count": 8
        }
      ]
    },
    {
      "cell_type": "code",
      "metadata": {
        "id": "vVVN1aB_22g_"
      },
      "source": [
        "a = 100\n",
        "b = 3.7\n",
        "c = True\n",
        "d = a + b"
      ],
      "execution_count": 9,
      "outputs": []
    },
    {
      "cell_type": "code",
      "metadata": {
        "id": "Yr35q7nN22hA",
        "colab": {
          "base_uri": "https://localhost:8080/"
        },
        "outputId": "4239ef9a-d822-41c6-ed31-4694b346cee6"
      },
      "source": [
        "a, b, c, d"
      ],
      "execution_count": 10,
      "outputs": [
        {
          "output_type": "execute_result",
          "data": {
            "text/plain": [
              "(100, 3.7, True, 103.7)"
            ]
          },
          "metadata": {},
          "execution_count": 10
        }
      ]
    },
    {
      "cell_type": "code",
      "metadata": {
        "id": "zcYtExwk22hB",
        "colab": {
          "base_uri": "https://localhost:8080/"
        },
        "outputId": "3de2205f-0c80-471d-b1a0-b72fe429f148"
      },
      "source": [
        "type(a), type(b), type(c), type(d)"
      ],
      "execution_count": 11,
      "outputs": [
        {
          "output_type": "execute_result",
          "data": {
            "text/plain": [
              "(int, float, bool, float)"
            ]
          },
          "metadata": {},
          "execution_count": 11
        }
      ]
    },
    {
      "cell_type": "code",
      "metadata": {
        "id": "2hIPyEIB22hC",
        "colab": {
          "base_uri": "https://localhost:8080/"
        },
        "outputId": "146bce8b-b4a3-4901-a25c-ff84cd0b1739"
      },
      "source": [
        "a + c + True + False       # True = 1, False = 0"
      ],
      "execution_count": 12,
      "outputs": [
        {
          "output_type": "execute_result",
          "data": {
            "text/plain": [
              "102"
            ]
          },
          "metadata": {},
          "execution_count": 12
        }
      ]
    },
    {
      "cell_type": "markdown",
      "metadata": {
        "id": "EZUdUmD522hD"
      },
      "source": [
        "## Container Variables\n",
        "- string (str)\n",
        "- list\n",
        "- tuple\n",
        "- dictionary (dict)"
      ]
    },
    {
      "cell_type": "code",
      "metadata": {
        "id": "wmcHD7Nv22hE"
      },
      "source": [
        "s = \"heLLo\""
      ],
      "execution_count": 13,
      "outputs": []
    },
    {
      "cell_type": "code",
      "metadata": {
        "id": "EV4DzUgH22hF",
        "colab": {
          "base_uri": "https://localhost:8080/"
        },
        "outputId": "22e498a2-1175-4682-f3bf-2e0501df12b4"
      },
      "source": [
        "s, type(s)"
      ],
      "execution_count": 14,
      "outputs": [
        {
          "output_type": "execute_result",
          "data": {
            "text/plain": [
              "('heLLo', str)"
            ]
          },
          "metadata": {},
          "execution_count": 14
        }
      ]
    },
    {
      "cell_type": "code",
      "metadata": {
        "id": "LicQBpDq22hG",
        "colab": {
          "base_uri": "https://localhost:8080/"
        },
        "outputId": "9270753d-4491-4369-9fbb-6b0c83803152"
      },
      "source": [
        "dir(s)"
      ],
      "execution_count": 15,
      "outputs": [
        {
          "output_type": "execute_result",
          "data": {
            "text/plain": [
              "['__add__',\n",
              " '__class__',\n",
              " '__contains__',\n",
              " '__delattr__',\n",
              " '__dir__',\n",
              " '__doc__',\n",
              " '__eq__',\n",
              " '__format__',\n",
              " '__ge__',\n",
              " '__getattribute__',\n",
              " '__getitem__',\n",
              " '__getnewargs__',\n",
              " '__gt__',\n",
              " '__hash__',\n",
              " '__init__',\n",
              " '__init_subclass__',\n",
              " '__iter__',\n",
              " '__le__',\n",
              " '__len__',\n",
              " '__lt__',\n",
              " '__mod__',\n",
              " '__mul__',\n",
              " '__ne__',\n",
              " '__new__',\n",
              " '__reduce__',\n",
              " '__reduce_ex__',\n",
              " '__repr__',\n",
              " '__rmod__',\n",
              " '__rmul__',\n",
              " '__setattr__',\n",
              " '__sizeof__',\n",
              " '__str__',\n",
              " '__subclasshook__',\n",
              " 'capitalize',\n",
              " 'casefold',\n",
              " 'center',\n",
              " 'count',\n",
              " 'encode',\n",
              " 'endswith',\n",
              " 'expandtabs',\n",
              " 'find',\n",
              " 'format',\n",
              " 'format_map',\n",
              " 'index',\n",
              " 'isalnum',\n",
              " 'isalpha',\n",
              " 'isascii',\n",
              " 'isdecimal',\n",
              " 'isdigit',\n",
              " 'isidentifier',\n",
              " 'islower',\n",
              " 'isnumeric',\n",
              " 'isprintable',\n",
              " 'isspace',\n",
              " 'istitle',\n",
              " 'isupper',\n",
              " 'join',\n",
              " 'ljust',\n",
              " 'lower',\n",
              " 'lstrip',\n",
              " 'maketrans',\n",
              " 'partition',\n",
              " 'removeprefix',\n",
              " 'removesuffix',\n",
              " 'replace',\n",
              " 'rfind',\n",
              " 'rindex',\n",
              " 'rjust',\n",
              " 'rpartition',\n",
              " 'rsplit',\n",
              " 'rstrip',\n",
              " 'split',\n",
              " 'splitlines',\n",
              " 'startswith',\n",
              " 'strip',\n",
              " 'swapcase',\n",
              " 'title',\n",
              " 'translate',\n",
              " 'upper',\n",
              " 'zfill']"
            ]
          },
          "metadata": {},
          "execution_count": 15
        }
      ]
    },
    {
      "cell_type": "code",
      "metadata": {
        "colab": {
          "base_uri": "https://localhost:8080/",
          "height": 35
        },
        "id": "55KmAJjnQCUl",
        "outputId": "72006921-8f02-4555-ce1d-e56ac96dcfbc"
      },
      "source": [
        "s"
      ],
      "execution_count": 16,
      "outputs": [
        {
          "output_type": "execute_result",
          "data": {
            "text/plain": [
              "'heLLo'"
            ],
            "application/vnd.google.colaboratory.intrinsic+json": {
              "type": "string"
            }
          },
          "metadata": {},
          "execution_count": 16
        }
      ]
    },
    {
      "cell_type": "code",
      "metadata": {
        "id": "YY7jnJg-22hH",
        "colab": {
          "base_uri": "https://localhost:8080/"
        },
        "outputId": "df8ab2c1-afc0-43d6-c8a9-3a0ee10414f0"
      },
      "source": [
        "s.capitalize(), s.isalpha(), s.isdigit(), s.isupper(), s.islower(), s.isspace()"
      ],
      "execution_count": 17,
      "outputs": [
        {
          "output_type": "execute_result",
          "data": {
            "text/plain": [
              "('Hello', True, False, False, False, False)"
            ]
          },
          "metadata": {},
          "execution_count": 17
        }
      ]
    },
    {
      "cell_type": "code",
      "metadata": {
        "id": "PS5X3HTr22hH",
        "colab": {
          "base_uri": "https://localhost:8080/",
          "height": 35
        },
        "outputId": "b4c9d271-5425-496d-ccb2-c0e01dfa37c5"
      },
      "source": [
        "\"   Too many spaces.       \".strip()"
      ],
      "execution_count": 18,
      "outputs": [
        {
          "output_type": "execute_result",
          "data": {
            "text/plain": [
              "'Too many spaces.'"
            ],
            "application/vnd.google.colaboratory.intrinsic+json": {
              "type": "string"
            }
          },
          "metadata": {},
          "execution_count": 18
        }
      ]
    },
    {
      "cell_type": "code",
      "metadata": {
        "id": "-FkNWHPQ22hI",
        "colab": {
          "base_uri": "https://localhost:8080/",
          "height": 35
        },
        "outputId": "3036bfd4-386b-440b-c8a2-fbeac252dfe0"
      },
      "source": [
        "\"HELLO\".replace(\"E\",\"e\")"
      ],
      "execution_count": 19,
      "outputs": [
        {
          "output_type": "execute_result",
          "data": {
            "text/plain": [
              "'HeLLO'"
            ],
            "application/vnd.google.colaboratory.intrinsic+json": {
              "type": "string"
            }
          },
          "metadata": {},
          "execution_count": 19
        }
      ]
    },
    {
      "cell_type": "code",
      "metadata": {
        "id": "knP8Y_aZ22hI",
        "colab": {
          "base_uri": "https://localhost:8080/"
        },
        "outputId": "2b788cca-3bce-44a9-b0b5-b4dca3cbd511"
      },
      "source": [
        "\"I am home\".split(' ')"
      ],
      "execution_count": 20,
      "outputs": [
        {
          "output_type": "execute_result",
          "data": {
            "text/plain": [
              "['I', 'am', 'home']"
            ]
          },
          "metadata": {},
          "execution_count": 20
        }
      ]
    },
    {
      "cell_type": "code",
      "metadata": {
        "id": "26CRbioC22hJ",
        "colab": {
          "base_uri": "https://localhost:8080/",
          "height": 35
        },
        "outputId": "792b1be9-1a28-4fb4-bfe8-35b910c5b51a"
      },
      "source": [
        "\":\".join(['1','2','3'])"
      ],
      "execution_count": 21,
      "outputs": [
        {
          "output_type": "execute_result",
          "data": {
            "text/plain": [
              "'1:2:3'"
            ],
            "application/vnd.google.colaboratory.intrinsic+json": {
              "type": "string"
            }
          },
          "metadata": {},
          "execution_count": 21
        }
      ]
    },
    {
      "cell_type": "code",
      "metadata": {
        "id": "egCdCEh022hK"
      },
      "source": [
        "s1 = \"hello\""
      ],
      "execution_count": 22,
      "outputs": []
    },
    {
      "cell_type": "code",
      "metadata": {
        "id": "nA4mfq8_22hK",
        "colab": {
          "base_uri": "https://localhost:8080/"
        },
        "outputId": "7db201ca-5576-428c-ab25-7d5949c6b657"
      },
      "source": [
        "s1[0], s1[-1]   # indexing"
      ],
      "execution_count": 23,
      "outputs": [
        {
          "output_type": "execute_result",
          "data": {
            "text/plain": [
              "('h', 'o')"
            ]
          },
          "metadata": {},
          "execution_count": 23
        }
      ]
    },
    {
      "cell_type": "code",
      "metadata": {
        "id": "JUpm7XH122hL",
        "colab": {
          "base_uri": "https://localhost:8080/",
          "height": 35
        },
        "outputId": "7128c68a-aea8-4424-fa92-4d1eebe85120"
      },
      "source": [
        "s1[0:3]        # slicing (last item excluded)"
      ],
      "execution_count": 24,
      "outputs": [
        {
          "output_type": "execute_result",
          "data": {
            "text/plain": [
              "'hel'"
            ],
            "application/vnd.google.colaboratory.intrinsic+json": {
              "type": "string"
            }
          },
          "metadata": {},
          "execution_count": 24
        }
      ]
    },
    {
      "cell_type": "code",
      "metadata": {
        "id": "gWryXzJL22hL",
        "colab": {
          "base_uri": "https://localhost:8080/",
          "height": 166
        },
        "outputId": "ec2652bb-1631-48ce-f701-699a7478bbd9"
      },
      "source": [
        "s1[0] = \"H\"    # error (immutable or unchangable)"
      ],
      "execution_count": 25,
      "outputs": [
        {
          "output_type": "error",
          "ename": "TypeError",
          "evalue": "ignored",
          "traceback": [
            "\u001b[0;31m---------------------------------------------------------------------------\u001b[0m",
            "\u001b[0;31mTypeError\u001b[0m                                 Traceback (most recent call last)",
            "\u001b[0;32m<ipython-input-25-336d7de443b4>\u001b[0m in \u001b[0;36m<cell line: 1>\u001b[0;34m()\u001b[0m\n\u001b[0;32m----> 1\u001b[0;31m \u001b[0ms1\u001b[0m\u001b[0;34m[\u001b[0m\u001b[0;36m0\u001b[0m\u001b[0;34m]\u001b[0m \u001b[0;34m=\u001b[0m \u001b[0;34m\"H\"\u001b[0m    \u001b[0;31m# error (immutable or unchangable)\u001b[0m\u001b[0;34m\u001b[0m\u001b[0;34m\u001b[0m\u001b[0m\n\u001b[0m",
            "\u001b[0;31mTypeError\u001b[0m: 'str' object does not support item assignment"
          ]
        }
      ]
    },
    {
      "cell_type": "code",
      "metadata": {
        "colab": {
          "base_uri": "https://localhost:8080/"
        },
        "id": "ykJw_WvuRlG9",
        "outputId": "f1d54c72-8082-453b-cd27-783fa51d39c4"
      },
      "source": [
        "s2 = [1,2,3,4]  # mutable\n",
        "s2, type(s2)"
      ],
      "execution_count": 27,
      "outputs": [
        {
          "output_type": "execute_result",
          "data": {
            "text/plain": [
              "([1, 2, 3, 4], list)"
            ]
          },
          "metadata": {},
          "execution_count": 27
        }
      ]
    },
    {
      "cell_type": "code",
      "metadata": {
        "id": "EyGq7RMrRtej"
      },
      "source": [
        "s2[0] = 100"
      ],
      "execution_count": 28,
      "outputs": []
    },
    {
      "cell_type": "code",
      "metadata": {
        "colab": {
          "base_uri": "https://localhost:8080/"
        },
        "id": "Ub-xYkjSRyqB",
        "outputId": "ea775298-40a7-4589-f952-890336547861"
      },
      "source": [
        "s2"
      ],
      "execution_count": 29,
      "outputs": [
        {
          "output_type": "execute_result",
          "data": {
            "text/plain": [
              "[100, 2, 3, 4]"
            ]
          },
          "metadata": {},
          "execution_count": 29
        }
      ]
    },
    {
      "cell_type": "code",
      "metadata": {
        "id": "N5FHzGKE22hL"
      },
      "source": [
        "list_1 = [1,2,3,4]\n",
        "tuple_1 = (1,2,3,4)\n",
        "dict_1 = {\"last\": \" Hong\", \"first\": \"Gil-Dong\"}"
      ],
      "execution_count": 30,
      "outputs": []
    },
    {
      "cell_type": "code",
      "metadata": {
        "id": "tLppcabG22hM",
        "colab": {
          "base_uri": "https://localhost:8080/"
        },
        "outputId": "05a06e4a-95bc-4e29-d674-d56c0ab9d927"
      },
      "source": [
        "list_1, tuple_1, dict_1, type(list_1), type(tuple_1), type(dict_1)"
      ],
      "execution_count": 31,
      "outputs": [
        {
          "output_type": "execute_result",
          "data": {
            "text/plain": [
              "([1, 2, 3, 4],\n",
              " (1, 2, 3, 4),\n",
              " {'last': ' Hong', 'first': 'Gil-Dong'},\n",
              " list,\n",
              " tuple,\n",
              " dict)"
            ]
          },
          "metadata": {},
          "execution_count": 31
        }
      ]
    },
    {
      "cell_type": "code",
      "metadata": {
        "id": "8iqDnElw22hM",
        "colab": {
          "base_uri": "https://localhost:8080/"
        },
        "outputId": "a803ddb4-05ec-409b-d4b3-85d2f1f9680f"
      },
      "source": [
        "list_1[0]"
      ],
      "execution_count": 32,
      "outputs": [
        {
          "output_type": "execute_result",
          "data": {
            "text/plain": [
              "1"
            ]
          },
          "metadata": {},
          "execution_count": 32
        }
      ]
    },
    {
      "cell_type": "code",
      "metadata": {
        "colab": {
          "base_uri": "https://localhost:8080/"
        },
        "id": "ouf44hJrS0MG",
        "outputId": "5279661e-c24b-4d6d-aa82-76e49675c5f2"
      },
      "source": [
        " tuple_1[0]"
      ],
      "execution_count": 33,
      "outputs": [
        {
          "output_type": "execute_result",
          "data": {
            "text/plain": [
              "1"
            ]
          },
          "metadata": {},
          "execution_count": 33
        }
      ]
    },
    {
      "cell_type": "code",
      "metadata": {
        "colab": {
          "base_uri": "https://localhost:8080/",
          "height": 166
        },
        "id": "uUeScv8DS1mo",
        "outputId": "895148c0-621d-420b-e185-b60ca80dfbb2"
      },
      "source": [
        " dict_1[0]"
      ],
      "execution_count": 34,
      "outputs": [
        {
          "output_type": "error",
          "ename": "KeyError",
          "evalue": "ignored",
          "traceback": [
            "\u001b[0;31m---------------------------------------------------------------------------\u001b[0m",
            "\u001b[0;31mKeyError\u001b[0m                                  Traceback (most recent call last)",
            "\u001b[0;32m<ipython-input-34-e872587e1739>\u001b[0m in \u001b[0;36m<cell line: 1>\u001b[0;34m()\u001b[0m\n\u001b[0;32m----> 1\u001b[0;31m \u001b[0mdict_1\u001b[0m\u001b[0;34m[\u001b[0m\u001b[0;36m0\u001b[0m\u001b[0;34m]\u001b[0m\u001b[0;34m\u001b[0m\u001b[0;34m\u001b[0m\u001b[0m\n\u001b[0m",
            "\u001b[0;31mKeyError\u001b[0m: 0"
          ]
        }
      ]
    },
    {
      "cell_type": "code",
      "metadata": {
        "colab": {
          "base_uri": "https://localhost:8080/",
          "height": 35
        },
        "id": "zaheXv5BTE54",
        "outputId": "54e344fa-7a00-46d9-92b8-964e6a413df5"
      },
      "source": [
        "dict_1['last']"
      ],
      "execution_count": 99,
      "outputs": [
        {
          "output_type": "execute_result",
          "data": {
            "text/plain": [
              "' Hong'"
            ],
            "application/vnd.google.colaboratory.intrinsic+json": {
              "type": "string"
            }
          },
          "metadata": {},
          "execution_count": 99
        }
      ]
    },
    {
      "cell_type": "code",
      "metadata": {
        "id": "aW8lAxYR22hM",
        "colab": {
          "base_uri": "https://localhost:8080/"
        },
        "outputId": "f132b3cb-a298-4166-9f1d-55bd6b601556"
      },
      "source": [
        "list_1[0] = 100     # mutable\n",
        "list_1"
      ],
      "execution_count": 100,
      "outputs": [
        {
          "output_type": "execute_result",
          "data": {
            "text/plain": [
              "[100, 2, 3, 4, 9, 8, [9, 8]]"
            ]
          },
          "metadata": {},
          "execution_count": 100
        }
      ]
    },
    {
      "cell_type": "code",
      "metadata": {
        "scrolled": true,
        "id": "G3aE4AOH22hN",
        "colab": {
          "base_uri": "https://localhost:8080/",
          "height": 184
        },
        "outputId": "d15286dd-0c7d-4213-fe39-d10ad5be7462"
      },
      "source": [
        "tuple_1[0] = 100     # error (immutable)\n",
        "tuple_1"
      ],
      "execution_count": 101,
      "outputs": [
        {
          "output_type": "error",
          "ename": "TypeError",
          "evalue": "ignored",
          "traceback": [
            "\u001b[0;31m---------------------------------------------------------------------------\u001b[0m",
            "\u001b[0;31mTypeError\u001b[0m                                 Traceback (most recent call last)",
            "\u001b[0;32m<ipython-input-101-02bd2880a7da>\u001b[0m in \u001b[0;36m<cell line: 1>\u001b[0;34m()\u001b[0m\n\u001b[0;32m----> 1\u001b[0;31m \u001b[0mtuple_1\u001b[0m\u001b[0;34m[\u001b[0m\u001b[0;36m0\u001b[0m\u001b[0;34m]\u001b[0m \u001b[0;34m=\u001b[0m \u001b[0;36m100\u001b[0m     \u001b[0;31m# error (immutable)\u001b[0m\u001b[0;34m\u001b[0m\u001b[0;34m\u001b[0m\u001b[0m\n\u001b[0m\u001b[1;32m      2\u001b[0m \u001b[0mtuple_1\u001b[0m\u001b[0;34m\u001b[0m\u001b[0;34m\u001b[0m\u001b[0m\n",
            "\u001b[0;31mTypeError\u001b[0m: 'tuple' object does not support item assignment"
          ]
        }
      ]
    },
    {
      "cell_type": "code",
      "metadata": {
        "id": "18jsCitc22hN",
        "colab": {
          "base_uri": "https://localhost:8080/"
        },
        "outputId": "ed136492-3869-4055-eaa8-18a2b92c4ee7"
      },
      "source": [
        "dict_1[\"last\"] = \"Lim\"     # mutable\n",
        "dict_1"
      ],
      "execution_count": 143,
      "outputs": [
        {
          "output_type": "execute_result",
          "data": {
            "text/plain": [
              "{'last': 'Lim', 'first': 'Gil-Dong'}"
            ]
          },
          "metadata": {},
          "execution_count": 143
        }
      ]
    },
    {
      "cell_type": "code",
      "metadata": {
        "id": "cs5vAgqL22hN",
        "colab": {
          "base_uri": "https://localhost:8080/"
        },
        "outputId": "de15f5e4-e56b-4b7d-ab73-4854b68eb207"
      },
      "source": [
        "list_2 = [3,4,5,'Hello'] ; list_2"
      ],
      "execution_count": 144,
      "outputs": [
        {
          "output_type": "execute_result",
          "data": {
            "text/plain": [
              "[3, 4, 5, 'Hello']"
            ]
          },
          "metadata": {},
          "execution_count": 144
        }
      ]
    },
    {
      "cell_type": "code",
      "metadata": {
        "id": "BuD85cuq22hN",
        "colab": {
          "base_uri": "https://localhost:8080/"
        },
        "outputId": "bc751629-b11c-44e9-d5fd-3f495f8d53d6"
      },
      "source": [
        "list_2"
      ],
      "execution_count": 145,
      "outputs": [
        {
          "output_type": "execute_result",
          "data": {
            "text/plain": [
              "[3, 4, 5, 'Hello']"
            ]
          },
          "metadata": {},
          "execution_count": 145
        }
      ]
    },
    {
      "cell_type": "code",
      "metadata": {
        "id": "ZnY6cqAZ22hO",
        "colab": {
          "base_uri": "https://localhost:8080/"
        },
        "outputId": "dd0b9017-ac17-4f4d-ffd9-b37b86c1eb50"
      },
      "source": [
        "list_3 = list_1 + list_2\n",
        "list_3"
      ],
      "execution_count": 146,
      "outputs": [
        {
          "output_type": "execute_result",
          "data": {
            "text/plain": [
              "[100, 2, 3, 4, 9, 8, [9, 8], 3, 4, 5, 'Hello']"
            ]
          },
          "metadata": {},
          "execution_count": 146
        }
      ]
    },
    {
      "cell_type": "code",
      "metadata": {
        "id": "C611wvkG22hO",
        "colab": {
          "base_uri": "https://localhost:8080/"
        },
        "outputId": "242d0181-f1a1-4598-c935-dc2aaae98280"
      },
      "source": [
        "len(s1), len(list_3)"
      ],
      "execution_count": 147,
      "outputs": [
        {
          "output_type": "execute_result",
          "data": {
            "text/plain": [
              "(5, 11)"
            ]
          },
          "metadata": {},
          "execution_count": 147
        }
      ]
    },
    {
      "cell_type": "code",
      "metadata": {
        "id": "tgGHRwep22hO",
        "colab": {
          "base_uri": "https://localhost:8080/"
        },
        "outputId": "18f31dea-15a1-4ca3-f633-3d67ea52bbfc"
      },
      "source": [
        "list_2"
      ],
      "execution_count": 148,
      "outputs": [
        {
          "output_type": "execute_result",
          "data": {
            "text/plain": [
              "[3, 4, 5, 'Hello']"
            ]
          },
          "metadata": {},
          "execution_count": 148
        }
      ]
    },
    {
      "cell_type": "code",
      "metadata": {
        "id": "vAMWuAsh22hO",
        "colab": {
          "base_uri": "https://localhost:8080/"
        },
        "outputId": "3b5e5ac3-eca7-4ae5-b08b-56778df16cd1"
      },
      "source": [
        "list_3.append(77)\n",
        "list_3"
      ],
      "execution_count": 149,
      "outputs": [
        {
          "output_type": "execute_result",
          "data": {
            "text/plain": [
              "[100, 2, 3, 4, 9, 8, [9, 8], 3, 4, 5, 'Hello', 77]"
            ]
          },
          "metadata": {},
          "execution_count": 149
        }
      ]
    },
    {
      "cell_type": "code",
      "metadata": {
        "id": "lJz8xhcl22hP",
        "colab": {
          "base_uri": "https://localhost:8080/"
        },
        "outputId": "f94f1891-84f0-4211-dc68-c65eae4122c4"
      },
      "source": [
        "list_3.pop()\n",
        "list_3"
      ],
      "execution_count": 150,
      "outputs": [
        {
          "output_type": "execute_result",
          "data": {
            "text/plain": [
              "[100, 2, 3, 4, 9, 8, [9, 8], 3, 4, 5, 'Hello']"
            ]
          },
          "metadata": {},
          "execution_count": 150
        }
      ]
    },
    {
      "cell_type": "code",
      "metadata": {
        "id": "hPpYOzXL22hP",
        "colab": {
          "base_uri": "https://localhost:8080/"
        },
        "outputId": "1f508ce2-3b29-459c-b794-1825c232ed66"
      },
      "source": [
        "dict_1"
      ],
      "execution_count": 151,
      "outputs": [
        {
          "output_type": "execute_result",
          "data": {
            "text/plain": [
              "{'last': 'Lim', 'first': 'Gil-Dong'}"
            ]
          },
          "metadata": {},
          "execution_count": 151
        }
      ]
    },
    {
      "cell_type": "code",
      "metadata": {
        "id": "qshXiHxL22hP",
        "colab": {
          "base_uri": "https://localhost:8080/"
        },
        "outputId": "4be8f15c-9391-49c1-bbf1-1fbc2943b2a2"
      },
      "source": [
        "dict_1.keys()"
      ],
      "execution_count": 152,
      "outputs": [
        {
          "output_type": "execute_result",
          "data": {
            "text/plain": [
              "dict_keys(['last', 'first'])"
            ]
          },
          "metadata": {},
          "execution_count": 152
        }
      ]
    },
    {
      "cell_type": "code",
      "metadata": {
        "id": "yxdlrHaI22hP",
        "colab": {
          "base_uri": "https://localhost:8080/"
        },
        "outputId": "50404ee4-a4b0-4e89-f416-ed6dc1ee2c27"
      },
      "source": [
        "dict_1.values()"
      ],
      "execution_count": 153,
      "outputs": [
        {
          "output_type": "execute_result",
          "data": {
            "text/plain": [
              "dict_values(['Lim', 'Gil-Dong'])"
            ]
          },
          "metadata": {},
          "execution_count": 153
        }
      ]
    },
    {
      "cell_type": "code",
      "metadata": {
        "id": "2YvN9NHl22hP",
        "colab": {
          "base_uri": "https://localhost:8080/"
        },
        "outputId": "38d0a54e-71c8-4044-8467-3b6250bb7c00"
      },
      "source": [
        "dict_1.items()"
      ],
      "execution_count": 154,
      "outputs": [
        {
          "output_type": "execute_result",
          "data": {
            "text/plain": [
              "dict_items([('last', 'Lim'), ('first', 'Gil-Dong')])"
            ]
          },
          "metadata": {},
          "execution_count": 154
        }
      ]
    },
    {
      "cell_type": "code",
      "metadata": {
        "id": "unuR29ok22hQ"
      },
      "source": [
        "# very useful type"
      ],
      "execution_count": 155,
      "outputs": []
    },
    {
      "cell_type": "code",
      "metadata": {
        "colab": {
          "base_uri": "https://localhost:8080/"
        },
        "id": "26orimWNZYdt",
        "outputId": "62eef9ed-0938-4b21-8376-11f2cf2c5d12"
      },
      "source": [
        "A = range(5); A"
      ],
      "execution_count": 156,
      "outputs": [
        {
          "output_type": "execute_result",
          "data": {
            "text/plain": [
              "range(0, 5)"
            ]
          },
          "metadata": {},
          "execution_count": 156
        }
      ]
    },
    {
      "cell_type": "code",
      "metadata": {
        "id": "IiJ9M1cu22hQ",
        "colab": {
          "base_uri": "https://localhost:8080/"
        },
        "outputId": "1fc45615-038f-4d9f-8c4a-b9d839e991da"
      },
      "source": [
        "list(range(5))"
      ],
      "execution_count": 157,
      "outputs": [
        {
          "output_type": "execute_result",
          "data": {
            "text/plain": [
              "[0, 1, 2, 3, 4]"
            ]
          },
          "metadata": {},
          "execution_count": 157
        }
      ]
    },
    {
      "cell_type": "code",
      "metadata": {
        "id": "j3gjYwhC22hQ",
        "colab": {
          "base_uri": "https://localhost:8080/"
        },
        "outputId": "4169ebb1-5c15-4104-d1d7-c286e47636a5"
      },
      "source": [
        "[x**2 for x in A]"
      ],
      "execution_count": 158,
      "outputs": [
        {
          "output_type": "execute_result",
          "data": {
            "text/plain": [
              "[0, 1, 4, 9, 16]"
            ]
          },
          "metadata": {},
          "execution_count": 158
        }
      ]
    },
    {
      "cell_type": "code",
      "metadata": {
        "id": "6vGYbzgd22hQ",
        "colab": {
          "base_uri": "https://localhost:8080/"
        },
        "outputId": "dfe51328-8308-4945-db3c-fbe311f2d6d4"
      },
      "source": [
        "x1 = range(3, 20, 3)   # start, end (excluded), stide\n",
        "list(x1)"
      ],
      "execution_count": 159,
      "outputs": [
        {
          "output_type": "execute_result",
          "data": {
            "text/plain": [
              "[3, 6, 9, 12, 15, 18]"
            ]
          },
          "metadata": {},
          "execution_count": 159
        }
      ]
    },
    {
      "cell_type": "code",
      "metadata": {
        "id": "nR5ajZkF22hQ",
        "colab": {
          "base_uri": "https://localhost:8080/"
        },
        "outputId": "00486467-bfea-4177-8c27-d0dd76f3a7cd"
      },
      "source": [
        "for i in x1:\n",
        "    j = i * 10\n",
        "    print(j * 10)\n",
        ""
      ],
      "execution_count": 160,
      "outputs": [
        {
          "output_type": "stream",
          "name": "stdout",
          "text": [
            "300\n",
            "600\n",
            "900\n",
            "1200\n",
            "1500\n",
            "1800\n"
          ]
        }
      ]
    },
    {
      "cell_type": "code",
      "metadata": {
        "id": "F0QfHSp522hQ",
        "colab": {
          "base_uri": "https://localhost:8080/"
        },
        "outputId": "cc281843-9629-4adf-ae57-76706db4f86f"
      },
      "source": [
        "[i * 100 for i in x1]"
      ],
      "execution_count": 161,
      "outputs": [
        {
          "output_type": "execute_result",
          "data": {
            "text/plain": [
              "[300, 600, 900, 1200, 1500, 1800]"
            ]
          },
          "metadata": {},
          "execution_count": 161
        }
      ]
    },
    {
      "cell_type": "code",
      "metadata": {
        "id": "pFy2PLBo22hQ",
        "colab": {
          "base_uri": "https://localhost:8080/"
        },
        "outputId": "2536b0bf-22cf-4689-95a0-8ae196b59499"
      },
      "source": [
        "x = 7\n",
        "if x > 10:\n",
        "    print(\"x is greater than 10.\")\n",
        "elif x > 3:\n",
        "    print (\"x is between 3 and 10.\")\n",
        "else:\n",
        "    print (\"x is lower than or equal to 3.\")"
      ],
      "execution_count": 162,
      "outputs": [
        {
          "output_type": "stream",
          "name": "stdout",
          "text": [
            "x is between 3 and 10.\n"
          ]
        }
      ]
    },
    {
      "cell_type": "markdown",
      "metadata": {
        "id": "5-2YsZ1H22hR"
      },
      "source": [
        "## Graph plotting"
      ]
    },
    {
      "cell_type": "code",
      "metadata": {
        "id": "4fFveLE322hR"
      },
      "source": [
        "import matplotlib.pyplot as plt\n",
        "%matplotlib inline\n",
        "import numpy as np"
      ],
      "execution_count": 163,
      "outputs": []
    },
    {
      "cell_type": "code",
      "metadata": {
        "id": "K0CJ5th222hR",
        "colab": {
          "base_uri": "https://localhost:8080/",
          "height": 447
        },
        "outputId": "5faf85a6-124b-4415-e1a9-8238520a98c2"
      },
      "source": [
        "x = range(100)\n",
        "y1 = np.random.rand(100)     # uniform dist (0,1)\n",
        "y2 = np.random.randn (100)   # gaussian (or normal) dist, mean=0, sigma=1\n",
        "plt.scatter(x, y1)\n",
        "plt.scatter(x, y2)"
      ],
      "execution_count": 164,
      "outputs": [
        {
          "output_type": "execute_result",
          "data": {
            "text/plain": [
              "<matplotlib.collections.PathCollection at 0x78df901d9450>"
            ]
          },
          "metadata": {},
          "execution_count": 164
        },
        {
          "output_type": "display_data",
          "data": {
            "text/plain": [
              "<Figure size 640x480 with 1 Axes>"
            ],
            "image/png": "[encoded data removed]"
          },
          "metadata": {}
        }
      ]
    },
    {
      "cell_type": "code",
      "metadata": {
        "colab": {
          "base_uri": "https://localhost:8080/",
          "height": 469
        },
        "id": "lCTHYFaIOebc",
        "outputId": "9ab0f441-e657-4e01-eeb9-ec3d469d0fbc"
      },
      "source": [
        "# subplots\n",
        "import numpy as np\n",
        "x = np.arange(0, 3 * np.pi, 0.1)\n",
        "y1 = np.sin(x)\n",
        "y2 = np.cos(x)\n",
        "plt.subplot(2,1,1)\n",
        "plt.plot(x, y1)\n",
        "plt.title('sine graph')\n",
        "plt.subplot(2,1,2)\n",
        "plt.plot(x, y2, c='r')\n",
        "plt.title('cosine graph')"
      ],
      "execution_count": 165,
      "outputs": [
        {
          "output_type": "execute_result",
          "data": {
            "text/plain": [
              "Text(0.5, 1.0, 'cosine graph')"
            ]
          },
          "metadata": {},
          "execution_count": 165
        },
        {
          "output_type": "display_data",
          "data": {
            "text/plain": [
              "<Figure size 640x480 with 2 Axes>"
            ],
            "image/png": "[encoded data removed]"
          },
          "metadata": {}
        }
      ]
    },
    {
      "cell_type": "code",
      "metadata": {
        "id": "r_MvN_KY22hR"
      },
      "source": [
        "# Function define"
      ],
      "execution_count": 166,
      "outputs": []
    },
    {
      "cell_type": "code",
      "metadata": {
        "id": "VyMPbp8322hR",
        "colab": {
          "base_uri": "https://localhost:8080/"
        },
        "outputId": "a670ec8d-45b8-4826-9f40-15a7f2bd0edf"
      },
      "source": [
        "def my_func(a, b=100):    # default\n",
        "    return a*10 + b\n",
        "\n",
        "my_func(7, 3)"
      ],
      "execution_count": 167,
      "outputs": [
        {
          "output_type": "execute_result",
          "data": {
            "text/plain": [
              "73"
            ]
          },
          "metadata": {},
          "execution_count": 167
        }
      ]
    },
    {
      "cell_type": "code",
      "metadata": {
        "id": "K_Gsv16w22hR",
        "colab": {
          "base_uri": "https://localhost:8080/"
        },
        "outputId": "deca0197-4f43-45cc-8914-e5bd4e3010aa"
      },
      "source": [
        "my_func(7)"
      ],
      "execution_count": 168,
      "outputs": [
        {
          "output_type": "execute_result",
          "data": {
            "text/plain": [
              "170"
            ]
          },
          "metadata": {},
          "execution_count": 168
        }
      ]
    },
    {
      "cell_type": "code",
      "metadata": {
        "colab": {
          "base_uri": "https://localhost:8080/"
        },
        "id": "V--pYDYlaN1z",
        "outputId": "079e45cc-dcdb-4a27-8fc5-fa50ec855982"
      },
      "source": [
        "list_1 = [1,2,3]\n",
        "list_1.append(4)\n",
        "list_1"
      ],
      "execution_count": 169,
      "outputs": [
        {
          "output_type": "execute_result",
          "data": {
            "text/plain": [
              "[1, 2, 3, 4]"
            ]
          },
          "metadata": {},
          "execution_count": 169
        }
      ]
    },
    {
      "cell_type": "code",
      "source": [
        "list_1.extend([9,8]); list_1"
      ],
      "metadata": {
        "colab": {
          "base_uri": "https://localhost:8080/"
        },
        "id": "ejrgF4t6XtpZ",
        "outputId": "d8089528-11e0-4069-e815-2b8e9a5ee26b"
      },
      "execution_count": 170,
      "outputs": [
        {
          "output_type": "execute_result",
          "data": {
            "text/plain": [
              "[1, 2, 3, 4, 9, 8]"
            ]
          },
          "metadata": {},
          "execution_count": 170
        }
      ]
    },
    {
      "cell_type": "code",
      "source": [
        "list_1.append([9,8])"
      ],
      "metadata": {
        "id": "ziccYF9nX-WP"
      },
      "execution_count": 171,
      "outputs": []
    },
    {
      "cell_type": "code",
      "source": [
        "list_1"
      ],
      "metadata": {
        "colab": {
          "base_uri": "https://localhost:8080/"
        },
        "id": "2RKCq1m1X1ma",
        "outputId": "08c565f5-0d93-455d-d5a4-9ff8c3f5d359"
      },
      "execution_count": 172,
      "outputs": [
        {
          "output_type": "execute_result",
          "data": {
            "text/plain": [
              "[1, 2, 3, 4, 9, 8, [9, 8]]"
            ]
          },
          "metadata": {},
          "execution_count": 172
        }
      ]
    },
    {
      "cell_type": "code",
      "metadata": {
        "id": "Jxn8ztBhagtu"
      },
      "source": [
        "# dir(list_1)"
      ],
      "execution_count": 173,
      "outputs": []
    },
    {
      "cell_type": "code",
      "metadata": {
        "id": "Sq0QC81U22hR"
      },
      "source": [
        "# Object (class)"
      ],
      "execution_count": 174,
      "outputs": []
    },
    {
      "cell_type": "code",
      "metadata": {
        "id": "eYaPU12ka9ul"
      },
      "source": [
        "import sys\n",
        "class new_bowl:\n",
        "    \"\"\" This is my personal bowl (class or object).\"\"\"\n",
        "    def __init__(self):\n",
        "        print(\"a new bowl is created....\")\n",
        "\n",
        "    def f1(self):\n",
        "        return \"Hello, world.\"\n",
        "    def f2(self):\n",
        "        return \"I am happy.\"\n",
        "    def f3(self, x, y):\n",
        "        return x + y"
      ],
      "execution_count": 175,
      "outputs": []
    },
    {
      "cell_type": "code",
      "metadata": {
        "colab": {
          "base_uri": "https://localhost:8080/"
        },
        "id": "CaqC7hJdcOOn",
        "outputId": "e954f08a-b3df-402f-8d0c-91d116697dd4"
      },
      "source": [
        "k = new_bowl()"
      ],
      "execution_count": 176,
      "outputs": [
        {
          "output_type": "stream",
          "name": "stdout",
          "text": [
            "a new bowl is created....\n"
          ]
        }
      ]
    },
    {
      "cell_type": "code",
      "metadata": {
        "colab": {
          "base_uri": "https://localhost:8080/"
        },
        "id": "slHNK5VDbm6F",
        "outputId": "2e12a42e-95fe-4010-f6a8-0db31187b15c"
      },
      "source": [
        "k = new_bowl()\n",
        "k.f1(), k.f2(), k.f3(4, 5)"
      ],
      "execution_count": 177,
      "outputs": [
        {
          "output_type": "stream",
          "name": "stdout",
          "text": [
            "a new bowl is created....\n"
          ]
        },
        {
          "output_type": "execute_result",
          "data": {
            "text/plain": [
              "('Hello, world.', 'I am happy.', 9)"
            ]
          },
          "metadata": {},
          "execution_count": 177
        }
      ]
    },
    {
      "cell_type": "code",
      "source": [
        "help(k)"
      ],
      "metadata": {
        "colab": {
          "base_uri": "https://localhost:8080/"
        },
        "id": "UH4NNtEGezTN",
        "outputId": "57f384fc-59eb-46b0-cc5d-6cee227d8882"
      },
      "execution_count": 178,
      "outputs": [
        {
          "output_type": "stream",
          "name": "stdout",
          "text": [
            "Help on new_bowl in module __main__ object:\n",
            "\n",
            "class new_bowl(builtins.object)\n",
            " |  This is my personal bowl (class or object).\n",
            " |  \n",
            " |  Methods defined here:\n",
            " |  \n",
            " |  __init__(self)\n",
            " |      Initialize self.  See help(type(self)) for accurate signature.\n",
            " |  \n",
            " |  f1(self)\n",
            " |  \n",
            " |  f2(self)\n",
            " |  \n",
            " |  f3(self, x, y)\n",
            " |  \n",
            " |  ----------------------------------------------------------------------\n",
            " |  Data descriptors defined here:\n",
            " |  \n",
            " |  __dict__\n",
            " |      dictionary for instance variables (if defined)\n",
            " |  \n",
            " |  __weakref__\n",
            " |      list of weak references to the object (if defined)\n",
            "\n"
          ]
        }
      ]
    },
    {
      "cell_type": "code",
      "metadata": {
        "id": "s1QnFF5922hS"
      },
      "source": [
        "import sys\n",
        "class myClass:\n",
        "    \"\"\" This is an example class for Python.\"\"\"\n",
        "    def __init__(self):\n",
        "        self.data = ['1','2']\n",
        "        self.i = 10\n",
        "        self.j = 100\n",
        "\n",
        "    # i, j = 10, 100\n",
        "\n",
        "    def k(self):\n",
        "        return \"Hello, world.\""
      ],
      "execution_count": 179,
      "outputs": []
    },
    {
      "cell_type": "code",
      "metadata": {
        "id": "FJFiXwgV22hS"
      },
      "source": [
        "x = myClass()"
      ],
      "execution_count": 180,
      "outputs": []
    },
    {
      "cell_type": "code",
      "source": [
        "dir(x)"
      ],
      "metadata": {
        "id": "aReFPuTQdf7u",
        "colab": {
          "base_uri": "https://localhost:8080/"
        },
        "outputId": "d53c5a1d-9f42-4a22-d7bd-44457fe47525"
      },
      "execution_count": 181,
      "outputs": [
        {
          "output_type": "execute_result",
          "data": {
            "text/plain": [
              "['__class__',\n",
              " '__delattr__',\n",
              " '__dict__',\n",
              " '__dir__',\n",
              " '__doc__',\n",
              " '__eq__',\n",
              " '__format__',\n",
              " '__ge__',\n",
              " '__getattribute__',\n",
              " '__gt__',\n",
              " '__hash__',\n",
              " '__init__',\n",
              " '__init_subclass__',\n",
              " '__le__',\n",
              " '__lt__',\n",
              " '__module__',\n",
              " '__ne__',\n",
              " '__new__',\n",
              " '__reduce__',\n",
              " '__reduce_ex__',\n",
              " '__repr__',\n",
              " '__setattr__',\n",
              " '__sizeof__',\n",
              " '__str__',\n",
              " '__subclasshook__',\n",
              " '__weakref__',\n",
              " 'data',\n",
              " 'i',\n",
              " 'j',\n",
              " 'k']"
            ]
          },
          "metadata": {},
          "execution_count": 181
        }
      ]
    },
    {
      "cell_type": "code",
      "metadata": {
        "id": "oOK5C_gS22hS",
        "colab": {
          "base_uri": "https://localhost:8080/"
        },
        "outputId": "b9381bec-e365-4327-9eec-b123d87d927a"
      },
      "source": [
        "x.data, x.i, x.j"
      ],
      "execution_count": 182,
      "outputs": [
        {
          "output_type": "execute_result",
          "data": {
            "text/plain": [
              "(['1', '2'], 10, 100)"
            ]
          },
          "metadata": {},
          "execution_count": 182
        }
      ]
    },
    {
      "cell_type": "code",
      "metadata": {
        "id": "tID1A_W-22hS",
        "colab": {
          "base_uri": "https://localhost:8080/",
          "height": 35
        },
        "outputId": "d78616a2-82a0-4cc7-cf42-4e28fdb511dc"
      },
      "source": [
        "x.k()"
      ],
      "execution_count": 183,
      "outputs": [
        {
          "output_type": "execute_result",
          "data": {
            "text/plain": [
              "'Hello, world.'"
            ],
            "application/vnd.google.colaboratory.intrinsic+json": {
              "type": "string"
            }
          },
          "metadata": {},
          "execution_count": 183
        }
      ]
    },
    {
      "cell_type": "code",
      "metadata": {
        "id": "ofAh5c4G22hS",
        "colab": {
          "base_uri": "https://localhost:8080/",
          "height": 35
        },
        "outputId": "56b137da-4272-44ae-9093-059ae0c5c946"
      },
      "source": [
        "x.__doc__"
      ],
      "execution_count": 184,
      "outputs": [
        {
          "output_type": "execute_result",
          "data": {
            "text/plain": [
              "' This is an example class for Python.'"
            ],
            "application/vnd.google.colaboratory.intrinsic+json": {
              "type": "string"
            }
          },
          "metadata": {},
          "execution_count": 184
        }
      ]
    },
    {
      "cell_type": "code",
      "metadata": {
        "id": "ZQetJfHedI_u",
        "colab": {
          "base_uri": "https://localhost:8080/"
        },
        "outputId": "edc4f0cc-a869-4070-cfb2-e2d7073c1c57"
      },
      "source": [
        "dir(x)"
      ],
      "execution_count": 185,
      "outputs": [
        {
          "output_type": "execute_result",
          "data": {
            "text/plain": [
              "['__class__',\n",
              " '__delattr__',\n",
              " '__dict__',\n",
              " '__dir__',\n",
              " '__doc__',\n",
              " '__eq__',\n",
              " '__format__',\n",
              " '__ge__',\n",
              " '__getattribute__',\n",
              " '__gt__',\n",
              " '__hash__',\n",
              " '__init__',\n",
              " '__init_subclass__',\n",
              " '__le__',\n",
              " '__lt__',\n",
              " '__module__',\n",
              " '__ne__',\n",
              " '__new__',\n",
              " '__reduce__',\n",
              " '__reduce_ex__',\n",
              " '__repr__',\n",
              " '__setattr__',\n",
              " '__sizeof__',\n",
              " '__str__',\n",
              " '__subclasshook__',\n",
              " '__weakref__',\n",
              " 'data',\n",
              " 'i',\n",
              " 'j',\n",
              " 'k']"
            ]
          },
          "metadata": {},
          "execution_count": 185
        }
      ]
    },
    {
      "cell_type": "code",
      "metadata": {
        "id": "wVvXttVA22hS",
        "colab": {
          "base_uri": "https://localhost:8080/"
        },
        "outputId": "c4fefa5c-6077-4bc0-8e9d-c1bdb43b4f69"
      },
      "source": [
        "help(x)"
      ],
      "execution_count": 186,
      "outputs": [
        {
          "output_type": "stream",
          "name": "stdout",
          "text": [
            "Help on myClass in module __main__ object:\n",
            "\n",
            "class myClass(builtins.object)\n",
            " |  This is an example class for Python.\n",
            " |  \n",
            " |  Methods defined here:\n",
            " |  \n",
            " |  __init__(self)\n",
            " |      Initialize self.  See help(type(self)) for accurate signature.\n",
            " |  \n",
            " |  k(self)\n",
            " |  \n",
            " |  ----------------------------------------------------------------------\n",
            " |  Data descriptors defined here:\n",
            " |  \n",
            " |  __dict__\n",
            " |      dictionary for instance variables (if defined)\n",
            " |  \n",
            " |  __weakref__\n",
            " |      list of weak references to the object (if defined)\n",
            "\n"
          ]
        }
      ]
    },
    {
      "cell_type": "markdown",
      "metadata": {
        "id": "ZLRFTwjL22hT"
      },
      "source": [
        "## coding example\n",
        "- Monte Carlo simulation"
      ]
    },
    {
      "cell_type": "code",
      "metadata": {
        "id": "k9fJ2Xhe22hT",
        "colab": {
          "base_uri": "https://localhost:8080/",
          "height": 403
        },
        "outputId": "f251fb1f-d9a9-466e-a60e-9fb4c659d59d"
      },
      "source": [
        "# method 1\n",
        "\n",
        "import numpy as np\n",
        "\n",
        "N = 100000\n",
        "x = np.random.rand(N)\n",
        "y = np.random.rand(N)\n",
        "\n",
        "cnt = 0\n",
        "for i in range(N):\n",
        "    if x[i]**2 + y[i]**2 < 1.0 :\n",
        "        cnt = cnt + 1\n",
        "    else:\n",
        "        continue\n",
        "\n",
        "pi = cnt / N * 4\n",
        "print (N, cnt, pi)\n",
        "\n",
        "import matplotlib.pyplot as plt\n",
        "%matplotlib inline\n",
        "\n",
        "plt.figure(figsize=(4,4))\n",
        "plt.scatter (x, y, s=2)\n",
        "\n",
        "a = np.linspace(0, 1, 100)\n",
        "b = (1 - a**2) ** 0.5\n",
        "plt.plot(a, b, c='r')"
      ],
      "execution_count": 187,
      "outputs": [
        {
          "output_type": "stream",
          "name": "stdout",
          "text": [
            "100000 78712 3.14848\n"
          ]
        },
        {
          "output_type": "execute_result",
          "data": {
            "text/plain": [
              "[<matplotlib.lines.Line2D at 0x78df6bf69a80>]"
            ]
          },
          "metadata": {},
          "execution_count": 187
        },
        {
          "output_type": "display_data",
          "data": {
            "text/plain": [
              "<Figure size 400x400 with 1 Axes>"
            ],
            "image/png": "[encoded data removed]"
          },
          "metadata": {}
        }
      ]
    },
    {
      "cell_type": "code",
      "metadata": {
        "colab": {
          "base_uri": "https://localhost:8080/"
        },
        "id": "gFEgCF0ofJtD",
        "outputId": "40328d78-61c1-4ca0-df24-b62458d50bb4"
      },
      "source": [
        "[1,2] + [3,4,5]  # list"
      ],
      "execution_count": 188,
      "outputs": [
        {
          "output_type": "execute_result",
          "data": {
            "text/plain": [
              "[1, 2, 3, 4, 5]"
            ]
          },
          "metadata": {},
          "execution_count": 188
        }
      ]
    },
    {
      "cell_type": "code",
      "metadata": {
        "colab": {
          "base_uri": "https://localhost:8080/"
        },
        "id": "ygM-7dEpf2bC",
        "outputId": "0e02a514-396f-40d6-8a75-b6d92cb4fc3a"
      },
      "source": [
        "np.array([1,2]) + np.array([3,4])   # array"
      ],
      "execution_count": 189,
      "outputs": [
        {
          "output_type": "execute_result",
          "data": {
            "text/plain": [
              "array([4, 6])"
            ]
          },
          "metadata": {},
          "execution_count": 189
        }
      ]
    },
    {
      "cell_type": "code",
      "metadata": {
        "id": "2ybP6GRn22hT"
      },
      "source": [
        "N = 10\n",
        "x = np.random.rand(N).round(2)\n",
        "y = np.random.rand(N).round(2)"
      ],
      "execution_count": 190,
      "outputs": []
    },
    {
      "cell_type": "code",
      "metadata": {
        "id": "dIcWMKqc22hT",
        "colab": {
          "base_uri": "https://localhost:8080/"
        },
        "outputId": "b74e66c5-bced-4644-9243-c25522551755"
      },
      "source": [
        "x, y"
      ],
      "execution_count": 191,
      "outputs": [
        {
          "output_type": "execute_result",
          "data": {
            "text/plain": [
              "(array([0.19, 0.37, 0.72, 0.8 , 0.02, 0.52, 0.81, 0.16, 0.57, 0.75]),\n",
              " array([0.29, 0.64, 0.2 , 0.32, 0.65, 0.92, 0.58, 0.17, 0.35, 0.01]))"
            ]
          },
          "metadata": {},
          "execution_count": 191
        }
      ]
    },
    {
      "cell_type": "code",
      "metadata": {
        "id": "QNnPNXBV22hT",
        "colab": {
          "base_uri": "https://localhost:8080/"
        },
        "outputId": "52c2390d-0aed-4148-c279-3e96a1ae79a3"
      },
      "source": [
        "x**2 + y**2"
      ],
      "execution_count": 192,
      "outputs": [
        {
          "output_type": "execute_result",
          "data": {
            "text/plain": [
              "array([0.1202, 0.5465, 0.5584, 0.7424, 0.4229, 1.1168, 0.9925, 0.0545,\n",
              "       0.4474, 0.5626])"
            ]
          },
          "metadata": {},
          "execution_count": 192
        }
      ]
    },
    {
      "cell_type": "code",
      "metadata": {
        "id": "Bpfnke6A22hT",
        "colab": {
          "base_uri": "https://localhost:8080/"
        },
        "outputId": "e51488ce-8c68-4f84-8a24-7375e8286e70"
      },
      "source": [
        "x**2 + y**2 < 1.0"
      ],
      "execution_count": 193,
      "outputs": [
        {
          "output_type": "execute_result",
          "data": {
            "text/plain": [
              "array([ True,  True,  True,  True,  True, False,  True,  True,  True,\n",
              "        True])"
            ]
          },
          "metadata": {},
          "execution_count": 193
        }
      ]
    },
    {
      "cell_type": "code",
      "metadata": {
        "id": "pt0f75CL22hT",
        "colab": {
          "base_uri": "https://localhost:8080/"
        },
        "outputId": "03ac6848-2dd2-40ca-c879-e1996e1a45fc"
      },
      "source": [
        "(x**2 + y**2 < 1.0).sum()"
      ],
      "execution_count": 194,
      "outputs": [
        {
          "output_type": "execute_result",
          "data": {
            "text/plain": [
              "9"
            ]
          },
          "metadata": {},
          "execution_count": 194
        }
      ]
    },
    {
      "cell_type": "code",
      "metadata": {
        "id": "uQb8o2FK22hU",
        "colab": {
          "base_uri": "https://localhost:8080/"
        },
        "outputId": "9477280c-3d78-4444-ac9a-bd24e6d0c5fe"
      },
      "source": [
        "N = 100000\n",
        "x = np.random.rand(N).round(2)\n",
        "y = np.random.rand(N).round(2)\n",
        "pi = (x**2 + y**2 < 1.0).sum() / N * 4\n",
        "print (pi)"
      ],
      "execution_count": 195,
      "outputs": [
        {
          "output_type": "stream",
          "name": "stdout",
          "text": [
            "3.12976\n"
          ]
        }
      ]
    },
    {
      "cell_type": "code",
      "metadata": {
        "id": "b3wmJtHt22hU",
        "colab": {
          "base_uri": "https://localhost:8080/"
        },
        "outputId": "0acd09f2-1318-47ed-f1be-b95c33c891a0"
      },
      "source": [
        "# method 2\n",
        "\n",
        "N = 100000000\n",
        "x = np.random.rand(N)\n",
        "y = np.random.rand(N)\n",
        "\n",
        "pi = (x**2 + y**2 < 1.0).sum() / N * 4\n",
        "print(pi)"
      ],
      "execution_count": 196,
      "outputs": [
        {
          "output_type": "stream",
          "name": "stdout",
          "text": [
            "3.14187836\n"
          ]
        }
      ]
    },
    {
      "cell_type": "markdown",
      "metadata": {
        "id": "yls37Cvv22hU"
      },
      "source": [
        "# Python coding Example with Radish_survey data"
      ]
    },
    {
      "cell_type": "code",
      "metadata": {
        "id": "6Qwz9D5g22hU",
        "colab": {
          "base_uri": "https://localhost:8080/"
        },
        "outputId": "a3ee1d1a-8db7-43ee-b115-0405486533c4"
      },
      "source": [
        "!curl http://opentechschool.github.io/python-data-intro/files/radishsurvey.txt -o radishsurvey.txt"
      ],
      "execution_count": 197,
      "outputs": [
        {
          "output_type": "stream",
          "name": "stdout",
          "text": [
            "  % Total    % Received % Xferd  Average Speed   Time    Time     Time  Current\n",
            "                                 Dload  Upload   Total   Spent    Left  Speed\n",
            "\r  0     0    0     0    0     0      0      0 --:--:-- --:--:-- --:--:--     0\r100 19816  100 19816    0     0  1407k      0 --:--:-- --:--:-- --:--:-- 1488k\n"
          ]
        }
      ]
    },
    {
      "cell_type": "code",
      "source": [
        "!cat radishsurvey.txt  # 'type' for windows"
      ],
      "metadata": {
        "id": "LzZzSuxdbAa9",
        "colab": {
          "base_uri": "https://localhost:8080/"
        },
        "outputId": "a9f54637-f5c3-4cbd-ee37-d9cffb83dacb"
      },
      "execution_count": 198,
      "outputs": [
        {
          "output_type": "stream",
          "name": "stdout",
          "text": [
            "Evie Pulsford - April Cross\n",
            "Matilda Condon - April Cross\n",
            "Samantha Mansell - Champion\n",
            "geronima trevisani - cherry belle\n",
            "Alexandra Shoebridge - Snow Belle\n",
            "Sarah Ahuia Ova - Snow Belle\n",
            "Emma Slattery - Bunny Tail\n",
            "Fabiana  Milanesi - Champion\n",
            "Makayla McMinn - Snow Belle\n",
            "Julian O'Leary - Sicily Giant\n",
            "Hannah Collie - Bunny Tail\n",
            "Toby Lundie - Plum Purple\n",
            "Baldo Palerma - Champion\n",
            "Phoebe Barwell - Plum Purple\n",
            "Sheng Shen - Champion\n",
            "Jonathan Rolph - Snow Belle\n",
            "Aaron Yarnold - Red King\n",
            "Indiana angwin -  Daikon \n",
            "Luke Komine - White Icicle\n",
            "Blake Ricardo - Daikon\n",
            "Mikayla Biddell - Daikon\n",
            "Piper Wheelwright - Bunny Tail\n",
            "Bailey Derrington - White Icicle\n",
            "Eufrosina Ferri - Daikon\n",
            "Madeleine Abrahams - Daikon\n",
            "Indiana Cowper - Sicily Giant\n",
            "Procopio Zito - Red King\n",
            "Ryan Langley - French Breakfast\n",
            "anthony Gairdner - French Breakfast\n",
            "Darcy Kayser - Champion\n",
            "Adelmo De Luca - Plum Purple\n",
            "Sienna Hovell - Champion\n",
            "Mary Cardell - April Cross\n",
            "Ebony Agnes - Daikon\n",
            "Lola Atkinson - Plum Purple\n",
            "Jonathan Walton - Champion\n",
            "Tristan Gwynn - Red King\n",
            "Jackson Longman - Red King\n",
            "Archer Dodds - April Cross\n",
            "Lilian Burne - French Breakfast\n",
            "Ava McNaughtan - April Cross\n",
            "Nate Shelley - Daikon\n",
            "Antonia Buccho - Champion\n",
            "Kaitlyn Rudduck - Cherry Belle\n",
            "Skye Thynne - Champion\n",
            "Ethan Collings - Plum Purple\n",
            "Finn Leverrier - Plum Purple\n",
            "Lee T'an - Plum Purple\n",
            "Tyler Forbes - White Icicle\n",
            "abbey dunkley -  plum purple\n",
            "rose stacy - french breakfast\n",
            "Gianfranco Cremonesi - White Icicle\n",
            "Grace Wentworth - French Breakfast\n",
            "Cooper Menkens -  Snow Belle\n",
            "Scarlett Macdougall - French Breakfast\n",
            "Fabio Pugliesi - Bunny Tail\n",
            "Keira Wrenfordsley - Red King\n",
            "Daniel Krimper -  Plum Purple\n",
            "Anna Deniehy - April Cross\n",
            "Sabrina Beneventi - Cherry Belle\n",
            "Oliver Potts - Snow Belle\n",
            "Milla Winn - Plum Purple\n",
            "Finn Whitworth - Sicily Giant\n",
            "Sophie Keynes - Plum Purple\n",
            "Joel Brownell - Plum Purple\n",
            "Jonathan Parsons - French Breakfast \n",
            "Amelia Ellwood - Snow Belle\n",
            "Lincoln Gatehouse - Bunny Tail\n",
            "Jin Huang - Daikon\n",
            "Kuan-Yin Sun - Champion\n",
            "Tao Hsiao - White Icicle\n",
            "Emily Walters - White Icicle\n",
            "nicholas kirby - french breakfast\n",
            "Hong Tsui - April Cross\n",
            "Mikayla Fullagar - Cherry Belle\n",
            "Lola Catchpole - April Cross\n",
            "Lelia Toscani - Bunny Tail\n",
            "Natasha Prout - Cherry Belle\n",
            "Raffaello Schiavone - Red King\n",
            "Erin Stephen - Plum Purple\n",
            "Eve Peacock - Daikon\n",
            "Jordan Manning - Sicily Giant\n",
            "Tyler Lister - April Cross\n",
            "brodie agnew - daikon\n",
            "Lincoln Hirschfeld - Champion\n",
            "Ciriaca Genovesi - Bunny Tail\n",
            "Dewei Niu - Snow Belle\n",
            "Fai Teng - Bunny Tail\n",
            "Rossana Cattaneo -  Snow Belle\n",
            "Isabelle Coombes - Daikon\n",
            "Layla Hitchcock - Red King\n",
            "Ashley Brigstocke - Red King\n",
            "Lei Tai - Daikon\n",
            "Victoria Humffray - Sicily Giant\n",
            "Jake Champ - Daikon\n",
            "Ben Vosper - Cherry Belle\n",
            "Harrison Rose - Red King\n",
            "Thomas Oom - White Icicle\n",
            "Sophie Browning - Red King\n",
            "Scarlett Hughes - Bunny Tail\n",
            "Anthony Collits - Champion\n",
            "Alicia Forrest - Sicily Giant\n",
            "Riley Leakey - April Cross\n",
            "Bethany Calwell - French Breakfast\n",
            "Leo Sheil - April Cross\n",
            "Kai MacMahon - April Cross\n",
            "Rong Kuo - Champion\n",
            "Stephanie Schnaars - White Icicle\n",
            "Bethany Bardolph - French Breakfast\n",
            "Guido Beneventi - French Breakfast\n",
            "Victoria Witt - Daikon\n",
            "Jun Hsiung - Bunny Tail\n",
            "Noah Berrick - Daikon\n",
            "Beato Mazzanti - Sicily Giant\n",
            "Anna Denning - White Icicle\n",
            "Sebastian George - Cherry Belle\n",
            "Mackenzie Andrade - Champion\n",
            "Sarah Joris  - Champion \n",
            "Joel Cassell - Plum Purple\n",
            "Harrison Moowattin - Champion\n",
            "william fenner - plum purple\n",
            "Madeline Corbin - Bunny Tail\n",
            "Sebastian Davitt - Champion\n",
            "Li Qin Ch'ien - Sicily Giant\n",
            "Owen Lea - Champion\n",
            "Liam Copeland - Champion\n",
            "Brianna Eltham - Sicily Giant\n",
            "Joseph Gresswell - Sicily Giant\n",
            "Alfonsina Marchesi - April Cross\n",
            "Caitlin Houlding - Snow Belle\n",
            "Natalie Schlapp - April Cross\n",
            "Shaiming Fu - Champion\n",
            "Lisandro Monaldo - Champion\n",
            "Ruby Fox - White Icicle\n",
            "Benjamin Rankin - Snow Belle\n",
            "Connor Letters - April Cross\n",
            "Laura Macdowell - Daikon\n",
            "Jake Hervey - April Cross\n",
            "Alyssa Batman - Snow Belle\n",
            "Archer Larra - French Breakfast\n",
            "Brayden Dixon - Bunny Tail\n",
            "Kuan-Yin Kuo - Cherry Belle\n",
            "Lucy Ley - Red King\n",
            "Rachele  Russo - Cherry Belle\n",
            "Lucy Somers - Daikon\n",
            "Ella Boucaut - Champion\n",
            "Iacopo Baresi - Bunny Tail\n",
            "Ali Dedman - White Icicle\n",
            "Victoria Edinburgh - French Breakfast\n",
            "Brianna Pye - Red King\n",
            "Joel Bruce - Snow Belle\n",
            "Lola Lea - Bunny Tail\n",
            "Zachary Burford - Champion\n",
            "Gabriella Bruton - April Cross\n",
            "Finn Dunstan - Cherry Belle\n",
            "Logan Truchanas - Red King\n",
            "beau mclarty - white icicle\n",
            "Carla De Luca - Daikon\n",
            "Taylah Reynolds - Champion\n",
            "Ava Musgrave - Bunny Tail\n",
            "Jade Grimmett - Bunny Tail\n",
            "Eliza Fink - April Cross\n",
            "Charles Tearle - April Cross\n",
            "Victoria Birch - Snow Belle\n",
            "Mackenzie Geach - Plum Purple\n",
            "Charles Card - Cherry Belle\n",
            "Olivia Warnes - Sicily Giant\n",
            "Jake Murdoch - Cherry Belle\n",
            "Brayden Massina - April Cross\n",
            "Sarah Milford - White Icicle\n",
            "Lilian Pike - French Breakfast \n",
            "Blake Dakin - Champion\n",
            "Chi Hsiung - April Cross\n",
            "Ludovica Siciliano - Sicily Giant\n",
            "Rose Leahy - French Breakfast\n",
            "Nicodemo Udinese - Bunny Tail\n",
            "Amy Harriman - Sicily Giant\n",
            "Harrison Macgeorge - Red King\n",
            "Charles Mockridge - Cherry Belle\n",
            "Victoria Hardie  - Sicily Giant\n",
            "Jake Hambly - Sicily Giant \n",
            "Bartolomeo Mancini - French Breakfast\n",
            "Maya Shackleton - Snow Belle\n",
            "Hudson Dodgshun - White Icicle\n",
            "Scarlett Sullivan - Snow Belle\n",
            "Noah Doyne - April cross\n",
            "Aidan Santo - Bunny Tail \n",
            "kai emmett - bunny tail\n",
            "Christopher Gillan - Daikon\n",
            "Lara Salting - White Icicle\n",
            "Alfonso Costa - Daikon \n",
            "Mackenzie Knatchbull - Red King\n",
            "Oliver Beit - Plum Purple\n",
            "Thomas Muecke - French Breakfast\n",
            "Sabrina Li Fonti - Bunny Tail\n",
            "Jasmine Brake - Snow Belle\n",
            "Sienna Bonnor - Daikon\n",
            "Isabelle Llewelyn - Daikon\n",
            "Amelie Farber - White Icicle\n",
            "Keira Horner - Red King\n",
            "Annabelle Colechin - French Breakfast\n",
            "George Schlunke - Daikon\n",
            "Hugo Stretch - French Breakfast\n",
            "Isabella Pardey - White Icicle\n",
            "Toby Docker - Red King\n",
            "Caitlyn Hotchin - French Breakfast\n",
            "Samuel Ansell - Sicily Giant\n",
            "Prospero Milano - Champion\n",
            "Zhi Chin - White Icicle\n",
            "nate brooker - daikon\n",
            "Elizabeth McNab - April Cross\n",
            "Amelie Torpy - Champion\n",
            "Audrey Bock - Bunny Tail\n",
            "Abbey Dawson - Plum Purple\n",
            "Hugo Coppleson - Daikon\n",
            "Lilly Tait - Red King\n",
            "Archer Frederick - April Cross\n",
            "Alvisio Mazzi - April Cross\n",
            "Chloe  MacLaurin - Champion\n",
            "Georgia Bruny - April Cross\n",
            "Caitlyn Mullah - White Icicle\n",
            "Gang Chia - Red King\n",
            "Lauren Pennefather - French Breakfast\n",
            "Fang Ch'eng - Cherry Belle\n",
            "Summer Withers - Snow Belle\n",
            "Kayla Sievier - Snow Belle\n",
            "Edoardo Sal - Champion\n",
            "Layla Fossey - April Cross\n",
            "Ella Weston - Champion\n",
            "Patrick Camidge - French Breakfast\n",
            "Erin Stretton - French Breakfast\n",
            "Poppy Duggan - Champion\n",
            "Daniel Hogben - Daikon\n",
            "Wan Tsai - Snow Belle\n",
            "Olimpia Udinesi - April Cross\n",
            "Xue Fang Fu - Daikon\n",
            "Alyssa McInnes - Daikon\n",
            "Connor Morphett - Plum Purple\n",
            "Nathan Trott - French Breakfast\n",
            "Brock Brunker - Bunny Tail\n",
            "Hayden O'Connell - French Breakfast\n",
            "James  Larra - April Cross\n",
            "Eva Geiger - Plum Purple\n",
            "Taj Shackell - White Icicle\n",
            "Eliza O'Haran - Champion\n",
            "Aidan Dore - April Cross\n",
            "Aiden Reginald - Plum Purple\n",
            "Bruna Rizzo - Snow Belle\n",
            "Alex Wemyss - April Cross\n",
            "claudia westgarth - daikon\n",
            "Jett Glynde - Plum Purple\n",
            "Brooke Huffer - Daikon\n",
            "Stephanie Synan - Sicily Giant\n",
            "Salvatore Sagese - French Breakfast\n",
            "Edgardo Mazzanti - Daikon\n",
            "Brodie De Lissa - Cherry Belle\n",
            "Cai Pan - Sicily Giant\n",
            "Caitlyn Ridgeway - Sicily Giant\n",
            "Mason Dymock - Plum Purple\n",
            "Oliviero Lucchesi - Bunny Tail\n",
            "Antonietta Baresi - Cherry Belle\n",
            "Abbey Cousens - Daikon\n",
            "Hui Hsiung - Cherry Belle\n",
            "Marcus Brown - Sicily Giant\n",
            "James Poupinel - Daikon\n",
            "Lucas Tomkinson - Champion\n",
            "Xin Qian Shih - White Icicle\n",
            "Abigail Clark - White Icicle\n",
            "Archie Gilfillan - French Breakfast\n",
            "maya woolcock - april cross\n",
            "Wei Hsiao - Daikon\n",
            "Lauren Rosevear - Red King\n",
            "Eve Gargett - Snow Belle\n",
            "Cristian Pisano - Champion\n",
            "Bianca Knopwood - White Icicle\n",
            "Alyssa Loewe - Daikon\n",
            "Feng Li - French Breakfast\n",
            "Yi Min Chu - Plum Purple\n",
            "Aiden Tasman - Red King\n",
            "corinna lucchese - champion\n",
            "Taylah Shore - Cherry Belle\n",
            "nilde beneventi - french breakfast\n",
            "edward greener - bunny tail\n",
            "Nate Lodewyckx - Sicily Giant\n",
            "Mariam Langridge - Red King\n",
            "Indiana Cory - Champion\n",
            "David Rees - April Cross\n",
            "Daniel Appleton - Red King\n",
            "Luke Leeper - Red King\n",
            "Toby Spring - French Breakfast \n",
            "Cody Laffer - Red King\n",
            "Lilian Woodriff - Plum Purple\n",
            "hudson crane - sicily giant\n",
            "Anthony Wand - Bunny Tail\n",
            "Dean Mattner - Red King\n",
            "Lucinda Howarde - Sicily Giant\n",
            "Caleb Clancy - Red King \n",
            "Mia Legg - White Icicle\n",
            "Isla Mehaffey - Sicily Giant\n",
            "Cooper Lasseter - April Cross\n",
            "Indiana Scott - Cherry Belle\n",
            "Kaitlyn Kay - French Breakfast\n",
            "Abbey Aronson - April Cross\n",
            "Madeleine Hartung - Snow Belle\n",
            "Abbey Tyas - Red King\n",
            "Jacob Spowers - Snow Belle\n",
            "Brodie Fraser - French Breakfast\n",
            "Ivo Lucchesi - Champion\n",
            "Harry Wormald - French Breakfast \n",
            "Lilian Macquarie - White Icicle\n",
            "Chelsea Warby - Bunny Tail\n",
            "Eugenio Pagnotto - Sicily Giant\n",
            "Michael Hargrave - Cherry Belle\n",
            "Leda Romani - April Cross\n",
            "Christopher Walton - Champion\n",
            "Zachary Bass - White Icicle\n",
            "jorja franklyn - white icicle\n",
            "Makayla Sutton - Plum Purple\n",
            "Shu Fang Tsou - French Breakfast\n",
            "Evie Carey - Bunny Tail\n",
            "Alannah Bleakley - Bunny Tail\n",
            "Alma Longo - Cherry Belle\n",
            "Abbey Garvin - Snow Belle\n",
            "Isabella Van De Velde - Plum Purple\n",
            "scarlett price - april cross\n",
            "Beau Hauslaib - Champion\n",
            "Isabelle Mathew - Sicily Giant\n",
            "Laura Callinan - Cherry Belle\n",
            "Cody Le Rennetel - French Breakfast\n",
            "Rachel Luke - Snow Belle\n",
            "Tristan Glynde - Snow Belle\n",
            "Qiao Tien - Bunny Tail\n",
            "Alana Meares - Red King\n",
            "Xiao Chen Chiang - Sicily Giant\n",
            "Jack Finlay - Cherry Belle\n",
            "Jaxon Keen  - Plum Purple\n",
            "Jordan Catani - Plum Purple\n",
            "Piera Trevisan - Red King\n",
            "Bailey Mussen - Bunny Tail\n",
            "Hayley Coverdale - White Icicle\n",
            "Sophie Eipper - Snow Belle\n",
            "Beata Endrizzi - Daikon\n",
            "David Moynihan - White Icicle\n",
            "Andrew Martens - French Breakfast\n",
            "Nate Higgs - Red King\n",
            "Isaac Banks - Snow Belle\n",
            "Xavier Sligo - Champion\n",
            "Nathan Aird  - Plum Purple\n",
            "Cooper Monk - Bunny Tail\n",
            "Kayla Kinsella - Champion\n",
            "Sean Maclurcan - Sicily Giant\n",
            "Jett Faucett - April Cross\n",
            "Koby Mary - Red King\n",
            "Lok Fan - Champion\n",
            "Liam Burn - French Breakfast\n",
            "Ryan Skeats - Snow Belle\n",
            "Harrison Barlee - Cherry Belle\n",
            "Marcus South - Champion\n",
            "Emily Kumm -  White Icicle\n",
            "Tristan Lack - Cherry Belle\n",
            "Rebecca Godfrey - Red King\n",
            "Bailey Randell - Red King\n",
            "Emma Slater - Bunny Tail\n",
            "Ellie Eaton - Sicily Giant\n",
            "Hamish Kevin - Sicily Giant\n",
            "Bella Lyttle - Bunny Tail\n",
            "Guang Lo - April Cross\n",
            "Jai Keith - Daikon\n",
            "Lucinda Emanuel - Plum Purple\n",
            "Tayla English - Plum Purple\n",
            "Eden Petchy - Daikon\n",
            "Lee Chen - April Cross\n",
            "Angus De Mestre - White Icicle\n",
            "Maya Huish - Snow Belle\n",
            "Emily Plante - White Icicle\n",
            "Connor Fairbridge - Bunny Tail\n",
            "Lara Cawker - Champion\n",
            "Blanda Panicucci - Bunny Tail\n",
            "Napoleone Marcelo - Champion\n",
            "Georgia Gillen - Snow Belle\n",
            "Giselda Napolitano - French Breakfast\n",
            "Anthony Hugo - Red King\n",
            "Oscar Saltau - April Cross\n",
            "Ashton Pearce - Daikon\n",
            "Kiara Maxwell-Mahon - White Icicle\n",
            "Sebastian Ball - French Breakfast\n",
            "Anna Howarde - Bunny Tail\n",
            "Lauren Nisbet - Plum Purple\n",
            "Patrick Porteus - Bunny Tail\n",
            "ling tuan - Red King\n",
            "Park Ch'en - Sicily Giant\n",
            "Yi Tseng - French Breakfast\n",
            "Angelina Dangar - Snow Belle\n",
            "Carolina Cattaneo - Snow Belle\n",
            "Sean Tait - Snow Belle\n",
            "Alex Falk - White Icicle\n",
            "oliver thirkell - french breakfast\n",
            "Jesse Fairley - Champion\n",
            "Benito Cocci - Snow Belle\n",
            "Laura Samuels - Champion\n",
            "Kuan-Yin Tao - Cherry Belle\n",
            "Shi She - Champion\n",
            "Isabella Hoffnung - April Cross\n",
            "George Carandini - White Icicle\n",
            "Sarah Bindi - French Breakfast\n",
            "Andrew Quick - April Cross\n",
            "Giosuè Romano - Champion\n",
            "Eva Ruth - Plum Purple\n",
            "Koby Gabriel - Champion\n",
            "Jayden Josephson - April Cross\n",
            "Mafalda Marchesi - Snow Belle \n",
            "Gabrielle Porteus - Daikon\n",
            "Dylan Synnot - Red King\n",
            "Brooke Kisch - Bunny Tail\n",
            "Quintilia Trentini - Bunny Tail\n",
            "Taj Moonlight - Plum Purple\n",
            "Ava Sorell - Bunny Tail\n",
            "Kate Buchanan - Sicily Giant\n",
            "Stella Inwood - Cherry Belle\n",
            "Cody Glauert - Snow Belle\n",
            "Callimaco Lombardi - Champion\n",
            "ella irving - cherry belle\n",
            "Guan-yin Hsiao - Red King\n",
            "alicia muscio - april cross\n",
            "Alana Sturdee - Champion\n",
            "Makayla Fairbairn - White Icicle\n",
            "Kaitlyn Collings - Bunny Tail\n",
            "Alexis Le Hunte - Champion\n",
            "lilian andrade - bunny tail\n",
            "Alannah Housley - Bunny Tail\n",
            "Rose Peeler - Champion\n",
            "Yue Wan Yeh - White Icicle\n",
            "Evie Langwell - Snow Belle\n",
            "Zoe Jasprizza - Red King\n",
            "Ivo Sagese - April Cross\n",
            "Rory Springthorpe - Snow Belle\n",
            "hannah gabriel - red king\n",
            "Jonathan Paten - Bunny Tail\n",
            "Jessica Rapke - Sicily Giant\n",
            "Jake Sterne - Daikon\n",
            "Lola Mashman - Bunny Tail\n",
            "Chan Yen - Cherry Belle\n",
            "Timothy Beeton - White Icicle\n",
            "Joseph Hill - Daikon\n",
            "Luke Gye - Plum Purple\n",
            "Giuseppe Manna - Sicily Giant\n",
            "Matilda Wardlaw - Red King\n",
            "Hannah Dibbs - Plum Purple\n",
            "Xavier Truman - French Breakfast\n",
            "Emma Sodersten - April Cross\n",
            "Blake Sodersten - French Breakfast\n",
            "Andrew Schwarz - Cherry Belle\n",
            "Owen Montgomery - Snow Belle\n",
            "Blake Hurst - White Icicle\n",
            "Brayden Brill - Cherry Belle\n",
            "Keira Strzelecki - Champion\n",
            "Zhen Juan Tsai - White Icicle\n",
            "Mulan Kung - Red King\n",
            "Clorinda Pugliesi - Champion\n",
            "Abbey Strzelecki - French Breakfast\n",
            "Andrew Howitt - April Cross\n",
            "Sebastian Langford - Cherry  Belle \n",
            "hayley Hinchcliffe - Cherry Belle\n",
            "Ebony Anton - Sicily Giant\n",
            "Seth Reginald - April Cross\n",
            "Beau Gosling - Plum Purple\n",
            "Christopher Moss - White Icicle\n",
            "laura uhr - red king\n",
            "Jamie Faithful -  Red King\n",
            "Isaac Tennyson - Daikon\n",
            "Gemma Norton -  Sicily Giant\n",
            "Matilda Madden - Red King\n",
            "Azeglio Napolitano - Red King\n",
            "David Tomlinson - Bunny Tail\n",
            "Christian Morris - Champion\n",
            "Amy Goulburn - April Cross\n",
            "Christopher Clunies - April Cross\n",
            "annabelle armytage - daikon\n",
            "Hunter Connely - Snow Belle\n",
            "Summer Stenhouse - April Cross\n",
            "Alicia Farmer - White Icicle\n",
            "Charlotte Slattery - Red King\n",
            "Georgia Jessop - Cherry Belle\n",
            "Abby Metters - Champion\n",
            "Madeleine Behan - Snow Belle\n",
            "Hayley Kernot - Plum Purple\n",
            "Ubaldo Trevisani - Champion\n",
            "Annabelle Scarfe - Cherry Belle\n",
            "Flynn Weingarth - Sicily Giant\n",
            "Indiana Keast - April Cross\n",
            "Wang Tien - French Breakfast\n",
            "Elijah Kingsbury - Plum Purple\n",
            "henry wright - sicily giant\n",
            "Meng Ni - Snow Belle\n",
            "Sara Coffill - Sicily Giant\n",
            "Giusy Lombardi - Plum  Purple\n",
            "Egidio Mancini - Sicily Giant\n",
            "Bethany Macfarlan - Bunny Tail\n",
            "Alexis Cowlishaw - Bunny Tail\n",
            "Skye Garvin - April Cross\n",
            "Abbey Rivett - Snow Belle\n",
            "Mikayla Woollacott - Sicily Giant\n",
            "Abbey Cochran - Daikon\n",
            "Jasmine Baughan - White Icicle\n",
            "Da-Xia Liang - April Cross\n",
            "Dominic Nangle - White Icicle\n",
            "Jesse Jury - Sicily Giant\n",
            "Ruby Elias - Daikon\n",
            "David Read - Bunny Tail\n",
            "Yue Yan T'ang - April Cross\n",
            "Qiang Tsui - Cherry Belle\n",
            "Grace Parkinson - Snow Belle\n",
            "Yue Yan Hu - White Icicle\n",
            "Adele Buccho - White Icicle\n",
            "Imogen Gertrude - Bunny Tail\n",
            "Kate Cyril - April Cross\n",
            "Zoe Canning - Plum Purple\n",
            "Imogen Gaunson - Bunny Tail\n",
            "Brayden Stretch - April Cross\n",
            "Jian Ts'ao - Plum Purple\n",
            "Gabriella Titheradge - Red King\n",
            "Alexis Nesbitt - Daikon\n",
            "Galeazzo Milanesi - Champion\n",
            "Eve Everingham - Daikon\n",
            "on hê - snow belle\n",
            "Archie Mathy - White Icicle\n",
            "Skye Reynolds - French Breakfast\n",
            "Ben Denovan - April Cross\n",
            "Pia Folliero - White Icicle\n",
            "Archie Michelides - Cherry Belle\n",
            "zane pavy - bunny tail\n",
            "Ramiro Esposito - Daikon\n",
            "Brock Eames - Daikon\n",
            "Savannah Sheehan - French Breakfast\n",
            "angus christie - french breakfast\n",
            "Dominic Tregurtha - Cherry Belle\n",
            "Molly Piguenit - Plum Purple\n",
            "matthew john - snow belle\n",
            "Koby Ledger - White Icicle\n",
            "Jasper Harper - White Icicle\n",
            "William Doyle  - French Breakfast\n",
            "Taj Maria - Sicily Giant\n",
            "Michael Elliot - April Cross\n",
            "Matthew Knibbs - Sicily Giant\n",
            "Patrick Tilly - White Icicle\n",
            "Sarah Kashiwagi - Bunny Tail\n",
            "Abbey Bouton - Champion\n",
            "Kayla Sandover - Bunny Tail\n",
            "Anna Septimus - French Breakfast\n",
            "Matthew Birch - Champion\n",
            "Mikayla Kennerley - French Breakfast\n",
            "Charli Birkbeck - Daikon\n",
            "Matilda Gullett - Champion\n",
            "Ella McLellan - April Cross\n",
            "Silvia Rossi - Plum Purple\n",
            "Chan Juan Hsü - French Breakfast\n",
            "Oliver Aspinall -  Cherry Belle\n",
            "Timothy Baldwinson - Bunny Tail\n",
            "Li Wei Chien - Snow Belle\n",
            "Bethany Layh - French Breakfast\n",
            "Gang Hsu - April Cross\n",
            "Mikayla Brodney - Champion\n",
            "Kuan-Yin Mao - Daikon\n",
            "Elizabeth Minifie - Champion\n",
            "Sarah Band - Sicily Giant\n",
            "Tyson Kaberry - French Breakfast\n",
            "Victoria Shipp - Cherry Belle\n",
            "Henry McCorkindale - French Breakfast\n",
            "William De Satg - Snow Belle\n",
            "Skye Atkins - Cherry Belle\n",
            "Sean Hogben - Champion\n",
            "Claire Boelke - Cherry Belle\n",
            "Tristan Turley - Snow Belle\n",
            "Tyler Hansen - Champion\n",
            "Caleb Ride - Bunny Tail\n",
            "Archer Cathcart - April Cross\n",
            "Hamish Helena  - French Breakfast\n",
            "Agostino Milanesi - April Cross\n",
            "lilly wunderlich - french breakfast\n",
            "Brooke Mahomet - Sicily Giant\n",
            "Seth Bramston - Daikon\n",
            "Archer Kirwan - Cherry Belle\n",
            "Ettore Marcelo - Champion\n",
            "Blake D'Alton - Sicily Giant\n",
            "Jai Burgoyne - Bunny Tail\n",
            "Mikayla Minogue - April Cross\n",
            "Thomas Catt - April Cross\n",
            "Oscar Cocci - Daikon\n",
            "Claudia Boxall - Plum Purple\n",
            "Imogen Macaulay - Snow Belle\n",
            "Tyson Platt - Bunny Tail\n",
            "Isabelle Camden - White Icicle\n",
            "Kiara Maxted - Daikon\n",
            "Raffaella Trevisan - Daikon\n",
            "Xiang Hsü - Plum Purple\n",
            "Hudson Greene - Bunny Tail\n",
            "Ruby Wakefield - Cherry Belle\n",
            "Matilda Macarthur-Onslow - Plum Purple\n",
            "Jasmine Fetherstonhaugh - Snow Belle\n",
            "Andrew Bower - Bunny Tail\n",
            "Olindo De Luca - Cherry Belle\n",
            "Alexis Kelynack - French Breakfast\n",
            "Amy Clunie - White Icicle\n",
            "Kang Yu - Cherry Belle\n",
            "Henry Birdseye - Snow Belle\n",
            "dominic gale - april cross\n",
            "Edward Edmond - Snow Belle\n",
            "Raul Pinto - Cherry Belle\n",
            "Laura Bath - Red King\n",
            "John Bale - Cherry Belle\n",
            "Margherita Milani - Red King\n",
            "Hudson Devine - Champion\n",
            "Jaxon Cowles - Sicily Giant\n",
            "Cameron Embley - Sicily Giant\n",
            "Laura Wawn - Cherry Belle\n",
            "Li Ming Niu - Cherry Belle\n",
            "Eden Sheehan - Cherry Belle\n",
            "Taj Bjelke-Petersen - French Breakfast\n",
            "Declan Winston - White Icicle\n",
            "Chan Chao - Red King\n",
            "mikayla hebblethwaite - sicily giant\n",
            "Tristan Monson - Cherry Belle\n",
            "Leah Ross-Watt - Plum Purple\n",
            "Hu K'ung - Daikon\n",
            "Kaitlyn Carnegie - Champion\n",
            "Victoria Brereton - Plum Purple\n",
            "Keira Toutcher - Cherry Belle\n",
            "David Morgans - Daikon\n",
            "Norma Fiorentino - Red King\n",
            "Sarah Paten - Sicily  Giant\n",
            "Zac Cowles - Sicily Giant\n",
            "Brock Fiaschi - French Breakfast\n",
            "Eliza Naylor - French Breakfast\n",
            "Imogen Raws - Red King\n",
            "Jesse Abercrombie - Snow Belle\n",
            "James Luke - White Icicle\n",
            "Riley Stewart - White Icicle\n",
            "amelia blue - white icicle\n",
            "Cameron Pearce - Red King\n",
            "Ennio DeRose - French Breakfast\n",
            "Samuel Henschke - Sicily Giant\n",
            "Blake MacFarland - Cherry Belle\n",
            "Mary Randall - Cherry Belle\n",
            "luce de luca - snow belle\n",
            "Marcus Derbyshire - Bunny Tail\n",
            "Hunter McEachern - Bunny Tail\n",
            "Jasper Gibney - French Breakfast\n",
            "Lincoln  Hoare - French Breakfast\n",
            "Sofia Donnithorne - Snow Belle\n",
            "Anthony Stuart - Snow Belle\n",
            "Hamish Yarnold - April Cross\n",
            "Lucas Schuler - Plum Purple\n",
            "Milla Garling - French Breakfast\n",
            "Abigail Wiltshire - Bunny Tail\n",
            "Zane Wreford - Snow Belle\n",
            "Sean Glew - Daikon\n",
            "Ryan Aird - Red King\n",
            "Jasper Harford - Champion \n",
            "Charlie McCabe - Bunny Tail\n",
            "Rory Evenden - White Icicle\n",
            "Ebony Florence - Snow Belle\n",
            "Flynn Poninski - Daikon\n",
            "Ebony Lawlor - Bunny Tail\n",
            "Ethan Dickson - Bunny Tail\n",
            "Xavier Howchin - Bunny Tail\n",
            "Zane Weindorfer - Cherry Belle\n",
            "Sienna Dann - Snow Belle\n",
            "Eleuterio Lombardo - White Icicle\n",
            "Tyler Makutz - Champion\n",
            "Yong Hsiao - White Icicle\n",
            "Erin Binnie - Bunny Tail\n",
            "Phoebe Barwell - Plum Purple\n",
            "Dylan Barney - French Breakfast\n",
            "Tristan Charteris - April Cross\n",
            "Sebastian Helmore - Bunny Tail\n",
            "Thomas Darcy - Bunny Tail\n",
            "Quinzia Costa - Daikon\n",
            "Da-Xia Hsiao - French Breakfast\n",
            "Grace Frayne - Sicily Giant\n",
            "Toby Queale - White Icicle\n",
            "Logan Lackey - Plum Purple\n",
            "na t'ao - french breakfast\n",
            "Callum Prentice - Plum Purple\n",
            "Levi Ferry - Sicily Giant\n",
            "Hsin Tan - April Cross\n",
            "Lara Macarthur - French Breakfast\n",
            "Scarlett Bruny - Champion\n",
            "Procopio Zito - white icicle\n",
            "Jamie Ham - Bunny Tail\n",
            "Kaitlyn Mullen - Daikon\n",
            "Cameron Landseer - April Cross\n",
            "Jasper Alfred - White Icicle\n",
            "Andrew Coventry -  Cherry Belle\n",
            "Scarlett Schonell - Plum Purple\n",
            "Mia Alngindabu - Champion\n",
            "Claire Bisdee - Daikon\n",
            "Gabriella Beale - Cherry Belle\n",
            "Rebecca Petrie - Snow Belle\n",
            "Alexander McKean - Bunny Tail\n",
            "Cody Leakey - Plum Purple\n",
            "Sam Scarfe - Sicily Giant\n",
            "Angus Langley - French Breakfast\n",
            "Shi Shen - Sicily Giant\n",
            "Park Wu - Champion\n",
            "Isabelle Finney - April Cross\n",
            "Aaron Addison - Plum Purple\n",
            "Ethan Macdougall - Champion\n",
            "cody vale - red king\n",
            "Aidan Clutterbuck - French Breakfast\n",
            "Durante Ferri - White Icicle\n",
            "eliana baresi - white icicle\n"
          ]
        }
      ]
    },
    {
      "cell_type": "code",
      "metadata": {
        "id": "MIK5cr5P22hU",
        "colab": {
          "base_uri": "https://localhost:8080/"
        },
        "outputId": "b9041f6d-9d5a-443b-ab45-1250f643426e"
      },
      "source": [
        "with open(\"radishsurvey.txt\") as file:\n",
        "    for line in file:\n",
        "        parts = line.strip()\n",
        "        name, vote = parts.split(\" - \")\n",
        "        # print (name + \" voted for \" + vote)\n",
        "        if vote == \"White Icicle\":\n",
        "            print (name + \" likes White Icicle.\")"
      ],
      "execution_count": 199,
      "outputs": [
        {
          "output_type": "stream",
          "name": "stdout",
          "text": [
            "Luke Komine likes White Icicle.\n",
            "Bailey Derrington likes White Icicle.\n",
            "Tyler Forbes likes White Icicle.\n",
            "Gianfranco Cremonesi likes White Icicle.\n",
            "Tao Hsiao likes White Icicle.\n",
            "Emily Walters likes White Icicle.\n",
            "Thomas Oom likes White Icicle.\n",
            "Stephanie Schnaars likes White Icicle.\n",
            "Anna Denning likes White Icicle.\n",
            "Ruby Fox likes White Icicle.\n",
            "Ali Dedman likes White Icicle.\n",
            "Sarah Milford likes White Icicle.\n",
            "Hudson Dodgshun likes White Icicle.\n",
            "Lara Salting likes White Icicle.\n",
            "Amelie Farber likes White Icicle.\n",
            "Isabella Pardey likes White Icicle.\n",
            "Zhi Chin likes White Icicle.\n",
            "Caitlyn Mullah likes White Icicle.\n",
            "Taj Shackell likes White Icicle.\n",
            "Xin Qian Shih likes White Icicle.\n",
            "Abigail Clark likes White Icicle.\n",
            "Bianca Knopwood likes White Icicle.\n",
            "Mia Legg likes White Icicle.\n",
            "Lilian Macquarie likes White Icicle.\n",
            "Zachary Bass likes White Icicle.\n",
            "Hayley Coverdale likes White Icicle.\n",
            "David Moynihan likes White Icicle.\n",
            "Angus De Mestre likes White Icicle.\n",
            "Emily Plante likes White Icicle.\n",
            "Kiara Maxwell-Mahon likes White Icicle.\n",
            "Alex Falk likes White Icicle.\n",
            "George Carandini likes White Icicle.\n",
            "Makayla Fairbairn likes White Icicle.\n",
            "Yue Wan Yeh likes White Icicle.\n",
            "Timothy Beeton likes White Icicle.\n",
            "Blake Hurst likes White Icicle.\n",
            "Zhen Juan Tsai likes White Icicle.\n",
            "Christopher Moss likes White Icicle.\n",
            "Alicia Farmer likes White Icicle.\n",
            "Jasmine Baughan likes White Icicle.\n",
            "Dominic Nangle likes White Icicle.\n",
            "Yue Yan Hu likes White Icicle.\n",
            "Adele Buccho likes White Icicle.\n",
            "Archie Mathy likes White Icicle.\n",
            "Pia Folliero likes White Icicle.\n",
            "Koby Ledger likes White Icicle.\n",
            "Jasper Harper likes White Icicle.\n",
            "Patrick Tilly likes White Icicle.\n",
            "Isabelle Camden likes White Icicle.\n",
            "Amy Clunie likes White Icicle.\n",
            "Declan Winston likes White Icicle.\n",
            "James Luke likes White Icicle.\n",
            "Riley Stewart likes White Icicle.\n",
            "Rory Evenden likes White Icicle.\n",
            "Eleuterio Lombardo likes White Icicle.\n",
            "Yong Hsiao likes White Icicle.\n",
            "Toby Queale likes White Icicle.\n",
            "Jasper Alfred likes White Icicle.\n",
            "Durante Ferri likes White Icicle.\n"
          ]
        }
      ]
    },
    {
      "cell_type": "code",
      "metadata": {
        "id": "LyHsh7Ti22hU",
        "colab": {
          "base_uri": "https://localhost:8080/"
        },
        "outputId": "e0218928-8028-4164-fdc1-b18f98f5eaec"
      },
      "source": [
        "cnt = 0\n",
        "with open(\"radishsurvey.txt\") as file:\n",
        "    for line in file:\n",
        "        parts = line.strip()\n",
        "        name, vote = parts.split(\" - \")\n",
        "        # print (name + \" voted for \" + vote)\n",
        "        if vote == \"White Icicle\":\n",
        "            cnt = cnt + 1\n",
        "\n",
        "print (\"number of votes for White Icicle: \", cnt)"
      ],
      "execution_count": 200,
      "outputs": [
        {
          "output_type": "stream",
          "name": "stdout",
          "text": [
            "number of votes for White Icicle:  59\n"
          ]
        }
      ]
    },
    {
      "cell_type": "code",
      "source": [
        "# exercise\n",
        "d = {\"A\": 3, \"B\":4}; d"
      ],
      "metadata": {
        "colab": {
          "base_uri": "https://localhost:8080/"
        },
        "id": "hNc__0T6dFYx",
        "outputId": "b44bf200-4e8c-4c6c-caf1-7aec73ae94f9"
      },
      "execution_count": 201,
      "outputs": [
        {
          "output_type": "execute_result",
          "data": {
            "text/plain": [
              "{'A': 3, 'B': 4}"
            ]
          },
          "metadata": {},
          "execution_count": 201
        }
      ]
    },
    {
      "cell_type": "code",
      "source": [
        "d['C'] = 7\n",
        "d"
      ],
      "metadata": {
        "colab": {
          "base_uri": "https://localhost:8080/"
        },
        "id": "-tZrhwLSdK9U",
        "outputId": "24c3bd53-ae92-44fc-d2de-947a5c669cad"
      },
      "execution_count": 202,
      "outputs": [
        {
          "output_type": "execute_result",
          "data": {
            "text/plain": [
              "{'A': 3, 'B': 4, 'C': 7}"
            ]
          },
          "metadata": {},
          "execution_count": 202
        }
      ]
    },
    {
      "cell_type": "code",
      "source": [
        "d['A'] = d['A']+1\n",
        "d"
      ],
      "metadata": {
        "colab": {
          "base_uri": "https://localhost:8080/"
        },
        "id": "sANiHHXwdtrb",
        "outputId": "921886d7-648f-45eb-f0c9-5588d13a9a0d"
      },
      "execution_count": 203,
      "outputs": [
        {
          "output_type": "execute_result",
          "data": {
            "text/plain": [
              "{'A': 4, 'B': 4, 'C': 7}"
            ]
          },
          "metadata": {},
          "execution_count": 203
        }
      ]
    },
    {
      "cell_type": "code",
      "metadata": {
        "id": "v6ESFDEN22hU",
        "colab": {
          "base_uri": "https://localhost:8080/"
        },
        "outputId": "7c3d92a0-d243-4123-d408-130d75b849ad"
      },
      "source": [
        "# 투표 결과 보기\n",
        "\n",
        "counts = {}\n",
        "with open(\"radishsurvey.txt\") as file:\n",
        "    for line in file:\n",
        "        parts = line.strip()\n",
        "        name, vote = parts.split(\" - \")\n",
        "\n",
        "        if vote not in counts:  # first appeared\n",
        "            counts[vote] = 1\n",
        "        else:                   # already exist, increment by 1\n",
        "            counts[vote] = counts[vote] + 1\n",
        "counts"
      ],
      "execution_count": 204,
      "outputs": [
        {
          "output_type": "execute_result",
          "data": {
            "text/plain": [
              "{'April Cross': 67,\n",
              " 'Champion': 75,\n",
              " 'cherry belle': 2,\n",
              " 'Snow Belle': 58,\n",
              " 'Bunny Tail': 68,\n",
              " 'Sicily Giant': 52,\n",
              " 'Plum Purple': 53,\n",
              " 'Red King': 52,\n",
              " ' Daikon': 1,\n",
              " 'White Icicle': 59,\n",
              " 'Daikon': 58,\n",
              " 'French Breakfast': 65,\n",
              " 'Cherry Belle': 53,\n",
              " ' plum purple': 1,\n",
              " 'french breakfast': 7,\n",
              " ' Snow Belle': 2,\n",
              " ' Plum Purple': 1,\n",
              " 'daikon': 4,\n",
              " 'plum purple': 1,\n",
              " 'white icicle': 5,\n",
              " 'April cross': 1,\n",
              " 'bunny tail': 4,\n",
              " 'april cross': 4,\n",
              " 'champion': 1,\n",
              " 'sicily giant': 3,\n",
              " ' White Icicle': 1,\n",
              " 'red king': 3,\n",
              " 'Cherry  Belle': 1,\n",
              " ' Red King': 1,\n",
              " ' Sicily Giant': 1,\n",
              " 'Plum  Purple': 1,\n",
              " 'snow belle': 3,\n",
              " ' Cherry Belle': 2,\n",
              " 'Sicily  Giant': 1}"
            ]
          },
          "metadata": {},
          "execution_count": 204
        }
      ]
    },
    {
      "cell_type": "code",
      "metadata": {
        "id": "-Qppeadr22hV",
        "colab": {
          "base_uri": "https://localhost:8080/"
        },
        "outputId": "2756fcf8-ae51-4f48-a731-4ce806a06c4d"
      },
      "source": [
        "# 데이터 정제\n",
        "\n",
        "counts = {}\n",
        "with open(\"radishsurvey.txt\") as file:\n",
        "    for line in file:\n",
        "        parts = line.strip()\n",
        "        name, vote = parts.split(\" - \")\n",
        "        vote = vote.strip().capitalize().replace(\"  \",\" \")\n",
        "\n",
        "        if vote not in counts:  # first appeared\n",
        "            counts[vote] = 1\n",
        "        else:                   # already exist, increment by 1\n",
        "            counts[vote] = counts[vote] + 1\n",
        "counts"
      ],
      "execution_count": 205,
      "outputs": [
        {
          "output_type": "execute_result",
          "data": {
            "text/plain": [
              "{'April cross': 72,\n",
              " 'Champion': 76,\n",
              " 'Cherry belle': 58,\n",
              " 'Snow belle': 63,\n",
              " 'Bunny tail': 72,\n",
              " 'Sicily giant': 57,\n",
              " 'Plum purple': 57,\n",
              " 'Red king': 56,\n",
              " 'Daikon': 63,\n",
              " 'White icicle': 65,\n",
              " 'French breakfast': 72}"
            ]
          },
          "metadata": {},
          "execution_count": 205
        }
      ]
    },
    {
      "cell_type": "code",
      "metadata": {
        "id": "F4jUwNv722hV",
        "colab": {
          "base_uri": "https://localhost:8080/"
        },
        "outputId": "29a40f4f-2269-41d0-f2c9-5449d0b412f0"
      },
      "source": [
        "max_cnt = 0\n",
        "for i in counts:\n",
        "    if counts[i] > max_cnt:\n",
        "        max_cnt = counts[i]\n",
        "        max_radish = i\n",
        "    else:\n",
        "        continue\n",
        "\n",
        "print(\"...Final result...\")\n",
        "print(\"max vote is \", max_radish, \": \", max_cnt)"
      ],
      "execution_count": 206,
      "outputs": [
        {
          "output_type": "stream",
          "name": "stdout",
          "text": [
            "...Final result...\n",
            "max vote is  Champion :  76\n"
          ]
        }
      ]
    },
    {
      "cell_type": "markdown",
      "metadata": {
        "id": "ueiIzFhuNNxW"
      },
      "source": [
        "## 두 번 투표한 사람 찾기"
      ]
    },
    {
      "cell_type": "code",
      "metadata": {
        "colab": {
          "base_uri": "https://localhost:8080/"
        },
        "id": "Jx6h-nmKNRQ1",
        "outputId": "b13840c6-970b-4c0c-ead8-3f798e625907"
      },
      "source": [
        "counts = {}\n",
        "voted = []\n",
        "\n",
        "with open(\"radishsurvey.txt\") as f:\n",
        "    for line in f:\n",
        "        # print(line)\n",
        "        line = line.strip()\n",
        "        name = line.split(\" - \")[0]\n",
        "        vote = line.split(\" - \")[1]\n",
        "        vote = vote.strip().capitalize().replace(\"  \",\" \")\n",
        "\n",
        "        if name not in voted:\n",
        "            voted.append(name)\n",
        "        else:\n",
        "            print(name, \"has already voted for \", vote, \"Fraud!!!\")\n",
        "            continue\n",
        "\n",
        "        if vote not in counts:\n",
        "            counts[vote] = 1\n",
        "        else:\n",
        "            counts[vote] = counts[vote] + 1\n",
        "\n",
        "for i in counts:\n",
        "    print(i + \":\" + str(counts[i]))\n"
      ],
      "execution_count": 207,
      "outputs": [
        {
          "output_type": "stream",
          "name": "stdout",
          "text": [
            "Phoebe Barwell has already voted for  Plum purple Fraud!!!\n",
            "Procopio Zito has already voted for  White icicle Fraud!!!\n",
            "April cross:72\n",
            "Champion:76\n",
            "Cherry belle:58\n",
            "Snow belle:63\n",
            "Bunny tail:72\n",
            "Sicily giant:57\n",
            "Plum purple:56\n",
            "Red king:56\n",
            "Daikon:63\n",
            "White icicle:64\n",
            "French breakfast:72\n"
          ]
        }
      ]
    },
    {
      "cell_type": "code",
      "metadata": {
        "colab": {
          "base_uri": "https://localhost:8080/"
        },
        "id": "Kn3Y6jhzNZ29",
        "outputId": "3348e6a1-4fd3-4361-ddcb-2b64d7270e0e"
      },
      "source": [
        "for i in counts:\n",
        "    print(i + \":\" + str(counts[i]))"
      ],
      "execution_count": 208,
      "outputs": [
        {
          "output_type": "stream",
          "name": "stdout",
          "text": [
            "April cross:72\n",
            "Champion:76\n",
            "Cherry belle:58\n",
            "Snow belle:63\n",
            "Bunny tail:72\n",
            "Sicily giant:57\n",
            "Plum purple:56\n",
            "Red king:56\n",
            "Daikon:63\n",
            "White icicle:64\n",
            "French breakfast:72\n"
          ]
        }
      ]
    },
    {
      "cell_type": "code",
      "metadata": {
        "id": "w_6K1R30NdgI"
      },
      "source": [
        "x_radish = []\n",
        "y_counts = []\n",
        "\n",
        "for i in counts:\n",
        "    x_radish.append(i)\n",
        "    y_counts.append(counts[i])"
      ],
      "execution_count": 209,
      "outputs": []
    },
    {
      "cell_type": "code",
      "metadata": {
        "colab": {
          "base_uri": "https://localhost:8080/"
        },
        "id": "nNeJAmNJNhFU",
        "outputId": "fc796788-633b-49fd-9cea-d2cba9eeaa31"
      },
      "source": [
        "x_radish"
      ],
      "execution_count": 210,
      "outputs": [
        {
          "output_type": "execute_result",
          "data": {
            "text/plain": [
              "['April cross',\n",
              " 'Champion',\n",
              " 'Cherry belle',\n",
              " 'Snow belle',\n",
              " 'Bunny tail',\n",
              " 'Sicily giant',\n",
              " 'Plum purple',\n",
              " 'Red king',\n",
              " 'Daikon',\n",
              " 'White icicle',\n",
              " 'French breakfast']"
            ]
          },
          "metadata": {},
          "execution_count": 210
        }
      ]
    },
    {
      "cell_type": "code",
      "metadata": {
        "colab": {
          "base_uri": "https://localhost:8080/"
        },
        "id": "G1msAcjcNj2U",
        "outputId": "435fea46-491d-4917-e6aa-fd62707990f7"
      },
      "source": [
        "y_counts"
      ],
      "execution_count": 211,
      "outputs": [
        {
          "output_type": "execute_result",
          "data": {
            "text/plain": [
              "[72, 76, 58, 63, 72, 57, 56, 56, 63, 64, 72]"
            ]
          },
          "metadata": {},
          "execution_count": 211
        }
      ]
    },
    {
      "cell_type": "code",
      "metadata": {
        "colab": {
          "base_uri": "https://localhost:8080/",
          "height": 532
        },
        "id": "thWEdDXXNmmk",
        "outputId": "6d6ecade-f2e3-4646-8143-e1ba359b0fcb"
      },
      "source": [
        "import matplotlib.pyplot as plt\n",
        "%matplotlib inline\n",
        "plt.bar(x_radish, y_counts)\n",
        "plt.xticks(rotation=90)\n",
        "plt.show()"
      ],
      "execution_count": 212,
      "outputs": [
        {
          "output_type": "display_data",
          "data": {
            "text/plain": [
              "<Figure size 640x480 with 1 Axes>"
            ],
            "image/png": "[encoded data removed]"
          },
          "metadata": {}
        }
      ]
    },
    {
      "cell_type": "code",
      "metadata": {
        "colab": {
          "base_uri": "https://localhost:8080/",
          "height": 758
        },
        "id": "vHH2KZV6NwIE",
        "outputId": "f13d3830-3ca3-4c1d-b90c-260498a0edc0"
      },
      "source": [
        "counts = {}\n",
        "voted = []\n",
        "\n",
        "with open(\"radishsurvey.txt\") as f:\n",
        "    for line in f:\n",
        "        # print(line)\n",
        "        line = line.strip()\n",
        "        name = line.split(\" - \")[0]\n",
        "        vote = line.split(\" - \")[1]\n",
        "        vote = vote.strip().capitalize().replace(\"  \",\" \")\n",
        "\n",
        "        if name not in voted: voted.append(name)\n",
        "        else:\n",
        "            print(name, \"has already voted for \", vote, \"Fraud!!!\")\n",
        "            continue\n",
        "\n",
        "        if vote not in counts:  counts[vote] = 1\n",
        "        else: counts[vote] = counts[vote] + 1\n",
        "\n",
        "for i in counts:\n",
        "    print(i + \":\" + str(counts[i]))\n",
        "\n",
        "x_radish = []\n",
        "y_counts = []\n",
        "\n",
        "for i in counts:\n",
        "    x_radish.append(i)\n",
        "    y_counts.append(counts[i])\n",
        "\n",
        "plt.bar(x_radish, y_counts)\n",
        "plt.xticks(rotation=90)\n",
        "plt.show()"
      ],
      "execution_count": 213,
      "outputs": [
        {
          "output_type": "stream",
          "name": "stdout",
          "text": [
            "Phoebe Barwell has already voted for  Plum purple Fraud!!!\n",
            "Procopio Zito has already voted for  White icicle Fraud!!!\n",
            "April cross:72\n",
            "Champion:76\n",
            "Cherry belle:58\n",
            "Snow belle:63\n",
            "Bunny tail:72\n",
            "Sicily giant:57\n",
            "Plum purple:56\n",
            "Red king:56\n",
            "Daikon:63\n",
            "White icicle:64\n",
            "French breakfast:72\n"
          ]
        },
        {
          "output_type": "display_data",
          "data": {
            "text/plain": [
              "<Figure size 640x480 with 1 Axes>"
            ],
            "image/png": "[encoded data removed]"
          },
          "metadata": {}
        }
      ]
    }
  ]
}