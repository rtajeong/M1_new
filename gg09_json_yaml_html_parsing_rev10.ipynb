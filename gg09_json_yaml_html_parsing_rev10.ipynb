{
  "cells": [
    {
      "cell_type": "markdown",
      "metadata": {
        "id": "view-in-github",
        "colab_type": "text"
      },
      "source": [
        "<a href=\"https://colab.research.google.com/github/rtajeong/M1_new/blob/main/gg09_json_yaml_html_parsing_rev10.ipynb\" target=\"_parent\"><img src=\"https://colab.research.google.com/assets/colab-badge.svg\" alt=\"Open In Colab\"/></a>"
      ]
    },
    {
      "cell_type": "markdown",
      "metadata": {
        "id": "XVUFUml_uyub"
      },
      "source": [
        "# Web Scraping using API\n",
        "- When you type www.google.com in your browser's address bar, your computer is actually asking the www.google.com server for a web page; the server returns the page to your browser.\n",
        "- APIs work much the same way, except instead of your web browser asking for a web page, your program asks for data. The API usually returns this data in JavaScript Object Notation (JSON) format.\n",
        "  - GET request: to retrieve information from the OpenNotify API.\n",
        "  -"
      ]
    },
    {
      "cell_type": "markdown",
      "metadata": {
        "id": "9Eas7Ig8CVxD"
      },
      "source": [
        "### Crawling and Scraping\n",
        "- Crawling refers to the process of automatically traversing through a website and following links to other pages in order to discover and index content.\n",
        "- Scraping, on the other hand, refers to the process of extracting specific data elements from web pages. Scraping involves sending HTTP requests to web pages and then parsing the HTML or other markup language in the response to extract the desired data.\n",
        "- Crawling focuses on discovering and indexing web pages, while scraping targets specific data extraction from those pages"
      ]
    },
    {
      "cell_type": "markdown",
      "metadata": {
        "id": "M70WK3Bb5wGQ"
      },
      "source": [
        "# JSON format\n",
        "- json: JavaScript Object Notation (자바 스크립트 객체 표기법)\n",
        "- 데이터를 쉽게 '교환' 하고 '저장' 하기 위한 텍스트 기반의 데이터 교환 표준"
      ]
    },
    {
      "cell_type": "code",
      "execution_count": 1,
      "metadata": {
        "id": "0gnIXL3r5wGU"
      },
      "outputs": [],
      "source": [
        "import numpy as np\n",
        "import pandas as pd\n",
        "import matplotlib.pyplot as plt\n",
        "%matplotlib inline\n",
        "import json\n",
        "from bs4 import BeautifulSoup"
      ]
    },
    {
      "cell_type": "code",
      "execution_count": null,
      "metadata": {
        "id": "_jP_W4fR5wGX"
      },
      "outputs": [],
      "source": [
        "# exercise 1 : a simple json format\n",
        "obj = \"\"\"\n",
        "{\n",
        "    \"name\": \"Kim\",\n",
        "    \"places_lived\": [\"Seoul\", \"Korea\"],\n",
        "    \"pet\": null,\n",
        "    \"siblings\": [{\"name\": \"Scott\", \"age\":25, \"pet\":\"Zuko\"}]\n",
        "}\n",
        "\"\"\""
      ]
    },
    {
      "cell_type": "code",
      "execution_count": null,
      "metadata": {
        "colab": {
          "base_uri": "https://localhost:8080/"
        },
        "id": "O5_FM8I75wGY",
        "outputId": "4aad3f2b-4a1e-422b-e453-2c4c1035a190"
      },
      "outputs": [
        {
          "data": {
            "text/plain": [
              "str"
            ]
          },
          "execution_count": 3,
          "metadata": {},
          "output_type": "execute_result"
        }
      ],
      "source": [
        "type(obj)"
      ]
    },
    {
      "cell_type": "code",
      "execution_count": null,
      "metadata": {
        "colab": {
          "base_uri": "https://localhost:8080/"
        },
        "id": "KiOmxQht5wGa",
        "outputId": "4e2c9b7c-9a22-46d5-ca51-1a9f7df8cadf"
      },
      "outputs": [
        {
          "name": "stdout",
          "output_type": "stream",
          "text": [
            "{'name': 'Kim', 'places_lived': ['Seoul', 'Korea'], 'pet': None, 'siblings': [{'name': 'Scott', 'age': 25, 'pet': 'Zuko'}]}\n"
          ]
        },
        {
          "data": {
            "text/plain": [
              "dict"
            ]
          },
          "execution_count": 4,
          "metadata": {},
          "output_type": "execute_result"
        }
      ],
      "source": [
        "r = json.loads(obj)   # decoding (json --> dict)\n",
        "print(r)\n",
        "type(r)"
      ]
    },
    {
      "cell_type": "code",
      "execution_count": null,
      "metadata": {
        "colab": {
          "base_uri": "https://localhost:8080/",
          "height": 35
        },
        "id": "5dQdz9_o5wGb",
        "outputId": "dd662f2b-4924-400b-925a-773f8a99f96a"
      },
      "outputs": [
        {
          "data": {
            "application/vnd.google.colaboratory.intrinsic+json": {
              "type": "string"
            },
            "text/plain": [
              "'{\"name\": \"Kim\", \"places_lived\": [\"Seoul\", \"Korea\"], \"pet\": null, \"siblings\": [{\"name\": \"Scott\", \"age\": 25, \"pet\": \"Zuko\"}]}'"
            ]
          },
          "execution_count": 5,
          "metadata": {},
          "output_type": "execute_result"
        }
      ],
      "source": [
        "json.dumps(r)    # encoding (dict --> json)"
      ]
    },
    {
      "cell_type": "code",
      "execution_count": 2,
      "metadata": {
        "id": "x6ubpQora7XA"
      },
      "outputs": [],
      "source": [
        "# Exercise 2 (from https://rfriend.tistory.com/474)\n",
        "py_data = {\n",
        "\n",
        "    \"1.FirstName\": \"Gildong\",\n",
        "    \"2.LastName\": \"Hong\",\n",
        "    \"3.Age\": 20,\n",
        "    \"4.University\": \"Hangook University\",\n",
        "    \"5.Courses\": [\n",
        "        {\n",
        "            \"Classes\": [\n",
        "                \"Probability\",\n",
        "                \"Generalized Linear Model\",\n",
        "                \"Categorical Data Analysis\"\n",
        "            ],\n",
        "            \"Major\": \"Statistics\"\n",
        "        },\n",
        "        {\n",
        "            \"Classes\": [\n",
        "                \"Data Structure\",\n",
        "                \"Programming\",\n",
        "                \"Algorithms\"\n",
        "            ],\n",
        "            \"Minor\": \"ComputerScience\"\n",
        "        }\n",
        "    ]\n",
        "}"
      ]
    },
    {
      "cell_type": "code",
      "execution_count": 3,
      "metadata": {
        "colab": {
          "base_uri": "https://localhost:8080/"
        },
        "id": "EofaiBZRfXKv",
        "outputId": "36f41683-86dd-4eee-ff36-458c1bc50b02"
      },
      "outputs": [
        {
          "output_type": "execute_result",
          "data": {
            "text/plain": [
              "dict"
            ]
          },
          "metadata": {},
          "execution_count": 3
        }
      ],
      "source": [
        "type(py_data)"
      ]
    },
    {
      "cell_type": "code",
      "execution_count": 4,
      "metadata": {
        "colab": {
          "base_uri": "https://localhost:8080/"
        },
        "id": "FXTH2Y-lJYpC",
        "outputId": "13f1285e-9e51-4868-b0ad-1d064cd14d97"
      },
      "outputs": [
        {
          "output_type": "execute_result",
          "data": {
            "text/plain": [
              "dict_keys(['1.FirstName', '2.LastName', '3.Age', '4.University', '5.Courses'])"
            ]
          },
          "metadata": {},
          "execution_count": 4
        }
      ],
      "source": [
        "py_data.keys()"
      ]
    },
    {
      "cell_type": "code",
      "execution_count": 5,
      "metadata": {
        "colab": {
          "base_uri": "https://localhost:8080/"
        },
        "id": "V3Clc8rSsZGl",
        "outputId": "292eea4a-d2aa-4a88-b569-a7cdd1acf5d7"
      },
      "outputs": [
        {
          "output_type": "execute_result",
          "data": {
            "text/plain": [
              "dict_values(['Gildong', 'Hong', 20, 'Hangook University', [{'Classes': ['Probability', 'Generalized Linear Model', 'Categorical Data Analysis'], 'Major': 'Statistics'}, {'Classes': ['Data Structure', 'Programming', 'Algorithms'], 'Minor': 'ComputerScience'}]])"
            ]
          },
          "metadata": {},
          "execution_count": 5
        }
      ],
      "source": [
        "py_data.values()"
      ]
    },
    {
      "cell_type": "code",
      "execution_count": 6,
      "metadata": {
        "colab": {
          "base_uri": "https://localhost:8080/"
        },
        "id": "hDMeOckYccar",
        "outputId": "9d59d32f-a1ac-471c-9c9a-fbe3a9daef94"
      },
      "outputs": [
        {
          "output_type": "execute_result",
          "data": {
            "text/plain": [
              "dict_items([('1.FirstName', 'Gildong'), ('2.LastName', 'Hong'), ('3.Age', 20), ('4.University', 'Hangook University'), ('5.Courses', [{'Classes': ['Probability', 'Generalized Linear Model', 'Categorical Data Analysis'], 'Major': 'Statistics'}, {'Classes': ['Data Structure', 'Programming', 'Algorithms'], 'Minor': 'ComputerScience'}])])"
            ]
          },
          "metadata": {},
          "execution_count": 6
        }
      ],
      "source": [
        "py_data.items()"
      ]
    },
    {
      "cell_type": "code",
      "execution_count": 7,
      "metadata": {
        "colab": {
          "base_uri": "https://localhost:8080/"
        },
        "id": "nRKMzO1sJm9D",
        "outputId": "102497e1-6a82-401a-c3d1-ef69ad0d642c"
      },
      "outputs": [
        {
          "output_type": "execute_result",
          "data": {
            "text/plain": [
              "[{'Classes': ['Probability',\n",
              "   'Generalized Linear Model',\n",
              "   'Categorical Data Analysis'],\n",
              "  'Major': 'Statistics'},\n",
              " {'Classes': ['Data Structure', 'Programming', 'Algorithms'],\n",
              "  'Minor': 'ComputerScience'}]"
            ]
          },
          "metadata": {},
          "execution_count": 7
        }
      ],
      "source": [
        "py_data['5.Courses']"
      ]
    },
    {
      "cell_type": "code",
      "execution_count": 8,
      "metadata": {
        "colab": {
          "base_uri": "https://localhost:8080/"
        },
        "id": "gKOZMI6vehyV",
        "outputId": "31a270e9-f0d1-48b7-c6d3-490ba170cad5"
      },
      "outputs": [
        {
          "output_type": "stream",
          "name": "stdout",
          "text": [
            "{\"1.FirstName\": \"Gildong\", \"2.LastName\": \"Hong\", \"3.Age\": 20, \"4.University\": \"Hangook University\", \"5.Courses\": [{\"Classes\": [\"Probability\", \"Generalized Linear Model\", \"Categorical Data Analysis\"], \"Major\": \"Statistics\"}, {\"Classes\": [\"Data Structure\", \"Programming\", \"Algorithms\"], \"Minor\": \"ComputerScience\"}]}\n"
          ]
        },
        {
          "output_type": "execute_result",
          "data": {
            "text/plain": [
              "str"
            ]
          },
          "metadata": {},
          "execution_count": 8
        }
      ],
      "source": [
        "import json\n",
        "json_str = json.dumps(py_data)\n",
        "print(json_str)\n",
        "type(json_str)"
      ]
    },
    {
      "cell_type": "code",
      "execution_count": null,
      "metadata": {
        "colab": {
          "base_uri": "https://localhost:8080/"
        },
        "id": "IW4S96m5GA6Q",
        "outputId": "bb6f3c63-a8af-47c3-d07a-b123fba83a73"
      },
      "outputs": [
        {
          "data": {
            "text/plain": [
              "1.FirstName                                               Gildong\n",
              "2.LastName                                                   Hong\n",
              "3.Age                                                          20\n",
              "4.University                                   Hangook University\n",
              "5.Courses       [{'Classes': ['Probability', 'Generalized Line...\n",
              "dtype: object"
            ]
          },
          "execution_count": 17,
          "metadata": {},
          "output_type": "execute_result"
        }
      ],
      "source": [
        "pd.Series(py_data)"
      ]
    },
    {
      "cell_type": "code",
      "execution_count": 9,
      "metadata": {
        "colab": {
          "base_uri": "https://localhost:8080/",
          "height": 112
        },
        "id": "UznEzTNsKGeO",
        "outputId": "e8863569-ad00-4519-aa13-55798ef98798"
      },
      "outputs": [
        {
          "output_type": "execute_result",
          "data": {
            "text/plain": [
              "  1.FirstName 2.LastName  3.Age        4.University  \\\n",
              "0     Gildong       Hong     20  Hangook University   \n",
              "1     Gildong       Hong     20  Hangook University   \n",
              "\n",
              "                                           5.Courses  \n",
              "0  {'Classes': ['Probability', 'Generalized Linea...  \n",
              "1  {'Classes': ['Data Structure', 'Programming', ...  "
            ],
            "text/html": [
              "\n",
              "  <div id=\"df-63b06ef5-affb-4a7e-8bfb-4d9e9a84a07f\" class=\"colab-df-container\">\n",
              "    <div>\n",
              "<style scoped>\n",
              "    .dataframe tbody tr th:only-of-type {\n",
              "        vertical-align: middle;\n",
              "    }\n",
              "\n",
              "    .dataframe tbody tr th {\n",
              "        vertical-align: top;\n",
              "    }\n",
              "\n",
              "    .dataframe thead th {\n",
              "        text-align: right;\n",
              "    }\n",
              "</style>\n",
              "<table border=\"1\" class=\"dataframe\">\n",
              "  <thead>\n",
              "    <tr style=\"text-align: right;\">\n",
              "      <th></th>\n",
              "      <th>1.FirstName</th>\n",
              "      <th>2.LastName</th>\n",
              "      <th>3.Age</th>\n",
              "      <th>4.University</th>\n",
              "      <th>5.Courses</th>\n",
              "    </tr>\n",
              "  </thead>\n",
              "  <tbody>\n",
              "    <tr>\n",
              "      <th>0</th>\n",
              "      <td>Gildong</td>\n",
              "      <td>Hong</td>\n",
              "      <td>20</td>\n",
              "      <td>Hangook University</td>\n",
              "      <td>{'Classes': ['Probability', 'Generalized Linea...</td>\n",
              "    </tr>\n",
              "    <tr>\n",
              "      <th>1</th>\n",
              "      <td>Gildong</td>\n",
              "      <td>Hong</td>\n",
              "      <td>20</td>\n",
              "      <td>Hangook University</td>\n",
              "      <td>{'Classes': ['Data Structure', 'Programming', ...</td>\n",
              "    </tr>\n",
              "  </tbody>\n",
              "</table>\n",
              "</div>\n",
              "    <div class=\"colab-df-buttons\">\n",
              "\n",
              "  <div class=\"colab-df-container\">\n",
              "    <button class=\"colab-df-convert\" onclick=\"convertToInteractive('df-63b06ef5-affb-4a7e-8bfb-4d9e9a84a07f')\"\n",
              "            title=\"Convert this dataframe to an interactive table.\"\n",
              "            style=\"display:none;\">\n",
              "\n",
              "  <svg xmlns=\"http://www.w3.org/2000/svg\" height=\"24px\" viewBox=\"0 -960 960 960\">\n",
              "    <path d=\"M120-120v-720h720v720H120Zm60-500h600v-160H180v160Zm220 220h160v-160H400v160Zm0 220h160v-160H400v160ZM180-400h160v-160H180v160Zm440 0h160v-160H620v160ZM180-180h160v-160H180v160Zm440 0h160v-160H620v160Z\"/>\n",
              "  </svg>\n",
              "    </button>\n",
              "\n",
              "  <style>\n",
              "    .colab-df-container {\n",
              "      display:flex;\n",
              "      gap: 12px;\n",
              "    }\n",
              "\n",
              "    .colab-df-convert {\n",
              "      background-color: #E8F0FE;\n",
              "      border: none;\n",
              "      border-radius: 50%;\n",
              "      cursor: pointer;\n",
              "      display: none;\n",
              "      fill: #1967D2;\n",
              "      height: 32px;\n",
              "      padding: 0 0 0 0;\n",
              "      width: 32px;\n",
              "    }\n",
              "\n",
              "    .colab-df-convert:hover {\n",
              "      background-color: #E2EBFA;\n",
              "      box-shadow: 0px 1px 2px rgba(60, 64, 67, 0.3), 0px 1px 3px 1px rgba(60, 64, 67, 0.15);\n",
              "      fill: #174EA6;\n",
              "    }\n",
              "\n",
              "    .colab-df-buttons div {\n",
              "      margin-bottom: 4px;\n",
              "    }\n",
              "\n",
              "    [theme=dark] .colab-df-convert {\n",
              "      background-color: #3B4455;\n",
              "      fill: #D2E3FC;\n",
              "    }\n",
              "\n",
              "    [theme=dark] .colab-df-convert:hover {\n",
              "      background-color: #434B5C;\n",
              "      box-shadow: 0px 1px 3px 1px rgba(0, 0, 0, 0.15);\n",
              "      filter: drop-shadow(0px 1px 2px rgba(0, 0, 0, 0.3));\n",
              "      fill: #FFFFFF;\n",
              "    }\n",
              "  </style>\n",
              "\n",
              "    <script>\n",
              "      const buttonEl =\n",
              "        document.querySelector('#df-63b06ef5-affb-4a7e-8bfb-4d9e9a84a07f button.colab-df-convert');\n",
              "      buttonEl.style.display =\n",
              "        google.colab.kernel.accessAllowed ? 'block' : 'none';\n",
              "\n",
              "      async function convertToInteractive(key) {\n",
              "        const element = document.querySelector('#df-63b06ef5-affb-4a7e-8bfb-4d9e9a84a07f');\n",
              "        const dataTable =\n",
              "          await google.colab.kernel.invokeFunction('convertToInteractive',\n",
              "                                                    [key], {});\n",
              "        if (!dataTable) return;\n",
              "\n",
              "        const docLinkHtml = 'Like what you see? Visit the ' +\n",
              "          '<a target=\"_blank\" href=https://colab.research.google.com/notebooks/data_table.ipynb>data table notebook</a>'\n",
              "          + ' to learn more about interactive tables.';\n",
              "        element.innerHTML = '';\n",
              "        dataTable['output_type'] = 'display_data';\n",
              "        await google.colab.output.renderOutput(dataTable, element);\n",
              "        const docLink = document.createElement('div');\n",
              "        docLink.innerHTML = docLinkHtml;\n",
              "        element.appendChild(docLink);\n",
              "      }\n",
              "    </script>\n",
              "  </div>\n",
              "\n",
              "\n",
              "<div id=\"df-2f542b28-06b2-47d8-ab4c-9d5caf9d4af1\">\n",
              "  <button class=\"colab-df-quickchart\" onclick=\"quickchart('df-2f542b28-06b2-47d8-ab4c-9d5caf9d4af1')\"\n",
              "            title=\"Suggest charts\"\n",
              "            style=\"display:none;\">\n",
              "\n",
              "<svg xmlns=\"http://www.w3.org/2000/svg\" height=\"24px\"viewBox=\"0 0 24 24\"\n",
              "     width=\"24px\">\n",
              "    <g>\n",
              "        <path d=\"M19 3H5c-1.1 0-2 .9-2 2v14c0 1.1.9 2 2 2h14c1.1 0 2-.9 2-2V5c0-1.1-.9-2-2-2zM9 17H7v-7h2v7zm4 0h-2V7h2v10zm4 0h-2v-4h2v4z\"/>\n",
              "    </g>\n",
              "</svg>\n",
              "  </button>\n",
              "\n",
              "<style>\n",
              "  .colab-df-quickchart {\n",
              "      --bg-color: #E8F0FE;\n",
              "      --fill-color: #1967D2;\n",
              "      --hover-bg-color: #E2EBFA;\n",
              "      --hover-fill-color: #174EA6;\n",
              "      --disabled-fill-color: #AAA;\n",
              "      --disabled-bg-color: #DDD;\n",
              "  }\n",
              "\n",
              "  [theme=dark] .colab-df-quickchart {\n",
              "      --bg-color: #3B4455;\n",
              "      --fill-color: #D2E3FC;\n",
              "      --hover-bg-color: #434B5C;\n",
              "      --hover-fill-color: #FFFFFF;\n",
              "      --disabled-bg-color: #3B4455;\n",
              "      --disabled-fill-color: #666;\n",
              "  }\n",
              "\n",
              "  .colab-df-quickchart {\n",
              "    background-color: var(--bg-color);\n",
              "    border: none;\n",
              "    border-radius: 50%;\n",
              "    cursor: pointer;\n",
              "    display: none;\n",
              "    fill: var(--fill-color);\n",
              "    height: 32px;\n",
              "    padding: 0;\n",
              "    width: 32px;\n",
              "  }\n",
              "\n",
              "  .colab-df-quickchart:hover {\n",
              "    background-color: var(--hover-bg-color);\n",
              "    box-shadow: 0 1px 2px rgba(60, 64, 67, 0.3), 0 1px 3px 1px rgba(60, 64, 67, 0.15);\n",
              "    fill: var(--button-hover-fill-color);\n",
              "  }\n",
              "\n",
              "  .colab-df-quickchart-complete:disabled,\n",
              "  .colab-df-quickchart-complete:disabled:hover {\n",
              "    background-color: var(--disabled-bg-color);\n",
              "    fill: var(--disabled-fill-color);\n",
              "    box-shadow: none;\n",
              "  }\n",
              "\n",
              "  .colab-df-spinner {\n",
              "    border: 2px solid var(--fill-color);\n",
              "    border-color: transparent;\n",
              "    border-bottom-color: var(--fill-color);\n",
              "    animation:\n",
              "      spin 1s steps(1) infinite;\n",
              "  }\n",
              "\n",
              "  @keyframes spin {\n",
              "    0% {\n",
              "      border-color: transparent;\n",
              "      border-bottom-color: var(--fill-color);\n",
              "      border-left-color: var(--fill-color);\n",
              "    }\n",
              "    20% {\n",
              "      border-color: transparent;\n",
              "      border-left-color: var(--fill-color);\n",
              "      border-top-color: var(--fill-color);\n",
              "    }\n",
              "    30% {\n",
              "      border-color: transparent;\n",
              "      border-left-color: var(--fill-color);\n",
              "      border-top-color: var(--fill-color);\n",
              "      border-right-color: var(--fill-color);\n",
              "    }\n",
              "    40% {\n",
              "      border-color: transparent;\n",
              "      border-right-color: var(--fill-color);\n",
              "      border-top-color: var(--fill-color);\n",
              "    }\n",
              "    60% {\n",
              "      border-color: transparent;\n",
              "      border-right-color: var(--fill-color);\n",
              "    }\n",
              "    80% {\n",
              "      border-color: transparent;\n",
              "      border-right-color: var(--fill-color);\n",
              "      border-bottom-color: var(--fill-color);\n",
              "    }\n",
              "    90% {\n",
              "      border-color: transparent;\n",
              "      border-bottom-color: var(--fill-color);\n",
              "    }\n",
              "  }\n",
              "</style>\n",
              "\n",
              "  <script>\n",
              "    async function quickchart(key) {\n",
              "      const quickchartButtonEl =\n",
              "        document.querySelector('#' + key + ' button');\n",
              "      quickchartButtonEl.disabled = true;  // To prevent multiple clicks.\n",
              "      quickchartButtonEl.classList.add('colab-df-spinner');\n",
              "      try {\n",
              "        const charts = await google.colab.kernel.invokeFunction(\n",
              "            'suggestCharts', [key], {});\n",
              "      } catch (error) {\n",
              "        console.error('Error during call to suggestCharts:', error);\n",
              "      }\n",
              "      quickchartButtonEl.classList.remove('colab-df-spinner');\n",
              "      quickchartButtonEl.classList.add('colab-df-quickchart-complete');\n",
              "    }\n",
              "    (() => {\n",
              "      let quickchartButtonEl =\n",
              "        document.querySelector('#df-2f542b28-06b2-47d8-ab4c-9d5caf9d4af1 button');\n",
              "      quickchartButtonEl.style.display =\n",
              "        google.colab.kernel.accessAllowed ? 'block' : 'none';\n",
              "    })();\n",
              "  </script>\n",
              "</div>\n",
              "\n",
              "    </div>\n",
              "  </div>\n"
            ],
            "application/vnd.google.colaboratory.intrinsic+json": {
              "type": "dataframe",
              "summary": "{\n  \"name\": \"pd\",\n  \"rows\": 2,\n  \"fields\": [\n    {\n      \"column\": \"1.FirstName\",\n      \"properties\": {\n        \"dtype\": \"string\",\n        \"num_unique_values\": 1,\n        \"samples\": [\n          \"Gildong\"\n        ],\n        \"semantic_type\": \"\",\n        \"description\": \"\"\n      }\n    },\n    {\n      \"column\": \"2.LastName\",\n      \"properties\": {\n        \"dtype\": \"string\",\n        \"num_unique_values\": 1,\n        \"samples\": [\n          \"Hong\"\n        ],\n        \"semantic_type\": \"\",\n        \"description\": \"\"\n      }\n    },\n    {\n      \"column\": \"3.Age\",\n      \"properties\": {\n        \"dtype\": \"number\",\n        \"std\": 0,\n        \"min\": 20,\n        \"max\": 20,\n        \"num_unique_values\": 1,\n        \"samples\": [\n          20\n        ],\n        \"semantic_type\": \"\",\n        \"description\": \"\"\n      }\n    },\n    {\n      \"column\": \"4.University\",\n      \"properties\": {\n        \"dtype\": \"string\",\n        \"num_unique_values\": 1,\n        \"samples\": [\n          \"Hangook University\"\n        ],\n        \"semantic_type\": \"\",\n        \"description\": \"\"\n      }\n    },\n    {\n      \"column\": \"5.Courses\",\n      \"properties\": {\n        \"dtype\": \"object\",\n        \"semantic_type\": \"\",\n        \"description\": \"\"\n      }\n    }\n  ]\n}"
            }
          },
          "metadata": {},
          "execution_count": 9
        }
      ],
      "source": [
        "pd.DataFrame(py_data)"
      ]
    },
    {
      "cell_type": "code",
      "execution_count": 10,
      "metadata": {
        "colab": {
          "base_uri": "https://localhost:8080/",
          "height": 147
        },
        "id": "s4CqofO2inah",
        "outputId": "c2d5f631-e5c7-47b1-8211-5110a6d83433"
      },
      "outputs": [
        {
          "output_type": "execute_result",
          "data": {
            "text/plain": [
              "0    {'Classes': ['Probability', 'Generalized Linea...\n",
              "1    {'Classes': ['Data Structure', 'Programming', ...\n",
              "Name: 5.Courses, dtype: object"
            ],
            "text/html": [
              "<table border=\"1\" class=\"dataframe\">\n",
              "  <thead>\n",
              "    <tr style=\"text-align: right;\">\n",
              "      <th></th>\n",
              "      <th>5.Courses</th>\n",
              "    </tr>\n",
              "  </thead>\n",
              "  <tbody>\n",
              "    <tr>\n",
              "      <th>0</th>\n",
              "      <td>{'Classes': ['Probability', 'Generalized Linear Model', 'Categorical Data Analysis'], 'Major': 'Statistics'}</td>\n",
              "    </tr>\n",
              "    <tr>\n",
              "      <th>1</th>\n",
              "      <td>{'Classes': ['Data Structure', 'Programming', 'Algorithms'], 'Minor': 'ComputerScience'}</td>\n",
              "    </tr>\n",
              "  </tbody>\n",
              "</table><br><label><b>dtype:</b> object</label>"
            ]
          },
          "metadata": {},
          "execution_count": 10
        }
      ],
      "source": [
        "pd.DataFrame(py_data).iloc[:,-1]"
      ]
    },
    {
      "cell_type": "code",
      "execution_count": null,
      "metadata": {
        "colab": {
          "base_uri": "https://localhost:8080/",
          "height": 112
        },
        "id": "dcRqkEUFKwh_",
        "outputId": "f092cd02-17c7-45ab-8d7a-0aefacd79821"
      },
      "outputs": [
        {
          "data": {
            "application/vnd.google.colaboratory.intrinsic+json": {
              "summary": "{\n  \"name\": \"pd\",\n  \"rows\": 2,\n  \"fields\": [\n    {\n      \"column\": \"1.FirstName\",\n      \"properties\": {\n        \"dtype\": \"string\",\n        \"num_unique_values\": 1,\n        \"samples\": [\n          \"Gildong\"\n        ],\n        \"semantic_type\": \"\",\n        \"description\": \"\"\n      }\n    },\n    {\n      \"column\": \"2.LastName\",\n      \"properties\": {\n        \"dtype\": \"string\",\n        \"num_unique_values\": 1,\n        \"samples\": [\n          \"Hong\"\n        ],\n        \"semantic_type\": \"\",\n        \"description\": \"\"\n      }\n    },\n    {\n      \"column\": \"3.Age\",\n      \"properties\": {\n        \"dtype\": \"number\",\n        \"std\": 0,\n        \"min\": 20,\n        \"max\": 20,\n        \"num_unique_values\": 1,\n        \"samples\": [\n          20\n        ],\n        \"semantic_type\": \"\",\n        \"description\": \"\"\n      }\n    },\n    {\n      \"column\": \"4.University\",\n      \"properties\": {\n        \"dtype\": \"string\",\n        \"num_unique_values\": 1,\n        \"samples\": [\n          \"Hangook University\"\n        ],\n        \"semantic_type\": \"\",\n        \"description\": \"\"\n      }\n    },\n    {\n      \"column\": \"5.Courses\",\n      \"properties\": {\n        \"dtype\": \"object\",\n        \"semantic_type\": \"\",\n        \"description\": \"\"\n      }\n    }\n  ]\n}",
              "type": "dataframe"
            },
            "text/html": [
              "\n",
              "  <div id=\"df-eddb3ab7-6e66-4023-8e87-2f58f199ddf7\" class=\"colab-df-container\">\n",
              "    <div>\n",
              "<style scoped>\n",
              "    .dataframe tbody tr th:only-of-type {\n",
              "        vertical-align: middle;\n",
              "    }\n",
              "\n",
              "    .dataframe tbody tr th {\n",
              "        vertical-align: top;\n",
              "    }\n",
              "\n",
              "    .dataframe thead th {\n",
              "        text-align: right;\n",
              "    }\n",
              "</style>\n",
              "<table border=\"1\" class=\"dataframe\">\n",
              "  <thead>\n",
              "    <tr style=\"text-align: right;\">\n",
              "      <th></th>\n",
              "      <th>1.FirstName</th>\n",
              "      <th>2.LastName</th>\n",
              "      <th>3.Age</th>\n",
              "      <th>4.University</th>\n",
              "      <th>5.Courses</th>\n",
              "    </tr>\n",
              "  </thead>\n",
              "  <tbody>\n",
              "    <tr>\n",
              "      <th>0</th>\n",
              "      <td>Gildong</td>\n",
              "      <td>Hong</td>\n",
              "      <td>20</td>\n",
              "      <td>Hangook University</td>\n",
              "      <td>{'Classes': ['Probability', 'Generalized Linea...</td>\n",
              "    </tr>\n",
              "    <tr>\n",
              "      <th>1</th>\n",
              "      <td>Gildong</td>\n",
              "      <td>Hong</td>\n",
              "      <td>20</td>\n",
              "      <td>Hangook University</td>\n",
              "      <td>{'Classes': ['Data Structure', 'Programming', ...</td>\n",
              "    </tr>\n",
              "  </tbody>\n",
              "</table>\n",
              "</div>\n",
              "    <div class=\"colab-df-buttons\">\n",
              "\n",
              "  <div class=\"colab-df-container\">\n",
              "    <button class=\"colab-df-convert\" onclick=\"convertToInteractive('df-eddb3ab7-6e66-4023-8e87-2f58f199ddf7')\"\n",
              "            title=\"Convert this dataframe to an interactive table.\"\n",
              "            style=\"display:none;\">\n",
              "\n",
              "  <svg xmlns=\"http://www.w3.org/2000/svg\" height=\"24px\" viewBox=\"0 -960 960 960\">\n",
              "    <path d=\"M120-120v-720h720v720H120Zm60-500h600v-160H180v160Zm220 220h160v-160H400v160Zm0 220h160v-160H400v160ZM180-400h160v-160H180v160Zm440 0h160v-160H620v160ZM180-180h160v-160H180v160Zm440 0h160v-160H620v160Z\"/>\n",
              "  </svg>\n",
              "    </button>\n",
              "\n",
              "  <style>\n",
              "    .colab-df-container {\n",
              "      display:flex;\n",
              "      gap: 12px;\n",
              "    }\n",
              "\n",
              "    .colab-df-convert {\n",
              "      background-color: #E8F0FE;\n",
              "      border: none;\n",
              "      border-radius: 50%;\n",
              "      cursor: pointer;\n",
              "      display: none;\n",
              "      fill: #1967D2;\n",
              "      height: 32px;\n",
              "      padding: 0 0 0 0;\n",
              "      width: 32px;\n",
              "    }\n",
              "\n",
              "    .colab-df-convert:hover {\n",
              "      background-color: #E2EBFA;\n",
              "      box-shadow: 0px 1px 2px rgba(60, 64, 67, 0.3), 0px 1px 3px 1px rgba(60, 64, 67, 0.15);\n",
              "      fill: #174EA6;\n",
              "    }\n",
              "\n",
              "    .colab-df-buttons div {\n",
              "      margin-bottom: 4px;\n",
              "    }\n",
              "\n",
              "    [theme=dark] .colab-df-convert {\n",
              "      background-color: #3B4455;\n",
              "      fill: #D2E3FC;\n",
              "    }\n",
              "\n",
              "    [theme=dark] .colab-df-convert:hover {\n",
              "      background-color: #434B5C;\n",
              "      box-shadow: 0px 1px 3px 1px rgba(0, 0, 0, 0.15);\n",
              "      filter: drop-shadow(0px 1px 2px rgba(0, 0, 0, 0.3));\n",
              "      fill: #FFFFFF;\n",
              "    }\n",
              "  </style>\n",
              "\n",
              "    <script>\n",
              "      const buttonEl =\n",
              "        document.querySelector('#df-eddb3ab7-6e66-4023-8e87-2f58f199ddf7 button.colab-df-convert');\n",
              "      buttonEl.style.display =\n",
              "        google.colab.kernel.accessAllowed ? 'block' : 'none';\n",
              "\n",
              "      async function convertToInteractive(key) {\n",
              "        const element = document.querySelector('#df-eddb3ab7-6e66-4023-8e87-2f58f199ddf7');\n",
              "        const dataTable =\n",
              "          await google.colab.kernel.invokeFunction('convertToInteractive',\n",
              "                                                    [key], {});\n",
              "        if (!dataTable) return;\n",
              "\n",
              "        const docLinkHtml = 'Like what you see? Visit the ' +\n",
              "          '<a target=\"_blank\" href=https://colab.research.google.com/notebooks/data_table.ipynb>data table notebook</a>'\n",
              "          + ' to learn more about interactive tables.';\n",
              "        element.innerHTML = '';\n",
              "        dataTable['output_type'] = 'display_data';\n",
              "        await google.colab.output.renderOutput(dataTable, element);\n",
              "        const docLink = document.createElement('div');\n",
              "        docLink.innerHTML = docLinkHtml;\n",
              "        element.appendChild(docLink);\n",
              "      }\n",
              "    </script>\n",
              "  </div>\n",
              "\n",
              "\n",
              "<div id=\"df-7032f3f2-527c-400a-912e-793defef210b\">\n",
              "  <button class=\"colab-df-quickchart\" onclick=\"quickchart('df-7032f3f2-527c-400a-912e-793defef210b')\"\n",
              "            title=\"Suggest charts\"\n",
              "            style=\"display:none;\">\n",
              "\n",
              "<svg xmlns=\"http://www.w3.org/2000/svg\" height=\"24px\"viewBox=\"0 0 24 24\"\n",
              "     width=\"24px\">\n",
              "    <g>\n",
              "        <path d=\"M19 3H5c-1.1 0-2 .9-2 2v14c0 1.1.9 2 2 2h14c1.1 0 2-.9 2-2V5c0-1.1-.9-2-2-2zM9 17H7v-7h2v7zm4 0h-2V7h2v10zm4 0h-2v-4h2v4z\"/>\n",
              "    </g>\n",
              "</svg>\n",
              "  </button>\n",
              "\n",
              "<style>\n",
              "  .colab-df-quickchart {\n",
              "      --bg-color: #E8F0FE;\n",
              "      --fill-color: #1967D2;\n",
              "      --hover-bg-color: #E2EBFA;\n",
              "      --hover-fill-color: #174EA6;\n",
              "      --disabled-fill-color: #AAA;\n",
              "      --disabled-bg-color: #DDD;\n",
              "  }\n",
              "\n",
              "  [theme=dark] .colab-df-quickchart {\n",
              "      --bg-color: #3B4455;\n",
              "      --fill-color: #D2E3FC;\n",
              "      --hover-bg-color: #434B5C;\n",
              "      --hover-fill-color: #FFFFFF;\n",
              "      --disabled-bg-color: #3B4455;\n",
              "      --disabled-fill-color: #666;\n",
              "  }\n",
              "\n",
              "  .colab-df-quickchart {\n",
              "    background-color: var(--bg-color);\n",
              "    border: none;\n",
              "    border-radius: 50%;\n",
              "    cursor: pointer;\n",
              "    display: none;\n",
              "    fill: var(--fill-color);\n",
              "    height: 32px;\n",
              "    padding: 0;\n",
              "    width: 32px;\n",
              "  }\n",
              "\n",
              "  .colab-df-quickchart:hover {\n",
              "    background-color: var(--hover-bg-color);\n",
              "    box-shadow: 0 1px 2px rgba(60, 64, 67, 0.3), 0 1px 3px 1px rgba(60, 64, 67, 0.15);\n",
              "    fill: var(--button-hover-fill-color);\n",
              "  }\n",
              "\n",
              "  .colab-df-quickchart-complete:disabled,\n",
              "  .colab-df-quickchart-complete:disabled:hover {\n",
              "    background-color: var(--disabled-bg-color);\n",
              "    fill: var(--disabled-fill-color);\n",
              "    box-shadow: none;\n",
              "  }\n",
              "\n",
              "  .colab-df-spinner {\n",
              "    border: 2px solid var(--fill-color);\n",
              "    border-color: transparent;\n",
              "    border-bottom-color: var(--fill-color);\n",
              "    animation:\n",
              "      spin 1s steps(1) infinite;\n",
              "  }\n",
              "\n",
              "  @keyframes spin {\n",
              "    0% {\n",
              "      border-color: transparent;\n",
              "      border-bottom-color: var(--fill-color);\n",
              "      border-left-color: var(--fill-color);\n",
              "    }\n",
              "    20% {\n",
              "      border-color: transparent;\n",
              "      border-left-color: var(--fill-color);\n",
              "      border-top-color: var(--fill-color);\n",
              "    }\n",
              "    30% {\n",
              "      border-color: transparent;\n",
              "      border-left-color: var(--fill-color);\n",
              "      border-top-color: var(--fill-color);\n",
              "      border-right-color: var(--fill-color);\n",
              "    }\n",
              "    40% {\n",
              "      border-color: transparent;\n",
              "      border-right-color: var(--fill-color);\n",
              "      border-top-color: var(--fill-color);\n",
              "    }\n",
              "    60% {\n",
              "      border-color: transparent;\n",
              "      border-right-color: var(--fill-color);\n",
              "    }\n",
              "    80% {\n",
              "      border-color: transparent;\n",
              "      border-right-color: var(--fill-color);\n",
              "      border-bottom-color: var(--fill-color);\n",
              "    }\n",
              "    90% {\n",
              "      border-color: transparent;\n",
              "      border-bottom-color: var(--fill-color);\n",
              "    }\n",
              "  }\n",
              "</style>\n",
              "\n",
              "  <script>\n",
              "    async function quickchart(key) {\n",
              "      const quickchartButtonEl =\n",
              "        document.querySelector('#' + key + ' button');\n",
              "      quickchartButtonEl.disabled = true;  // To prevent multiple clicks.\n",
              "      quickchartButtonEl.classList.add('colab-df-spinner');\n",
              "      try {\n",
              "        const charts = await google.colab.kernel.invokeFunction(\n",
              "            'suggestCharts', [key], {});\n",
              "      } catch (error) {\n",
              "        console.error('Error during call to suggestCharts:', error);\n",
              "      }\n",
              "      quickchartButtonEl.classList.remove('colab-df-spinner');\n",
              "      quickchartButtonEl.classList.add('colab-df-quickchart-complete');\n",
              "    }\n",
              "    (() => {\n",
              "      let quickchartButtonEl =\n",
              "        document.querySelector('#df-7032f3f2-527c-400a-912e-793defef210b button');\n",
              "      quickchartButtonEl.style.display =\n",
              "        google.colab.kernel.accessAllowed ? 'block' : 'none';\n",
              "    })();\n",
              "  </script>\n",
              "</div>\n",
              "\n",
              "    </div>\n",
              "  </div>\n"
            ],
            "text/plain": [
              "  1.FirstName 2.LastName  3.Age        4.University  \\\n",
              "0     Gildong       Hong     20  Hangook University   \n",
              "1     Gildong       Hong     20  Hangook University   \n",
              "\n",
              "                                           5.Courses  \n",
              "0  {'Classes': ['Probability', 'Generalized Linea...  \n",
              "1  {'Classes': ['Data Structure', 'Programming', ...  "
            ]
          },
          "execution_count": 21,
          "metadata": {},
          "output_type": "execute_result"
        }
      ],
      "source": [
        "pd.DataFrame.from_dict(py_data)  # create a dataframe from a dict (more flexible)"
      ]
    },
    {
      "cell_type": "code",
      "execution_count": 11,
      "metadata": {
        "colab": {
          "base_uri": "https://localhost:8080/",
          "height": 81
        },
        "id": "B6Oy0RABbmN2",
        "outputId": "c5d1b80a-780d-4a4c-fdba-92813300789a"
      },
      "outputs": [
        {
          "output_type": "execute_result",
          "data": {
            "text/plain": [
              "  1.FirstName 2.LastName  3.Age        4.University  \\\n",
              "0     Gildong       Hong     20  Hangook University   \n",
              "\n",
              "                                           5.Courses  \n",
              "0  [{'Classes': ['Probability', 'Generalized Line...  "
            ],
            "text/html": [
              "\n",
              "  <div id=\"df-dc62490a-dab7-4196-af99-dd6d6e467b47\" class=\"colab-df-container\">\n",
              "    <div>\n",
              "<style scoped>\n",
              "    .dataframe tbody tr th:only-of-type {\n",
              "        vertical-align: middle;\n",
              "    }\n",
              "\n",
              "    .dataframe tbody tr th {\n",
              "        vertical-align: top;\n",
              "    }\n",
              "\n",
              "    .dataframe thead th {\n",
              "        text-align: right;\n",
              "    }\n",
              "</style>\n",
              "<table border=\"1\" class=\"dataframe\">\n",
              "  <thead>\n",
              "    <tr style=\"text-align: right;\">\n",
              "      <th></th>\n",
              "      <th>1.FirstName</th>\n",
              "      <th>2.LastName</th>\n",
              "      <th>3.Age</th>\n",
              "      <th>4.University</th>\n",
              "      <th>5.Courses</th>\n",
              "    </tr>\n",
              "  </thead>\n",
              "  <tbody>\n",
              "    <tr>\n",
              "      <th>0</th>\n",
              "      <td>Gildong</td>\n",
              "      <td>Hong</td>\n",
              "      <td>20</td>\n",
              "      <td>Hangook University</td>\n",
              "      <td>[{'Classes': ['Probability', 'Generalized Line...</td>\n",
              "    </tr>\n",
              "  </tbody>\n",
              "</table>\n",
              "</div>\n",
              "    <div class=\"colab-df-buttons\">\n",
              "\n",
              "  <div class=\"colab-df-container\">\n",
              "    <button class=\"colab-df-convert\" onclick=\"convertToInteractive('df-dc62490a-dab7-4196-af99-dd6d6e467b47')\"\n",
              "            title=\"Convert this dataframe to an interactive table.\"\n",
              "            style=\"display:none;\">\n",
              "\n",
              "  <svg xmlns=\"http://www.w3.org/2000/svg\" height=\"24px\" viewBox=\"0 -960 960 960\">\n",
              "    <path d=\"M120-120v-720h720v720H120Zm60-500h600v-160H180v160Zm220 220h160v-160H400v160Zm0 220h160v-160H400v160ZM180-400h160v-160H180v160Zm440 0h160v-160H620v160ZM180-180h160v-160H180v160Zm440 0h160v-160H620v160Z\"/>\n",
              "  </svg>\n",
              "    </button>\n",
              "\n",
              "  <style>\n",
              "    .colab-df-container {\n",
              "      display:flex;\n",
              "      gap: 12px;\n",
              "    }\n",
              "\n",
              "    .colab-df-convert {\n",
              "      background-color: #E8F0FE;\n",
              "      border: none;\n",
              "      border-radius: 50%;\n",
              "      cursor: pointer;\n",
              "      display: none;\n",
              "      fill: #1967D2;\n",
              "      height: 32px;\n",
              "      padding: 0 0 0 0;\n",
              "      width: 32px;\n",
              "    }\n",
              "\n",
              "    .colab-df-convert:hover {\n",
              "      background-color: #E2EBFA;\n",
              "      box-shadow: 0px 1px 2px rgba(60, 64, 67, 0.3), 0px 1px 3px 1px rgba(60, 64, 67, 0.15);\n",
              "      fill: #174EA6;\n",
              "    }\n",
              "\n",
              "    .colab-df-buttons div {\n",
              "      margin-bottom: 4px;\n",
              "    }\n",
              "\n",
              "    [theme=dark] .colab-df-convert {\n",
              "      background-color: #3B4455;\n",
              "      fill: #D2E3FC;\n",
              "    }\n",
              "\n",
              "    [theme=dark] .colab-df-convert:hover {\n",
              "      background-color: #434B5C;\n",
              "      box-shadow: 0px 1px 3px 1px rgba(0, 0, 0, 0.15);\n",
              "      filter: drop-shadow(0px 1px 2px rgba(0, 0, 0, 0.3));\n",
              "      fill: #FFFFFF;\n",
              "    }\n",
              "  </style>\n",
              "\n",
              "    <script>\n",
              "      const buttonEl =\n",
              "        document.querySelector('#df-dc62490a-dab7-4196-af99-dd6d6e467b47 button.colab-df-convert');\n",
              "      buttonEl.style.display =\n",
              "        google.colab.kernel.accessAllowed ? 'block' : 'none';\n",
              "\n",
              "      async function convertToInteractive(key) {\n",
              "        const element = document.querySelector('#df-dc62490a-dab7-4196-af99-dd6d6e467b47');\n",
              "        const dataTable =\n",
              "          await google.colab.kernel.invokeFunction('convertToInteractive',\n",
              "                                                    [key], {});\n",
              "        if (!dataTable) return;\n",
              "\n",
              "        const docLinkHtml = 'Like what you see? Visit the ' +\n",
              "          '<a target=\"_blank\" href=https://colab.research.google.com/notebooks/data_table.ipynb>data table notebook</a>'\n",
              "          + ' to learn more about interactive tables.';\n",
              "        element.innerHTML = '';\n",
              "        dataTable['output_type'] = 'display_data';\n",
              "        await google.colab.output.renderOutput(dataTable, element);\n",
              "        const docLink = document.createElement('div');\n",
              "        docLink.innerHTML = docLinkHtml;\n",
              "        element.appendChild(docLink);\n",
              "      }\n",
              "    </script>\n",
              "  </div>\n",
              "\n",
              "\n",
              "    </div>\n",
              "  </div>\n"
            ],
            "application/vnd.google.colaboratory.intrinsic+json": {
              "type": "dataframe",
              "summary": "{\n  \"name\": \"pd\",\n  \"rows\": 1,\n  \"fields\": [\n    {\n      \"column\": \"1.FirstName\",\n      \"properties\": {\n        \"dtype\": \"string\",\n        \"num_unique_values\": 1,\n        \"samples\": [\n          \"Gildong\"\n        ],\n        \"semantic_type\": \"\",\n        \"description\": \"\"\n      }\n    },\n    {\n      \"column\": \"2.LastName\",\n      \"properties\": {\n        \"dtype\": \"string\",\n        \"num_unique_values\": 1,\n        \"samples\": [\n          \"Hong\"\n        ],\n        \"semantic_type\": \"\",\n        \"description\": \"\"\n      }\n    },\n    {\n      \"column\": \"3.Age\",\n      \"properties\": {\n        \"dtype\": \"number\",\n        \"std\": null,\n        \"min\": 20,\n        \"max\": 20,\n        \"num_unique_values\": 1,\n        \"samples\": [\n          20\n        ],\n        \"semantic_type\": \"\",\n        \"description\": \"\"\n      }\n    },\n    {\n      \"column\": \"4.University\",\n      \"properties\": {\n        \"dtype\": \"string\",\n        \"num_unique_values\": 1,\n        \"samples\": [\n          \"Hangook University\"\n        ],\n        \"semantic_type\": \"\",\n        \"description\": \"\"\n      }\n    },\n    {\n      \"column\": \"5.Courses\",\n      \"properties\": {\n        \"dtype\": \"object\",\n        \"semantic_type\": \"\",\n        \"description\": \"\"\n      }\n    }\n  ]\n}"
            }
          },
          "metadata": {},
          "execution_count": 11
        }
      ],
      "source": [
        "pd.json_normalize(py_data)  # transforms a complex nested data structures to a flat dataframe"
      ]
    },
    {
      "cell_type": "code",
      "execution_count": null,
      "metadata": {
        "colab": {
          "base_uri": "https://localhost:8080/"
        },
        "id": "hwk_jZT7GbQy",
        "outputId": "26b41a3d-a07e-4796-a79b-532a4763a292"
      },
      "outputs": [
        {
          "data": {
            "text/plain": [
              "[{'Classes': ['Probability',\n",
              "   'Generalized Linear Model',\n",
              "   'Categorical Data Analysis'],\n",
              "  'Major': 'Statistics'},\n",
              " {'Classes': ['Data Structure', 'Programming', 'Algorithms'],\n",
              "  'Minor': 'ComputerScience'}]"
            ]
          },
          "execution_count": 24,
          "metadata": {},
          "output_type": "execute_result"
        }
      ],
      "source": [
        "py_data['5.Courses']"
      ]
    },
    {
      "cell_type": "code",
      "execution_count": 12,
      "metadata": {
        "colab": {
          "base_uri": "https://localhost:8080/",
          "height": 112
        },
        "id": "Jmxsz5YsenV3",
        "outputId": "d32d520d-66a7-4831-d9c7-bbfa8449d532"
      },
      "outputs": [
        {
          "output_type": "execute_result",
          "data": {
            "text/plain": [
              "                                             Classes       Major  \\\n",
              "0  [Probability, Generalized Linear Model, Catego...  Statistics   \n",
              "1          [Data Structure, Programming, Algorithms]         NaN   \n",
              "\n",
              "             Minor  \n",
              "0              NaN  \n",
              "1  ComputerScience  "
            ],
            "text/html": [
              "\n",
              "  <div id=\"df-aece6082-8c04-46a5-a6d1-37b0254d09c4\" class=\"colab-df-container\">\n",
              "    <div>\n",
              "<style scoped>\n",
              "    .dataframe tbody tr th:only-of-type {\n",
              "        vertical-align: middle;\n",
              "    }\n",
              "\n",
              "    .dataframe tbody tr th {\n",
              "        vertical-align: top;\n",
              "    }\n",
              "\n",
              "    .dataframe thead th {\n",
              "        text-align: right;\n",
              "    }\n",
              "</style>\n",
              "<table border=\"1\" class=\"dataframe\">\n",
              "  <thead>\n",
              "    <tr style=\"text-align: right;\">\n",
              "      <th></th>\n",
              "      <th>Classes</th>\n",
              "      <th>Major</th>\n",
              "      <th>Minor</th>\n",
              "    </tr>\n",
              "  </thead>\n",
              "  <tbody>\n",
              "    <tr>\n",
              "      <th>0</th>\n",
              "      <td>[Probability, Generalized Linear Model, Catego...</td>\n",
              "      <td>Statistics</td>\n",
              "      <td>NaN</td>\n",
              "    </tr>\n",
              "    <tr>\n",
              "      <th>1</th>\n",
              "      <td>[Data Structure, Programming, Algorithms]</td>\n",
              "      <td>NaN</td>\n",
              "      <td>ComputerScience</td>\n",
              "    </tr>\n",
              "  </tbody>\n",
              "</table>\n",
              "</div>\n",
              "    <div class=\"colab-df-buttons\">\n",
              "\n",
              "  <div class=\"colab-df-container\">\n",
              "    <button class=\"colab-df-convert\" onclick=\"convertToInteractive('df-aece6082-8c04-46a5-a6d1-37b0254d09c4')\"\n",
              "            title=\"Convert this dataframe to an interactive table.\"\n",
              "            style=\"display:none;\">\n",
              "\n",
              "  <svg xmlns=\"http://www.w3.org/2000/svg\" height=\"24px\" viewBox=\"0 -960 960 960\">\n",
              "    <path d=\"M120-120v-720h720v720H120Zm60-500h600v-160H180v160Zm220 220h160v-160H400v160Zm0 220h160v-160H400v160ZM180-400h160v-160H180v160Zm440 0h160v-160H620v160ZM180-180h160v-160H180v160Zm440 0h160v-160H620v160Z\"/>\n",
              "  </svg>\n",
              "    </button>\n",
              "\n",
              "  <style>\n",
              "    .colab-df-container {\n",
              "      display:flex;\n",
              "      gap: 12px;\n",
              "    }\n",
              "\n",
              "    .colab-df-convert {\n",
              "      background-color: #E8F0FE;\n",
              "      border: none;\n",
              "      border-radius: 50%;\n",
              "      cursor: pointer;\n",
              "      display: none;\n",
              "      fill: #1967D2;\n",
              "      height: 32px;\n",
              "      padding: 0 0 0 0;\n",
              "      width: 32px;\n",
              "    }\n",
              "\n",
              "    .colab-df-convert:hover {\n",
              "      background-color: #E2EBFA;\n",
              "      box-shadow: 0px 1px 2px rgba(60, 64, 67, 0.3), 0px 1px 3px 1px rgba(60, 64, 67, 0.15);\n",
              "      fill: #174EA6;\n",
              "    }\n",
              "\n",
              "    .colab-df-buttons div {\n",
              "      margin-bottom: 4px;\n",
              "    }\n",
              "\n",
              "    [theme=dark] .colab-df-convert {\n",
              "      background-color: #3B4455;\n",
              "      fill: #D2E3FC;\n",
              "    }\n",
              "\n",
              "    [theme=dark] .colab-df-convert:hover {\n",
              "      background-color: #434B5C;\n",
              "      box-shadow: 0px 1px 3px 1px rgba(0, 0, 0, 0.15);\n",
              "      filter: drop-shadow(0px 1px 2px rgba(0, 0, 0, 0.3));\n",
              "      fill: #FFFFFF;\n",
              "    }\n",
              "  </style>\n",
              "\n",
              "    <script>\n",
              "      const buttonEl =\n",
              "        document.querySelector('#df-aece6082-8c04-46a5-a6d1-37b0254d09c4 button.colab-df-convert');\n",
              "      buttonEl.style.display =\n",
              "        google.colab.kernel.accessAllowed ? 'block' : 'none';\n",
              "\n",
              "      async function convertToInteractive(key) {\n",
              "        const element = document.querySelector('#df-aece6082-8c04-46a5-a6d1-37b0254d09c4');\n",
              "        const dataTable =\n",
              "          await google.colab.kernel.invokeFunction('convertToInteractive',\n",
              "                                                    [key], {});\n",
              "        if (!dataTable) return;\n",
              "\n",
              "        const docLinkHtml = 'Like what you see? Visit the ' +\n",
              "          '<a target=\"_blank\" href=https://colab.research.google.com/notebooks/data_table.ipynb>data table notebook</a>'\n",
              "          + ' to learn more about interactive tables.';\n",
              "        element.innerHTML = '';\n",
              "        dataTable['output_type'] = 'display_data';\n",
              "        await google.colab.output.renderOutput(dataTable, element);\n",
              "        const docLink = document.createElement('div');\n",
              "        docLink.innerHTML = docLinkHtml;\n",
              "        element.appendChild(docLink);\n",
              "      }\n",
              "    </script>\n",
              "  </div>\n",
              "\n",
              "\n",
              "<div id=\"df-eabd6482-6950-4d7d-9e3f-02a0a8c21bef\">\n",
              "  <button class=\"colab-df-quickchart\" onclick=\"quickchart('df-eabd6482-6950-4d7d-9e3f-02a0a8c21bef')\"\n",
              "            title=\"Suggest charts\"\n",
              "            style=\"display:none;\">\n",
              "\n",
              "<svg xmlns=\"http://www.w3.org/2000/svg\" height=\"24px\"viewBox=\"0 0 24 24\"\n",
              "     width=\"24px\">\n",
              "    <g>\n",
              "        <path d=\"M19 3H5c-1.1 0-2 .9-2 2v14c0 1.1.9 2 2 2h14c1.1 0 2-.9 2-2V5c0-1.1-.9-2-2-2zM9 17H7v-7h2v7zm4 0h-2V7h2v10zm4 0h-2v-4h2v4z\"/>\n",
              "    </g>\n",
              "</svg>\n",
              "  </button>\n",
              "\n",
              "<style>\n",
              "  .colab-df-quickchart {\n",
              "      --bg-color: #E8F0FE;\n",
              "      --fill-color: #1967D2;\n",
              "      --hover-bg-color: #E2EBFA;\n",
              "      --hover-fill-color: #174EA6;\n",
              "      --disabled-fill-color: #AAA;\n",
              "      --disabled-bg-color: #DDD;\n",
              "  }\n",
              "\n",
              "  [theme=dark] .colab-df-quickchart {\n",
              "      --bg-color: #3B4455;\n",
              "      --fill-color: #D2E3FC;\n",
              "      --hover-bg-color: #434B5C;\n",
              "      --hover-fill-color: #FFFFFF;\n",
              "      --disabled-bg-color: #3B4455;\n",
              "      --disabled-fill-color: #666;\n",
              "  }\n",
              "\n",
              "  .colab-df-quickchart {\n",
              "    background-color: var(--bg-color);\n",
              "    border: none;\n",
              "    border-radius: 50%;\n",
              "    cursor: pointer;\n",
              "    display: none;\n",
              "    fill: var(--fill-color);\n",
              "    height: 32px;\n",
              "    padding: 0;\n",
              "    width: 32px;\n",
              "  }\n",
              "\n",
              "  .colab-df-quickchart:hover {\n",
              "    background-color: var(--hover-bg-color);\n",
              "    box-shadow: 0 1px 2px rgba(60, 64, 67, 0.3), 0 1px 3px 1px rgba(60, 64, 67, 0.15);\n",
              "    fill: var(--button-hover-fill-color);\n",
              "  }\n",
              "\n",
              "  .colab-df-quickchart-complete:disabled,\n",
              "  .colab-df-quickchart-complete:disabled:hover {\n",
              "    background-color: var(--disabled-bg-color);\n",
              "    fill: var(--disabled-fill-color);\n",
              "    box-shadow: none;\n",
              "  }\n",
              "\n",
              "  .colab-df-spinner {\n",
              "    border: 2px solid var(--fill-color);\n",
              "    border-color: transparent;\n",
              "    border-bottom-color: var(--fill-color);\n",
              "    animation:\n",
              "      spin 1s steps(1) infinite;\n",
              "  }\n",
              "\n",
              "  @keyframes spin {\n",
              "    0% {\n",
              "      border-color: transparent;\n",
              "      border-bottom-color: var(--fill-color);\n",
              "      border-left-color: var(--fill-color);\n",
              "    }\n",
              "    20% {\n",
              "      border-color: transparent;\n",
              "      border-left-color: var(--fill-color);\n",
              "      border-top-color: var(--fill-color);\n",
              "    }\n",
              "    30% {\n",
              "      border-color: transparent;\n",
              "      border-left-color: var(--fill-color);\n",
              "      border-top-color: var(--fill-color);\n",
              "      border-right-color: var(--fill-color);\n",
              "    }\n",
              "    40% {\n",
              "      border-color: transparent;\n",
              "      border-right-color: var(--fill-color);\n",
              "      border-top-color: var(--fill-color);\n",
              "    }\n",
              "    60% {\n",
              "      border-color: transparent;\n",
              "      border-right-color: var(--fill-color);\n",
              "    }\n",
              "    80% {\n",
              "      border-color: transparent;\n",
              "      border-right-color: var(--fill-color);\n",
              "      border-bottom-color: var(--fill-color);\n",
              "    }\n",
              "    90% {\n",
              "      border-color: transparent;\n",
              "      border-bottom-color: var(--fill-color);\n",
              "    }\n",
              "  }\n",
              "</style>\n",
              "\n",
              "  <script>\n",
              "    async function quickchart(key) {\n",
              "      const quickchartButtonEl =\n",
              "        document.querySelector('#' + key + ' button');\n",
              "      quickchartButtonEl.disabled = true;  // To prevent multiple clicks.\n",
              "      quickchartButtonEl.classList.add('colab-df-spinner');\n",
              "      try {\n",
              "        const charts = await google.colab.kernel.invokeFunction(\n",
              "            'suggestCharts', [key], {});\n",
              "      } catch (error) {\n",
              "        console.error('Error during call to suggestCharts:', error);\n",
              "      }\n",
              "      quickchartButtonEl.classList.remove('colab-df-spinner');\n",
              "      quickchartButtonEl.classList.add('colab-df-quickchart-complete');\n",
              "    }\n",
              "    (() => {\n",
              "      let quickchartButtonEl =\n",
              "        document.querySelector('#df-eabd6482-6950-4d7d-9e3f-02a0a8c21bef button');\n",
              "      quickchartButtonEl.style.display =\n",
              "        google.colab.kernel.accessAllowed ? 'block' : 'none';\n",
              "    })();\n",
              "  </script>\n",
              "</div>\n",
              "\n",
              "    </div>\n",
              "  </div>\n"
            ],
            "application/vnd.google.colaboratory.intrinsic+json": {
              "type": "dataframe",
              "summary": "{\n  \"name\": \"pd\",\n  \"rows\": 2,\n  \"fields\": [\n    {\n      \"column\": \"Classes\",\n      \"properties\": {\n        \"dtype\": \"object\",\n        \"semantic_type\": \"\",\n        \"description\": \"\"\n      }\n    },\n    {\n      \"column\": \"Major\",\n      \"properties\": {\n        \"dtype\": \"string\",\n        \"num_unique_values\": 1,\n        \"samples\": [\n          \"Statistics\"\n        ],\n        \"semantic_type\": \"\",\n        \"description\": \"\"\n      }\n    },\n    {\n      \"column\": \"Minor\",\n      \"properties\": {\n        \"dtype\": \"string\",\n        \"num_unique_values\": 1,\n        \"samples\": [\n          \"ComputerScience\"\n        ],\n        \"semantic_type\": \"\",\n        \"description\": \"\"\n      }\n    }\n  ]\n}"
            }
          },
          "metadata": {},
          "execution_count": 12
        }
      ],
      "source": [
        "pd.json_normalize(py_data, \"5.Courses\")"
      ]
    },
    {
      "cell_type": "code",
      "execution_count": 13,
      "metadata": {
        "colab": {
          "base_uri": "https://localhost:8080/",
          "height": 112
        },
        "id": "sRF63GHdNcKx",
        "outputId": "5515dd7a-5ca0-47d1-cd1f-b7cbacf5db16"
      },
      "outputs": [
        {
          "output_type": "execute_result",
          "data": {
            "text/plain": [
              "                                             Classes       Major  \\\n",
              "0  [Probability, Generalized Linear Model, Catego...  Statistics   \n",
              "1          [Data Structure, Programming, Algorithms]         NaN   \n",
              "\n",
              "             Minor 3.Age  \n",
              "0              NaN    20  \n",
              "1  ComputerScience    20  "
            ],
            "text/html": [
              "\n",
              "  <div id=\"df-c9bf3a72-2aec-4268-816b-11310b8dcf1c\" class=\"colab-df-container\">\n",
              "    <div>\n",
              "<style scoped>\n",
              "    .dataframe tbody tr th:only-of-type {\n",
              "        vertical-align: middle;\n",
              "    }\n",
              "\n",
              "    .dataframe tbody tr th {\n",
              "        vertical-align: top;\n",
              "    }\n",
              "\n",
              "    .dataframe thead th {\n",
              "        text-align: right;\n",
              "    }\n",
              "</style>\n",
              "<table border=\"1\" class=\"dataframe\">\n",
              "  <thead>\n",
              "    <tr style=\"text-align: right;\">\n",
              "      <th></th>\n",
              "      <th>Classes</th>\n",
              "      <th>Major</th>\n",
              "      <th>Minor</th>\n",
              "      <th>3.Age</th>\n",
              "    </tr>\n",
              "  </thead>\n",
              "  <tbody>\n",
              "    <tr>\n",
              "      <th>0</th>\n",
              "      <td>[Probability, Generalized Linear Model, Catego...</td>\n",
              "      <td>Statistics</td>\n",
              "      <td>NaN</td>\n",
              "      <td>20</td>\n",
              "    </tr>\n",
              "    <tr>\n",
              "      <th>1</th>\n",
              "      <td>[Data Structure, Programming, Algorithms]</td>\n",
              "      <td>NaN</td>\n",
              "      <td>ComputerScience</td>\n",
              "      <td>20</td>\n",
              "    </tr>\n",
              "  </tbody>\n",
              "</table>\n",
              "</div>\n",
              "    <div class=\"colab-df-buttons\">\n",
              "\n",
              "  <div class=\"colab-df-container\">\n",
              "    <button class=\"colab-df-convert\" onclick=\"convertToInteractive('df-c9bf3a72-2aec-4268-816b-11310b8dcf1c')\"\n",
              "            title=\"Convert this dataframe to an interactive table.\"\n",
              "            style=\"display:none;\">\n",
              "\n",
              "  <svg xmlns=\"http://www.w3.org/2000/svg\" height=\"24px\" viewBox=\"0 -960 960 960\">\n",
              "    <path d=\"M120-120v-720h720v720H120Zm60-500h600v-160H180v160Zm220 220h160v-160H400v160Zm0 220h160v-160H400v160ZM180-400h160v-160H180v160Zm440 0h160v-160H620v160ZM180-180h160v-160H180v160Zm440 0h160v-160H620v160Z\"/>\n",
              "  </svg>\n",
              "    </button>\n",
              "\n",
              "  <style>\n",
              "    .colab-df-container {\n",
              "      display:flex;\n",
              "      gap: 12px;\n",
              "    }\n",
              "\n",
              "    .colab-df-convert {\n",
              "      background-color: #E8F0FE;\n",
              "      border: none;\n",
              "      border-radius: 50%;\n",
              "      cursor: pointer;\n",
              "      display: none;\n",
              "      fill: #1967D2;\n",
              "      height: 32px;\n",
              "      padding: 0 0 0 0;\n",
              "      width: 32px;\n",
              "    }\n",
              "\n",
              "    .colab-df-convert:hover {\n",
              "      background-color: #E2EBFA;\n",
              "      box-shadow: 0px 1px 2px rgba(60, 64, 67, 0.3), 0px 1px 3px 1px rgba(60, 64, 67, 0.15);\n",
              "      fill: #174EA6;\n",
              "    }\n",
              "\n",
              "    .colab-df-buttons div {\n",
              "      margin-bottom: 4px;\n",
              "    }\n",
              "\n",
              "    [theme=dark] .colab-df-convert {\n",
              "      background-color: #3B4455;\n",
              "      fill: #D2E3FC;\n",
              "    }\n",
              "\n",
              "    [theme=dark] .colab-df-convert:hover {\n",
              "      background-color: #434B5C;\n",
              "      box-shadow: 0px 1px 3px 1px rgba(0, 0, 0, 0.15);\n",
              "      filter: drop-shadow(0px 1px 2px rgba(0, 0, 0, 0.3));\n",
              "      fill: #FFFFFF;\n",
              "    }\n",
              "  </style>\n",
              "\n",
              "    <script>\n",
              "      const buttonEl =\n",
              "        document.querySelector('#df-c9bf3a72-2aec-4268-816b-11310b8dcf1c button.colab-df-convert');\n",
              "      buttonEl.style.display =\n",
              "        google.colab.kernel.accessAllowed ? 'block' : 'none';\n",
              "\n",
              "      async function convertToInteractive(key) {\n",
              "        const element = document.querySelector('#df-c9bf3a72-2aec-4268-816b-11310b8dcf1c');\n",
              "        const dataTable =\n",
              "          await google.colab.kernel.invokeFunction('convertToInteractive',\n",
              "                                                    [key], {});\n",
              "        if (!dataTable) return;\n",
              "\n",
              "        const docLinkHtml = 'Like what you see? Visit the ' +\n",
              "          '<a target=\"_blank\" href=https://colab.research.google.com/notebooks/data_table.ipynb>data table notebook</a>'\n",
              "          + ' to learn more about interactive tables.';\n",
              "        element.innerHTML = '';\n",
              "        dataTable['output_type'] = 'display_data';\n",
              "        await google.colab.output.renderOutput(dataTable, element);\n",
              "        const docLink = document.createElement('div');\n",
              "        docLink.innerHTML = docLinkHtml;\n",
              "        element.appendChild(docLink);\n",
              "      }\n",
              "    </script>\n",
              "  </div>\n",
              "\n",
              "\n",
              "<div id=\"df-8bab468c-b384-430c-9fe6-964ebab240d0\">\n",
              "  <button class=\"colab-df-quickchart\" onclick=\"quickchart('df-8bab468c-b384-430c-9fe6-964ebab240d0')\"\n",
              "            title=\"Suggest charts\"\n",
              "            style=\"display:none;\">\n",
              "\n",
              "<svg xmlns=\"http://www.w3.org/2000/svg\" height=\"24px\"viewBox=\"0 0 24 24\"\n",
              "     width=\"24px\">\n",
              "    <g>\n",
              "        <path d=\"M19 3H5c-1.1 0-2 .9-2 2v14c0 1.1.9 2 2 2h14c1.1 0 2-.9 2-2V5c0-1.1-.9-2-2-2zM9 17H7v-7h2v7zm4 0h-2V7h2v10zm4 0h-2v-4h2v4z\"/>\n",
              "    </g>\n",
              "</svg>\n",
              "  </button>\n",
              "\n",
              "<style>\n",
              "  .colab-df-quickchart {\n",
              "      --bg-color: #E8F0FE;\n",
              "      --fill-color: #1967D2;\n",
              "      --hover-bg-color: #E2EBFA;\n",
              "      --hover-fill-color: #174EA6;\n",
              "      --disabled-fill-color: #AAA;\n",
              "      --disabled-bg-color: #DDD;\n",
              "  }\n",
              "\n",
              "  [theme=dark] .colab-df-quickchart {\n",
              "      --bg-color: #3B4455;\n",
              "      --fill-color: #D2E3FC;\n",
              "      --hover-bg-color: #434B5C;\n",
              "      --hover-fill-color: #FFFFFF;\n",
              "      --disabled-bg-color: #3B4455;\n",
              "      --disabled-fill-color: #666;\n",
              "  }\n",
              "\n",
              "  .colab-df-quickchart {\n",
              "    background-color: var(--bg-color);\n",
              "    border: none;\n",
              "    border-radius: 50%;\n",
              "    cursor: pointer;\n",
              "    display: none;\n",
              "    fill: var(--fill-color);\n",
              "    height: 32px;\n",
              "    padding: 0;\n",
              "    width: 32px;\n",
              "  }\n",
              "\n",
              "  .colab-df-quickchart:hover {\n",
              "    background-color: var(--hover-bg-color);\n",
              "    box-shadow: 0 1px 2px rgba(60, 64, 67, 0.3), 0 1px 3px 1px rgba(60, 64, 67, 0.15);\n",
              "    fill: var(--button-hover-fill-color);\n",
              "  }\n",
              "\n",
              "  .colab-df-quickchart-complete:disabled,\n",
              "  .colab-df-quickchart-complete:disabled:hover {\n",
              "    background-color: var(--disabled-bg-color);\n",
              "    fill: var(--disabled-fill-color);\n",
              "    box-shadow: none;\n",
              "  }\n",
              "\n",
              "  .colab-df-spinner {\n",
              "    border: 2px solid var(--fill-color);\n",
              "    border-color: transparent;\n",
              "    border-bottom-color: var(--fill-color);\n",
              "    animation:\n",
              "      spin 1s steps(1) infinite;\n",
              "  }\n",
              "\n",
              "  @keyframes spin {\n",
              "    0% {\n",
              "      border-color: transparent;\n",
              "      border-bottom-color: var(--fill-color);\n",
              "      border-left-color: var(--fill-color);\n",
              "    }\n",
              "    20% {\n",
              "      border-color: transparent;\n",
              "      border-left-color: var(--fill-color);\n",
              "      border-top-color: var(--fill-color);\n",
              "    }\n",
              "    30% {\n",
              "      border-color: transparent;\n",
              "      border-left-color: var(--fill-color);\n",
              "      border-top-color: var(--fill-color);\n",
              "      border-right-color: var(--fill-color);\n",
              "    }\n",
              "    40% {\n",
              "      border-color: transparent;\n",
              "      border-right-color: var(--fill-color);\n",
              "      border-top-color: var(--fill-color);\n",
              "    }\n",
              "    60% {\n",
              "      border-color: transparent;\n",
              "      border-right-color: var(--fill-color);\n",
              "    }\n",
              "    80% {\n",
              "      border-color: transparent;\n",
              "      border-right-color: var(--fill-color);\n",
              "      border-bottom-color: var(--fill-color);\n",
              "    }\n",
              "    90% {\n",
              "      border-color: transparent;\n",
              "      border-bottom-color: var(--fill-color);\n",
              "    }\n",
              "  }\n",
              "</style>\n",
              "\n",
              "  <script>\n",
              "    async function quickchart(key) {\n",
              "      const quickchartButtonEl =\n",
              "        document.querySelector('#' + key + ' button');\n",
              "      quickchartButtonEl.disabled = true;  // To prevent multiple clicks.\n",
              "      quickchartButtonEl.classList.add('colab-df-spinner');\n",
              "      try {\n",
              "        const charts = await google.colab.kernel.invokeFunction(\n",
              "            'suggestCharts', [key], {});\n",
              "      } catch (error) {\n",
              "        console.error('Error during call to suggestCharts:', error);\n",
              "      }\n",
              "      quickchartButtonEl.classList.remove('colab-df-spinner');\n",
              "      quickchartButtonEl.classList.add('colab-df-quickchart-complete');\n",
              "    }\n",
              "    (() => {\n",
              "      let quickchartButtonEl =\n",
              "        document.querySelector('#df-8bab468c-b384-430c-9fe6-964ebab240d0 button');\n",
              "      quickchartButtonEl.style.display =\n",
              "        google.colab.kernel.accessAllowed ? 'block' : 'none';\n",
              "    })();\n",
              "  </script>\n",
              "</div>\n",
              "\n",
              "    </div>\n",
              "  </div>\n"
            ],
            "application/vnd.google.colaboratory.intrinsic+json": {
              "type": "dataframe",
              "summary": "{\n  \"name\": \"pd\",\n  \"rows\": 2,\n  \"fields\": [\n    {\n      \"column\": \"Classes\",\n      \"properties\": {\n        \"dtype\": \"object\",\n        \"semantic_type\": \"\",\n        \"description\": \"\"\n      }\n    },\n    {\n      \"column\": \"Major\",\n      \"properties\": {\n        \"dtype\": \"string\",\n        \"num_unique_values\": 1,\n        \"samples\": [\n          \"Statistics\"\n        ],\n        \"semantic_type\": \"\",\n        \"description\": \"\"\n      }\n    },\n    {\n      \"column\": \"Minor\",\n      \"properties\": {\n        \"dtype\": \"string\",\n        \"num_unique_values\": 1,\n        \"samples\": [\n          \"ComputerScience\"\n        ],\n        \"semantic_type\": \"\",\n        \"description\": \"\"\n      }\n    },\n    {\n      \"column\": \"3.Age\",\n      \"properties\": {\n        \"dtype\": \"date\",\n        \"min\": 20,\n        \"max\": 20,\n        \"num_unique_values\": 1,\n        \"samples\": [\n          20\n        ],\n        \"semantic_type\": \"\",\n        \"description\": \"\"\n      }\n    }\n  ]\n}"
            }
          },
          "metadata": {},
          "execution_count": 13
        }
      ],
      "source": [
        "pd.json_normalize(py_data, \"5.Courses\", ['3.Age'])"
      ]
    },
    {
      "cell_type": "markdown",
      "metadata": {
        "id": "-_EbwtxkDIBT"
      },
      "source": [
        "# json_normalize (data, record_path, meta, ...)\n",
        "- data: dict or list of dict\n",
        "- record_path : decode 해줘야할 열 지정 [{}, {}, {} ....]\n",
        "- meta : decode 하는 열과 동일 차원에 존재하는 열들 중 데이터 프레임에 포함시킬 열 선택"
      ]
    },
    {
      "cell_type": "code",
      "execution_count": 14,
      "metadata": {
        "id": "67mNVQ8DglQM"
      },
      "outputs": [],
      "source": [
        "# JSON exercise3\n",
        "# from https://pandas.pydata.org/pandas-docs/stable/reference/api/\\\n",
        "#              pandas.io.json.json_normalize.html\n",
        "data = [{'state': 'Florida',\n",
        "         'shortname': 'FL',\n",
        "         'info': {'governor': 'Rick Scott'},\n",
        "         'counties': [{'name': 'Dade', 'population': 12345},\n",
        "                      {'name': 'Broward', 'population': 40000},\n",
        "                      {'name': 'Palm Beach', 'population': 60000}]},\n",
        "        {'state': 'Ohio',\n",
        "         'shortname': 'OH',\n",
        "         'info': {'governor': 'John Kasich'},\n",
        "         'counties': [{'name': 'Summit', 'population': 1234},\n",
        "                      {'name': 'Cuyahoga', 'population': 1337}]}]"
      ]
    },
    {
      "cell_type": "code",
      "execution_count": null,
      "metadata": {
        "colab": {
          "base_uri": "https://localhost:8080/"
        },
        "id": "g3JEFxt6g3Xt",
        "outputId": "19f8b058-6d22-4b8e-c175-28197b206a36"
      },
      "outputs": [
        {
          "data": {
            "text/plain": [
              "(list, 2)"
            ]
          },
          "execution_count": 29,
          "metadata": {},
          "output_type": "execute_result"
        }
      ],
      "source": [
        "type(data), len(data)"
      ]
    },
    {
      "cell_type": "code",
      "execution_count": 15,
      "metadata": {
        "colab": {
          "base_uri": "https://localhost:8080/",
          "height": 112
        },
        "id": "jIe0oFnLhGOL",
        "outputId": "1fef5a46-e5fe-4664-b469-d8f2e05c51d7"
      },
      "outputs": [
        {
          "output_type": "execute_result",
          "data": {
            "text/plain": [
              "     state shortname                                           counties  \\\n",
              "0  Florida        FL  [{'name': 'Dade', 'population': 12345}, {'name...   \n",
              "1     Ohio        OH  [{'name': 'Summit', 'population': 1234}, {'nam...   \n",
              "\n",
              "  info.governor  \n",
              "0    Rick Scott  \n",
              "1   John Kasich  "
            ],
            "text/html": [
              "\n",
              "  <div id=\"df-8219e527-4f96-4290-9cc9-4a5722943b92\" class=\"colab-df-container\">\n",
              "    <div>\n",
              "<style scoped>\n",
              "    .dataframe tbody tr th:only-of-type {\n",
              "        vertical-align: middle;\n",
              "    }\n",
              "\n",
              "    .dataframe tbody tr th {\n",
              "        vertical-align: top;\n",
              "    }\n",
              "\n",
              "    .dataframe thead th {\n",
              "        text-align: right;\n",
              "    }\n",
              "</style>\n",
              "<table border=\"1\" class=\"dataframe\">\n",
              "  <thead>\n",
              "    <tr style=\"text-align: right;\">\n",
              "      <th></th>\n",
              "      <th>state</th>\n",
              "      <th>shortname</th>\n",
              "      <th>counties</th>\n",
              "      <th>info.governor</th>\n",
              "    </tr>\n",
              "  </thead>\n",
              "  <tbody>\n",
              "    <tr>\n",
              "      <th>0</th>\n",
              "      <td>Florida</td>\n",
              "      <td>FL</td>\n",
              "      <td>[{'name': 'Dade', 'population': 12345}, {'name...</td>\n",
              "      <td>Rick Scott</td>\n",
              "    </tr>\n",
              "    <tr>\n",
              "      <th>1</th>\n",
              "      <td>Ohio</td>\n",
              "      <td>OH</td>\n",
              "      <td>[{'name': 'Summit', 'population': 1234}, {'nam...</td>\n",
              "      <td>John Kasich</td>\n",
              "    </tr>\n",
              "  </tbody>\n",
              "</table>\n",
              "</div>\n",
              "    <div class=\"colab-df-buttons\">\n",
              "\n",
              "  <div class=\"colab-df-container\">\n",
              "    <button class=\"colab-df-convert\" onclick=\"convertToInteractive('df-8219e527-4f96-4290-9cc9-4a5722943b92')\"\n",
              "            title=\"Convert this dataframe to an interactive table.\"\n",
              "            style=\"display:none;\">\n",
              "\n",
              "  <svg xmlns=\"http://www.w3.org/2000/svg\" height=\"24px\" viewBox=\"0 -960 960 960\">\n",
              "    <path d=\"M120-120v-720h720v720H120Zm60-500h600v-160H180v160Zm220 220h160v-160H400v160Zm0 220h160v-160H400v160ZM180-400h160v-160H180v160Zm440 0h160v-160H620v160ZM180-180h160v-160H180v160Zm440 0h160v-160H620v160Z\"/>\n",
              "  </svg>\n",
              "    </button>\n",
              "\n",
              "  <style>\n",
              "    .colab-df-container {\n",
              "      display:flex;\n",
              "      gap: 12px;\n",
              "    }\n",
              "\n",
              "    .colab-df-convert {\n",
              "      background-color: #E8F0FE;\n",
              "      border: none;\n",
              "      border-radius: 50%;\n",
              "      cursor: pointer;\n",
              "      display: none;\n",
              "      fill: #1967D2;\n",
              "      height: 32px;\n",
              "      padding: 0 0 0 0;\n",
              "      width: 32px;\n",
              "    }\n",
              "\n",
              "    .colab-df-convert:hover {\n",
              "      background-color: #E2EBFA;\n",
              "      box-shadow: 0px 1px 2px rgba(60, 64, 67, 0.3), 0px 1px 3px 1px rgba(60, 64, 67, 0.15);\n",
              "      fill: #174EA6;\n",
              "    }\n",
              "\n",
              "    .colab-df-buttons div {\n",
              "      margin-bottom: 4px;\n",
              "    }\n",
              "\n",
              "    [theme=dark] .colab-df-convert {\n",
              "      background-color: #3B4455;\n",
              "      fill: #D2E3FC;\n",
              "    }\n",
              "\n",
              "    [theme=dark] .colab-df-convert:hover {\n",
              "      background-color: #434B5C;\n",
              "      box-shadow: 0px 1px 3px 1px rgba(0, 0, 0, 0.15);\n",
              "      filter: drop-shadow(0px 1px 2px rgba(0, 0, 0, 0.3));\n",
              "      fill: #FFFFFF;\n",
              "    }\n",
              "  </style>\n",
              "\n",
              "    <script>\n",
              "      const buttonEl =\n",
              "        document.querySelector('#df-8219e527-4f96-4290-9cc9-4a5722943b92 button.colab-df-convert');\n",
              "      buttonEl.style.display =\n",
              "        google.colab.kernel.accessAllowed ? 'block' : 'none';\n",
              "\n",
              "      async function convertToInteractive(key) {\n",
              "        const element = document.querySelector('#df-8219e527-4f96-4290-9cc9-4a5722943b92');\n",
              "        const dataTable =\n",
              "          await google.colab.kernel.invokeFunction('convertToInteractive',\n",
              "                                                    [key], {});\n",
              "        if (!dataTable) return;\n",
              "\n",
              "        const docLinkHtml = 'Like what you see? Visit the ' +\n",
              "          '<a target=\"_blank\" href=https://colab.research.google.com/notebooks/data_table.ipynb>data table notebook</a>'\n",
              "          + ' to learn more about interactive tables.';\n",
              "        element.innerHTML = '';\n",
              "        dataTable['output_type'] = 'display_data';\n",
              "        await google.colab.output.renderOutput(dataTable, element);\n",
              "        const docLink = document.createElement('div');\n",
              "        docLink.innerHTML = docLinkHtml;\n",
              "        element.appendChild(docLink);\n",
              "      }\n",
              "    </script>\n",
              "  </div>\n",
              "\n",
              "\n",
              "<div id=\"df-6a94f973-c981-46b6-bd66-c4facbf85bd8\">\n",
              "  <button class=\"colab-df-quickchart\" onclick=\"quickchart('df-6a94f973-c981-46b6-bd66-c4facbf85bd8')\"\n",
              "            title=\"Suggest charts\"\n",
              "            style=\"display:none;\">\n",
              "\n",
              "<svg xmlns=\"http://www.w3.org/2000/svg\" height=\"24px\"viewBox=\"0 0 24 24\"\n",
              "     width=\"24px\">\n",
              "    <g>\n",
              "        <path d=\"M19 3H5c-1.1 0-2 .9-2 2v14c0 1.1.9 2 2 2h14c1.1 0 2-.9 2-2V5c0-1.1-.9-2-2-2zM9 17H7v-7h2v7zm4 0h-2V7h2v10zm4 0h-2v-4h2v4z\"/>\n",
              "    </g>\n",
              "</svg>\n",
              "  </button>\n",
              "\n",
              "<style>\n",
              "  .colab-df-quickchart {\n",
              "      --bg-color: #E8F0FE;\n",
              "      --fill-color: #1967D2;\n",
              "      --hover-bg-color: #E2EBFA;\n",
              "      --hover-fill-color: #174EA6;\n",
              "      --disabled-fill-color: #AAA;\n",
              "      --disabled-bg-color: #DDD;\n",
              "  }\n",
              "\n",
              "  [theme=dark] .colab-df-quickchart {\n",
              "      --bg-color: #3B4455;\n",
              "      --fill-color: #D2E3FC;\n",
              "      --hover-bg-color: #434B5C;\n",
              "      --hover-fill-color: #FFFFFF;\n",
              "      --disabled-bg-color: #3B4455;\n",
              "      --disabled-fill-color: #666;\n",
              "  }\n",
              "\n",
              "  .colab-df-quickchart {\n",
              "    background-color: var(--bg-color);\n",
              "    border: none;\n",
              "    border-radius: 50%;\n",
              "    cursor: pointer;\n",
              "    display: none;\n",
              "    fill: var(--fill-color);\n",
              "    height: 32px;\n",
              "    padding: 0;\n",
              "    width: 32px;\n",
              "  }\n",
              "\n",
              "  .colab-df-quickchart:hover {\n",
              "    background-color: var(--hover-bg-color);\n",
              "    box-shadow: 0 1px 2px rgba(60, 64, 67, 0.3), 0 1px 3px 1px rgba(60, 64, 67, 0.15);\n",
              "    fill: var(--button-hover-fill-color);\n",
              "  }\n",
              "\n",
              "  .colab-df-quickchart-complete:disabled,\n",
              "  .colab-df-quickchart-complete:disabled:hover {\n",
              "    background-color: var(--disabled-bg-color);\n",
              "    fill: var(--disabled-fill-color);\n",
              "    box-shadow: none;\n",
              "  }\n",
              "\n",
              "  .colab-df-spinner {\n",
              "    border: 2px solid var(--fill-color);\n",
              "    border-color: transparent;\n",
              "    border-bottom-color: var(--fill-color);\n",
              "    animation:\n",
              "      spin 1s steps(1) infinite;\n",
              "  }\n",
              "\n",
              "  @keyframes spin {\n",
              "    0% {\n",
              "      border-color: transparent;\n",
              "      border-bottom-color: var(--fill-color);\n",
              "      border-left-color: var(--fill-color);\n",
              "    }\n",
              "    20% {\n",
              "      border-color: transparent;\n",
              "      border-left-color: var(--fill-color);\n",
              "      border-top-color: var(--fill-color);\n",
              "    }\n",
              "    30% {\n",
              "      border-color: transparent;\n",
              "      border-left-color: var(--fill-color);\n",
              "      border-top-color: var(--fill-color);\n",
              "      border-right-color: var(--fill-color);\n",
              "    }\n",
              "    40% {\n",
              "      border-color: transparent;\n",
              "      border-right-color: var(--fill-color);\n",
              "      border-top-color: var(--fill-color);\n",
              "    }\n",
              "    60% {\n",
              "      border-color: transparent;\n",
              "      border-right-color: var(--fill-color);\n",
              "    }\n",
              "    80% {\n",
              "      border-color: transparent;\n",
              "      border-right-color: var(--fill-color);\n",
              "      border-bottom-color: var(--fill-color);\n",
              "    }\n",
              "    90% {\n",
              "      border-color: transparent;\n",
              "      border-bottom-color: var(--fill-color);\n",
              "    }\n",
              "  }\n",
              "</style>\n",
              "\n",
              "  <script>\n",
              "    async function quickchart(key) {\n",
              "      const quickchartButtonEl =\n",
              "        document.querySelector('#' + key + ' button');\n",
              "      quickchartButtonEl.disabled = true;  // To prevent multiple clicks.\n",
              "      quickchartButtonEl.classList.add('colab-df-spinner');\n",
              "      try {\n",
              "        const charts = await google.colab.kernel.invokeFunction(\n",
              "            'suggestCharts', [key], {});\n",
              "      } catch (error) {\n",
              "        console.error('Error during call to suggestCharts:', error);\n",
              "      }\n",
              "      quickchartButtonEl.classList.remove('colab-df-spinner');\n",
              "      quickchartButtonEl.classList.add('colab-df-quickchart-complete');\n",
              "    }\n",
              "    (() => {\n",
              "      let quickchartButtonEl =\n",
              "        document.querySelector('#df-6a94f973-c981-46b6-bd66-c4facbf85bd8 button');\n",
              "      quickchartButtonEl.style.display =\n",
              "        google.colab.kernel.accessAllowed ? 'block' : 'none';\n",
              "    })();\n",
              "  </script>\n",
              "</div>\n",
              "\n",
              "    </div>\n",
              "  </div>\n"
            ],
            "application/vnd.google.colaboratory.intrinsic+json": {
              "type": "dataframe",
              "summary": "{\n  \"name\": \"pd\",\n  \"rows\": 2,\n  \"fields\": [\n    {\n      \"column\": \"state\",\n      \"properties\": {\n        \"dtype\": \"string\",\n        \"num_unique_values\": 2,\n        \"samples\": [\n          \"Ohio\",\n          \"Florida\"\n        ],\n        \"semantic_type\": \"\",\n        \"description\": \"\"\n      }\n    },\n    {\n      \"column\": \"shortname\",\n      \"properties\": {\n        \"dtype\": \"string\",\n        \"num_unique_values\": 2,\n        \"samples\": [\n          \"OH\",\n          \"FL\"\n        ],\n        \"semantic_type\": \"\",\n        \"description\": \"\"\n      }\n    },\n    {\n      \"column\": \"counties\",\n      \"properties\": {\n        \"dtype\": \"object\",\n        \"semantic_type\": \"\",\n        \"description\": \"\"\n      }\n    },\n    {\n      \"column\": \"info.governor\",\n      \"properties\": {\n        \"dtype\": \"string\",\n        \"num_unique_values\": 2,\n        \"samples\": [\n          \"John Kasich\",\n          \"Rick Scott\"\n        ],\n        \"semantic_type\": \"\",\n        \"description\": \"\"\n      }\n    }\n  ]\n}"
            }
          },
          "metadata": {},
          "execution_count": 15
        }
      ],
      "source": [
        "pd.json_normalize(data)"
      ]
    },
    {
      "cell_type": "code",
      "execution_count": 16,
      "metadata": {
        "colab": {
          "base_uri": "https://localhost:8080/",
          "height": 206
        },
        "id": "KXMHDs2IhRCU",
        "outputId": "06ed5b8e-3c3f-482f-9e86-f19ee805b2ce"
      },
      "outputs": [
        {
          "output_type": "execute_result",
          "data": {
            "text/plain": [
              "         name  population\n",
              "0        Dade       12345\n",
              "1     Broward       40000\n",
              "2  Palm Beach       60000\n",
              "3      Summit        1234\n",
              "4    Cuyahoga        1337"
            ],
            "text/html": [
              "\n",
              "  <div id=\"df-f7d7d00a-559b-4bb3-ae11-d20e89f49d04\" class=\"colab-df-container\">\n",
              "    <div>\n",
              "<style scoped>\n",
              "    .dataframe tbody tr th:only-of-type {\n",
              "        vertical-align: middle;\n",
              "    }\n",
              "\n",
              "    .dataframe tbody tr th {\n",
              "        vertical-align: top;\n",
              "    }\n",
              "\n",
              "    .dataframe thead th {\n",
              "        text-align: right;\n",
              "    }\n",
              "</style>\n",
              "<table border=\"1\" class=\"dataframe\">\n",
              "  <thead>\n",
              "    <tr style=\"text-align: right;\">\n",
              "      <th></th>\n",
              "      <th>name</th>\n",
              "      <th>population</th>\n",
              "    </tr>\n",
              "  </thead>\n",
              "  <tbody>\n",
              "    <tr>\n",
              "      <th>0</th>\n",
              "      <td>Dade</td>\n",
              "      <td>12345</td>\n",
              "    </tr>\n",
              "    <tr>\n",
              "      <th>1</th>\n",
              "      <td>Broward</td>\n",
              "      <td>40000</td>\n",
              "    </tr>\n",
              "    <tr>\n",
              "      <th>2</th>\n",
              "      <td>Palm Beach</td>\n",
              "      <td>60000</td>\n",
              "    </tr>\n",
              "    <tr>\n",
              "      <th>3</th>\n",
              "      <td>Summit</td>\n",
              "      <td>1234</td>\n",
              "    </tr>\n",
              "    <tr>\n",
              "      <th>4</th>\n",
              "      <td>Cuyahoga</td>\n",
              "      <td>1337</td>\n",
              "    </tr>\n",
              "  </tbody>\n",
              "</table>\n",
              "</div>\n",
              "    <div class=\"colab-df-buttons\">\n",
              "\n",
              "  <div class=\"colab-df-container\">\n",
              "    <button class=\"colab-df-convert\" onclick=\"convertToInteractive('df-f7d7d00a-559b-4bb3-ae11-d20e89f49d04')\"\n",
              "            title=\"Convert this dataframe to an interactive table.\"\n",
              "            style=\"display:none;\">\n",
              "\n",
              "  <svg xmlns=\"http://www.w3.org/2000/svg\" height=\"24px\" viewBox=\"0 -960 960 960\">\n",
              "    <path d=\"M120-120v-720h720v720H120Zm60-500h600v-160H180v160Zm220 220h160v-160H400v160Zm0 220h160v-160H400v160ZM180-400h160v-160H180v160Zm440 0h160v-160H620v160ZM180-180h160v-160H180v160Zm440 0h160v-160H620v160Z\"/>\n",
              "  </svg>\n",
              "    </button>\n",
              "\n",
              "  <style>\n",
              "    .colab-df-container {\n",
              "      display:flex;\n",
              "      gap: 12px;\n",
              "    }\n",
              "\n",
              "    .colab-df-convert {\n",
              "      background-color: #E8F0FE;\n",
              "      border: none;\n",
              "      border-radius: 50%;\n",
              "      cursor: pointer;\n",
              "      display: none;\n",
              "      fill: #1967D2;\n",
              "      height: 32px;\n",
              "      padding: 0 0 0 0;\n",
              "      width: 32px;\n",
              "    }\n",
              "\n",
              "    .colab-df-convert:hover {\n",
              "      background-color: #E2EBFA;\n",
              "      box-shadow: 0px 1px 2px rgba(60, 64, 67, 0.3), 0px 1px 3px 1px rgba(60, 64, 67, 0.15);\n",
              "      fill: #174EA6;\n",
              "    }\n",
              "\n",
              "    .colab-df-buttons div {\n",
              "      margin-bottom: 4px;\n",
              "    }\n",
              "\n",
              "    [theme=dark] .colab-df-convert {\n",
              "      background-color: #3B4455;\n",
              "      fill: #D2E3FC;\n",
              "    }\n",
              "\n",
              "    [theme=dark] .colab-df-convert:hover {\n",
              "      background-color: #434B5C;\n",
              "      box-shadow: 0px 1px 3px 1px rgba(0, 0, 0, 0.15);\n",
              "      filter: drop-shadow(0px 1px 2px rgba(0, 0, 0, 0.3));\n",
              "      fill: #FFFFFF;\n",
              "    }\n",
              "  </style>\n",
              "\n",
              "    <script>\n",
              "      const buttonEl =\n",
              "        document.querySelector('#df-f7d7d00a-559b-4bb3-ae11-d20e89f49d04 button.colab-df-convert');\n",
              "      buttonEl.style.display =\n",
              "        google.colab.kernel.accessAllowed ? 'block' : 'none';\n",
              "\n",
              "      async function convertToInteractive(key) {\n",
              "        const element = document.querySelector('#df-f7d7d00a-559b-4bb3-ae11-d20e89f49d04');\n",
              "        const dataTable =\n",
              "          await google.colab.kernel.invokeFunction('convertToInteractive',\n",
              "                                                    [key], {});\n",
              "        if (!dataTable) return;\n",
              "\n",
              "        const docLinkHtml = 'Like what you see? Visit the ' +\n",
              "          '<a target=\"_blank\" href=https://colab.research.google.com/notebooks/data_table.ipynb>data table notebook</a>'\n",
              "          + ' to learn more about interactive tables.';\n",
              "        element.innerHTML = '';\n",
              "        dataTable['output_type'] = 'display_data';\n",
              "        await google.colab.output.renderOutput(dataTable, element);\n",
              "        const docLink = document.createElement('div');\n",
              "        docLink.innerHTML = docLinkHtml;\n",
              "        element.appendChild(docLink);\n",
              "      }\n",
              "    </script>\n",
              "  </div>\n",
              "\n",
              "\n",
              "<div id=\"df-5ad338db-4373-4047-b73d-0c80bf9ab69a\">\n",
              "  <button class=\"colab-df-quickchart\" onclick=\"quickchart('df-5ad338db-4373-4047-b73d-0c80bf9ab69a')\"\n",
              "            title=\"Suggest charts\"\n",
              "            style=\"display:none;\">\n",
              "\n",
              "<svg xmlns=\"http://www.w3.org/2000/svg\" height=\"24px\"viewBox=\"0 0 24 24\"\n",
              "     width=\"24px\">\n",
              "    <g>\n",
              "        <path d=\"M19 3H5c-1.1 0-2 .9-2 2v14c0 1.1.9 2 2 2h14c1.1 0 2-.9 2-2V5c0-1.1-.9-2-2-2zM9 17H7v-7h2v7zm4 0h-2V7h2v10zm4 0h-2v-4h2v4z\"/>\n",
              "    </g>\n",
              "</svg>\n",
              "  </button>\n",
              "\n",
              "<style>\n",
              "  .colab-df-quickchart {\n",
              "      --bg-color: #E8F0FE;\n",
              "      --fill-color: #1967D2;\n",
              "      --hover-bg-color: #E2EBFA;\n",
              "      --hover-fill-color: #174EA6;\n",
              "      --disabled-fill-color: #AAA;\n",
              "      --disabled-bg-color: #DDD;\n",
              "  }\n",
              "\n",
              "  [theme=dark] .colab-df-quickchart {\n",
              "      --bg-color: #3B4455;\n",
              "      --fill-color: #D2E3FC;\n",
              "      --hover-bg-color: #434B5C;\n",
              "      --hover-fill-color: #FFFFFF;\n",
              "      --disabled-bg-color: #3B4455;\n",
              "      --disabled-fill-color: #666;\n",
              "  }\n",
              "\n",
              "  .colab-df-quickchart {\n",
              "    background-color: var(--bg-color);\n",
              "    border: none;\n",
              "    border-radius: 50%;\n",
              "    cursor: pointer;\n",
              "    display: none;\n",
              "    fill: var(--fill-color);\n",
              "    height: 32px;\n",
              "    padding: 0;\n",
              "    width: 32px;\n",
              "  }\n",
              "\n",
              "  .colab-df-quickchart:hover {\n",
              "    background-color: var(--hover-bg-color);\n",
              "    box-shadow: 0 1px 2px rgba(60, 64, 67, 0.3), 0 1px 3px 1px rgba(60, 64, 67, 0.15);\n",
              "    fill: var(--button-hover-fill-color);\n",
              "  }\n",
              "\n",
              "  .colab-df-quickchart-complete:disabled,\n",
              "  .colab-df-quickchart-complete:disabled:hover {\n",
              "    background-color: var(--disabled-bg-color);\n",
              "    fill: var(--disabled-fill-color);\n",
              "    box-shadow: none;\n",
              "  }\n",
              "\n",
              "  .colab-df-spinner {\n",
              "    border: 2px solid var(--fill-color);\n",
              "    border-color: transparent;\n",
              "    border-bottom-color: var(--fill-color);\n",
              "    animation:\n",
              "      spin 1s steps(1) infinite;\n",
              "  }\n",
              "\n",
              "  @keyframes spin {\n",
              "    0% {\n",
              "      border-color: transparent;\n",
              "      border-bottom-color: var(--fill-color);\n",
              "      border-left-color: var(--fill-color);\n",
              "    }\n",
              "    20% {\n",
              "      border-color: transparent;\n",
              "      border-left-color: var(--fill-color);\n",
              "      border-top-color: var(--fill-color);\n",
              "    }\n",
              "    30% {\n",
              "      border-color: transparent;\n",
              "      border-left-color: var(--fill-color);\n",
              "      border-top-color: var(--fill-color);\n",
              "      border-right-color: var(--fill-color);\n",
              "    }\n",
              "    40% {\n",
              "      border-color: transparent;\n",
              "      border-right-color: var(--fill-color);\n",
              "      border-top-color: var(--fill-color);\n",
              "    }\n",
              "    60% {\n",
              "      border-color: transparent;\n",
              "      border-right-color: var(--fill-color);\n",
              "    }\n",
              "    80% {\n",
              "      border-color: transparent;\n",
              "      border-right-color: var(--fill-color);\n",
              "      border-bottom-color: var(--fill-color);\n",
              "    }\n",
              "    90% {\n",
              "      border-color: transparent;\n",
              "      border-bottom-color: var(--fill-color);\n",
              "    }\n",
              "  }\n",
              "</style>\n",
              "\n",
              "  <script>\n",
              "    async function quickchart(key) {\n",
              "      const quickchartButtonEl =\n",
              "        document.querySelector('#' + key + ' button');\n",
              "      quickchartButtonEl.disabled = true;  // To prevent multiple clicks.\n",
              "      quickchartButtonEl.classList.add('colab-df-spinner');\n",
              "      try {\n",
              "        const charts = await google.colab.kernel.invokeFunction(\n",
              "            'suggestCharts', [key], {});\n",
              "      } catch (error) {\n",
              "        console.error('Error during call to suggestCharts:', error);\n",
              "      }\n",
              "      quickchartButtonEl.classList.remove('colab-df-spinner');\n",
              "      quickchartButtonEl.classList.add('colab-df-quickchart-complete');\n",
              "    }\n",
              "    (() => {\n",
              "      let quickchartButtonEl =\n",
              "        document.querySelector('#df-5ad338db-4373-4047-b73d-0c80bf9ab69a button');\n",
              "      quickchartButtonEl.style.display =\n",
              "        google.colab.kernel.accessAllowed ? 'block' : 'none';\n",
              "    })();\n",
              "  </script>\n",
              "</div>\n",
              "\n",
              "    </div>\n",
              "  </div>\n"
            ],
            "application/vnd.google.colaboratory.intrinsic+json": {
              "type": "dataframe",
              "summary": "{\n  \"name\": \"pd\",\n  \"rows\": 5,\n  \"fields\": [\n    {\n      \"column\": \"name\",\n      \"properties\": {\n        \"dtype\": \"string\",\n        \"num_unique_values\": 5,\n        \"samples\": [\n          \"Broward\",\n          \"Cuyahoga\",\n          \"Palm Beach\"\n        ],\n        \"semantic_type\": \"\",\n        \"description\": \"\"\n      }\n    },\n    {\n      \"column\": \"population\",\n      \"properties\": {\n        \"dtype\": \"number\",\n        \"std\": 26050,\n        \"min\": 1234,\n        \"max\": 60000,\n        \"num_unique_values\": 5,\n        \"samples\": [\n          40000,\n          1337,\n          60000\n        ],\n        \"semantic_type\": \"\",\n        \"description\": \"\"\n      }\n    }\n  ]\n}"
            }
          },
          "metadata": {},
          "execution_count": 16
        }
      ],
      "source": [
        "pd.json_normalize(data, 'counties')"
      ]
    },
    {
      "cell_type": "code",
      "execution_count": 17,
      "metadata": {
        "colab": {
          "base_uri": "https://localhost:8080/",
          "height": 206
        },
        "id": "FoFHbEpWhESk",
        "outputId": "db38a146-7453-4dad-e016-f6a59a802f6c"
      },
      "outputs": [
        {
          "output_type": "execute_result",
          "data": {
            "text/plain": [
              "         name  population    state shortname info.governor\n",
              "0        Dade       12345  Florida        FL    Rick Scott\n",
              "1     Broward       40000  Florida        FL    Rick Scott\n",
              "2  Palm Beach       60000  Florida        FL    Rick Scott\n",
              "3      Summit        1234     Ohio        OH   John Kasich\n",
              "4    Cuyahoga        1337     Ohio        OH   John Kasich"
            ],
            "text/html": [
              "\n",
              "  <div id=\"df-ad03e04c-64a0-414c-8858-9c104f80c64c\" class=\"colab-df-container\">\n",
              "    <div>\n",
              "<style scoped>\n",
              "    .dataframe tbody tr th:only-of-type {\n",
              "        vertical-align: middle;\n",
              "    }\n",
              "\n",
              "    .dataframe tbody tr th {\n",
              "        vertical-align: top;\n",
              "    }\n",
              "\n",
              "    .dataframe thead th {\n",
              "        text-align: right;\n",
              "    }\n",
              "</style>\n",
              "<table border=\"1\" class=\"dataframe\">\n",
              "  <thead>\n",
              "    <tr style=\"text-align: right;\">\n",
              "      <th></th>\n",
              "      <th>name</th>\n",
              "      <th>population</th>\n",
              "      <th>state</th>\n",
              "      <th>shortname</th>\n",
              "      <th>info.governor</th>\n",
              "    </tr>\n",
              "  </thead>\n",
              "  <tbody>\n",
              "    <tr>\n",
              "      <th>0</th>\n",
              "      <td>Dade</td>\n",
              "      <td>12345</td>\n",
              "      <td>Florida</td>\n",
              "      <td>FL</td>\n",
              "      <td>Rick Scott</td>\n",
              "    </tr>\n",
              "    <tr>\n",
              "      <th>1</th>\n",
              "      <td>Broward</td>\n",
              "      <td>40000</td>\n",
              "      <td>Florida</td>\n",
              "      <td>FL</td>\n",
              "      <td>Rick Scott</td>\n",
              "    </tr>\n",
              "    <tr>\n",
              "      <th>2</th>\n",
              "      <td>Palm Beach</td>\n",
              "      <td>60000</td>\n",
              "      <td>Florida</td>\n",
              "      <td>FL</td>\n",
              "      <td>Rick Scott</td>\n",
              "    </tr>\n",
              "    <tr>\n",
              "      <th>3</th>\n",
              "      <td>Summit</td>\n",
              "      <td>1234</td>\n",
              "      <td>Ohio</td>\n",
              "      <td>OH</td>\n",
              "      <td>John Kasich</td>\n",
              "    </tr>\n",
              "    <tr>\n",
              "      <th>4</th>\n",
              "      <td>Cuyahoga</td>\n",
              "      <td>1337</td>\n",
              "      <td>Ohio</td>\n",
              "      <td>OH</td>\n",
              "      <td>John Kasich</td>\n",
              "    </tr>\n",
              "  </tbody>\n",
              "</table>\n",
              "</div>\n",
              "    <div class=\"colab-df-buttons\">\n",
              "\n",
              "  <div class=\"colab-df-container\">\n",
              "    <button class=\"colab-df-convert\" onclick=\"convertToInteractive('df-ad03e04c-64a0-414c-8858-9c104f80c64c')\"\n",
              "            title=\"Convert this dataframe to an interactive table.\"\n",
              "            style=\"display:none;\">\n",
              "\n",
              "  <svg xmlns=\"http://www.w3.org/2000/svg\" height=\"24px\" viewBox=\"0 -960 960 960\">\n",
              "    <path d=\"M120-120v-720h720v720H120Zm60-500h600v-160H180v160Zm220 220h160v-160H400v160Zm0 220h160v-160H400v160ZM180-400h160v-160H180v160Zm440 0h160v-160H620v160ZM180-180h160v-160H180v160Zm440 0h160v-160H620v160Z\"/>\n",
              "  </svg>\n",
              "    </button>\n",
              "\n",
              "  <style>\n",
              "    .colab-df-container {\n",
              "      display:flex;\n",
              "      gap: 12px;\n",
              "    }\n",
              "\n",
              "    .colab-df-convert {\n",
              "      background-color: #E8F0FE;\n",
              "      border: none;\n",
              "      border-radius: 50%;\n",
              "      cursor: pointer;\n",
              "      display: none;\n",
              "      fill: #1967D2;\n",
              "      height: 32px;\n",
              "      padding: 0 0 0 0;\n",
              "      width: 32px;\n",
              "    }\n",
              "\n",
              "    .colab-df-convert:hover {\n",
              "      background-color: #E2EBFA;\n",
              "      box-shadow: 0px 1px 2px rgba(60, 64, 67, 0.3), 0px 1px 3px 1px rgba(60, 64, 67, 0.15);\n",
              "      fill: #174EA6;\n",
              "    }\n",
              "\n",
              "    .colab-df-buttons div {\n",
              "      margin-bottom: 4px;\n",
              "    }\n",
              "\n",
              "    [theme=dark] .colab-df-convert {\n",
              "      background-color: #3B4455;\n",
              "      fill: #D2E3FC;\n",
              "    }\n",
              "\n",
              "    [theme=dark] .colab-df-convert:hover {\n",
              "      background-color: #434B5C;\n",
              "      box-shadow: 0px 1px 3px 1px rgba(0, 0, 0, 0.15);\n",
              "      filter: drop-shadow(0px 1px 2px rgba(0, 0, 0, 0.3));\n",
              "      fill: #FFFFFF;\n",
              "    }\n",
              "  </style>\n",
              "\n",
              "    <script>\n",
              "      const buttonEl =\n",
              "        document.querySelector('#df-ad03e04c-64a0-414c-8858-9c104f80c64c button.colab-df-convert');\n",
              "      buttonEl.style.display =\n",
              "        google.colab.kernel.accessAllowed ? 'block' : 'none';\n",
              "\n",
              "      async function convertToInteractive(key) {\n",
              "        const element = document.querySelector('#df-ad03e04c-64a0-414c-8858-9c104f80c64c');\n",
              "        const dataTable =\n",
              "          await google.colab.kernel.invokeFunction('convertToInteractive',\n",
              "                                                    [key], {});\n",
              "        if (!dataTable) return;\n",
              "\n",
              "        const docLinkHtml = 'Like what you see? Visit the ' +\n",
              "          '<a target=\"_blank\" href=https://colab.research.google.com/notebooks/data_table.ipynb>data table notebook</a>'\n",
              "          + ' to learn more about interactive tables.';\n",
              "        element.innerHTML = '';\n",
              "        dataTable['output_type'] = 'display_data';\n",
              "        await google.colab.output.renderOutput(dataTable, element);\n",
              "        const docLink = document.createElement('div');\n",
              "        docLink.innerHTML = docLinkHtml;\n",
              "        element.appendChild(docLink);\n",
              "      }\n",
              "    </script>\n",
              "  </div>\n",
              "\n",
              "\n",
              "<div id=\"df-4e5097ef-449c-4b83-ac28-51afbb827ad6\">\n",
              "  <button class=\"colab-df-quickchart\" onclick=\"quickchart('df-4e5097ef-449c-4b83-ac28-51afbb827ad6')\"\n",
              "            title=\"Suggest charts\"\n",
              "            style=\"display:none;\">\n",
              "\n",
              "<svg xmlns=\"http://www.w3.org/2000/svg\" height=\"24px\"viewBox=\"0 0 24 24\"\n",
              "     width=\"24px\">\n",
              "    <g>\n",
              "        <path d=\"M19 3H5c-1.1 0-2 .9-2 2v14c0 1.1.9 2 2 2h14c1.1 0 2-.9 2-2V5c0-1.1-.9-2-2-2zM9 17H7v-7h2v7zm4 0h-2V7h2v10zm4 0h-2v-4h2v4z\"/>\n",
              "    </g>\n",
              "</svg>\n",
              "  </button>\n",
              "\n",
              "<style>\n",
              "  .colab-df-quickchart {\n",
              "      --bg-color: #E8F0FE;\n",
              "      --fill-color: #1967D2;\n",
              "      --hover-bg-color: #E2EBFA;\n",
              "      --hover-fill-color: #174EA6;\n",
              "      --disabled-fill-color: #AAA;\n",
              "      --disabled-bg-color: #DDD;\n",
              "  }\n",
              "\n",
              "  [theme=dark] .colab-df-quickchart {\n",
              "      --bg-color: #3B4455;\n",
              "      --fill-color: #D2E3FC;\n",
              "      --hover-bg-color: #434B5C;\n",
              "      --hover-fill-color: #FFFFFF;\n",
              "      --disabled-bg-color: #3B4455;\n",
              "      --disabled-fill-color: #666;\n",
              "  }\n",
              "\n",
              "  .colab-df-quickchart {\n",
              "    background-color: var(--bg-color);\n",
              "    border: none;\n",
              "    border-radius: 50%;\n",
              "    cursor: pointer;\n",
              "    display: none;\n",
              "    fill: var(--fill-color);\n",
              "    height: 32px;\n",
              "    padding: 0;\n",
              "    width: 32px;\n",
              "  }\n",
              "\n",
              "  .colab-df-quickchart:hover {\n",
              "    background-color: var(--hover-bg-color);\n",
              "    box-shadow: 0 1px 2px rgba(60, 64, 67, 0.3), 0 1px 3px 1px rgba(60, 64, 67, 0.15);\n",
              "    fill: var(--button-hover-fill-color);\n",
              "  }\n",
              "\n",
              "  .colab-df-quickchart-complete:disabled,\n",
              "  .colab-df-quickchart-complete:disabled:hover {\n",
              "    background-color: var(--disabled-bg-color);\n",
              "    fill: var(--disabled-fill-color);\n",
              "    box-shadow: none;\n",
              "  }\n",
              "\n",
              "  .colab-df-spinner {\n",
              "    border: 2px solid var(--fill-color);\n",
              "    border-color: transparent;\n",
              "    border-bottom-color: var(--fill-color);\n",
              "    animation:\n",
              "      spin 1s steps(1) infinite;\n",
              "  }\n",
              "\n",
              "  @keyframes spin {\n",
              "    0% {\n",
              "      border-color: transparent;\n",
              "      border-bottom-color: var(--fill-color);\n",
              "      border-left-color: var(--fill-color);\n",
              "    }\n",
              "    20% {\n",
              "      border-color: transparent;\n",
              "      border-left-color: var(--fill-color);\n",
              "      border-top-color: var(--fill-color);\n",
              "    }\n",
              "    30% {\n",
              "      border-color: transparent;\n",
              "      border-left-color: var(--fill-color);\n",
              "      border-top-color: var(--fill-color);\n",
              "      border-right-color: var(--fill-color);\n",
              "    }\n",
              "    40% {\n",
              "      border-color: transparent;\n",
              "      border-right-color: var(--fill-color);\n",
              "      border-top-color: var(--fill-color);\n",
              "    }\n",
              "    60% {\n",
              "      border-color: transparent;\n",
              "      border-right-color: var(--fill-color);\n",
              "    }\n",
              "    80% {\n",
              "      border-color: transparent;\n",
              "      border-right-color: var(--fill-color);\n",
              "      border-bottom-color: var(--fill-color);\n",
              "    }\n",
              "    90% {\n",
              "      border-color: transparent;\n",
              "      border-bottom-color: var(--fill-color);\n",
              "    }\n",
              "  }\n",
              "</style>\n",
              "\n",
              "  <script>\n",
              "    async function quickchart(key) {\n",
              "      const quickchartButtonEl =\n",
              "        document.querySelector('#' + key + ' button');\n",
              "      quickchartButtonEl.disabled = true;  // To prevent multiple clicks.\n",
              "      quickchartButtonEl.classList.add('colab-df-spinner');\n",
              "      try {\n",
              "        const charts = await google.colab.kernel.invokeFunction(\n",
              "            'suggestCharts', [key], {});\n",
              "      } catch (error) {\n",
              "        console.error('Error during call to suggestCharts:', error);\n",
              "      }\n",
              "      quickchartButtonEl.classList.remove('colab-df-spinner');\n",
              "      quickchartButtonEl.classList.add('colab-df-quickchart-complete');\n",
              "    }\n",
              "    (() => {\n",
              "      let quickchartButtonEl =\n",
              "        document.querySelector('#df-4e5097ef-449c-4b83-ac28-51afbb827ad6 button');\n",
              "      quickchartButtonEl.style.display =\n",
              "        google.colab.kernel.accessAllowed ? 'block' : 'none';\n",
              "    })();\n",
              "  </script>\n",
              "</div>\n",
              "\n",
              "    </div>\n",
              "  </div>\n"
            ],
            "application/vnd.google.colaboratory.intrinsic+json": {
              "type": "dataframe",
              "summary": "{\n  \"name\": \"pd\",\n  \"rows\": 5,\n  \"fields\": [\n    {\n      \"column\": \"name\",\n      \"properties\": {\n        \"dtype\": \"string\",\n        \"num_unique_values\": 5,\n        \"samples\": [\n          \"Broward\",\n          \"Cuyahoga\",\n          \"Palm Beach\"\n        ],\n        \"semantic_type\": \"\",\n        \"description\": \"\"\n      }\n    },\n    {\n      \"column\": \"population\",\n      \"properties\": {\n        \"dtype\": \"number\",\n        \"std\": 26050,\n        \"min\": 1234,\n        \"max\": 60000,\n        \"num_unique_values\": 5,\n        \"samples\": [\n          40000,\n          1337,\n          60000\n        ],\n        \"semantic_type\": \"\",\n        \"description\": \"\"\n      }\n    },\n    {\n      \"column\": \"state\",\n      \"properties\": {\n        \"dtype\": \"category\",\n        \"num_unique_values\": 2,\n        \"samples\": [\n          \"Ohio\",\n          \"Florida\"\n        ],\n        \"semantic_type\": \"\",\n        \"description\": \"\"\n      }\n    },\n    {\n      \"column\": \"shortname\",\n      \"properties\": {\n        \"dtype\": \"category\",\n        \"num_unique_values\": 2,\n        \"samples\": [\n          \"OH\",\n          \"FL\"\n        ],\n        \"semantic_type\": \"\",\n        \"description\": \"\"\n      }\n    },\n    {\n      \"column\": \"info.governor\",\n      \"properties\": {\n        \"dtype\": \"category\",\n        \"num_unique_values\": 2,\n        \"samples\": [\n          \"John Kasich\",\n          \"Rick Scott\"\n        ],\n        \"semantic_type\": \"\",\n        \"description\": \"\"\n      }\n    }\n  ]\n}"
            }
          },
          "metadata": {},
          "execution_count": 17
        }
      ],
      "source": [
        "pd.json_normalize(data, 'counties', ['state', 'shortname', ['info', 'governor']])"
      ]
    },
    {
      "cell_type": "markdown",
      "metadata": {
        "id": "U2ITUXYU_Wye"
      },
      "source": [
        "# YAML parsing\n",
        "- YAML (short for \"YAML Ain't Markup Language\") is a human-readable data serialization format that is commonly used for configuration files, data exchange, and other structured data.\n",
        "- pyyaml: Python library that enables parsing and serialization of data in YAML format (parsing and conversion)"
      ]
    },
    {
      "cell_type": "code",
      "execution_count": 18,
      "metadata": {
        "colab": {
          "base_uri": "https://localhost:8080/"
        },
        "id": "tg2-43Ki_o8p",
        "outputId": "986755ed-5f45-48b3-8b84-c50fa33f6e60"
      },
      "outputs": [
        {
          "output_type": "stream",
          "name": "stdout",
          "text": [
            "Writing config.yaml\n"
          ]
        }
      ],
      "source": [
        "%%writefile config.yaml\n",
        "# sample YAML configuration file (generateed by ChatGPT)\n",
        "\n",
        "server:\n",
        "  host: localhost\n",
        "  port: 8080\n",
        "\n",
        "database:\n",
        "  host: localhost\n",
        "  port: 5432\n",
        "  user: myuser\n",
        "  password: mypassword"
      ]
    },
    {
      "cell_type": "code",
      "execution_count": 19,
      "metadata": {
        "colab": {
          "base_uri": "https://localhost:8080/"
        },
        "id": "VRPh72nY_7Nd",
        "outputId": "d59276b6-6130-438d-e0f0-c0ff36901037"
      },
      "outputs": [
        {
          "output_type": "stream",
          "name": "stdout",
          "text": [
            "# sample YAML configuration file (generateed by ChatGPT)\n",
            "\n",
            "server:\n",
            "  host: localhost\n",
            "  port: 8080\n",
            "\n",
            "database:\n",
            "  host: localhost\n",
            "  port: 5432\n",
            "  user: myuser\n",
            "  password: mypassword\n"
          ]
        }
      ],
      "source": [
        "!cat config.yaml"
      ]
    },
    {
      "cell_type": "code",
      "execution_count": 20,
      "metadata": {
        "colab": {
          "base_uri": "https://localhost:8080/"
        },
        "id": "_kr7psixAHVF",
        "outputId": "3810570a-688a-44c3-8246-59388888ce08"
      },
      "outputs": [
        {
          "output_type": "stream",
          "name": "stdout",
          "text": [
            "Requirement already satisfied: pyyaml in /usr/local/lib/python3.10/dist-packages (6.0.1)\n"
          ]
        }
      ],
      "source": [
        "!pip install pyyaml"
      ]
    },
    {
      "cell_type": "code",
      "execution_count": 22,
      "metadata": {
        "colab": {
          "base_uri": "https://localhost:8080/"
        },
        "id": "16oUzC32AQUO",
        "outputId": "a7e3d753-a23f-45b8-e0f5-d6863d94936a"
      },
      "outputs": [
        {
          "output_type": "stream",
          "name": "stdout",
          "text": [
            "{'server': {'host': 'localhost', 'port': 8080}, 'database': {'host': 'localhost', 'port': 5432, 'user': 'myuser', 'password': 'mypassword'}} <class 'dict'>\n"
          ]
        }
      ],
      "source": [
        "import yaml\n",
        "\n",
        "with open('config.yaml', 'r') as f:\n",
        "    config = yaml.safe_load(f)\n",
        "    # config = yaml.load(f)        # for more complex types\n",
        "print(config, type(config))"
      ]
    },
    {
      "cell_type": "code",
      "source": [
        "\n",
        "print(config['server'])\n",
        "print(config['server']['host'])    # Output: localhost\n",
        "print(config['database']['user'])  # Output: myuser"
      ],
      "metadata": {
        "colab": {
          "base_uri": "https://localhost:8080/"
        },
        "id": "XcJql90RAJcw",
        "outputId": "7cbfeb8b-a299-4832-af06-b1af413abfda"
      },
      "execution_count": 23,
      "outputs": [
        {
          "output_type": "stream",
          "name": "stdout",
          "text": [
            "{'host': 'localhost', 'port': 8080}\n",
            "localhost\n",
            "myuser\n"
          ]
        }
      ]
    },
    {
      "cell_type": "markdown",
      "metadata": {
        "id": "1aeiqjD05wGg"
      },
      "source": [
        "# HTML Parsing\n",
        "- before you do this example, try to see and run some example HTML files which are in this directory"
      ]
    },
    {
      "cell_type": "code",
      "execution_count": 24,
      "metadata": {
        "id": "L1pc5PFA5wGi"
      },
      "outputs": [],
      "source": [
        "from bs4 import BeautifulSoup"
      ]
    },
    {
      "cell_type": "code",
      "execution_count": 25,
      "metadata": {
        "id": "l9nZUy1d5wGj"
      },
      "outputs": [],
      "source": [
        "html_text = \"\"\"\n",
        "<html>\n",
        "<body>\n",
        "  <h1> reading web page with python </h1>\n",
        "     <p> page analysis </p>\n",
        "     <p> page alignment </p>\n",
        "     <td>some text</td><td></td><td><p>more text</p></td><td>even <p>more text</p></td>\n",
        "</body>\n",
        "</html>\n",
        "\"\"\""
      ]
    },
    {
      "cell_type": "code",
      "execution_count": 26,
      "metadata": {
        "colab": {
          "base_uri": "https://localhost:8080/"
        },
        "id": "T7eceX_I5wGk",
        "outputId": "840228cd-e49b-43d4-e8ed-f27b5b6a2cbb"
      },
      "outputs": [
        {
          "output_type": "execute_result",
          "data": {
            "text/plain": [
              "\n",
              "<html>\n",
              "<body>\n",
              "<h1> reading web page with python </h1>\n",
              "<p> page analysis </p>\n",
              "<p> page alignment </p>\n",
              "<td>some text</td><td></td><td><p>more text</p></td><td>even <p>more text</p></td>\n",
              "</body>\n",
              "</html>"
            ]
          },
          "metadata": {},
          "execution_count": 26
        }
      ],
      "source": [
        "soup = BeautifulSoup(html_text, 'html.parser')\n",
        "soup"
      ]
    },
    {
      "cell_type": "code",
      "execution_count": 27,
      "metadata": {
        "colab": {
          "base_uri": "https://localhost:8080/",
          "height": 187
        },
        "id": "MNH7h6Y7gmtu",
        "outputId": "c3e3d596-f1fc-4256-e998-2408eea5ae1f"
      },
      "outputs": [
        {
          "output_type": "execute_result",
          "data": {
            "text/plain": [
              "bs4.BeautifulSoup"
            ],
            "text/html": [
              "<div style=\"max-width:800px; border: 1px solid var(--colab-border-color);\"><style>\n",
              "      pre.function-repr-contents {\n",
              "        overflow-x: auto;\n",
              "        padding: 8px 12px;\n",
              "        max-height: 500px;\n",
              "      }\n",
              "\n",
              "      pre.function-repr-contents.function-repr-contents-collapsed {\n",
              "        cursor: pointer;\n",
              "        max-height: 100px;\n",
              "      }\n",
              "    </style>\n",
              "    <pre style=\"white-space: initial; background:\n",
              "         var(--colab-secondary-surface-color); padding: 8px 12px;\n",
              "         border-bottom: 1px solid var(--colab-border-color);\"><b>bs4.BeautifulSoup</b><br/>def __call__(*args, **kwargs)</pre><pre class=\"function-repr-contents function-repr-contents-collapsed\" style=\"\"><a class=\"filepath\" style=\"display:none\" href=\"#\">/usr/local/lib/python3.10/dist-packages/bs4/__init__.py</a>A data structure representing a parsed HTML or XML document.\n",
              "\n",
              "Most of the methods you&#x27;ll call on a BeautifulSoup object are inherited from\n",
              "PageElement or Tag.\n",
              "\n",
              "Internally, this class defines the basic interface called by the\n",
              "tree builders when converting an HTML/XML document into a data\n",
              "structure. The interface abstracts away the differences between\n",
              "parsers. To write a new tree builder, you&#x27;ll need to understand\n",
              "these methods as a whole.\n",
              "\n",
              "These methods will be called by the BeautifulSoup constructor:\n",
              "  * reset()\n",
              "  * feed(markup)\n",
              "\n",
              "The tree builder may call these methods from its feed() implementation:\n",
              "  * handle_starttag(name, attrs) # See note about return value\n",
              "  * handle_endtag(name)\n",
              "  * handle_data(data) # Appends to the current data node\n",
              "  * endData(containerClass) # Ends the current data node\n",
              "\n",
              "No matter how complicated the underlying parser is, you should be\n",
              "able to build a tree using &#x27;start tag&#x27; events, &#x27;end tag&#x27; events,\n",
              "&#x27;data&#x27; events, and &quot;done with data&quot; events.\n",
              "\n",
              "If you encounter an empty-element tag (aka a self-closing tag,\n",
              "like HTML&#x27;s &lt;br&gt; tag), call handle_starttag and then\n",
              "handle_endtag.</pre>\n",
              "      <script>\n",
              "      if (google.colab.kernel.accessAllowed && google.colab.files && google.colab.files.view) {\n",
              "        for (const element of document.querySelectorAll('.filepath')) {\n",
              "          element.style.display = 'block'\n",
              "          element.onclick = (event) => {\n",
              "            event.preventDefault();\n",
              "            event.stopPropagation();\n",
              "            google.colab.files.view(element.textContent, 76);\n",
              "          };\n",
              "        }\n",
              "      }\n",
              "      for (const element of document.querySelectorAll('.function-repr-contents')) {\n",
              "        element.onclick = (event) => {\n",
              "          event.preventDefault();\n",
              "          event.stopPropagation();\n",
              "          element.classList.toggle('function-repr-contents-collapsed');\n",
              "        };\n",
              "      }\n",
              "      </script>\n",
              "      </div>"
            ]
          },
          "metadata": {},
          "execution_count": 27
        }
      ],
      "source": [
        "type(soup)"
      ]
    },
    {
      "cell_type": "code",
      "execution_count": 31,
      "metadata": {
        "colab": {
          "base_uri": "https://localhost:8080/"
        },
        "id": "ehEPCzhKzBZS",
        "outputId": "8d2e402a-8634-4d2d-8dcc-1b3a6d0fd5af"
      },
      "outputs": [
        {
          "output_type": "execute_result",
          "data": {
            "text/plain": [
              "<h1> reading web page with python </h1>"
            ]
          },
          "metadata": {},
          "execution_count": 31
        }
      ],
      "source": [
        "soup.h1"
      ]
    },
    {
      "cell_type": "code",
      "execution_count": 33,
      "metadata": {
        "colab": {
          "base_uri": "https://localhost:8080/",
          "height": 36
        },
        "id": "zErQ7nI85wGl",
        "outputId": "592857e7-3f2e-444e-c663-218db7591821"
      },
      "outputs": [
        {
          "output_type": "execute_result",
          "data": {
            "text/plain": [
              "'reading web page with python'"
            ],
            "application/vnd.google.colaboratory.intrinsic+json": {
              "type": "string"
            }
          },
          "metadata": {},
          "execution_count": 33
        }
      ],
      "source": [
        "soup.h1.text.strip()"
      ]
    },
    {
      "cell_type": "code",
      "execution_count": 34,
      "metadata": {
        "colab": {
          "base_uri": "https://localhost:8080/"
        },
        "id": "vLfnDeHv5wGl",
        "outputId": "e1e94cfa-cc7d-437c-fcdd-c975689e38e7"
      },
      "outputs": [
        {
          "output_type": "execute_result",
          "data": {
            "text/plain": [
              "<p> page analysis </p>"
            ]
          },
          "metadata": {},
          "execution_count": 34
        }
      ],
      "source": [
        "soup.p"
      ]
    },
    {
      "cell_type": "code",
      "execution_count": 35,
      "metadata": {
        "colab": {
          "base_uri": "https://localhost:8080/"
        },
        "id": "7ISR9s02llOk",
        "outputId": "f1385477-69be-42d5-ac74-a6a3242f9d75"
      },
      "outputs": [
        {
          "output_type": "execute_result",
          "data": {
            "text/plain": [
              "<p> page alignment </p>"
            ]
          },
          "metadata": {},
          "execution_count": 35
        }
      ],
      "source": [
        "soup.p.next_sibling.next_sibling"
      ]
    },
    {
      "cell_type": "code",
      "execution_count": null,
      "metadata": {
        "colab": {
          "base_uri": "https://localhost:8080/"
        },
        "id": "Zq81MwKrll5n",
        "outputId": "2fee70bc-125b-4ecd-88a3-8534138ca99a"
      },
      "outputs": [
        {
          "data": {
            "text/plain": [
              "<td><p>more text</p></td>"
            ]
          },
          "execution_count": 48,
          "metadata": {},
          "output_type": "execute_result"
        }
      ],
      "source": [
        "soup.td.next_sibling.next_sibling"
      ]
    },
    {
      "cell_type": "code",
      "execution_count": null,
      "metadata": {
        "colab": {
          "base_uri": "https://localhost:8080/"
        },
        "id": "7AHUShTblmqf",
        "outputId": "090fd41d-37d6-4859-9195-c0731746144d"
      },
      "outputs": [
        {
          "name": "stdout",
          "output_type": "stream",
          "text": [
            "<td></td> \n"
          ]
        }
      ],
      "source": [
        "print(soup.td.next_sibling, soup.td.next_sibling.text)"
      ]
    },
    {
      "cell_type": "code",
      "execution_count": 36,
      "metadata": {
        "id": "SsFJFr6B5wGm"
      },
      "outputs": [],
      "source": [
        "html_text2 = \"\"\"\n",
        "<html>\n",
        "<body>\n",
        "  <h1 id=\"title\"> reading web page with python </h1>\n",
        "     <p id=\"body\"> page analysis </p>\n",
        "     <p> page alignment </p>\n",
        "     <td>some text</td><td></td><td><p>more text</p></td><td>even <p>more text</p></td>\n",
        "     <ul>\n",
        "         <li><a href = \"http://www.naver.com\"> naver</a></li>\n",
        "         <li><a href = \"http://www.daum.net\"> daum</a></li>\n",
        "     </ul>\n",
        "  <div id=\"xxx\">\n",
        "    <h1> Wiki-books store </h1>\n",
        "    <ul class=\"item all\">\n",
        "      <li> introduction to game design </li>\n",
        "      <li> introduction to python </li>\n",
        "      <li> introduction to web design </li>\n",
        "    </ul>\n",
        "  </div>\n",
        "</body>\n",
        "</html>\n",
        "\"\"\""
      ]
    },
    {
      "cell_type": "code",
      "execution_count": 37,
      "metadata": {
        "id": "Q8QtB1ih5wGm"
      },
      "outputs": [],
      "source": [
        "soup = BeautifulSoup(html_text2, 'html.parser')"
      ]
    },
    {
      "cell_type": "code",
      "execution_count": 38,
      "metadata": {
        "colab": {
          "base_uri": "https://localhost:8080/"
        },
        "id": "8YrObZQ8gTWS",
        "outputId": "74b7704a-ca06-49d5-ec89-077e3e1da43b"
      },
      "outputs": [
        {
          "output_type": "execute_result",
          "data": {
            "text/plain": [
              "\n",
              "<html>\n",
              "<body>\n",
              "<h1 id=\"title\"> reading web page with python </h1>\n",
              "<p id=\"body\"> page analysis </p>\n",
              "<p> page alignment </p>\n",
              "<td>some text</td><td></td><td><p>more text</p></td><td>even <p>more text</p></td>\n",
              "<ul>\n",
              "<li><a href=\"http://www.naver.com\"> naver</a></li>\n",
              "<li><a href=\"http://www.daum.net\"> daum</a></li>\n",
              "</ul>\n",
              "<div id=\"xxx\">\n",
              "<h1> Wiki-books store </h1>\n",
              "<ul class=\"item all\">\n",
              "<li> introduction to game design </li>\n",
              "<li> introduction to python </li>\n",
              "<li> introduction to web design </li>\n",
              "</ul>\n",
              "</div>\n",
              "</body>\n",
              "</html>"
            ]
          },
          "metadata": {},
          "execution_count": 38
        }
      ],
      "source": [
        "soup"
      ]
    },
    {
      "cell_type": "markdown",
      "metadata": {
        "id": "aIEg2UPN5wGn"
      },
      "source": [
        "## access by tags"
      ]
    },
    {
      "cell_type": "code",
      "execution_count": 39,
      "metadata": {
        "colab": {
          "base_uri": "https://localhost:8080/"
        },
        "id": "fJc8yV0_5wGn",
        "outputId": "f03d8945-22ae-440e-b188-595833961c14"
      },
      "outputs": [
        {
          "output_type": "execute_result",
          "data": {
            "text/plain": [
              "<h1 id=\"title\"> reading web page with python </h1>"
            ]
          },
          "metadata": {},
          "execution_count": 39
        }
      ],
      "source": [
        "soup.find(id='title')"
      ]
    },
    {
      "cell_type": "code",
      "execution_count": 41,
      "metadata": {
        "colab": {
          "base_uri": "https://localhost:8080/",
          "height": 36
        },
        "id": "qSauNhKj5wGo",
        "outputId": "1a7f4237-e945-43da-ede6-53dcb1a2b6bf"
      },
      "outputs": [
        {
          "output_type": "execute_result",
          "data": {
            "text/plain": [
              "' page analysis '"
            ],
            "application/vnd.google.colaboratory.intrinsic+json": {
              "type": "string"
            }
          },
          "metadata": {},
          "execution_count": 41
        }
      ],
      "source": [
        "soup.find(id='body').text"
      ]
    },
    {
      "cell_type": "code",
      "execution_count": 42,
      "metadata": {
        "colab": {
          "base_uri": "https://localhost:8080/"
        },
        "id": "O691EPRX5wGo",
        "outputId": "ff04a9a4-3a07-4e2a-d021-83da08408227"
      },
      "outputs": [
        {
          "output_type": "execute_result",
          "data": {
            "text/plain": [
              "[<p id=\"body\"> page analysis </p>,\n",
              " <p> page alignment </p>,\n",
              " <p>more text</p>,\n",
              " <p>more text</p>]"
            ]
          },
          "metadata": {},
          "execution_count": 42
        }
      ],
      "source": [
        "soup.find_all('p')"
      ]
    },
    {
      "cell_type": "code",
      "execution_count": 43,
      "metadata": {
        "colab": {
          "base_uri": "https://localhost:8080/"
        },
        "id": "tUZVc6W6MG__",
        "outputId": "8041ccfe-f32a-47ef-fead-f710b8cf7884"
      },
      "outputs": [
        {
          "output_type": "execute_result",
          "data": {
            "text/plain": [
              "[<li><a href=\"http://www.naver.com\"> naver</a></li>,\n",
              " <li><a href=\"http://www.daum.net\"> daum</a></li>,\n",
              " <li> introduction to game design </li>,\n",
              " <li> introduction to python </li>,\n",
              " <li> introduction to web design </li>]"
            ]
          },
          "metadata": {},
          "execution_count": 43
        }
      ],
      "source": [
        "soup.find_all('li')"
      ]
    },
    {
      "cell_type": "code",
      "execution_count": 44,
      "metadata": {
        "colab": {
          "base_uri": "https://localhost:8080/"
        },
        "id": "zdPbDZCS5wGp",
        "outputId": "1fec09be-fa44-4781-d8d6-d45185d5f5cd"
      },
      "outputs": [
        {
          "output_type": "execute_result",
          "data": {
            "text/plain": [
              "<li><a href=\"http://www.naver.com\"> naver</a></li>"
            ]
          },
          "metadata": {},
          "execution_count": 44
        }
      ],
      "source": [
        "soup.find_all('li')[0]"
      ]
    },
    {
      "cell_type": "code",
      "execution_count": 45,
      "metadata": {
        "colab": {
          "base_uri": "https://localhost:8080/"
        },
        "id": "cDVoMV5s5wGq",
        "outputId": "6e464c94-f39e-47ac-9d0b-20b2577bcd86"
      },
      "outputs": [
        {
          "output_type": "execute_result",
          "data": {
            "text/plain": [
              "(' naver', {})"
            ]
          },
          "metadata": {},
          "execution_count": 45
        }
      ],
      "source": [
        "soup.find_all('li')[0].text, soup.find_all('li')[0].attrs"
      ]
    },
    {
      "cell_type": "code",
      "execution_count": null,
      "metadata": {
        "colab": {
          "base_uri": "https://localhost:8080/"
        },
        "id": "_EvoKIaB5wGq",
        "outputId": "3819f67a-f4da-440e-bce0-a5d5998c0ff1"
      },
      "outputs": [
        {
          "data": {
            "text/plain": [
              "<a href=\"http://www.naver.com\"> naver</a>"
            ]
          },
          "execution_count": 59,
          "metadata": {},
          "output_type": "execute_result"
        }
      ],
      "source": [
        "soup.find_all('a')[0]"
      ]
    },
    {
      "cell_type": "code",
      "execution_count": null,
      "metadata": {
        "colab": {
          "base_uri": "https://localhost:8080/"
        },
        "id": "_1pJfJ3Z5wGr",
        "outputId": "f0c0c04a-3f0a-4f8e-cabb-c526202fb575"
      },
      "outputs": [
        {
          "data": {
            "text/plain": [
              "(' naver', {'href': 'http://www.naver.com'})"
            ]
          },
          "execution_count": 60,
          "metadata": {},
          "output_type": "execute_result"
        }
      ],
      "source": [
        "soup.find_all('a')[0].text, soup.find_all('a')[0].attrs"
      ]
    },
    {
      "cell_type": "code",
      "execution_count": 46,
      "metadata": {
        "colab": {
          "base_uri": "https://localhost:8080/"
        },
        "id": "apyLHwaP5wGr",
        "outputId": "085de6ad-b450-4739-bc75-afbd4586fd3f"
      },
      "outputs": [
        {
          "output_type": "stream",
          "name": "stdout",
          "text": [
            " naver --> http://www.naver.com\n",
            " daum --> http://www.daum.net\n"
          ]
        }
      ],
      "source": [
        "for aa in soup.find_all('a'):\n",
        "    href = aa.attrs['href']\n",
        "    text = aa.string\n",
        "    print (text, \"-->\", href)"
      ]
    },
    {
      "cell_type": "markdown",
      "metadata": {
        "id": "qTwAdY9S5wGr"
      },
      "source": [
        "## access by regular expression"
      ]
    },
    {
      "cell_type": "code",
      "execution_count": null,
      "metadata": {
        "colab": {
          "base_uri": "https://localhost:8080/"
        },
        "id": "eLMhbYg9KUWD",
        "outputId": "1b59a30e-1468-4798-f8b6-a57a27741a3e"
      },
      "outputs": [
        {
          "data": {
            "text/plain": [
              "\n",
              "<html>\n",
              "<body>\n",
              "<h1 id=\"title\"> reading web page with python </h1>\n",
              "<p id=\"body\"> page analysis </p>\n",
              "<p> page alignment </p>\n",
              "<td>some text</td><td></td><td><p>more text</p></td><td>even <p>more text</p></td>\n",
              "<ul>\n",
              "<li><a href=\"http://www.naver.com\"> naver</a></li>\n",
              "<li><a href=\"http://www.daum.net\"> daum</a></li>\n",
              "</ul>\n",
              "<div id=\"xxx\">\n",
              "<h1> Wiki-books store </h1>\n",
              "<ul class=\"item all\">\n",
              "<li> introduction to game design </li>\n",
              "<li> introduction to python </li>\n",
              "<li> introduction to web design </li>\n",
              "</ul>\n",
              "</div>\n",
              "</body>\n",
              "</html>"
            ]
          },
          "execution_count": 62,
          "metadata": {},
          "output_type": "execute_result"
        }
      ],
      "source": [
        "soup"
      ]
    },
    {
      "cell_type": "code",
      "execution_count": null,
      "metadata": {
        "colab": {
          "base_uri": "https://localhost:8080/"
        },
        "id": "aN5DfvWq5wGs",
        "outputId": "c2ce357f-5bad-4434-e911-2d12c3675636"
      },
      "outputs": [
        {
          "data": {
            "text/plain": [
              "[<p id=\"body\"> page analysis </p>,\n",
              " <p> page alignment </p>,\n",
              " <p>more text</p>,\n",
              " <p>more text</p>]"
            ]
          },
          "execution_count": 63,
          "metadata": {},
          "output_type": "execute_result"
        }
      ],
      "source": [
        "import re\n",
        "soup.find_all(re.compile(\"^p\"))   # tags starting with a character 'p'"
      ]
    },
    {
      "cell_type": "code",
      "execution_count": null,
      "metadata": {
        "colab": {
          "base_uri": "https://localhost:8080/"
        },
        "id": "4AL2y0xb5wGs",
        "outputId": "5d8aa00f-0ce4-4494-dd16-55d72127d732"
      },
      "outputs": [
        {
          "data": {
            "text/plain": [
              "[<div id=\"xxx\">\n",
              " <h1> Wiki-books store </h1>\n",
              " <ul class=\"item all\">\n",
              " <li> introduction to game design </li>\n",
              " <li> introduction to python </li>\n",
              " <li> introduction to web design </li>\n",
              " </ul>\n",
              " </div>]"
            ]
          },
          "execution_count": 64,
          "metadata": {},
          "output_type": "execute_result"
        }
      ],
      "source": [
        "soup.find_all(re.compile(\"div\" ))"
      ]
    },
    {
      "cell_type": "code",
      "execution_count": null,
      "metadata": {
        "colab": {
          "base_uri": "https://localhost:8080/"
        },
        "id": "eNS3YQsZ5wGs",
        "outputId": "3fba1e7b-83e6-4b9e-d6c3-42049feb28b4"
      },
      "outputs": [
        {
          "data": {
            "text/plain": [
              "[<a href=\"http://www.naver.com\"> naver</a>,\n",
              " <a href=\"http://www.daum.net\"> daum</a>]"
            ]
          },
          "execution_count": 65,
          "metadata": {},
          "output_type": "execute_result"
        }
      ],
      "source": [
        "soup.find_all(href=re.compile(\"^http://\"))"
      ]
    },
    {
      "cell_type": "markdown",
      "metadata": {
        "id": "TpJpZ3S35wGt"
      },
      "source": [
        "## access by css (Cascading Style Sheets) selector"
      ]
    },
    {
      "cell_type": "code",
      "execution_count": 47,
      "metadata": {
        "colab": {
          "base_uri": "https://localhost:8080/"
        },
        "id": "4yXwItSr5wGt",
        "outputId": "cd22816a-de27-4d64-df58-32eaade079c2"
      },
      "outputs": [
        {
          "output_type": "execute_result",
          "data": {
            "text/plain": [
              "[<h1 id=\"title\"> reading web page with python </h1>,\n",
              " <h1> Wiki-books store </h1>]"
            ]
          },
          "metadata": {},
          "execution_count": 47
        }
      ],
      "source": [
        "soup.select('h1')    # by tags"
      ]
    },
    {
      "cell_type": "code",
      "execution_count": 48,
      "metadata": {
        "colab": {
          "base_uri": "https://localhost:8080/"
        },
        "id": "_0BR8KaH5wGt",
        "outputId": "574abf50-464e-43e5-efd3-eb5a7abf115e"
      },
      "outputs": [
        {
          "output_type": "execute_result",
          "data": {
            "text/plain": [
              "[<div id=\"xxx\">\n",
              " <h1> Wiki-books store </h1>\n",
              " <ul class=\"item all\">\n",
              " <li> introduction to game design </li>\n",
              " <li> introduction to python </li>\n",
              " <li> introduction to web design </li>\n",
              " </ul>\n",
              " </div>]"
            ]
          },
          "metadata": {},
          "execution_count": 48
        }
      ],
      "source": [
        "soup.select('#xxx')  # by id"
      ]
    },
    {
      "cell_type": "code",
      "execution_count": 49,
      "metadata": {
        "colab": {
          "base_uri": "https://localhost:8080/"
        },
        "id": "FiWRVVTh5wGt",
        "outputId": "629aa4c7-2b88-4cc1-f390-8aa59bc2594a",
        "scrolled": true
      },
      "outputs": [
        {
          "output_type": "execute_result",
          "data": {
            "text/plain": [
              "[<ul class=\"item all\">\n",
              " <li> introduction to game design </li>\n",
              " <li> introduction to python </li>\n",
              " <li> introduction to web design </li>\n",
              " </ul>]"
            ]
          },
          "metadata": {},
          "execution_count": 49
        }
      ],
      "source": [
        "soup.select('.item') # by class name"
      ]
    },
    {
      "cell_type": "code",
      "execution_count": 50,
      "metadata": {
        "colab": {
          "base_uri": "https://localhost:8080/"
        },
        "id": "0rsqikqD5wGt",
        "outputId": "34cd8f63-672d-4e12-a958-562dcdfe7c69"
      },
      "outputs": [
        {
          "output_type": "execute_result",
          "data": {
            "text/plain": [
              "[<ul class=\"item all\">\n",
              " <li> introduction to game design </li>\n",
              " <li> introduction to python </li>\n",
              " <li> introduction to web design </li>\n",
              " </ul>]"
            ]
          },
          "metadata": {},
          "execution_count": 50
        }
      ],
      "source": [
        "soup.select('div .item')  # multi-components(tag=div, class=item)"
      ]
    },
    {
      "cell_type": "code",
      "execution_count": null,
      "metadata": {
        "colab": {
          "base_uri": "https://localhost:8080/"
        },
        "id": "waPMFRCT5wGu",
        "outputId": "ff9ac75b-87df-4df8-a876-6da372efb54d"
      },
      "outputs": [
        {
          "data": {
            "text/plain": [
              "[<li> introduction to game design </li>,\n",
              " <li> introduction to python </li>,\n",
              " <li> introduction to web design </li>]"
            ]
          },
          "execution_count": 70,
          "metadata": {},
          "output_type": "execute_result"
        }
      ],
      "source": [
        "soup.select(\"#xxx > ul > li\")  # hierarchy (child)"
      ]
    },
    {
      "cell_type": "code",
      "execution_count": 51,
      "metadata": {
        "colab": {
          "base_uri": "https://localhost:8080/"
        },
        "id": "6aBQ71pvLFCj",
        "outputId": "51e9fc0d-7c86-45da-9c43-6167714ceeb9"
      },
      "outputs": [
        {
          "output_type": "execute_result",
          "data": {
            "text/plain": [
              "<li> introduction to game design </li>"
            ]
          },
          "metadata": {},
          "execution_count": 51
        }
      ],
      "source": [
        "soup.select_one(\"#xxx > ul > li\")  # hierarchy (child)"
      ]
    },
    {
      "cell_type": "code",
      "execution_count": null,
      "metadata": {
        "colab": {
          "base_uri": "https://localhost:8080/"
        },
        "id": "Ze7cX5cjhfkV",
        "outputId": "14db9cbc-1db9-4c14-d781-a554d9cf8088"
      },
      "outputs": [
        {
          "data": {
            "text/plain": [
              "[<div id=\"xxx\">\n",
              " <h1> Wiki-books store </h1>\n",
              " <ul class=\"item all\">\n",
              " <li> introduction to game design </li>\n",
              " <li> introduction to python </li>\n",
              " <li> introduction to web design </li>\n",
              " </ul>\n",
              " </div>]"
            ]
          },
          "execution_count": 72,
          "metadata": {},
          "output_type": "execute_result"
        }
      ],
      "source": [
        "soup.select(\"div\")"
      ]
    },
    {
      "cell_type": "code",
      "execution_count": null,
      "metadata": {
        "colab": {
          "base_uri": "https://localhost:8080/"
        },
        "id": "1_--qC3L5wGu",
        "outputId": "75b9c300-b753-461c-a4e6-c85abbe4bfaa"
      },
      "outputs": [
        {
          "data": {
            "text/plain": [
              "[<li> introduction to game design </li>,\n",
              " <li> introduction to python </li>,\n",
              " <li> introduction to web design </li>]"
            ]
          },
          "execution_count": 73,
          "metadata": {},
          "output_type": "execute_result"
        }
      ],
      "source": [
        "soup.select(\"div li\")   # hierarchy (div tag >>> ul tag) (descendants)"
      ]
    },
    {
      "cell_type": "markdown",
      "metadata": {
        "id": "fxTzADFhLkES"
      },
      "source": [
        "- find with classes"
      ]
    },
    {
      "cell_type": "code",
      "execution_count": null,
      "metadata": {
        "colab": {
          "base_uri": "https://localhost:8080/"
        },
        "id": "dKMGq5Ao5wGu",
        "outputId": "ed57a95c-fc1b-44f5-fd21-0c73d3d137f4"
      },
      "outputs": [
        {
          "data": {
            "text/plain": [
              "[<p class=\"body strikeout\"></p>]"
            ]
          },
          "execution_count": 74,
          "metadata": {},
          "output_type": "execute_result"
        }
      ],
      "source": [
        "text = '<p class=\"body strikeout\"></p>'\n",
        "\n",
        "css_soup = BeautifulSoup(text, 'html.parser')\n",
        "css_soup.find_all(\"p\", class_=\"strikeout\")  # can have multiple values for a class"
      ]
    },
    {
      "cell_type": "code",
      "execution_count": null,
      "metadata": {
        "colab": {
          "base_uri": "https://localhost:8080/"
        },
        "id": "OzvMQ6lc5wGu",
        "outputId": "c71ce931-47f2-4e50-e5b2-c2f4e52feda6"
      },
      "outputs": [
        {
          "data": {
            "text/plain": [
              "[<p class=\"body strikeout\"></p>]"
            ]
          },
          "execution_count": 75,
          "metadata": {},
          "output_type": "execute_result"
        }
      ],
      "source": [
        "css_soup.find_all(\"p\", class_=\"body\")"
      ]
    },
    {
      "cell_type": "code",
      "execution_count": null,
      "metadata": {
        "colab": {
          "base_uri": "https://localhost:8080/"
        },
        "id": "tlbTXmUO5wGu",
        "outputId": "aaf8ae38-3ab9-4333-be03-200dde83ff57"
      },
      "outputs": [
        {
          "data": {
            "text/plain": [
              "[<p class=\"body strikeout\"></p>]"
            ]
          },
          "execution_count": 77,
          "metadata": {},
          "output_type": "execute_result"
        }
      ],
      "source": [
        "# If you want to search for tags that match two or more CSS classes,\n",
        "# you should use a CSS selector:\n",
        "css_soup.select(\"p.body.strikeout\")"
      ]
    },
    {
      "cell_type": "code",
      "execution_count": null,
      "metadata": {
        "colab": {
          "base_uri": "https://localhost:8080/"
        },
        "id": "DaSoDjy_L6Ok",
        "outputId": "ecebd00e-b192-4c41-e159-aad0a77c2bed"
      },
      "outputs": [
        {
          "data": {
            "text/plain": [
              "[<p class=\"body strikeout\"></p>]"
            ]
          },
          "execution_count": 76,
          "metadata": {},
          "output_type": "execute_result"
        }
      ],
      "source": [
        "css_soup.select(\"p.strikeout\")"
      ]
    },
    {
      "cell_type": "markdown",
      "metadata": {
        "id": "ZgbOWw_x5wGv"
      },
      "source": [
        "# Example from JOBKOREA\n",
        "- confirmed on 2024.7.18\n",
        "- search for 'data scientist', 'seoul' in JobKorea\n",
        "- Remember that web pages are changing upon refreshing."
      ]
    },
    {
      "cell_type": "code",
      "execution_count": 52,
      "metadata": {
        "id": "rEJST_5ejFRc"
      },
      "outputs": [],
      "source": [
        "import requests\n",
        "from bs4 import BeautifulSoup\n",
        "import pandas as pd\n",
        "import numpy as np\n",
        "\n",
        "# search for 'data scientist', 'seoul' in JobaKorea\n",
        "url = 'https://www.jobkorea.co.kr/Search/?stext=data%20scientist&local=I000'\n",
        "# url = 'https://www.jobkorea.co.kr/Search/?stext=datascience&local=I000'\n",
        "response = requests.get(url)\n",
        "response.encoding = 'utf-8'\n",
        "soup = BeautifulSoup(response.text, 'html.parser')"
      ]
    },
    {
      "cell_type": "code",
      "execution_count": 54,
      "metadata": {
        "colab": {
          "base_uri": "https://localhost:8080/",
          "height": 110
        },
        "id": "Yb749hh5ngd8",
        "outputId": "c5dd3c7f-fde7-4742-b33e-a8d45a18fb55"
      },
      "outputs": [
        {
          "output_type": "execute_result",
          "data": {
            "text/plain": [
              "'<!DOCTYPE HTML PUBLIC \"-//W3C//DTD HTML 4.01 Transitional//EN\" \"http://www.w3.org/TR/html4/loose.dtd\">\\r\\n<html>\\r\\n<head>\\r\\n<meta http-equiv=\"content-type\" content=\"text/html; charset=utf-8\">\\r\\n</head>\\r\\n<body>\\r\\n<br>\\r\\n<br>\\r\\n<center>\\r\\n<h2>\\r\\n회원님께서는 현재 입력할 수 없는 문자열의 사용으로 인해 차단이 되었습니다.<br>\\r\\n문제가 지속적으로 발생할 경우 아래 고객센터로 문의하시기 바랍니다.<br>\\r\\n이용에 불편을 드려 죄송합니다.<br>\\r\\n\\r\\n문의(고객센터): 1588-9350<br>\\r\\n<br>\\r\\n</body>\\r\\n</html>'"
            ],
            "application/vnd.google.colaboratory.intrinsic+json": {
              "type": "string"
            }
          },
          "metadata": {},
          "execution_count": 54
        }
      ],
      "source": [
        "response.text"
      ]
    },
    {
      "cell_type": "markdown",
      "metadata": {
        "id": "4PLBusx3qMEN"
      },
      "source": [
        "- it seems that the direct access (automatic scraping) to this web page is not allowed.\n",
        "- we can modify our request to include headers that mimic a browser request.\n",
        "  - Added User-Agent Header: We added a User-Agent header to the request. This header is used by web browsers to identify themselves when making requests to web servers.\n",
        "  - By setting a User-Agent that mimics a popular browser (e.g., Google Chrome), **we made our request appear as though it was coming from a real user rather than an automated script.** This helps to avoid being blocked by websites that restrict automated access."
      ]
    },
    {
      "cell_type": "code",
      "execution_count": 55,
      "metadata": {
        "id": "NQujp30nqtVw"
      },
      "outputs": [],
      "source": [
        "headers = {\n",
        "    'User-Agent': 'Mozilla/5.0 (Windows NT 10.0; Win64; x64) AppleWebKit/537.36 (KHTML, like Gecko) Chrome/91.0.4472.124 Safari/537.36'\n",
        "}\n",
        "\n",
        "# Fetch the HTML content from the URL with headers\n",
        "response = requests.get(url, headers=headers)\n",
        "response.encoding = 'utf-8'\n",
        "soup = BeautifulSoup(response.text, 'html.parser')"
      ]
    },
    {
      "cell_type": "code",
      "execution_count": 64,
      "metadata": {
        "colab": {
          "base_uri": "https://localhost:8080/",
          "height": 222
        },
        "id": "Q97dK1e6q2Kn",
        "outputId": "047a3bca-2461-4907-f9b4-b8582159dca9"
      },
      "outputs": [
        {
          "output_type": "execute_result",
          "data": {
            "text/plain": [
              "'<!DOCTYPE html>\\n<html lang=\"ko\">\\n <head>\\n  <meta charset=\"utf-8\"/>\\n  <meta content=\"text/html; charset=utf-8\" http-equiv=\"Content-Type\"/>\\n  <meta content=\"IE=edge; chrome=1\" http-equiv=\"X-UA-Compatible\"/>\\n  <title>\\n   data scientist 채용공고 | 총 55건의 검색결과 - 잡코리아\\n  </title>\\n  <meta content=\"data scientist 채용공고 | 총 55건의 검색결과 - 잡코리아\" name=\"title\"/>\\n  <meta content=\"data scientist 검색결과 총 55건- 2024 data scientist 채용정보가 더 알고 싶다면? 기업정보, 취업정보를 No.1 커리어 플랫폼 잡코리아에서 확인해보세요.\" name=\"description\"/>\\n  <meta content=\"data scientist, 채용, 구인구직사이트, 취업, 공기업, 직업, 취업박람회, 자소서, 채용사이트, 구직사이트,취업정보사이트, 채용공고, WORK, 직업종류, 커리어, 이직, 공고, 구인, 구직, 헤드헌팅, 경력, 신입, 인턴, 공채, 취업정보, 취업 정보, 취업뉴스, 취업 속보, 취업 뉴스, 취업상담실, 해외취업, 취업센터,채용박람회, 직업적성검사, 면접, 대기업채용, 리쿠르팅, 구인사이트, 잡, 구인광고, 직업추천, 청년일자리, 일자리사이트, 취업지원센터, 리크루팅, 구직자, 채용공고사이트, 인턴십, 일자리박람회, 일자리구하기, 취업성공, 취업사이트, 채용, 채용포털, 채용정보, 고용정보, 알바, 일자리, 구인정보, 이력서, Work, Job, 전직, 재취업, 여성취업, 정보통신취업, IT취업, 임원, CEO, 리쿠르트, 리크루트, 기업, 대기업, 중소기업, 벤처기업, 잡코리아, Jobkorea, wkqzhfldk, 원픽, OnePick, onepick, dnjsv'"
            ],
            "application/vnd.google.colaboratory.intrinsic+json": {
              "type": "string"
            }
          },
          "metadata": {},
          "execution_count": 64
        }
      ],
      "source": [
        "soup.prettify()[:1000]"
      ]
    },
    {
      "cell_type": "code",
      "execution_count": 70,
      "metadata": {
        "colab": {
          "base_uri": "https://localhost:8080/"
        },
        "id": "JOMN2_U7hf0A",
        "outputId": "2837a374-0adb-4563-ec0c-bbffc9e73fc4",
        "collapsed": true
      },
      "outputs": [
        {
          "output_type": "execute_result",
          "data": {
            "text/plain": [
              "1"
            ]
          },
          "metadata": {},
          "execution_count": 70
        }
      ],
      "source": [
        "len(soup.select('article .content-list .list'))"
      ]
    },
    {
      "cell_type": "code",
      "execution_count": 73,
      "metadata": {
        "colab": {
          "base_uri": "https://localhost:8080/"
        },
        "id": "Aj7Y7xASOjLL",
        "outputId": "3ddc71a1-0d5c-492f-b9ae-cf961f7d96f9",
        "collapsed": true
      },
      "outputs": [
        {
          "output_type": "execute_result",
          "data": {
            "text/plain": [
              "<article class=\"list\">\n",
              "<article class=\"list-item\" data-gainfo='{\"dimension42\":\"45064061\", \"dimension43\":\"전기·전자·제어\", \"dimension44\":\"DBA,데이터엔지니어,데이터사이언티스트\", \"dimension45\":\"[BS사업본부] Data Scientist\", \"dimension46\":\"서울\", \"dimension65\":\"N\", \"dimension66\":\"일반기업\", \"dimension70\":\"무료\", \"dimension47\":\"21247745\", \"dimension48\":\"엘지전자㈜\"}' data-gavirturl=\"https://www.jobkorea.co.kr/virtual/Recruit/GI_Read/45064061?Oem_Code=C1&amp;logpath=1&amp;stext=data scientist&amp;listno=1\" data-gino=\"47305364\" data-gno=\"45064061\" data-listno=\"1\" data-mem-sys=\"21247745\" data-mem-type=\"C\">\n",
              "<div class=\"list-section-corp\">\n",
              "<a class=\"corp-name-link dev-view\" href=\"/Recruit/GI_Read/45064061?Oem_Code=C1&amp;logpath=1&amp;stext=data scientist&amp;listno=1\" nav-src=\"/Search/_ContentsGIRead?Gno=45064061&amp;Mem_Type_Code=C&amp;Mem_Sys_No=21247745\" onclick=\"$(this).closest('.list-item').addClass('checked'); GA_Virtual_Dimension($(this).closest('.list-post[data-gno=45064061]').data('gainfo')); GA_Virtual('홈&gt;통합검색&gt;공고뷰', $(this).closest('.list-post[data-gno=45064061]').data('gavirturl')); GA_Event('통합검색_PC', '채용정보', '클릭');\" target=\"_blank\" title=\"엘지전자㈜\">\n",
              "                        엘지전자㈜</a>\n",
              "<button class=\"button-favorite dev_favor-21247745\" onclick=\"GA_Event('통합검색_PC', '채용정보','관심_' + ($(this).hasClass('on')?'해제':'등록'));\" type=\"button\">\n",
              "<i></i>\n",
              "</button>\n",
              "<ul class=\"chips-circle-group\">\n",
              "<li class=\"chips-circle-item\">LG그룹</li>\n",
              "<li class=\"chips-circle-item\">1000대기업</li>\n",
              "<li class=\"chips-circle-item\">수상기업</li>\n",
              "</ul>\n",
              "</div>\n",
              "<div class=\"list-section-information\">\n",
              "<div class=\"information-title\">\n",
              "<a class=\"information-title-link dev-view\" href=\"/Recruit/GI_Read/45064061?Oem_Code=C1&amp;logpath=1&amp;stext=data scientist&amp;listno=1\" onclick=\"$(this).closest('.list-item').addClass('checked'); GA_Virtual_Dimension($(this).closest('.list-post[data-gno=45064061]').data('gainfo'));GA_Virtual('홈&gt;통합검색&gt;공고뷰', $(this).closest('.list-post[data-gno=45064061]').data('gavirturl'));GA_Event('통합검색_PC', '채용정보', '클릭');\" target=\"_blank\">\n",
              "                                [BS사업본부] <em class=\"match\">Data Scientist</em>\n",
              "</a>\n",
              "<button class=\"button-scrap dev_scrap-47305364\" data-brazeinfo=\"[BS사업본부] Data Scientist|45064061|47305364|yyyy-MM-dd|yyyy-MM-dd|엘지전자㈜|21247745\" onclick=\"GA_Event('통합검색_PC', '채용정보','스크랩_' + ($(this).hasClass('on')?'해제':'등록'));\" type=\"button\">\n",
              "<i></i> <span>스크랩</span>\n",
              "</button>\n",
              "</div>\n",
              "<ul class=\"chip-information-group\">\n",
              "<li class=\"chip-information-item\">경력</li>\n",
              "<li class=\"chip-information-item\">대졸↑</li>\n",
              "<li class=\"chip-information-item\">서울 영등포구</li>\n",
              "<li class=\"chip-information-item dday\">오늘마감</li>\n",
              "</ul>\n",
              "</div>\n",
              "<div class=\"list-section-util\">\n",
              "<button class=\"button-apply-homepage dev_new_pop\" onclick=\"_LA.EVT('5283');GA_Event('통합검색_PC', '채용정보', '홈페이지 지원');\" src=\"/List_GI/GIB_Read_homepage_Link.asp?GI_NO=47305364\" type=\"button\"><span>홈페이지 지원</span></button>\n",
              "</div>\n",
              "</article>\n",
              "<article class=\"list-item\" data-gainfo='{\"dimension42\":\"45156609\", \"dimension43\":\"솔루션·SI·CRM·ERP\", \"dimension44\":\"시스템엔지니어,네트워크엔지니어,머신러닝엔지니어,IT컨설팅\", \"dimension45\":\"Data Scientist PartLeader\", \"dimension46\":\"서울, 경기\", \"dimension65\":\"Y\", \"dimension66\":\"일반기업\", \"dimension70\":\"무료\", \"dimension47\":\"228266\", \"dimension48\":\"㈜코그넷나인\"}' data-gavirturl=\"https://www.jobkorea.co.kr/virtual/Recruit/GI_Read/45156609?Oem_Code=C1&amp;logpath=1&amp;stext=data scientist&amp;listno=2\" data-gino=\"47387279\" data-gno=\"45156609\" data-listno=\"2\" data-mem-sys=\"228266\" data-mem-type=\"C\">\n",
              "<div class=\"list-section-corp\">\n",
              "<a class=\"corp-name-link dev-view\" href=\"/Recruit/GI_Read/45156609?Oem_Code=C1&amp;logpath=1&amp;stext=data scientist&amp;listno=2\" nav-src=\"/Search/_ContentsGIRead?Gno=45156609&amp;Mem_Type_Code=C&amp;Mem_Sys_No=228266\" onclick=\"$(this).closest('.list-item').addClass('checked'); GA_Virtual_Dimension($(this).closest('.list-post[data-gno=45156609]').data('gainfo')); GA_Virtual('홈&gt;통합검색&gt;공고뷰', $(this).closest('.list-post[data-gno=45156609]').data('gavirturl')); GA_Event('통합검색_PC', '채용정보', '클릭');\" target=\"_blank\" title=\"㈜코그넷나인\">\n",
              "                        ㈜코그넷나인</a>\n",
              "<button class=\"button-favorite dev_favor-228266\" onclick=\"GA_Event('통합검색_PC', '채용정보','관심_' + ($(this).hasClass('on')?'해제':'등록'));\" type=\"button\">\n",
              "<i></i>\n",
              "</button>\n",
              "<ul class=\"chips-circle-group\">\n",
              "</ul>\n",
              "</div>\n",
              "<div class=\"list-section-information\">\n",
              "<div class=\"information-title\">\n",
              "<a class=\"information-title-link dev-view\" href=\"/Recruit/GI_Read/45156609?Oem_Code=C1&amp;logpath=1&amp;stext=data scientist&amp;listno=2\" onclick=\"$(this).closest('.list-item').addClass('checked'); GA_Virtual_Dimension($(this).closest('.list-post[data-gno=45156609]').data('gainfo'));GA_Virtual('홈&gt;통합검색&gt;공고뷰', $(this).closest('.list-post[data-gno=45156609]').data('gavirturl'));GA_Event('통합검색_PC', '채용정보', '클릭');\" target=\"_blank\">\n",
              "<em class=\"match\">Data Scientist</em> PartLeader\n",
              "                            </a>\n",
              "<button class=\"button-scrap dev_scrap-47387279\" data-brazeinfo=\"Data Scientist PartLeader|45156609|47387279|yyyy-MM-dd|yyyy-MM-dd|㈜코그넷나인|228266\" onclick=\"GA_Event('통합검색_PC', '채용정보','스크랩_' + ($(this).hasClass('on')?'해제':'등록'));\" type=\"button\">\n",
              "<i></i> <span>스크랩</span>\n",
              "</button>\n",
              "</div>\n",
              "<ul class=\"chip-information-group\">\n",
              "<li class=\"chip-information-item\">경력8년↑</li>\n",
              "<li class=\"chip-information-item\">석사↑</li>\n",
              "<li class=\"chip-information-item\">정규직</li>\n",
              "<li class=\"chip-information-item\">서울 서초구 외</li>\n",
              "<li class=\"chip-information-item\">D-2</li>\n",
              "</ul>\n",
              "</div>\n",
              "<div class=\"list-section-util\">\n",
              "<button class=\"button-apply-now dev_direct_apply_list\" onclick=\"GA_Event('통합검색_PC', '채용정보', '즉시지원');\" type=\"button\">즉시지원</button>\n",
              "</div>\n",
              "</article>\n",
              "<article class=\"list-item\" data-gainfo='{\"dimension42\":\"45148729\", \"dimension43\":\"네트워크·통신서비스\", \"dimension44\":\"데이터사이언티스트\", \"dimension45\":\"Data Scientist\", \"dimension46\":\"서울\", \"dimension65\":\"N\", \"dimension66\":\"일반기업\", \"dimension70\":\"무료\", \"dimension47\":\"40499415\", \"dimension48\":\"야놀자\"}' data-gavirturl=\"https://www.jobkorea.co.kr/virtual/Recruit/GI_Read/45148729?Oem_Code=C1&amp;logpath=1&amp;stext=data scientist&amp;listno=3\" data-gino=\"47380369\" data-gno=\"45148729\" data-listno=\"3\" data-mem-sys=\"40499415\" data-mem-type=\"C\">\n",
              "<div class=\"list-section-corp\">\n",
              "<a class=\"corp-name-link dev-view\" href=\"/Recruit/GI_Read/45148729?Oem_Code=C1&amp;logpath=1&amp;stext=data scientist&amp;listno=3\" nav-src=\"/Search/_ContentsGIRead?Gno=45148729&amp;Mem_Type_Code=C&amp;Mem_Sys_No=40499415\" onclick=\"$(this).closest('.list-item').addClass('checked'); GA_Virtual_Dimension($(this).closest('.list-post[data-gno=45148729]').data('gainfo')); GA_Virtual('홈&gt;통합검색&gt;공고뷰', $(this).closest('.list-post[data-gno=45148729]').data('gavirturl')); GA_Event('통합검색_PC', '채용정보', '클릭');\" target=\"_blank\" title=\"야놀자\">\n",
              "                        야놀자</a>\n",
              "<button class=\"button-favorite dev_favor-40499415\" onclick=\"GA_Event('통합검색_PC', '채용정보','관심_' + ($(this).hasClass('on')?'해제':'등록'));\" type=\"button\">\n",
              "<i></i>\n",
              "</button>\n",
              "<ul class=\"chips-circle-group\">\n",
              "</ul>\n",
              "</div>\n",
              "<div class=\"list-section-information\">\n",
              "<div class=\"information-title\">\n",
              "<a class=\"information-title-link dev-view\" href=\"/Recruit/GI_Read/45148729?Oem_Code=C1&amp;logpath=1&amp;stext=data scientist&amp;listno=3\" onclick=\"$(this).closest('.list-item').addClass('checked'); GA_Virtual_Dimension($(this).closest('.list-post[data-gno=45148729]').data('gainfo'));GA_Virtual('홈&gt;통합검색&gt;공고뷰', $(this).closest('.list-post[data-gno=45148729]').data('gavirturl'));GA_Event('통합검색_PC', '채용정보', '클릭');\" target=\"_blank\">\n",
              "<em class=\"match\">Data Scientist</em>\n",
              "</a>\n",
              "<button class=\"button-scrap dev_scrap-47380369\" data-brazeinfo=\"Data Scientist|45148729|47380369|yyyy-MM-dd|yyyy-MM-dd|야놀자|40499415\" onclick=\"GA_Event('통합검색_PC', '채용정보','스크랩_' + ($(this).hasClass('on')?'해제':'등록'));\" type=\"button\">\n",
              "<i></i> <span>스크랩</span>\n",
              "</button>\n",
              "</div>\n",
              "<ul class=\"chip-information-group\">\n",
              "<li class=\"chip-information-item\">경력2년↑</li>\n",
              "<li class=\"chip-information-item\">학력무관</li>\n",
              "<li class=\"chip-information-item\">정규직</li>\n",
              "<li class=\"chip-information-item\">서울 강남구</li>\n",
              "<li class=\"chip-information-item\">D-45</li>\n",
              "</ul>\n",
              "<ul class=\"chip-benefit-group\">\n",
              "<li class=\"chip-benefit-item\">#상해보험</li>\n",
              "<li class=\"chip-benefit-item\">#명절선물/명절상여 지원</li>\n",
              "<li class=\"chip-benefit-item\">#보육수당</li>\n",
              "<li class=\"chip-benefit-item\">#출산 지원</li>\n",
              "<li class=\"chip-benefit-item\">외 8건</li>\n",
              "</ul>\n",
              "</div>\n",
              "<div class=\"list-section-util\">\n",
              "<button class=\"button-apply-homepage dev_new_pop\" onclick=\"_LA.EVT('5283');GA_Event('통합검색_PC', '채용정보', '홈페이지 지원');\" src=\"/List_GI/GIB_Read_homepage_Link.asp?GI_NO=47380369\" type=\"button\"><span>홈페이지 지원</span></button>\n",
              "</div>\n",
              "</article>\n",
              "<article class=\"list-item\" data-gainfo='{\"dimension42\":\"45100099\", \"dimension43\":\"정보보안\", \"dimension44\":\"데이터사이언티스트\", \"dimension45\":\"[안랩-제이슨] 데이터 사이언티스트 Data Scientist 모집\", \"dimension46\":\"서울\", \"dimension65\":\"Y\", \"dimension66\":\"일반기업\", \"dimension70\":\"무료\", \"dimension47\":\"30815895\", \"dimension48\":\"㈜제이슨\"}' data-gavirturl=\"https://www.jobkorea.co.kr/virtual/Recruit/GI_Read/45100099?Oem_Code=C1&amp;logpath=1&amp;stext=data scientist&amp;listno=4\" data-gino=\"47337333\" data-gno=\"45100099\" data-listno=\"4\" data-mem-sys=\"30815895\" data-mem-type=\"C\">\n",
              "<div class=\"list-section-corp\">\n",
              "<a class=\"corp-name-link dev-view\" href=\"/Recruit/GI_Read/45100099?Oem_Code=C1&amp;logpath=1&amp;stext=data scientist&amp;listno=4\" nav-src=\"/Search/_ContentsGIRead?Gno=45100099&amp;Mem_Type_Code=C&amp;Mem_Sys_No=30815895\" onclick=\"$(this).closest('.list-item').addClass('checked'); GA_Virtual_Dimension($(this).closest('.list-post[data-gno=45100099]').data('gainfo')); GA_Virtual('홈&gt;통합검색&gt;공고뷰', $(this).closest('.list-post[data-gno=45100099]').data('gavirturl')); GA_Event('통합검색_PC', '채용정보', '클릭');\" target=\"_blank\" title=\"㈜제이슨\">\n",
              "                        ㈜제이슨</a>\n",
              "<button class=\"button-favorite dev_favor-30815895\" onclick=\"GA_Event('통합검색_PC', '채용정보','관심_' + ($(this).hasClass('on')?'해제':'등록'));\" type=\"button\">\n",
              "<i></i>\n",
              "</button>\n",
              "<ul class=\"chips-circle-group\">\n",
              "</ul>\n",
              "</div>\n",
              "<div class=\"list-section-information\">\n",
              "<div class=\"information-title\">\n",
              "<a class=\"information-title-link dev-view\" href=\"/Recruit/GI_Read/45100099?Oem_Code=C1&amp;logpath=1&amp;stext=data scientist&amp;listno=4\" onclick=\"$(this).closest('.list-item').addClass('checked'); GA_Virtual_Dimension($(this).closest('.list-post[data-gno=45100099]').data('gainfo'));GA_Virtual('홈&gt;통합검색&gt;공고뷰', $(this).closest('.list-post[data-gno=45100099]').data('gavirturl'));GA_Event('통합검색_PC', '채용정보', '클릭');\" target=\"_blank\">\n",
              "                                [안랩-제이슨] 데이터 사이언티스트 <em class=\"match\">Data Scientist</em> 모집\n",
              "                            </a>\n",
              "<button class=\"button-scrap dev_scrap-47337333\" data-brazeinfo=\"[안랩-제이슨] 데이터 사이언티스트 Data Scientist 모집|45100099|47337333|yyyy-MM-dd|yyyy-MM-dd|㈜제이슨|30815895\" onclick=\"GA_Event('통합검색_PC', '채용정보','스크랩_' + ($(this).hasClass('on')?'해제':'등록'));\" type=\"button\">\n",
              "<i></i> <span>스크랩</span>\n",
              "</button>\n",
              "</div>\n",
              "<ul class=\"chip-information-group\">\n",
              "<li class=\"chip-information-item\">신입</li>\n",
              "<li class=\"chip-information-item\">대졸↑</li>\n",
              "<li class=\"chip-information-item\">정규직</li>\n",
              "<li class=\"chip-information-item\">서울 마포구</li>\n",
              "<li class=\"chip-information-item\">D-8</li>\n",
              "</ul>\n",
              "</div>\n",
              "<div class=\"list-section-util\">\n",
              "<button class=\"button-apply-now dev_direct_apply_list\" onclick=\"GA_Event('통합검색_PC', '채용정보', '즉시지원');\" type=\"button\">즉시지원</button>\n",
              "</div>\n",
              "</article>\n",
              "<article class=\"list-item\" data-gainfo='{\"dimension42\":\"45017369\", \"dimension43\":\"쇼핑몰·오픈마켓·소셜커머스\", \"dimension44\":\"시스템엔지니어,데이터엔지니어,데이터사이언티스트\", \"dimension45\":\"[LF 계열사] 트라이씨클 하프클럽/보리보리 Data Scientist 영입\", \"dimension46\":\"서울\", \"dimension65\":\"Y\", \"dimension66\":\"일반기업\", \"dimension70\":\"무료\", \"dimension47\":\"39498775\", \"dimension48\":\"㈜트라이씨클\"}' data-gavirturl=\"https://www.jobkorea.co.kr/virtual/Recruit/GI_Read/45017369?Oem_Code=C1&amp;logpath=1&amp;stext=data scientist&amp;listno=5\" data-gino=\"47264143\" data-gno=\"45017369\" data-listno=\"5\" data-mem-sys=\"39498775\" data-mem-type=\"C\">\n",
              "<div class=\"list-section-corp\">\n",
              "<a class=\"corp-name-link dev-view\" href=\"/Recruit/GI_Read/45017369?Oem_Code=C1&amp;logpath=1&amp;stext=data scientist&amp;listno=5\" nav-src=\"/Search/_ContentsGIRead?Gno=45017369&amp;Mem_Type_Code=C&amp;Mem_Sys_No=39498775\" onclick=\"$(this).closest('.list-item').addClass('checked'); GA_Virtual_Dimension($(this).closest('.list-post[data-gno=45017369]').data('gainfo')); GA_Virtual('홈&gt;통합검색&gt;공고뷰', $(this).closest('.list-post[data-gno=45017369]').data('gavirturl')); GA_Event('통합검색_PC', '채용정보', '클릭');\" target=\"_blank\" title=\"㈜트라이씨클\">\n",
              "                        ㈜트라이씨클</a>\n",
              "<button class=\"button-favorite dev_favor-39498775\" onclick=\"GA_Event('통합검색_PC', '채용정보','관심_' + ($(this).hasClass('on')?'해제':'등록'));\" type=\"button\">\n",
              "<i></i>\n",
              "</button>\n",
              "<ul class=\"chips-circle-group\">\n",
              "<li class=\"chips-circle-item\">LF그룹</li>\n",
              "<li class=\"chips-circle-item\">수상기업</li>\n",
              "</ul>\n",
              "</div>\n",
              "<div class=\"list-section-information\">\n",
              "<div class=\"information-title\">\n",
              "<a class=\"information-title-link dev-view\" href=\"/Recruit/GI_Read/45017369?Oem_Code=C1&amp;logpath=1&amp;stext=data scientist&amp;listno=5\" onclick=\"$(this).closest('.list-item').addClass('checked'); GA_Virtual_Dimension($(this).closest('.list-post[data-gno=45017369]').data('gainfo'));GA_Virtual('홈&gt;통합검색&gt;공고뷰', $(this).closest('.list-post[data-gno=45017369]').data('gavirturl'));GA_Event('통합검색_PC', '채용정보', '클릭');\" target=\"_blank\">\n",
              "                                [LF 계열사] 트라이씨클 하프클럽/보리보리 <em class=\"match\">Data Scientist</em> 영입\n",
              "                            </a>\n",
              "<button class=\"button-scrap dev_scrap-47264143\" data-brazeinfo=\"[LF 계열사] 트라이씨클 하프클럽/보리보리 Data Scientist 영입|45017369|47264143|yyyy-MM-dd|yyyy-MM-dd|㈜트라이씨클|39498775\" onclick=\"GA_Event('통합검색_PC', '채용정보','스크랩_' + ($(this).hasClass('on')?'해제':'등록'));\" type=\"button\">\n",
              "<i></i> <span>스크랩</span>\n",
              "</button>\n",
              "</div>\n",
              "<ul class=\"chip-information-group\">\n",
              "<li class=\"chip-information-item\">경력7년↑</li>\n",
              "<li class=\"chip-information-item\">대졸↑</li>\n",
              "<li class=\"chip-information-item\">정규직</li>\n",
              "<li class=\"chip-information-item\">서울 서초구</li>\n",
              "<li class=\"chip-information-item\">상시채용</li>\n",
              "</ul>\n",
              "</div>\n",
              "<div class=\"list-section-util\">\n",
              "<button class=\"button-apply-now dev_direct_apply_list\" onclick=\"GA_Event('통합검색_PC', '채용정보', '즉시지원');\" type=\"button\">즉시지원</button>\n",
              "</div>\n",
              "</article>\n",
              "<article class=\"list-item\" data-gainfo='{\"dimension42\":\"44892312\", \"dimension43\":\"제약·보건·바이오\", \"dimension44\":\"데이터사이언티스트\", \"dimension45\":\"Data Scientist 채용\", \"dimension46\":\"서울\", \"dimension65\":\"Y\", \"dimension66\":\"일반기업\", \"dimension70\":\"무료\", \"dimension47\":\"32481189\", \"dimension48\":\"바이온사이트\"}' data-gavirturl=\"https://www.jobkorea.co.kr/virtual/Recruit/GI_Read/44892312?Oem_Code=C1&amp;logpath=1&amp;stext=data scientist&amp;listno=6\" data-gino=\"47153567\" data-gno=\"44892312\" data-listno=\"6\" data-mem-sys=\"32481189\" data-mem-type=\"C\">\n",
              "<div class=\"list-section-corp\">\n",
              "<a class=\"corp-name-link dev-view\" href=\"/Recruit/GI_Read/44892312?Oem_Code=C1&amp;logpath=1&amp;stext=data scientist&amp;listno=6\" nav-src=\"/Search/_ContentsGIRead?Gno=44892312&amp;Mem_Type_Code=C&amp;Mem_Sys_No=32481189\" onclick=\"$(this).closest('.list-item').addClass('checked'); GA_Virtual_Dimension($(this).closest('.list-post[data-gno=44892312]').data('gainfo')); GA_Virtual('홈&gt;통합검색&gt;공고뷰', $(this).closest('.list-post[data-gno=44892312]').data('gavirturl')); GA_Event('통합검색_PC', '채용정보', '클릭');\" target=\"_blank\" title=\"바이온사이트\">\n",
              "                        바이온사이트</a>\n",
              "<button class=\"button-favorite dev_favor-32481189\" onclick=\"GA_Event('통합검색_PC', '채용정보','관심_' + ($(this).hasClass('on')?'해제':'등록'));\" type=\"button\">\n",
              "<i></i>\n",
              "</button>\n",
              "<ul class=\"chips-circle-group\">\n",
              "</ul>\n",
              "</div>\n",
              "<div class=\"list-section-information\">\n",
              "<div class=\"information-title\">\n",
              "<a class=\"information-title-link dev-view\" href=\"/Recruit/GI_Read/44892312?Oem_Code=C1&amp;logpath=1&amp;stext=data scientist&amp;listno=6\" onclick=\"$(this).closest('.list-item').addClass('checked'); GA_Virtual_Dimension($(this).closest('.list-post[data-gno=44892312]').data('gainfo'));GA_Virtual('홈&gt;통합검색&gt;공고뷰', $(this).closest('.list-post[data-gno=44892312]').data('gavirturl'));GA_Event('통합검색_PC', '채용정보', '클릭');\" target=\"_blank\">\n",
              "<em class=\"match\">Data Scientist</em> 채용\n",
              "                            </a>\n",
              "<button class=\"button-scrap dev_scrap-47153567\" data-brazeinfo=\"Data Scientist 채용|44892312|47153567|yyyy-MM-dd|yyyy-MM-dd|바이온사이트|32481189\" onclick=\"GA_Event('통합검색_PC', '채용정보','스크랩_' + ($(this).hasClass('on')?'해제':'등록'));\" type=\"button\">\n",
              "<i></i> <span>스크랩</span>\n",
              "</button>\n",
              "</div>\n",
              "<ul class=\"chip-information-group\">\n",
              "<li class=\"chip-information-item\">경력3년↑</li>\n",
              "<li class=\"chip-information-item\">대졸↑</li>\n",
              "<li class=\"chip-information-item\">정규직</li>\n",
              "<li class=\"chip-information-item\">서울 성동구</li>\n",
              "<li class=\"chip-information-item\">상시채용</li>\n",
              "</ul>\n",
              "</div>\n",
              "<div class=\"list-section-util\">\n",
              "<button class=\"button-apply-now dev_direct_apply_list\" onclick=\"GA_Event('통합검색_PC', '채용정보', '즉시지원');\" type=\"button\">즉시지원</button>\n",
              "</div>\n",
              "</article>\n",
              "<article class=\"list-item\" data-gainfo='{\"dimension42\":\"45138689\", \"dimension43\":\"솔루션·SI·CRM·ERP\", \"dimension44\":\"데이터엔지니어,데이터사이언티스트,머신러닝엔지니어\", \"dimension45\":\"[아기 유니콘] Data Scientist\", \"dimension46\":\"서울\", \"dimension65\":\"Y\", \"dimension66\":\"일반기업\", \"dimension70\":\"무료\", \"dimension47\":\"42394316\", \"dimension48\":\"㈜에스티씨랩(STCLab.co.,Ltd.)\"}' data-gavirturl=\"https://www.jobkorea.co.kr/virtual/Recruit/GI_Read/45138689?Oem_Code=C1&amp;logpath=1&amp;stext=data scientist&amp;listno=7\" data-gino=\"47371266\" data-gno=\"45138689\" data-listno=\"7\" data-mem-sys=\"42394316\" data-mem-type=\"C\">\n",
              "<div class=\"list-section-corp\">\n",
              "<a class=\"corp-name-link dev-view\" href=\"/Recruit/GI_Read/45138689?Oem_Code=C1&amp;logpath=1&amp;stext=data scientist&amp;listno=7\" nav-src=\"/Search/_ContentsGIRead?Gno=45138689&amp;Mem_Type_Code=C&amp;Mem_Sys_No=42394316\" onclick=\"$(this).closest('.list-item').addClass('checked'); GA_Virtual_Dimension($(this).closest('.list-post[data-gno=45138689]').data('gainfo')); GA_Virtual('홈&gt;통합검색&gt;공고뷰', $(this).closest('.list-post[data-gno=45138689]').data('gavirturl')); GA_Event('통합검색_PC', '채용정보', '클릭');\" target=\"_blank\" title=\"㈜에스티씨랩(STCLab.co.,Ltd.)\">\n",
              "                        ㈜에스티씨랩(STCLab.co.,Ltd.)</a>\n",
              "<button class=\"button-favorite dev_favor-42394316\" onclick=\"GA_Event('통합검색_PC', '채용정보','관심_' + ($(this).hasClass('on')?'해제':'등록'));\" type=\"button\">\n",
              "<i></i>\n",
              "</button>\n",
              "<ul class=\"chips-circle-group\">\n",
              "</ul>\n",
              "</div>\n",
              "<div class=\"list-section-information\">\n",
              "<div class=\"information-title\">\n",
              "<a class=\"information-title-link dev-view\" href=\"/Recruit/GI_Read/45138689?Oem_Code=C1&amp;logpath=1&amp;stext=data scientist&amp;listno=7\" onclick=\"$(this).closest('.list-item').addClass('checked'); GA_Virtual_Dimension($(this).closest('.list-post[data-gno=45138689]').data('gainfo'));GA_Virtual('홈&gt;통합검색&gt;공고뷰', $(this).closest('.list-post[data-gno=45138689]').data('gavirturl'));GA_Event('통합검색_PC', '채용정보', '클릭');\" target=\"_blank\">\n",
              "                                [아기 유니콘] <em class=\"match\">Data Scientist</em>\n",
              "</a>\n",
              "<button class=\"button-scrap dev_scrap-47371266\" data-brazeinfo=\"[아기 유니콘] Data Scientist|45138689|47371266|yyyy-MM-dd|yyyy-MM-dd|㈜에스티씨랩(STCLab.co.,Ltd.)|42394316\" onclick=\"GA_Event('통합검색_PC', '채용정보','스크랩_' + ($(this).hasClass('on')?'해제':'등록'));\" type=\"button\">\n",
              "<i></i> <span>스크랩</span>\n",
              "</button>\n",
              "</div>\n",
              "<ul class=\"chip-information-group\">\n",
              "<li class=\"chip-information-item\">경력3년↑</li>\n",
              "<li class=\"chip-information-item\">학력무관</li>\n",
              "<li class=\"chip-information-item\">정규직</li>\n",
              "<li class=\"chip-information-item\">서울 강남구</li>\n",
              "<li class=\"chip-information-item\">상시채용</li>\n",
              "</ul>\n",
              "<ul class=\"chip-benefit-group\">\n",
              "<li class=\"chip-benefit-item\">#리프레시 휴가</li>\n",
              "<li class=\"chip-benefit-item\">#유연근무</li>\n",
              "<li class=\"chip-benefit-item\">#연차제도</li>\n",
              "</ul>\n",
              "</div>\n",
              "<div class=\"list-section-util\">\n",
              "<button class=\"button-apply-now dev_direct_apply_list\" onclick=\"GA_Event('통합검색_PC', '채용정보', '즉시지원');\" type=\"button\">즉시지원</button>\n",
              "</div>\n",
              "</article>\n",
              "<article class=\"list-item\" data-gainfo='{\"dimension42\":\"45202734\", \"dimension43\":\"물류·운송·배송\", \"dimension44\":\"경영·비즈니스기획\", \"dimension45\":\"2024년 한진물류연구원 신입/경력직 연구원 채용\", \"dimension46\":\"서울\", \"dimension65\":\"Y\", \"dimension66\":\"일반기업\", \"dimension70\":\"무료\", \"dimension47\":\"33880354\", \"dimension48\":\"㈜대한항공\"}' data-gavirturl=\"https://www.jobkorea.co.kr/virtual/Recruit/GI_Read/45202734?Oem_Code=C1&amp;logpath=1&amp;stext=data scientist&amp;listno=8\" data-gino=\"47427659\" data-gno=\"45202734\" data-listno=\"8\" data-mem-sys=\"33880354\" data-mem-type=\"C\">\n",
              "<div class=\"list-section-corp\">\n",
              "<a class=\"corp-name-link dev-view\" href=\"/Recruit/GI_Read/45202734?Oem_Code=C1&amp;logpath=1&amp;stext=data scientist&amp;listno=8\" nav-src=\"/Search/_ContentsGIRead?Gno=45202734&amp;Mem_Type_Code=C&amp;Mem_Sys_No=33880354\" onclick=\"$(this).closest('.list-item').addClass('checked'); GA_Virtual_Dimension($(this).closest('.list-post[data-gno=45202734]').data('gainfo')); GA_Virtual('홈&gt;통합검색&gt;공고뷰', $(this).closest('.list-post[data-gno=45202734]').data('gavirturl')); GA_Event('통합검색_PC', '채용정보', '클릭');\" target=\"_blank\" title=\"㈜대한항공\">\n",
              "                        ㈜대한항공</a>\n",
              "<button class=\"button-favorite dev_favor-33880354\" onclick=\"GA_Event('통합검색_PC', '채용정보','관심_' + ($(this).hasClass('on')?'해제':'등록'));\" type=\"button\">\n",
              "<i></i>\n",
              "</button>\n",
              "<ul class=\"chips-circle-group\">\n",
              "<li class=\"chips-circle-item\">한진그룹</li>\n",
              "<li class=\"chips-circle-item\">수상기업</li>\n",
              "</ul>\n",
              "</div>\n",
              "<div class=\"list-section-information\">\n",
              "<div class=\"information-title\">\n",
              "<a class=\"information-title-link dev-view\" href=\"/Recruit/GI_Read/45202734?Oem_Code=C1&amp;logpath=1&amp;stext=data scientist&amp;listno=8\" onclick=\"$(this).closest('.list-item').addClass('checked'); GA_Virtual_Dimension($(this).closest('.list-post[data-gno=45202734]').data('gainfo'));GA_Virtual('홈&gt;통합검색&gt;공고뷰', $(this).closest('.list-post[data-gno=45202734]').data('gavirturl'));GA_Event('통합검색_PC', '채용정보', '클릭');\" target=\"_blank\">\n",
              "                                2024년 한진물류연구원 신입/경력직 연구원 채용\n",
              "                            </a>\n",
              "<button class=\"button-scrap dev_scrap-47427659\" data-brazeinfo=\"2024년 한진물류연구원 신입/경력직 연구원 채용|45202734|47427659|yyyy-MM-dd|yyyy-MM-dd|㈜대한항공|33880354\" onclick=\"GA_Event('통합검색_PC', '채용정보','스크랩_' + ($(this).hasClass('on')?'해제':'등록'));\" type=\"button\">\n",
              "<i></i> <span>스크랩</span>\n",
              "</button>\n",
              "</div>\n",
              "<ul class=\"chip-information-group\">\n",
              "<li class=\"chip-information-item\">신입·경력5년↑</li>\n",
              "<li class=\"chip-information-item\">석사↑</li>\n",
              "<li class=\"chip-information-item\">정규직</li>\n",
              "<li class=\"chip-information-item\">서울 중구</li>\n",
              "<li class=\"chip-information-item\">D-23</li>\n",
              "</ul>\n",
              "</div>\n",
              "<div class=\"list-section-util\">\n",
              "<button class=\"button-apply-now dev_direct_apply_list\" onclick=\"GA_Event('통합검색_PC', '채용정보', '즉시지원');\" type=\"button\">즉시지원</button>\n",
              "</div>\n",
              "</article>\n",
              "<article class=\"list-item\" data-gainfo='{\"dimension42\":\"45243109\", \"dimension43\":\"솔루션·SI·CRM·ERP\", \"dimension44\":\"경영·비즈니스기획,PL·PM·PO,회계담당자,소프트웨어개발자,클라우드엔지니어\", \"dimension45\":\"교보 DTS 경력 채용공고 (SA, AI개발자, Data Scientist)\", \"dimension46\":\"서울\", \"dimension65\":\"N\", \"dimension66\":\"일반기업\", \"dimension70\":\"무료\", \"dimension47\":\"139557\", \"dimension48\":\"교보DTS\"}' data-gavirturl=\"https://www.jobkorea.co.kr/virtual/Recruit/GI_Read/45243109?Oem_Code=C1&amp;logpath=1&amp;stext=data scientist&amp;listno=9\" data-gino=\"47462971\" data-gno=\"45243109\" data-listno=\"9\" data-mem-sys=\"139557\" data-mem-type=\"C\">\n",
              "<div class=\"list-section-corp\">\n",
              "<a class=\"corp-name-link dev-view\" href=\"/Recruit/GI_Read/45243109?Oem_Code=C1&amp;logpath=1&amp;stext=data scientist&amp;listno=9\" nav-src=\"/Search/_ContentsGIRead?Gno=45243109&amp;Mem_Type_Code=C&amp;Mem_Sys_No=139557\" onclick=\"$(this).closest('.list-item').addClass('checked'); GA_Virtual_Dimension($(this).closest('.list-post[data-gno=45243109]').data('gainfo')); GA_Virtual('홈&gt;통합검색&gt;공고뷰', $(this).closest('.list-post[data-gno=45243109]').data('gavirturl')); GA_Event('통합검색_PC', '채용정보', '클릭');\" target=\"_blank\" title=\"교보DTS\">\n",
              "                        교보DTS</a>\n",
              "<button class=\"button-favorite dev_favor-139557\" onclick=\"GA_Event('통합검색_PC', '채용정보','관심_' + ($(this).hasClass('on')?'해제':'등록'));\" type=\"button\">\n",
              "<i></i>\n",
              "</button>\n",
              "<ul class=\"chips-circle-group\">\n",
              "<li class=\"chips-circle-item\">교보생명보험그룹</li>\n",
              "<li class=\"chips-circle-item\">수상기업</li>\n",
              "</ul>\n",
              "</div>\n",
              "<div class=\"list-section-information\">\n",
              "<div class=\"information-title\">\n",
              "<a class=\"information-title-link dev-view\" href=\"/Recruit/GI_Read/45243109?Oem_Code=C1&amp;logpath=1&amp;stext=data scientist&amp;listno=9\" onclick=\"$(this).closest('.list-item').addClass('checked'); GA_Virtual_Dimension($(this).closest('.list-post[data-gno=45243109]').data('gainfo'));GA_Virtual('홈&gt;통합검색&gt;공고뷰', $(this).closest('.list-post[data-gno=45243109]').data('gavirturl'));GA_Event('통합검색_PC', '채용정보', '클릭');\" target=\"_blank\">\n",
              "                                교보 DTS 경력 채용공고 (SA, AI개발자, <em class=\"match\">Data Scientist</em>)\n",
              "                            </a>\n",
              "<button class=\"button-scrap dev_scrap-47462971\" data-brazeinfo=\"교보 DTS 경력 채용공고 (SA, AI개발자, Data Scientist)|45243109|47462971|yyyy-MM-dd|yyyy-MM-dd|교보DTS|139557\" onclick=\"GA_Event('통합검색_PC', '채용정보','스크랩_' + ($(this).hasClass('on')?'해제':'등록'));\" type=\"button\">\n",
              "<i></i> <span>스크랩</span>\n",
              "</button>\n",
              "</div>\n",
              "<ul class=\"chip-information-group\">\n",
              "<li class=\"chip-information-item\">경력</li>\n",
              "<li class=\"chip-information-item\">학력무관</li>\n",
              "<li class=\"chip-information-item\">정규직 외</li>\n",
              "<li class=\"chip-information-item\">서울 종로구</li>\n",
              "<li class=\"chip-information-item\">D-12</li>\n",
              "</ul>\n",
              "</div>\n",
              "<div class=\"list-section-util\">\n",
              "<button class=\"button-apply-homepage dev_new_pop\" onclick=\"_LA.EVT('5283');GA_Event('통합검색_PC', '채용정보', '홈페이지 지원');\" src=\"/List_GI/GIB_Read_homepage_Link.asp?GI_NO=47462971\" type=\"button\"><span>홈페이지 지원</span></button>\n",
              "</div>\n",
              "</article>\n",
              "<article class=\"list-item\" data-gainfo='{\"dimension42\":\"45162763\", \"dimension43\":\"솔루션·SI·CRM·ERP\", \"dimension44\":\"DBA,데이터엔지니어,머신러닝엔지니어\", \"dimension45\":\"[빅밸류] 2024년 Data Scientist 공개 모집(신입, 경력)\", \"dimension46\":\"서울\", \"dimension65\":\"Y\", \"dimension66\":\"일반기업\", \"dimension70\":\"무료\", \"dimension47\":\"18200253\", \"dimension48\":\"㈜빅밸류\"}' data-gavirturl=\"https://www.jobkorea.co.kr/virtual/Recruit/GI_Read/45162763?Oem_Code=C1&amp;logpath=1&amp;stext=data scientist&amp;listno=10\" data-gino=\"47392684\" data-gno=\"45162763\" data-listno=\"10\" data-mem-sys=\"18200253\" data-mem-type=\"C\">\n",
              "<div class=\"list-section-corp\">\n",
              "<a class=\"corp-name-link dev-view\" href=\"/Recruit/GI_Read/45162763?Oem_Code=C1&amp;logpath=1&amp;stext=data scientist&amp;listno=10\" nav-src=\"/Search/_ContentsGIRead?Gno=45162763&amp;Mem_Type_Code=C&amp;Mem_Sys_No=18200253\" onclick=\"$(this).closest('.list-item').addClass('checked'); GA_Virtual_Dimension($(this).closest('.list-post[data-gno=45162763]').data('gainfo')); GA_Virtual('홈&gt;통합검색&gt;공고뷰', $(this).closest('.list-post[data-gno=45162763]').data('gavirturl')); GA_Event('통합검색_PC', '채용정보', '클릭');\" target=\"_blank\" title=\"㈜빅밸류\">\n",
              "                        ㈜빅밸류</a>\n",
              "<button class=\"button-favorite dev_favor-18200253\" onclick=\"GA_Event('통합검색_PC', '채용정보','관심_' + ($(this).hasClass('on')?'해제':'등록'));\" type=\"button\">\n",
              "<i></i>\n",
              "</button>\n",
              "<ul class=\"chips-circle-group\">\n",
              "<li class=\"chips-circle-item\">수상기업</li>\n",
              "</ul>\n",
              "</div>\n",
              "<div class=\"list-section-information\">\n",
              "<div class=\"information-title\">\n",
              "<a class=\"information-title-link dev-view\" href=\"/Recruit/GI_Read/45162763?Oem_Code=C1&amp;logpath=1&amp;stext=data scientist&amp;listno=10\" onclick=\"$(this).closest('.list-item').addClass('checked'); GA_Virtual_Dimension($(this).closest('.list-post[data-gno=45162763]').data('gainfo'));GA_Virtual('홈&gt;통합검색&gt;공고뷰', $(this).closest('.list-post[data-gno=45162763]').data('gavirturl'));GA_Event('통합검색_PC', '채용정보', '클릭');\" target=\"_blank\">\n",
              "                                [빅밸류] 2024년 <em class=\"match\">Data Scientist</em> 공개 모집(신입, 경력)\n",
              "                            </a>\n",
              "<button class=\"button-scrap dev_scrap-47392684\" data-brazeinfo=\"[빅밸류] 2024년 Data Scientist 공개 모집(신입, 경력)|45162763|47392684|yyyy-MM-dd|yyyy-MM-dd|㈜빅밸류|18200253\" onclick=\"GA_Event('통합검색_PC', '채용정보','스크랩_' + ($(this).hasClass('on')?'해제':'등록'));\" type=\"button\">\n",
              "<i></i> <span>스크랩</span>\n",
              "</button>\n",
              "</div>\n",
              "<ul class=\"chip-information-group\">\n",
              "<li class=\"chip-information-item\">경력무관</li>\n",
              "<li class=\"chip-information-item\">학력무관</li>\n",
              "<li class=\"chip-information-item\">정규직</li>\n",
              "<li class=\"chip-information-item\">서울 중구</li>\n",
              "<li class=\"chip-information-item\">D-9</li>\n",
              "</ul>\n",
              "</div>\n",
              "<div class=\"list-section-util\">\n",
              "<button class=\"button-apply-now dev_direct_apply_list\" onclick=\"GA_Event('통합검색_PC', '채용정보', '즉시지원');\" type=\"button\">즉시지원</button>\n",
              "</div>\n",
              "</article>\n",
              "<article class=\"list-item\" data-gainfo='{\"dimension42\":\"45246458\", \"dimension43\":\"솔루션·SI·CRM·ERP\", \"dimension44\":\"데이터엔지니어,데이터사이언티스트,소프트웨어개발자\", \"dimension45\":\"R&amp;D / Data Scientist / Analyst\", \"dimension46\":\"서울\", \"dimension65\":\"Y\", \"dimension66\":\"일반기업\", \"dimension70\":\"무료\", \"dimension47\":\"36488631\", \"dimension48\":\"㈜반프\"}' data-gavirturl=\"https://www.jobkorea.co.kr/virtual/Recruit/GI_Read/45246458?Oem_Code=C1&amp;logpath=1&amp;stext=data scientist&amp;listno=11\" data-gino=\"47466042\" data-gno=\"45246458\" data-listno=\"11\" data-mem-sys=\"36488631\" data-mem-type=\"C\">\n",
              "<div class=\"list-section-corp\">\n",
              "<a class=\"corp-name-link dev-view\" href=\"/Recruit/GI_Read/45246458?Oem_Code=C1&amp;logpath=1&amp;stext=data scientist&amp;listno=11\" nav-src=\"/Search/_ContentsGIRead?Gno=45246458&amp;Mem_Type_Code=C&amp;Mem_Sys_No=36488631\" onclick=\"$(this).closest('.list-item').addClass('checked'); GA_Virtual_Dimension($(this).closest('.list-post[data-gno=45246458]').data('gainfo')); GA_Virtual('홈&gt;통합검색&gt;공고뷰', $(this).closest('.list-post[data-gno=45246458]').data('gavirturl')); GA_Event('통합검색_PC', '채용정보', '클릭');\" target=\"_blank\" title=\"㈜반프\">\n",
              "                        ㈜반프</a>\n",
              "<button class=\"button-favorite dev_favor-36488631\" onclick=\"GA_Event('통합검색_PC', '채용정보','관심_' + ($(this).hasClass('on')?'해제':'등록'));\" type=\"button\">\n",
              "<i></i>\n",
              "</button>\n",
              "<ul class=\"chips-circle-group\">\n",
              "</ul>\n",
              "</div>\n",
              "<div class=\"list-section-information\">\n",
              "<div class=\"information-title\">\n",
              "<a class=\"information-title-link dev-view\" href=\"/Recruit/GI_Read/45246458?Oem_Code=C1&amp;logpath=1&amp;stext=data scientist&amp;listno=11\" onclick=\"$(this).closest('.list-item').addClass('checked'); GA_Virtual_Dimension($(this).closest('.list-post[data-gno=45246458]').data('gainfo'));GA_Virtual('홈&gt;통합검색&gt;공고뷰', $(this).closest('.list-post[data-gno=45246458]').data('gavirturl'));GA_Event('통합검색_PC', '채용정보', '클릭');\" target=\"_blank\">\n",
              "                                R&amp;D / <em class=\"match\">Data Scientist</em> / Analyst\n",
              "                            </a>\n",
              "<button class=\"button-scrap dev_scrap-47466042\" data-brazeinfo=\"R&amp;D / Data Scientist / Analyst|45246458|47466042|yyyy-MM-dd|yyyy-MM-dd|㈜반프|36488631\" onclick=\"GA_Event('통합검색_PC', '채용정보','스크랩_' + ($(this).hasClass('on')?'해제':'등록'));\" type=\"button\">\n",
              "<i></i> <span>스크랩</span>\n",
              "</button>\n",
              "</div>\n",
              "<ul class=\"chip-information-group\">\n",
              "<li class=\"chip-information-item\">경력2년↑</li>\n",
              "<li class=\"chip-information-item\">학력무관</li>\n",
              "<li class=\"chip-information-item\">정규직</li>\n",
              "<li class=\"chip-information-item\">서울 강남구</li>\n",
              "<li class=\"chip-information-item\">상시채용</li>\n",
              "</ul>\n",
              "</div>\n",
              "<div class=\"list-section-util\">\n",
              "<button class=\"button-apply-now dev_direct_apply_list\" onclick=\"GA_Event('통합검색_PC', '채용정보', '즉시지원');\" type=\"button\">즉시지원</button>\n",
              "</div>\n",
              "</article>\n",
              "<article class=\"list-item\" data-gainfo='{\"dimension42\":\"45237410\", \"dimension43\":\"솔루션·SI·CRM·ERP\", \"dimension44\":\"머신러닝엔지니어\", \"dimension45\":\"Data Scientist (영어회화 필수)\", \"dimension46\":\"서울\", \"dimension65\":\"Y\", \"dimension66\":\"일반기업\", \"dimension70\":\"무료\", \"dimension47\":\"25979467\", \"dimension48\":\"㈜마인드에이아이\"}' data-gavirturl=\"https://www.jobkorea.co.kr/virtual/Recruit/GI_Read/45237410?Oem_Code=C1&amp;logpath=1&amp;stext=data scientist&amp;listno=12\" data-gino=\"47457855\" data-gno=\"45237410\" data-listno=\"12\" data-mem-sys=\"25979467\" data-mem-type=\"C\">\n",
              "<div class=\"list-section-corp\">\n",
              "<a class=\"corp-name-link dev-view\" href=\"/Recruit/GI_Read/45237410?Oem_Code=C1&amp;logpath=1&amp;stext=data scientist&amp;listno=12\" nav-src=\"/Search/_ContentsGIRead?Gno=45237410&amp;Mem_Type_Code=C&amp;Mem_Sys_No=25979467\" onclick=\"$(this).closest('.list-item').addClass('checked'); GA_Virtual_Dimension($(this).closest('.list-post[data-gno=45237410]').data('gainfo')); GA_Virtual('홈&gt;통합검색&gt;공고뷰', $(this).closest('.list-post[data-gno=45237410]').data('gavirturl')); GA_Event('통합검색_PC', '채용정보', '클릭');\" target=\"_blank\" title=\"㈜마인드에이아이\">\n",
              "                        ㈜마인드에이아이</a>\n",
              "<button class=\"button-favorite dev_favor-25979467\" onclick=\"GA_Event('통합검색_PC', '채용정보','관심_' + ($(this).hasClass('on')?'해제':'등록'));\" type=\"button\">\n",
              "<i></i>\n",
              "</button>\n",
              "<ul class=\"chips-circle-group\">\n",
              "</ul>\n",
              "</div>\n",
              "<div class=\"list-section-information\">\n",
              "<div class=\"information-title\">\n",
              "<a class=\"information-title-link dev-view\" href=\"/Recruit/GI_Read/45237410?Oem_Code=C1&amp;logpath=1&amp;stext=data scientist&amp;listno=12\" onclick=\"$(this).closest('.list-item').addClass('checked'); GA_Virtual_Dimension($(this).closest('.list-post[data-gno=45237410]').data('gainfo'));GA_Virtual('홈&gt;통합검색&gt;공고뷰', $(this).closest('.list-post[data-gno=45237410]').data('gavirturl'));GA_Event('통합검색_PC', '채용정보', '클릭');\" target=\"_blank\">\n",
              "<em class=\"match\">Data Scientist</em> (영어회화 필수)\n",
              "                            </a>\n",
              "<button class=\"button-scrap dev_scrap-47457855\" data-brazeinfo=\"Data Scientist (영어회화 필수)|45237410|47457855|yyyy-MM-dd|yyyy-MM-dd|㈜마인드에이아이|25979467\" onclick=\"GA_Event('통합검색_PC', '채용정보','스크랩_' + ($(this).hasClass('on')?'해제':'등록'));\" type=\"button\">\n",
              "<i></i> <span>스크랩</span>\n",
              "</button>\n",
              "</div>\n",
              "<ul class=\"chip-information-group\">\n",
              "<li class=\"chip-information-item\">경력3년↑</li>\n",
              "<li class=\"chip-information-item\">석사↑</li>\n",
              "<li class=\"chip-information-item\">정규직</li>\n",
              "<li class=\"chip-information-item\">서울 중구</li>\n",
              "<li class=\"chip-information-item\">상시채용</li>\n",
              "</ul>\n",
              "<ul class=\"chip-benefit-group\">\n",
              "<li class=\"chip-benefit-item\">#생일 이벤트</li>\n",
              "</ul>\n",
              "</div>\n",
              "<div class=\"list-section-util\">\n",
              "<button class=\"button-apply-now dev_direct_apply_list\" onclick=\"GA_Event('통합검색_PC', '채용정보', '즉시지원');\" type=\"button\">즉시지원</button>\n",
              "</div>\n",
              "</article>\n",
              "<article class=\"list-item\" data-gainfo='{\"dimension42\":\"44844664\", \"dimension43\":\"솔루션·SI·CRM·ERP\", \"dimension44\":\"웹개발자,앱개발자,머신러닝엔지니어\", \"dimension45\":\"AI R&amp;D / 3D 비전 / 개발 / Data Scientist 병역 특례 전문연구요원 모집\", \"dimension46\":\"서울\", \"dimension65\":\"Y\", \"dimension66\":\"일반기업\", \"dimension70\":\"무료\", \"dimension47\":\"33183712\", \"dimension48\":\"㈜델타엑스\"}' data-gavirturl=\"https://www.jobkorea.co.kr/virtual/Recruit/GI_Read/44844664?Oem_Code=C1&amp;logpath=1&amp;stext=data scientist&amp;listno=13\" data-gino=\"47111801\" data-gno=\"44844664\" data-listno=\"13\" data-mem-sys=\"33183712\" data-mem-type=\"C\">\n",
              "<div class=\"list-section-corp\">\n",
              "<a class=\"corp-name-link dev-view\" href=\"/Recruit/GI_Read/44844664?Oem_Code=C1&amp;logpath=1&amp;stext=data scientist&amp;listno=13\" nav-src=\"/Search/_ContentsGIRead?Gno=44844664&amp;Mem_Type_Code=C&amp;Mem_Sys_No=33183712\" onclick=\"$(this).closest('.list-item').addClass('checked'); GA_Virtual_Dimension($(this).closest('.list-post[data-gno=44844664]').data('gainfo')); GA_Virtual('홈&gt;통합검색&gt;공고뷰', $(this).closest('.list-post[data-gno=44844664]').data('gavirturl')); GA_Event('통합검색_PC', '채용정보', '클릭');\" target=\"_blank\" title=\"㈜델타엑스\">\n",
              "                        ㈜델타엑스</a>\n",
              "<button class=\"button-favorite dev_favor-33183712\" onclick=\"GA_Event('통합검색_PC', '채용정보','관심_' + ($(this).hasClass('on')?'해제':'등록'));\" type=\"button\">\n",
              "<i></i>\n",
              "</button>\n",
              "<ul class=\"chips-circle-group\">\n",
              "</ul>\n",
              "</div>\n",
              "<div class=\"list-section-information\">\n",
              "<div class=\"information-title\">\n",
              "<a class=\"information-title-link dev-view\" href=\"/Recruit/GI_Read/44844664?Oem_Code=C1&amp;logpath=1&amp;stext=data scientist&amp;listno=13\" onclick=\"$(this).closest('.list-item').addClass('checked'); GA_Virtual_Dimension($(this).closest('.list-post[data-gno=44844664]').data('gainfo'));GA_Virtual('홈&gt;통합검색&gt;공고뷰', $(this).closest('.list-post[data-gno=44844664]').data('gavirturl'));GA_Event('통합검색_PC', '채용정보', '클릭');\" target=\"_blank\">\n",
              "                                AI R&amp;D / 3D 비전 / 개발 / <em class=\"match\">Data Scientist</em> 병역 특례 전문연구요원 모집\n",
              "                            </a>\n",
              "<button class=\"button-scrap dev_scrap-47111801\" data-brazeinfo=\"AI R&amp;D / 3D 비전 / 개발 / Data Scientist 병역 특례 전문연구요원 모집|44844664|47111801|yyyy-MM-dd|yyyy-MM-dd|㈜델타엑스|33183712\" onclick=\"GA_Event('통합검색_PC', '채용정보','스크랩_' + ($(this).hasClass('on')?'해제':'등록'));\" type=\"button\">\n",
              "<i></i> <span>스크랩</span>\n",
              "</button>\n",
              "</div>\n",
              "<ul class=\"chip-information-group\">\n",
              "<li class=\"chip-information-item\">신입·경력</li>\n",
              "<li class=\"chip-information-item\">석사↑</li>\n",
              "<li class=\"chip-information-item\">정규직 외</li>\n",
              "<li class=\"chip-information-item\">서울 구로구</li>\n",
              "<li class=\"chip-information-item\">상시채용</li>\n",
              "</ul>\n",
              "</div>\n",
              "<div class=\"list-section-util\">\n",
              "<button class=\"button-apply-now dev_direct_apply_list\" onclick=\"GA_Event('통합검색_PC', '채용정보', '즉시지원');\" type=\"button\">즉시지원</button>\n",
              "</div>\n",
              "</article>\n",
              "<article class=\"list-item\" data-gainfo='{\"dimension42\":\"45111801\", \"dimension43\":\"솔루션·SI·CRM·ERP\", \"dimension44\":\"경영·비즈니스기획,웹기획,PL·PM·PO,경영지원,HRD·HRM,재무담당자,백엔드개발자,웹개발자,앱개발자,시스템엔지니어,네트워크엔지니어,데이터엔지니어,데이터사이언티스트,보안엔지니어,소프트웨어개발자,머신러닝엔지니어,UI·UX디자이너,전기·전자엔지니어,기계엔지니어,설계엔지니어,반도체엔지니어,R&amp;D·연구원,건축기사,시공기사,안전관리자\", \"dimension45\":\"차량SW · ICT · 경영지원 부문 채용\", \"dimension46\":\"서울, 경기, 충남, 광주, 경북, 울산, 경남, 전국\", \"dimension65\":\"N\", \"dimension66\":\"일반기업\", \"dimension70\":\"무료\", \"dimension47\":\"19481\", \"dimension48\":\"현대오토에버㈜\"}' data-gavirturl=\"https://www.jobkorea.co.kr/virtual/Recruit/GI_Read/45111801?Oem_Code=C1&amp;logpath=1&amp;stext=data scientist&amp;listno=14\" data-gino=\"47347740\" data-gno=\"45111801\" data-listno=\"14\" data-mem-sys=\"19481\" data-mem-type=\"C\">\n",
              "<div class=\"list-section-corp\">\n",
              "<a class=\"corp-name-link dev-view\" href=\"/Recruit/GI_Read/45111801?Oem_Code=C1&amp;logpath=1&amp;stext=data scientist&amp;listno=14\" nav-src=\"/Search/_ContentsGIRead?Gno=45111801&amp;Mem_Type_Code=C&amp;Mem_Sys_No=19481\" onclick=\"$(this).closest('.list-item').addClass('checked'); GA_Virtual_Dimension($(this).closest('.list-post[data-gno=45111801]').data('gainfo')); GA_Virtual('홈&gt;통합검색&gt;공고뷰', $(this).closest('.list-post[data-gno=45111801]').data('gavirturl')); GA_Event('통합검색_PC', '채용정보', '클릭');\" target=\"_blank\" title=\"현대오토에버㈜\">\n",
              "                        현대오토에버㈜</a>\n",
              "<button class=\"button-favorite dev_favor-19481\" onclick=\"GA_Event('통합검색_PC', '채용정보','관심_' + ($(this).hasClass('on')?'해제':'등록'));\" type=\"button\">\n",
              "<i></i>\n",
              "</button>\n",
              "<ul class=\"chips-circle-group\">\n",
              "<li class=\"chips-circle-item\">현대자동차그룹</li>\n",
              "<li class=\"chips-circle-item\">1000대기업</li>\n",
              "<li class=\"chips-circle-item\">코스피</li>\n",
              "</ul>\n",
              "</div>\n",
              "<div class=\"list-section-information\">\n",
              "<div class=\"information-title\">\n",
              "<a class=\"information-title-link dev-view\" href=\"/Recruit/GI_Read/45111801?Oem_Code=C1&amp;logpath=1&amp;stext=data scientist&amp;listno=14\" onclick=\"$(this).closest('.list-item').addClass('checked'); GA_Virtual_Dimension($(this).closest('.list-post[data-gno=45111801]').data('gainfo'));GA_Virtual('홈&gt;통합검색&gt;공고뷰', $(this).closest('.list-post[data-gno=45111801]').data('gavirturl'));GA_Event('통합검색_PC', '채용정보', '클릭');\" target=\"_blank\">\n",
              "                                차량SW · ICT · 경영지원 부문 채용\n",
              "                            </a>\n",
              "<button class=\"button-scrap dev_scrap-47347740\" data-brazeinfo=\"차량SW · ICT · 경영지원 부문 채용|45111801|47347740|yyyy-MM-dd|yyyy-MM-dd|현대오토에버㈜|19481\" onclick=\"GA_Event('통합검색_PC', '채용정보','스크랩_' + ($(this).hasClass('on')?'해제':'등록'));\" type=\"button\">\n",
              "<i></i> <span>스크랩</span>\n",
              "</button>\n",
              "</div>\n",
              "<ul class=\"chip-information-group\">\n",
              "<li class=\"chip-information-item\">경력</li>\n",
              "<li class=\"chip-information-item\">학력무관</li>\n",
              "<li class=\"chip-information-item\">정규직 외</li>\n",
              "<li class=\"chip-information-item\">서울</li>\n",
              "<li class=\"chip-information-item\">상시채용</li>\n",
              "</ul>\n",
              "</div>\n",
              "<div class=\"list-section-util\">\n",
              "<button class=\"button-apply-homepage dev_new_pop\" onclick=\"_LA.EVT('5283');GA_Event('통합검색_PC', '채용정보', '홈페이지 지원');\" src=\"/List_GI/GIB_Read_homepage_Link.asp?GI_NO=47347740\" type=\"button\"><span>홈페이지 지원</span></button>\n",
              "</div>\n",
              "</article>\n",
              "<article class=\"list-item\" data-gainfo='{\"dimension42\":\"44957375\", \"dimension43\":\"은행·금융\", \"dimension44\":\"데이터사이언티스트,머신러닝엔지니어\", \"dimension45\":\"[토스뱅크] CSS Modeler (기획/운영)\", \"dimension46\":\"서울\", \"dimension65\":\"N\", \"dimension66\":\"일반기업\", \"dimension70\":\"무료\", \"dimension47\":\"19576969\", \"dimension48\":\"㈜비바리퍼블리카\"}' data-gavirturl=\"https://www.jobkorea.co.kr/virtual/Recruit/GI_Read/44957375?Oem_Code=C1&amp;logpath=1&amp;stext=data scientist&amp;listno=15\" data-gino=\"47211203\" data-gno=\"44957375\" data-listno=\"15\" data-mem-sys=\"19576969\" data-mem-type=\"C\">\n",
              "<div class=\"list-section-corp\">\n",
              "<a class=\"corp-name-link dev-view\" href=\"/Recruit/GI_Read/44957375?Oem_Code=C1&amp;logpath=1&amp;stext=data scientist&amp;listno=15\" nav-src=\"/Search/_ContentsGIRead?Gno=44957375&amp;Mem_Type_Code=C&amp;Mem_Sys_No=19576969\" onclick=\"$(this).closest('.list-item').addClass('checked'); GA_Virtual_Dimension($(this).closest('.list-post[data-gno=44957375]').data('gainfo')); GA_Virtual('홈&gt;통합검색&gt;공고뷰', $(this).closest('.list-post[data-gno=44957375]').data('gavirturl')); GA_Event('통합검색_PC', '채용정보', '클릭');\" target=\"_blank\" title=\"㈜비바리퍼블리카\">\n",
              "                        ㈜비바리퍼블리카</a>\n",
              "<button class=\"button-favorite dev_favor-19576969\" onclick=\"GA_Event('통합검색_PC', '채용정보','관심_' + ($(this).hasClass('on')?'해제':'등록'));\" type=\"button\">\n",
              "<i></i>\n",
              "</button>\n",
              "<ul class=\"chips-circle-group\">\n",
              "</ul>\n",
              "</div>\n",
              "<div class=\"list-section-information\">\n",
              "<div class=\"information-title\">\n",
              "<a class=\"information-title-link dev-view\" href=\"/Recruit/GI_Read/44957375?Oem_Code=C1&amp;logpath=1&amp;stext=data scientist&amp;listno=15\" onclick=\"$(this).closest('.list-item').addClass('checked'); GA_Virtual_Dimension($(this).closest('.list-post[data-gno=44957375]').data('gainfo'));GA_Virtual('홈&gt;통합검색&gt;공고뷰', $(this).closest('.list-post[data-gno=44957375]').data('gavirturl'));GA_Event('통합검색_PC', '채용정보', '클릭');\" target=\"_blank\">\n",
              "                                [토스뱅크] CSS Modeler (기획/운영)\n",
              "                            </a>\n",
              "<button class=\"button-scrap dev_scrap-47211203\" data-brazeinfo=\"[토스뱅크] CSS Modeler (기획/운영)|44957375|47211203|yyyy-MM-dd|yyyy-MM-dd|㈜비바리퍼블리카|19576969\" onclick=\"GA_Event('통합검색_PC', '채용정보','스크랩_' + ($(this).hasClass('on')?'해제':'등록'));\" type=\"button\">\n",
              "<i></i> <span>스크랩</span>\n",
              "</button>\n",
              "</div>\n",
              "<ul class=\"chip-information-group\">\n",
              "<li class=\"chip-information-item\">경력3년↑</li>\n",
              "<li class=\"chip-information-item\">학력무관</li>\n",
              "<li class=\"chip-information-item\">정규직</li>\n",
              "<li class=\"chip-information-item\">서울 강남구</li>\n",
              "<li class=\"chip-information-item\">상시채용</li>\n",
              "</ul>\n",
              "</div>\n",
              "<div class=\"list-section-util\">\n",
              "<button class=\"button-apply-homepage dev_new_pop\" onclick=\"_LA.EVT('5283');GA_Event('통합검색_PC', '채용정보', '홈페이지 지원');\" src=\"/List_GI/GIB_Read_homepage_Link.asp?GI_NO=47211203\" type=\"button\"><span>홈페이지 지원</span></button>\n",
              "</div>\n",
              "</article>\n",
              "<article class=\"list-item\" data-gainfo='{\"dimension42\":\"45166695\", \"dimension43\":\"컨설팅·연구·조사\", \"dimension44\":\"경영·비즈니스기획,웹기획\", \"dimension45\":\"[성수동 스타트업] 제안서 기획 및 작성\", \"dimension46\":\"서울\", \"dimension65\":\"Y\", \"dimension66\":\"일반기업\", \"dimension70\":\"무료\", \"dimension47\":\"42636946\", \"dimension48\":\"바이오북㈜\"}' data-gavirturl=\"https://www.jobkorea.co.kr/virtual/Recruit/GI_Read/45166695?Oem_Code=C1&amp;logpath=1&amp;stext=data scientist&amp;listno=16\" data-gino=\"47396258\" data-gno=\"45166695\" data-listno=\"16\" data-mem-sys=\"42636946\" data-mem-type=\"C\">\n",
              "<div class=\"list-section-corp\">\n",
              "<a class=\"corp-name-link dev-view\" href=\"/Recruit/GI_Read/45166695?Oem_Code=C1&amp;logpath=1&amp;stext=data scientist&amp;listno=16\" nav-src=\"/Search/_ContentsGIRead?Gno=45166695&amp;Mem_Type_Code=C&amp;Mem_Sys_No=42636946\" onclick=\"$(this).closest('.list-item').addClass('checked'); GA_Virtual_Dimension($(this).closest('.list-post[data-gno=45166695]').data('gainfo')); GA_Virtual('홈&gt;통합검색&gt;공고뷰', $(this).closest('.list-post[data-gno=45166695]').data('gavirturl')); GA_Event('통합검색_PC', '채용정보', '클릭');\" target=\"_blank\" title=\"바이오북㈜\">\n",
              "                        바이오북㈜</a>\n",
              "<button class=\"button-favorite dev_favor-42636946\" onclick=\"GA_Event('통합검색_PC', '채용정보','관심_' + ($(this).hasClass('on')?'해제':'등록'));\" type=\"button\">\n",
              "<i></i>\n",
              "</button>\n",
              "<ul class=\"chips-circle-group\">\n",
              "</ul>\n",
              "</div>\n",
              "<div class=\"list-section-information\">\n",
              "<div class=\"information-title\">\n",
              "<a class=\"information-title-link dev-view\" href=\"/Recruit/GI_Read/45166695?Oem_Code=C1&amp;logpath=1&amp;stext=data scientist&amp;listno=16\" onclick=\"$(this).closest('.list-item').addClass('checked'); GA_Virtual_Dimension($(this).closest('.list-post[data-gno=45166695]').data('gainfo'));GA_Virtual('홈&gt;통합검색&gt;공고뷰', $(this).closest('.list-post[data-gno=45166695]').data('gavirturl'));GA_Event('통합검색_PC', '채용정보', '클릭');\" target=\"_blank\">\n",
              "                                [성수동 스타트업] 제안서 기획 및 작성\n",
              "                            </a>\n",
              "<button class=\"button-scrap dev_scrap-47396258\" data-brazeinfo=\"[성수동 스타트업] 제안서 기획 및 작성|45166695|47396258|yyyy-MM-dd|yyyy-MM-dd|바이오북㈜|42636946\" onclick=\"GA_Event('통합검색_PC', '채용정보','스크랩_' + ($(this).hasClass('on')?'해제':'등록'));\" type=\"button\">\n",
              "<i></i> <span>스크랩</span>\n",
              "</button>\n",
              "</div>\n",
              "<ul class=\"chip-information-group\">\n",
              "<li class=\"chip-information-item\">경력</li>\n",
              "<li class=\"chip-information-item\">학력무관</li>\n",
              "<li class=\"chip-information-item\">정규직 외</li>\n",
              "<li class=\"chip-information-item\">서울 성동구</li>\n",
              "<li class=\"chip-information-item\">D-17</li>\n",
              "</ul>\n",
              "</div>\n",
              "<div class=\"list-section-util\">\n",
              "<button class=\"button-apply-now dev_direct_apply_list\" onclick=\"GA_Event('통합검색_PC', '채용정보', '즉시지원');\" type=\"button\">즉시지원</button>\n",
              "</div>\n",
              "</article>\n",
              "<article class=\"list-item\" data-gainfo='{\"dimension42\":\"45120949\", \"dimension43\":\"IT컨설팅\", \"dimension44\":\"온라인마케터,콘텐츠마케터,채널관리자\", \"dimension45\":\"마케팅 커뮤니케이션 AE 팀장 모집 (삼성동,봉은사역)\", \"dimension46\":\"서울\", \"dimension65\":\"Y\", \"dimension66\":\"일반기업\", \"dimension70\":\"무료\", \"dimension47\":\"24194559\", \"dimension48\":\"㈜엑셀리언트\"}' data-gavirturl=\"https://www.jobkorea.co.kr/virtual/Recruit/GI_Read/45120949?Oem_Code=C1&amp;logpath=1&amp;stext=data scientist&amp;listno=17\" data-gino=\"47355775\" data-gno=\"45120949\" data-listno=\"17\" data-mem-sys=\"24194559\" data-mem-type=\"C\">\n",
              "<div class=\"list-section-corp\">\n",
              "<a class=\"corp-name-link dev-view\" href=\"/Recruit/GI_Read/45120949?Oem_Code=C1&amp;logpath=1&amp;stext=data scientist&amp;listno=17\" nav-src=\"/Search/_ContentsGIRead?Gno=45120949&amp;Mem_Type_Code=C&amp;Mem_Sys_No=24194559\" onclick=\"$(this).closest('.list-item').addClass('checked'); GA_Virtual_Dimension($(this).closest('.list-post[data-gno=45120949]').data('gainfo')); GA_Virtual('홈&gt;통합검색&gt;공고뷰', $(this).closest('.list-post[data-gno=45120949]').data('gavirturl')); GA_Event('통합검색_PC', '채용정보', '클릭');\" target=\"_blank\" title=\"㈜엑셀리언트\">\n",
              "                        ㈜엑셀리언트</a>\n",
              "<button class=\"button-favorite dev_favor-24194559\" onclick=\"GA_Event('통합검색_PC', '채용정보','관심_' + ($(this).hasClass('on')?'해제':'등록'));\" type=\"button\">\n",
              "<i></i>\n",
              "</button>\n",
              "<ul class=\"chips-circle-group\">\n",
              "</ul>\n",
              "</div>\n",
              "<div class=\"list-section-information\">\n",
              "<div class=\"information-title\">\n",
              "<a class=\"information-title-link dev-view\" href=\"/Recruit/GI_Read/45120949?Oem_Code=C1&amp;logpath=1&amp;stext=data scientist&amp;listno=17\" onclick=\"$(this).closest('.list-item').addClass('checked'); GA_Virtual_Dimension($(this).closest('.list-post[data-gno=45120949]').data('gainfo'));GA_Virtual('홈&gt;통합검색&gt;공고뷰', $(this).closest('.list-post[data-gno=45120949]').data('gavirturl'));GA_Event('통합검색_PC', '채용정보', '클릭');\" target=\"_blank\">\n",
              "                                마케팅 커뮤니케이션 AE 팀장 모집 (삼성동,봉은사역)\n",
              "                            </a>\n",
              "<button class=\"button-scrap dev_scrap-47355775\" data-brazeinfo=\"마케팅 커뮤니케이션 AE 팀장 모집 (삼성동,봉은사역)|45120949|47355775|yyyy-MM-dd|yyyy-MM-dd|㈜엑셀리언트|24194559\" onclick=\"GA_Event('통합검색_PC', '채용정보','스크랩_' + ($(this).hasClass('on')?'해제':'등록'));\" type=\"button\">\n",
              "<i></i> <span>스크랩</span>\n",
              "</button>\n",
              "</div>\n",
              "<ul class=\"chip-information-group\">\n",
              "<li class=\"chip-information-item\">경력3년↑</li>\n",
              "<li class=\"chip-information-item\">초대졸↑</li>\n",
              "<li class=\"chip-information-item\">정규직</li>\n",
              "<li class=\"chip-information-item\">서울 강남구</li>\n",
              "<li class=\"chip-information-item\">D-11</li>\n",
              "</ul>\n",
              "<ul class=\"chip-benefit-group\">\n",
              "<li class=\"chip-benefit-item\">#명절선물/명절상여 지원</li>\n",
              "<li class=\"chip-benefit-item\">#자기개발비</li>\n",
              "<li class=\"chip-benefit-item\">#경조사 지원 </li>\n",
              "<li class=\"chip-benefit-item\">#성과급</li>\n",
              "<li class=\"chip-benefit-item\">외 7건</li>\n",
              "</ul>\n",
              "</div>\n",
              "<div class=\"list-section-util\">\n",
              "<button class=\"button-apply-now dev_direct_apply_list\" onclick=\"GA_Event('통합검색_PC', '채용정보', '즉시지원');\" type=\"button\">즉시지원</button>\n",
              "</div>\n",
              "</article>\n",
              "<article class=\"list-item\" data-gainfo='{\"dimension42\":\"45113990\", \"dimension43\":\"솔루션·SI·CRM·ERP\", \"dimension44\":\"데이터엔지니어,데이터사이언티스트,머신러닝엔지니어\", \"dimension45\":\"주니어 데이터 분석가/데이터 사이언티스트\", \"dimension46\":\"서울\", \"dimension65\":\"Y\", \"dimension66\":\"일반기업\", \"dimension70\":\"무료\", \"dimension47\":\"26953314\", \"dimension48\":\"㈜씨즈데이터\"}' data-gavirturl=\"https://www.jobkorea.co.kr/virtual/Recruit/GI_Read/45113990?Oem_Code=C1&amp;logpath=1&amp;stext=data scientist&amp;listno=18\" data-gino=\"47349693\" data-gno=\"45113990\" data-listno=\"18\" data-mem-sys=\"26953314\" data-mem-type=\"C\">\n",
              "<div class=\"list-section-corp\">\n",
              "<a class=\"corp-name-link dev-view\" href=\"/Recruit/GI_Read/45113990?Oem_Code=C1&amp;logpath=1&amp;stext=data scientist&amp;listno=18\" nav-src=\"/Search/_ContentsGIRead?Gno=45113990&amp;Mem_Type_Code=C&amp;Mem_Sys_No=26953314\" onclick=\"$(this).closest('.list-item').addClass('checked'); GA_Virtual_Dimension($(this).closest('.list-post[data-gno=45113990]').data('gainfo')); GA_Virtual('홈&gt;통합검색&gt;공고뷰', $(this).closest('.list-post[data-gno=45113990]').data('gavirturl')); GA_Event('통합검색_PC', '채용정보', '클릭');\" target=\"_blank\" title=\"㈜씨즈데이터\">\n",
              "                        ㈜씨즈데이터</a>\n",
              "<button class=\"button-favorite dev_favor-26953314\" onclick=\"GA_Event('통합검색_PC', '채용정보','관심_' + ($(this).hasClass('on')?'해제':'등록'));\" type=\"button\">\n",
              "<i></i>\n",
              "</button>\n",
              "<ul class=\"chips-circle-group\">\n",
              "</ul>\n",
              "</div>\n",
              "<div class=\"list-section-information\">\n",
              "<div class=\"information-title\">\n",
              "<a class=\"information-title-link dev-view\" href=\"/Recruit/GI_Read/45113990?Oem_Code=C1&amp;logpath=1&amp;stext=data scientist&amp;listno=18\" onclick=\"$(this).closest('.list-item').addClass('checked'); GA_Virtual_Dimension($(this).closest('.list-post[data-gno=45113990]').data('gainfo'));GA_Virtual('홈&gt;통합검색&gt;공고뷰', $(this).closest('.list-post[data-gno=45113990]').data('gavirturl'));GA_Event('통합검색_PC', '채용정보', '클릭');\" target=\"_blank\">\n",
              "                                주니어 데이터 분석가/데이터 사이언티스트\n",
              "                            </a>\n",
              "<button class=\"button-scrap dev_scrap-47349693\" data-brazeinfo=\"주니어 데이터 분석가/데이터 사이언티스트|45113990|47349693|yyyy-MM-dd|yyyy-MM-dd|㈜씨즈데이터|26953314\" onclick=\"GA_Event('통합검색_PC', '채용정보','스크랩_' + ($(this).hasClass('on')?'해제':'등록'));\" type=\"button\">\n",
              "<i></i> <span>스크랩</span>\n",
              "</button>\n",
              "</div>\n",
              "<ul class=\"chip-information-group\">\n",
              "<li class=\"chip-information-item\">경력무관</li>\n",
              "<li class=\"chip-information-item\">대졸↑</li>\n",
              "<li class=\"chip-information-item\">정규직 외</li>\n",
              "<li class=\"chip-information-item\">서울 영등포구</li>\n",
              "<li class=\"chip-information-item\">D-10</li>\n",
              "</ul>\n",
              "</div>\n",
              "<div class=\"list-section-util\">\n",
              "<button class=\"button-apply-now dev_direct_apply_list\" onclick=\"GA_Event('통합검색_PC', '채용정보', '즉시지원');\" type=\"button\">즉시지원</button>\n",
              "</div>\n",
              "</article>\n",
              "<article class=\"list-item\" data-gainfo='{\"dimension42\":\"45079040\", \"dimension43\":\"솔루션·SI·CRM·ERP\", \"dimension44\":\"데이터엔지니어,머신러닝엔지니어\", \"dimension45\":\"브이젠, 데이터 엔지니어 &amp; 머신러닝 엔지니어 모집\", \"dimension46\":\"서울\", \"dimension65\":\"Y\", \"dimension66\":\"일반기업\", \"dimension70\":\"무료\", \"dimension47\":\"23494725\", \"dimension48\":\"브이젠㈜\"}' data-gavirturl=\"https://www.jobkorea.co.kr/virtual/Recruit/GI_Read/45079040?Oem_Code=C1&amp;logpath=1&amp;stext=data scientist&amp;listno=19\" data-gino=\"47318210\" data-gno=\"45079040\" data-listno=\"19\" data-mem-sys=\"23494725\" data-mem-type=\"C\">\n",
              "<div class=\"list-section-corp\">\n",
              "<a class=\"corp-name-link dev-view\" href=\"/Recruit/GI_Read/45079040?Oem_Code=C1&amp;logpath=1&amp;stext=data scientist&amp;listno=19\" nav-src=\"/Search/_ContentsGIRead?Gno=45079040&amp;Mem_Type_Code=C&amp;Mem_Sys_No=23494725\" onclick=\"$(this).closest('.list-item').addClass('checked'); GA_Virtual_Dimension($(this).closest('.list-post[data-gno=45079040]').data('gainfo')); GA_Virtual('홈&gt;통합검색&gt;공고뷰', $(this).closest('.list-post[data-gno=45079040]').data('gavirturl')); GA_Event('통합검색_PC', '채용정보', '클릭');\" target=\"_blank\" title=\"브이젠㈜\">\n",
              "                        브이젠㈜</a>\n",
              "<button class=\"button-favorite dev_favor-23494725\" onclick=\"GA_Event('통합검색_PC', '채용정보','관심_' + ($(this).hasClass('on')?'해제':'등록'));\" type=\"button\">\n",
              "<i></i>\n",
              "</button>\n",
              "<ul class=\"chips-circle-group\">\n",
              "</ul>\n",
              "</div>\n",
              "<div class=\"list-section-information\">\n",
              "<div class=\"information-title\">\n",
              "<a class=\"information-title-link dev-view\" href=\"/Recruit/GI_Read/45079040?Oem_Code=C1&amp;logpath=1&amp;stext=data scientist&amp;listno=19\" onclick=\"$(this).closest('.list-item').addClass('checked'); GA_Virtual_Dimension($(this).closest('.list-post[data-gno=45079040]').data('gainfo'));GA_Virtual('홈&gt;통합검색&gt;공고뷰', $(this).closest('.list-post[data-gno=45079040]').data('gavirturl'));GA_Event('통합검색_PC', '채용정보', '클릭');\" target=\"_blank\">\n",
              "                                브이젠, 데이터 엔지니어 &amp; 머신러닝 엔지니어 모집\n",
              "                            </a>\n",
              "<button class=\"button-scrap dev_scrap-47318210\" data-brazeinfo=\"브이젠, 데이터 엔지니어 &amp; 머신러닝 엔지니어 모집|45079040|47318210|yyyy-MM-dd|yyyy-MM-dd|브이젠㈜|23494725\" onclick=\"GA_Event('통합검색_PC', '채용정보','스크랩_' + ($(this).hasClass('on')?'해제':'등록'));\" type=\"button\">\n",
              "<i></i> <span>스크랩</span>\n",
              "</button>\n",
              "</div>\n",
              "<ul class=\"chip-information-group\">\n",
              "<li class=\"chip-information-item\">경력3년↑</li>\n",
              "<li class=\"chip-information-item\">대졸↑</li>\n",
              "<li class=\"chip-information-item\">정규직</li>\n",
              "<li class=\"chip-information-item\">서울 마포구</li>\n",
              "<li class=\"chip-information-item\">D-36</li>\n",
              "</ul>\n",
              "<ul class=\"chip-benefit-group\">\n",
              "<li class=\"chip-benefit-item\">#경조사 지원 </li>\n",
              "<li class=\"chip-benefit-item\">#유연근무</li>\n",
              "<li class=\"chip-benefit-item\">#음료/간식 지원</li>\n",
              "<li class=\"chip-benefit-item\">#연차제도</li>\n",
              "</ul>\n",
              "</div>\n",
              "<div class=\"list-section-util\">\n",
              "<button class=\"button-apply-now dev_direct_apply_list\" onclick=\"GA_Event('통합검색_PC', '채용정보', '즉시지원');\" type=\"button\">즉시지원</button>\n",
              "</div>\n",
              "</article>\n",
              "<article class=\"list-item\" data-gainfo='{\"dimension42\":\"45061534\", \"dimension43\":\"컨설팅·연구·조사\", \"dimension44\":\"경영·비즈니스기획,컨설턴트\", \"dimension45\":\"[스타트업] IR BOOK 제작\", \"dimension46\":\"서울\", \"dimension65\":\"Y\", \"dimension66\":\"일반기업\", \"dimension70\":\"무료\", \"dimension47\":\"42636946\", \"dimension48\":\"바이오북㈜\"}' data-gavirturl=\"https://www.jobkorea.co.kr/virtual/Recruit/GI_Read/45061534?Oem_Code=C1&amp;logpath=1&amp;stext=data scientist&amp;listno=20\" data-gino=\"47303134\" data-gno=\"45061534\" data-listno=\"20\" data-mem-sys=\"42636946\" data-mem-type=\"C\">\n",
              "<div class=\"list-section-corp\">\n",
              "<a class=\"corp-name-link dev-view\" href=\"/Recruit/GI_Read/45061534?Oem_Code=C1&amp;logpath=1&amp;stext=data scientist&amp;listno=20\" nav-src=\"/Search/_ContentsGIRead?Gno=45061534&amp;Mem_Type_Code=C&amp;Mem_Sys_No=42636946\" onclick=\"$(this).closest('.list-item').addClass('checked'); GA_Virtual_Dimension($(this).closest('.list-post[data-gno=45061534]').data('gainfo')); GA_Virtual('홈&gt;통합검색&gt;공고뷰', $(this).closest('.list-post[data-gno=45061534]').data('gavirturl')); GA_Event('통합검색_PC', '채용정보', '클릭');\" target=\"_blank\" title=\"바이오북㈜\">\n",
              "                        바이오북㈜</a>\n",
              "<button class=\"button-favorite dev_favor-42636946\" onclick=\"GA_Event('통합검색_PC', '채용정보','관심_' + ($(this).hasClass('on')?'해제':'등록'));\" type=\"button\">\n",
              "<i></i>\n",
              "</button>\n",
              "<ul class=\"chips-circle-group\">\n",
              "</ul>\n",
              "</div>\n",
              "<div class=\"list-section-information\">\n",
              "<div class=\"information-title\">\n",
              "<a class=\"information-title-link dev-view\" href=\"/Recruit/GI_Read/45061534?Oem_Code=C1&amp;logpath=1&amp;stext=data scientist&amp;listno=20\" onclick=\"$(this).closest('.list-item').addClass('checked'); GA_Virtual_Dimension($(this).closest('.list-post[data-gno=45061534]').data('gainfo'));GA_Virtual('홈&gt;통합검색&gt;공고뷰', $(this).closest('.list-post[data-gno=45061534]').data('gavirturl'));GA_Event('통합검색_PC', '채용정보', '클릭');\" target=\"_blank\">\n",
              "                                [스타트업] IR BOOK 제작\n",
              "                            </a>\n",
              "<button class=\"button-scrap dev_scrap-47303134\" data-brazeinfo=\"[스타트업] IR BOOK 제작|45061534|47303134|yyyy-MM-dd|yyyy-MM-dd|바이오북㈜|42636946\" onclick=\"GA_Event('통합검색_PC', '채용정보','스크랩_' + ($(this).hasClass('on')?'해제':'등록'));\" type=\"button\">\n",
              "<i></i> <span>스크랩</span>\n",
              "</button>\n",
              "</div>\n",
              "<ul class=\"chip-information-group\">\n",
              "<li class=\"chip-information-item\">경력</li>\n",
              "<li class=\"chip-information-item\">석사↑</li>\n",
              "<li class=\"chip-information-item\">계약직 외</li>\n",
              "<li class=\"chip-information-item\">서울 성동구</li>\n",
              "<li class=\"chip-information-item\">D-3</li>\n",
              "</ul>\n",
              "<ul class=\"chip-benefit-group\">\n",
              "<li class=\"chip-benefit-item\">#4대보험</li>\n",
              "</ul>\n",
              "</div>\n",
              "<div class=\"list-section-util\">\n",
              "<button class=\"button-apply-now dev_direct_apply_list\" onclick=\"GA_Event('통합검색_PC', '채용정보', '즉시지원');\" type=\"button\">즉시지원</button>\n",
              "</div>\n",
              "</article>\n",
              "</article>"
            ]
          },
          "metadata": {},
          "execution_count": 73
        }
      ],
      "source": [
        "soup.select('article .content-list .list')[0]"
      ]
    },
    {
      "cell_type": "code",
      "execution_count": 75,
      "metadata": {
        "colab": {
          "base_uri": "https://localhost:8080/"
        },
        "id": "h8SYVi_TIz4G",
        "outputId": "2fe4a8a8-73d7-4463-ace8-2302c46f5f43"
      },
      "outputs": [
        {
          "output_type": "execute_result",
          "data": {
            "text/plain": [
              "20"
            ]
          },
          "metadata": {},
          "execution_count": 75
        }
      ],
      "source": [
        "ss = soup.select('article .content-list .list')[0].select('.list-item')\n",
        "len(ss)"
      ]
    },
    {
      "cell_type": "code",
      "execution_count": 83,
      "metadata": {
        "colab": {
          "base_uri": "https://localhost:8080/",
          "height": 36
        },
        "id": "dHiC1pX-xzf8",
        "outputId": "7261380f-d149-4bd8-878e-d4ef9d3b84ba"
      },
      "outputs": [
        {
          "output_type": "execute_result",
          "data": {
            "text/plain": [
              "'엘지전자㈜'"
            ],
            "application/vnd.google.colaboratory.intrinsic+json": {
              "type": "string"
            }
          },
          "metadata": {},
          "execution_count": 83
        }
      ],
      "source": [
        "ss[0].select('.list-section-corp')[0].a.text.strip() # corp name"
      ]
    },
    {
      "cell_type": "code",
      "source": [
        "ss[0].select('.information-title')[0].a.text.strip() # title"
      ],
      "metadata": {
        "colab": {
          "base_uri": "https://localhost:8080/",
          "height": 36
        },
        "id": "r8Vr7icJuwwF",
        "outputId": "982bdf87-5236-4383-f2f3-d57c5f183020"
      },
      "execution_count": 88,
      "outputs": [
        {
          "output_type": "execute_result",
          "data": {
            "text/plain": [
              "'[BS사업본부] Data Scientist'"
            ],
            "application/vnd.google.colaboratory.intrinsic+json": {
              "type": "string"
            }
          },
          "metadata": {},
          "execution_count": 88
        }
      ]
    },
    {
      "cell_type": "code",
      "source": [
        "ss[0].select('.list-section-information')[0].select('ul')[0].find_all('li')"
      ],
      "metadata": {
        "colab": {
          "base_uri": "https://localhost:8080/"
        },
        "id": "RbYciTj6Qfpg",
        "outputId": "c533cfbc-ab0b-45df-9b8b-742202f64e14"
      },
      "execution_count": 108,
      "outputs": [
        {
          "output_type": "execute_result",
          "data": {
            "text/plain": [
              "[<li class=\"chip-information-item\">경력</li>,\n",
              " <li class=\"chip-information-item\">대졸↑</li>,\n",
              " <li class=\"chip-information-item\">서울 영등포구</li>,\n",
              " <li class=\"chip-information-item dday\">오늘마감</li>]"
            ]
          },
          "metadata": {},
          "execution_count": 108
        }
      ]
    },
    {
      "cell_type": "code",
      "source": [
        "# location and other information\n",
        " [i.text for i in ss[0].select('.list-section-information')[0].select('ul')[0].find_all('li')]"
      ],
      "metadata": {
        "colab": {
          "base_uri": "https://localhost:8080/"
        },
        "id": "ZqaBTthSQfmm",
        "outputId": "1820e62c-ea58-4b36-d97a-f151bc9b261c"
      },
      "execution_count": 111,
      "outputs": [
        {
          "output_type": "execute_result",
          "data": {
            "text/plain": [
              "['경력', '대졸↑', '서울 영등포구', '오늘마감']"
            ]
          },
          "metadata": {},
          "execution_count": 111
        }
      ]
    },
    {
      "cell_type": "code",
      "source": [
        "ss = soup.select('article .content-list .list')[0].select('.list-item')\n",
        "\n",
        "names, titles, infos = [], [], []\n",
        "\n",
        "for k in range(len(ss)):\n",
        "    corp = ss[k]\n",
        "    name = ss[k].select('.list-section-corp')[0].a.text.strip()\n",
        "    title = ss[k].select('.information-title')[0].a.text.strip()\n",
        "    info = [i.text for i in ss[k].select('.list-section-information')[0]\\\n",
        "            .select('ul')[0].find_all('li')]\n",
        "    names.append(name)\n",
        "    titles.append(title)\n",
        "    infos.append(info)\n"
      ],
      "metadata": {
        "id": "GBoin_UYQfjw"
      },
      "execution_count": 115,
      "outputs": []
    },
    {
      "cell_type": "code",
      "execution_count": 120,
      "metadata": {
        "colab": {
          "base_uri": "https://localhost:8080/",
          "height": 452
        },
        "id": "G-y93uo6QqJ_",
        "outputId": "0cfcb6cb-bbc2-4c17-ff1d-0673246e99f1"
      },
      "outputs": [
        {
          "output_type": "error",
          "ename": "ValueError",
          "evalue": "setting an array element with a sequence. The requested array has an inhomogeneous shape after 1 dimensions. The detected shape was (20,) + inhomogeneous part.",
          "traceback": [
            "\u001b[0;31m---------------------------------------------------------------------------\u001b[0m",
            "\u001b[0;31mAttributeError\u001b[0m                            Traceback (most recent call last)",
            "\u001b[0;32m/usr/local/lib/python3.10/dist-packages/numpy/core/fromnumeric.py\u001b[0m in \u001b[0;36mndim\u001b[0;34m(a)\u001b[0m\n\u001b[1;32m   3208\u001b[0m     \u001b[0;32mtry\u001b[0m\u001b[0;34m:\u001b[0m\u001b[0;34m\u001b[0m\u001b[0;34m\u001b[0m\u001b[0m\n\u001b[0;32m-> 3209\u001b[0;31m         \u001b[0;32mreturn\u001b[0m \u001b[0ma\u001b[0m\u001b[0;34m.\u001b[0m\u001b[0mndim\u001b[0m\u001b[0;34m\u001b[0m\u001b[0;34m\u001b[0m\u001b[0m\n\u001b[0m\u001b[1;32m   3210\u001b[0m     \u001b[0;32mexcept\u001b[0m \u001b[0mAttributeError\u001b[0m\u001b[0;34m:\u001b[0m\u001b[0;34m\u001b[0m\u001b[0;34m\u001b[0m\u001b[0m\n",
            "\u001b[0;31mAttributeError\u001b[0m: 'list' object has no attribute 'ndim'",
            "\nDuring handling of the above exception, another exception occurred:\n",
            "\u001b[0;31mValueError\u001b[0m                                Traceback (most recent call last)",
            "\u001b[0;32m<ipython-input-120-4701025a5cbd>\u001b[0m in \u001b[0;36m<cell line: 1>\u001b[0;34m()\u001b[0m\n\u001b[0;32m----> 1\u001b[0;31m pd.DataFrame(np.c_[names, titles, infos],\n\u001b[0m\u001b[1;32m      2\u001b[0m              columns=[\"names\", \"titles\", \"infos\"])\n",
            "\u001b[0;32m/usr/local/lib/python3.10/dist-packages/numpy/lib/index_tricks.py\u001b[0m in \u001b[0;36m__getitem__\u001b[0;34m(self, key)\u001b[0m\n\u001b[1;32m    391\u001b[0m                 \u001b[0mnewobj\u001b[0m \u001b[0;34m=\u001b[0m \u001b[0mitem\u001b[0m\u001b[0;34m\u001b[0m\u001b[0;34m\u001b[0m\u001b[0m\n\u001b[1;32m    392\u001b[0m             \u001b[0;32melse\u001b[0m\u001b[0;34m:\u001b[0m\u001b[0;34m\u001b[0m\u001b[0;34m\u001b[0m\u001b[0m\n\u001b[0;32m--> 393\u001b[0;31m                 \u001b[0mitem_ndim\u001b[0m \u001b[0;34m=\u001b[0m \u001b[0mnp\u001b[0m\u001b[0;34m.\u001b[0m\u001b[0mndim\u001b[0m\u001b[0;34m(\u001b[0m\u001b[0mitem\u001b[0m\u001b[0;34m)\u001b[0m\u001b[0;34m\u001b[0m\u001b[0;34m\u001b[0m\u001b[0m\n\u001b[0m\u001b[1;32m    394\u001b[0m                 \u001b[0mnewobj\u001b[0m \u001b[0;34m=\u001b[0m \u001b[0marray\u001b[0m\u001b[0;34m(\u001b[0m\u001b[0mitem\u001b[0m\u001b[0;34m,\u001b[0m \u001b[0mcopy\u001b[0m\u001b[0;34m=\u001b[0m\u001b[0;32mFalse\u001b[0m\u001b[0;34m,\u001b[0m \u001b[0msubok\u001b[0m\u001b[0;34m=\u001b[0m\u001b[0;32mTrue\u001b[0m\u001b[0;34m,\u001b[0m \u001b[0mndmin\u001b[0m\u001b[0;34m=\u001b[0m\u001b[0mndmin\u001b[0m\u001b[0;34m)\u001b[0m\u001b[0;34m\u001b[0m\u001b[0;34m\u001b[0m\u001b[0m\n\u001b[1;32m    395\u001b[0m                 \u001b[0;32mif\u001b[0m \u001b[0mtrans1d\u001b[0m \u001b[0;34m!=\u001b[0m \u001b[0;34m-\u001b[0m\u001b[0;36m1\u001b[0m \u001b[0;32mand\u001b[0m \u001b[0mitem_ndim\u001b[0m \u001b[0;34m<\u001b[0m \u001b[0mndmin\u001b[0m\u001b[0;34m:\u001b[0m\u001b[0;34m\u001b[0m\u001b[0;34m\u001b[0m\u001b[0m\n",
            "\u001b[0;32m/usr/local/lib/python3.10/dist-packages/numpy/core/fromnumeric.py\u001b[0m in \u001b[0;36mndim\u001b[0;34m(a)\u001b[0m\n\u001b[1;32m   3209\u001b[0m         \u001b[0;32mreturn\u001b[0m \u001b[0ma\u001b[0m\u001b[0;34m.\u001b[0m\u001b[0mndim\u001b[0m\u001b[0;34m\u001b[0m\u001b[0;34m\u001b[0m\u001b[0m\n\u001b[1;32m   3210\u001b[0m     \u001b[0;32mexcept\u001b[0m \u001b[0mAttributeError\u001b[0m\u001b[0;34m:\u001b[0m\u001b[0;34m\u001b[0m\u001b[0;34m\u001b[0m\u001b[0m\n\u001b[0;32m-> 3211\u001b[0;31m         \u001b[0;32mreturn\u001b[0m \u001b[0masarray\u001b[0m\u001b[0;34m(\u001b[0m\u001b[0ma\u001b[0m\u001b[0;34m)\u001b[0m\u001b[0;34m.\u001b[0m\u001b[0mndim\u001b[0m\u001b[0;34m\u001b[0m\u001b[0;34m\u001b[0m\u001b[0m\n\u001b[0m\u001b[1;32m   3212\u001b[0m \u001b[0;34m\u001b[0m\u001b[0m\n\u001b[1;32m   3213\u001b[0m \u001b[0;34m\u001b[0m\u001b[0m\n",
            "\u001b[0;31mValueError\u001b[0m: setting an array element with a sequence. The requested array has an inhomogeneous shape after 1 dimensions. The detected shape was (20,) + inhomogeneous part."
          ]
        }
      ],
      "source": [
        "pd.DataFrame(np.c_[names, titles, infos],\n",
        "             columns=[\"names\", \"titles\", \"infos\"])"
      ]
    },
    {
      "cell_type": "markdown",
      "metadata": {
        "id": "kkdRqZdbxxiA"
      },
      "source": [
        "# Exercise\n",
        "- .text: extract the combined text content of an element and its descendants. (recommended)\n",
        "- .string: extract the text content of an individual element without considering any nested elements.\n",
        "- It's important to note that the string attribute can only be used when an element has a single string as its content. If an element has multiple strings or tags, string will return None.\n",
        "- In summary, text returns the combined text content of an element and its descendants, while string returns the text content of an individual element without considering its children.\n"
      ]
    },
    {
      "cell_type": "code",
      "execution_count": null,
      "metadata": {
        "id": "A9_b58Z0mSow"
      },
      "outputs": [],
      "source": [
        "# .text and .string\n",
        "html_text = \"\"\"\n",
        "<html>\n",
        "<body>\n",
        "  <td>some text</td>\n",
        "  <td></td>\n",
        "  <td><p>more text</p></td>\n",
        "  <td>even <p>more text</p></td>\"\n",
        "</body>\n",
        "</html>\n",
        "\"\"\"\n",
        "soup = BeautifulSoup(html_text, 'html.parser')"
      ]
    },
    {
      "cell_type": "code",
      "execution_count": null,
      "metadata": {
        "colab": {
          "base_uri": "https://localhost:8080/"
        },
        "id": "i7GzPmb9no8p",
        "outputId": "70cd6f47-682e-4482-d425-dd762223d309"
      },
      "outputs": [
        {
          "data": {
            "text/plain": [
              "[<td>some text</td>,\n",
              " <td></td>,\n",
              " <td><p>more text</p></td>,\n",
              " <td>even <p>more text</p></td>]"
            ]
          },
          "execution_count": 79,
          "metadata": {},
          "output_type": "execute_result"
        }
      ],
      "source": [
        "soup.find_all('td')"
      ]
    },
    {
      "cell_type": "code",
      "execution_count": null,
      "metadata": {
        "colab": {
          "base_uri": "https://localhost:8080/"
        },
        "id": "dQor6I9Xmvgn",
        "outputId": "5e48eea5-0b45-4e06-db91-c5db563edf9b"
      },
      "outputs": [
        {
          "name": "stdout",
          "output_type": "stream",
          "text": [
            "some text\n",
            "None\n",
            "more text\n",
            "None\n"
          ]
        }
      ],
      "source": [
        "for i in soup.find_all('td'):\n",
        "    print(i.string)"
      ]
    },
    {
      "cell_type": "code",
      "execution_count": null,
      "metadata": {
        "colab": {
          "base_uri": "https://localhost:8080/"
        },
        "id": "axjOERSenRjn",
        "outputId": "315c8b69-8650-45a8-96b7-ca19ea40d65e"
      },
      "outputs": [
        {
          "name": "stdout",
          "output_type": "stream",
          "text": [
            "some text\n",
            "\n",
            "more text\n",
            "even more text\n"
          ]
        }
      ],
      "source": [
        "for i in soup.find_all('td'):\n",
        "    print(i.text)"
      ]
    },
    {
      "cell_type": "markdown",
      "metadata": {
        "id": "8focbzDsNUPZ"
      },
      "source": [
        "### Request\n",
        "- get\n",
        "- put"
      ]
    },
    {
      "cell_type": "code",
      "execution_count": null,
      "metadata": {
        "colab": {
          "base_uri": "https://localhost:8080/"
        },
        "id": "_qwLijJfNb8Z",
        "outputId": "7feb933d-07ea-440b-9c0a-17188c8db9df"
      },
      "outputs": [
        {
          "name": "stdout",
          "output_type": "stream",
          "text": [
            "b'{\"timestamp\": 1689835502, \"message\": \"success\", \"iss_position\": {\"latitude\": \"28.6522\", \"longitude\": \"-80.1510\"}}'\n",
            "b'{\"timestamp\": 1689835502, \"message\": \"success\", \"iss_position\": {\"latitude\": \"28.6522\", \"longitude\": \"-80.1510\"}}'\n"
          ]
        }
      ],
      "source": [
        "import requests\n",
        "\n",
        "# the following two are the same.\n",
        "parameters = {\"lat\": 40.71, \"lon\": -74}\n",
        "response = requests.get(\"http://api.open-notify.org/iss-now.json\",\n",
        "                        params=parameters)\n",
        "print(response.content)\n",
        "\n",
        "response = requests.get(\"http://api.open-notify.org/iss-now.json?lat=40.71&lon=-74\")\n",
        "print(response.content)"
      ]
    },
    {
      "cell_type": "code",
      "execution_count": null,
      "metadata": {
        "colab": {
          "base_uri": "https://localhost:8080/"
        },
        "id": "qwS-6A8bN7Fu",
        "outputId": "893f651e-0e5a-4192-ff7a-5361bd75ec9b"
      },
      "outputs": [
        {
          "data": {
            "text/plain": [
              "200"
            ]
          },
          "execution_count": 83,
          "metadata": {},
          "output_type": "execute_result"
        }
      ],
      "source": [
        "response.status_code"
      ]
    },
    {
      "cell_type": "code",
      "execution_count": null,
      "metadata": {
        "id": "qQ37CGZKOMxe"
      },
      "outputs": [],
      "source": [
        "response = requests.get(\"http://api.open-notify.org/iss-now.json\")"
      ]
    },
    {
      "cell_type": "code",
      "execution_count": null,
      "metadata": {
        "colab": {
          "base_uri": "https://localhost:8080/"
        },
        "id": "kkiDv8wDO4aO",
        "outputId": "770f5660-6a6b-472b-b7b9-dfd5781f7d82"
      },
      "outputs": [
        {
          "data": {
            "text/plain": [
              "b'{\"timestamp\": 1689835502, \"message\": \"success\", \"iss_position\": {\"latitude\": \"28.6522\", \"longitude\": \"-80.1510\"}}'"
            ]
          },
          "execution_count": 85,
          "metadata": {},
          "output_type": "execute_result"
        }
      ],
      "source": [
        "response.content"
      ]
    },
    {
      "cell_type": "markdown",
      "metadata": {
        "id": "vxA9yCzAP6G8"
      },
      "source": [
        "- getting JSON from a request"
      ]
    },
    {
      "cell_type": "code",
      "execution_count": null,
      "metadata": {
        "colab": {
          "base_uri": "https://localhost:8080/"
        },
        "id": "n5amZUcbO5tV",
        "outputId": "b19bccb3-03e9-4ca2-ec41-dbd524737ca4"
      },
      "outputs": [
        {
          "name": "stdout",
          "output_type": "stream",
          "text": [
            "<class 'dict'>\n",
            "{'timestamp': 1689835502, 'message': 'success', 'iss_position': {'latitude': '28.6522', 'longitude': '-80.1510'}}\n"
          ]
        }
      ],
      "source": [
        "# Make the same request we did\n",
        "\n",
        "response = requests.get(\"http://api.open-notify.org/iss-now.json\")\n",
        "\n",
        "# Get the response data as a Python object.  Verify that it's a dictionary.\n",
        "json_data = response.json()\n",
        "print(type(json_data))\n",
        "print(json_data)"
      ]
    },
    {
      "cell_type": "code",
      "execution_count": null,
      "metadata": {
        "colab": {
          "base_uri": "https://localhost:8080/",
          "height": 73
        },
        "id": "W03tN8HvQVgS",
        "outputId": "fd4e4d06-c080-4732-8f0a-f3217bad1f1c"
      },
      "outputs": [
        {
          "name": "stdout",
          "output_type": "stream",
          "text": [
            "{'Server': 'nginx/1.10.3', 'Date': 'Thu, 20 Jul 2023 06:45:02 GMT', 'Content-Type': 'application/json', 'Content-Length': '113', 'Connection': 'keep-alive', 'access-control-allow-origin': '*'}\n"
          ]
        },
        {
          "data": {
            "application/vnd.google.colaboratory.intrinsic+json": {
              "type": "string"
            },
            "text/plain": [
              "'application/json'"
            ]
          },
          "execution_count": 87,
          "metadata": {},
          "output_type": "execute_result"
        }
      ],
      "source": [
        "# Headers is a dictionary\n",
        "print(response.headers)\n",
        "content_type = response.headers['Content-Type']\n",
        "content_type"
      ]
    }
  ],
  "metadata": {
    "colab": {
      "provenance": [],
      "collapsed_sections": [
        "qTwAdY9S5wGr"
      ],
      "toc_visible": true,
      "include_colab_link": true
    },
    "kernelspec": {
      "display_name": "Python 3",
      "language": "python",
      "name": "python3"
    },
    "language_info": {
      "codemirror_mode": {
        "name": "ipython",
        "version": 3
      },
      "file_extension": ".py",
      "mimetype": "text/x-python",
      "name": "python",
      "nbconvert_exporter": "python",
      "pygments_lexer": "ipython3",
      "version": "3.8.5"
    }
  },
  "nbformat": 4,
  "nbformat_minor": 0
}