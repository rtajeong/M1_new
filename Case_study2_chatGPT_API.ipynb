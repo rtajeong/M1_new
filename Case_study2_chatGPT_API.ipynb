{
  "cells": [
    {
      "cell_type": "markdown",
      "metadata": {
        "id": "view-in-github",
        "colab_type": "text"
      },
      "source": [
        "<a href=\"https://colab.research.google.com/github/rtajeong/M1_new/blob/main/Case_study2_chatGPT_API.ipynb\" target=\"_parent\"><img src=\"https://colab.research.google.com/assets/colab-badge.svg\" alt=\"Open In Colab\"/></a>"
      ]
    },
    {
      "cell_type": "markdown",
      "source": [
        "#  Using ChatGPT-API for Marketing\n",
        "- originally prepred by chaho shin, and modified by jyj"
      ],
      "metadata": {
        "id": "jJKirLRhxuqV"
      },
      "id": "jJKirLRhxuqV"
    },
    {
      "cell_type": "code",
      "source": [
        "!pip install openai"
      ],
      "metadata": {
        "colab": {
          "base_uri": "https://localhost:8080/"
        },
        "id": "NXzcLkjN5pgf",
        "outputId": "6e94b8ec-5e53-48f3-9c6f-76b3d4dd961d"
      },
      "id": "NXzcLkjN5pgf",
      "execution_count": null,
      "outputs": [
        {
          "output_type": "stream",
          "name": "stdout",
          "text": [
            "Collecting openai\n",
            "  Downloading openai-0.27.8-py3-none-any.whl (73 kB)\n",
            "\u001b[?25l     \u001b[90m━━━━━━━━━━━━━━━━━━━━━━━━━━━━━━━━━━━━━━━━\u001b[0m \u001b[32m0.0/73.6 kB\u001b[0m \u001b[31m?\u001b[0m eta \u001b[36m-:--:--\u001b[0m\r\u001b[2K     \u001b[91m━━━━━━━━━━━━━━━━━━━━━━━━━━━━━━━━━━━━━━\u001b[0m\u001b[91m╸\u001b[0m\u001b[90m━\u001b[0m \u001b[32m71.7/73.6 kB\u001b[0m \u001b[31m1.9 MB/s\u001b[0m eta \u001b[36m0:00:01\u001b[0m\r\u001b[2K     \u001b[90m━━━━━━━━━━━━━━━━━━━━━━━━━━━━━━━━━━━━━━━━\u001b[0m \u001b[32m73.6/73.6 kB\u001b[0m \u001b[31m1.5 MB/s\u001b[0m eta \u001b[36m0:00:00\u001b[0m\n",
            "\u001b[?25hRequirement already satisfied: requests>=2.20 in /usr/local/lib/python3.10/dist-packages (from openai) (2.27.1)\n",
            "Requirement already satisfied: tqdm in /usr/local/lib/python3.10/dist-packages (from openai) (4.65.0)\n",
            "Requirement already satisfied: aiohttp in /usr/local/lib/python3.10/dist-packages (from openai) (3.8.4)\n",
            "Requirement already satisfied: urllib3<1.27,>=1.21.1 in /usr/local/lib/python3.10/dist-packages (from requests>=2.20->openai) (1.26.16)\n",
            "Requirement already satisfied: certifi>=2017.4.17 in /usr/local/lib/python3.10/dist-packages (from requests>=2.20->openai) (2023.5.7)\n",
            "Requirement already satisfied: charset-normalizer~=2.0.0 in /usr/local/lib/python3.10/dist-packages (from requests>=2.20->openai) (2.0.12)\n",
            "Requirement already satisfied: idna<4,>=2.5 in /usr/local/lib/python3.10/dist-packages (from requests>=2.20->openai) (3.4)\n",
            "Requirement already satisfied: attrs>=17.3.0 in /usr/local/lib/python3.10/dist-packages (from aiohttp->openai) (23.1.0)\n",
            "Requirement already satisfied: multidict<7.0,>=4.5 in /usr/local/lib/python3.10/dist-packages (from aiohttp->openai) (6.0.4)\n",
            "Requirement already satisfied: async-timeout<5.0,>=4.0.0a3 in /usr/local/lib/python3.10/dist-packages (from aiohttp->openai) (4.0.2)\n",
            "Requirement already satisfied: yarl<2.0,>=1.0 in /usr/local/lib/python3.10/dist-packages (from aiohttp->openai) (1.9.2)\n",
            "Requirement already satisfied: frozenlist>=1.1.1 in /usr/local/lib/python3.10/dist-packages (from aiohttp->openai) (1.3.3)\n",
            "Requirement already satisfied: aiosignal>=1.1.2 in /usr/local/lib/python3.10/dist-packages (from aiohttp->openai) (1.3.1)\n",
            "Installing collected packages: openai\n",
            "Successfully installed openai-0.27.8\n"
          ]
        }
      ]
    },
    {
      "cell_type": "code",
      "source": [
        "from google.colab import drive\n",
        "drive.mount('/content/drive')"
      ],
      "metadata": {
        "colab": {
          "base_uri": "https://localhost:8080/"
        },
        "id": "xBBuY8d1yHau",
        "outputId": "153ee155-54cd-4a8a-e7ca-af70bded1154"
      },
      "id": "xBBuY8d1yHau",
      "execution_count": null,
      "outputs": [
        {
          "output_type": "stream",
          "name": "stdout",
          "text": [
            "Mounted at /content/drive\n"
          ]
        }
      ]
    },
    {
      "cell_type": "code",
      "source": [
        "api_key_file = '/content/drive/My Drive/Colab Notebooks/api_key.txt'\n",
        "\n",
        "with open(api_key_file, 'r') as f:\n",
        "    api_key = f.read().strip()"
      ],
      "metadata": {
        "id": "9RAb75VkyJuO"
      },
      "id": "9RAb75VkyJuO",
      "execution_count": null,
      "outputs": []
    },
    {
      "cell_type": "code",
      "source": [
        "import openai\n",
        "import os\n",
        "\n",
        "openai.api_key = api_key"
      ],
      "metadata": {
        "id": "gsIhluRLyPXO"
      },
      "id": "gsIhluRLyPXO",
      "execution_count": null,
      "outputs": []
    },
    {
      "cell_type": "code",
      "execution_count": null,
      "id": "a03fa788",
      "metadata": {
        "id": "a03fa788"
      },
      "outputs": [],
      "source": [
        "# defining the function \"scoring_with_chatgpt\" that takes user prompts and generates a response as a message\n",
        "def scoring_with_chatgpt(prompt, model=\"text-davinci-003\"):\n",
        "    response = openai.Completion.create(\n",
        "        engine=model,\n",
        "        prompt=prompt,\n",
        "        max_tokens=3000,  # maximum is 4097\n",
        "        n=1,\n",
        "        stop=None,\n",
        "        temperature=0,    # affects how much \"creativity\" openai uses to answer. 0 will give most literal, objective answers\n",
        "    )\n",
        "\n",
        "    message = response.choices[0].text.strip()\n",
        "    return message"
      ]
    },
    {
      "cell_type": "code",
      "source": [
        "commands = [\n",
        "    #1 prompt\n",
        "    \"I will show you Mission Statements from various companies. You will score all these companies on a scale of 0 to 5,\\\n",
        "    with the scores in increments of 0.1. The scores showing how growth-oriented the companies are based on their mission \\\n",
        "    statements. 0 being not growth-oriented at all, while 5 is extremely growth-oriented. Just give me the score value.\",\n",
        "    #2 prompt (brief info about the stock recommender system, 4 scores instead of 1, score increments of 0.1)\n",
        "    \"I am trying to create a stock recommendation system that recommends stocks to its users based on how well-matched\\\n",
        "    the characteristics of the stocks are with the investment characteristics of the users. For this, you need to score \\\n",
        "    all the following companies by these 4 criteria: 1) growth oriented 2) stability oriented 3) disruption oriented\\\n",
        "    4) cyclical business oriented. I will show you Mission Statements from various companies. The scores need to range \\\n",
        "    on a scale of 0 to 5, with the scores in increments of 0.1. A score of 0 shows minimal levels of that characteristic,\\\n",
        "    while 5 shows maximal levels. Give me the score values only.\",\n",
        "    #3 prompt (scales is now a continuous scale, and gave examples of scores to help opengpt understand the meanings\n",
        "    # behind the scores better)\n",
        "    \"I am trying to create a stock recommendation system that recommends stocks to its users based on how well-matched\\\n",
        "    the characteristics of the stocks are with the investment characteristics of the users. In order to do this, the\\\n",
        "    stocks need to be scored on several characteristics. For this, you need to score all the following companies \\\n",
        "    by these 4 criteria: 1) growth oriented 2) stability oriented 3) disruption oriented 4) cyclical business. \\\n",
        "    I will show you Mission Statements from various companies. The scores need to range on a continuous scale of 0 to 5,\\\n",
        "    with 0 and 5 being the minimum and maximum levels of the respective characteristics. For example, a company with\\\n",
        "    a disruption oriented score of 4.7 means this company is very disruption-oriented. A company with a stability oriented\\\n",
        "    score of 0.6 means this company is very minimally stability oriented. Give me the score values only.\",]\n",
        "additional_commands = [\n",
        "    #4 prompt (more info about stock recommendation system, and asked for summary that justifies the scores)\n",
        "    \"I am trying to create a stock recommendation system that recommends stocks to its users based on how well-matched \\\n",
        "    the characteristics of the stocks are with the investment characteristics of the users. This system would be based on\\\n",
        "    financial analysis of various companies’ financial fundamentals, and also an analysis of the texts in \\\n",
        "    company’s webpages. As part of this textual analysis, the stocks need to be scored on several characteristics.\\\n",
        "    For this, you need to score all the following companies by these 4 criteria: 1) growth oriented 2) stability oriented\\\n",
        "    3) disruption oriented 4) cyclical business 5) future-proof. I will show you Mission Statements from various companies.\\\n",
        "    The scores need to range on a continuous scale of 0 to 5, with 0 and 5 being the minimum and maximum levels of the\\\n",
        "    respective characteristics. For example, a company with a disruption oriented score of 4.7 means this company is \\\n",
        "    very disruption-oriented. A company with a stability oriented score of 0.6 means this company is very minimally\\\n",
        "    stability oriented. The plan for the recommendation system is to match various companies to users that also have \\\n",
        "    behavioral biases that match the 5 characteristics. You need to give a summary for each company where you justify your\\\n",
        "    scores.\",\n",
        "    #5 prompt (more info about the stock recommendation system, why the text data analysis is important, explanations of\n",
        "    # each company characteristic, repeat that the scoring must be based on the mission statement text, to reduce the\n",
        "    # probability of chatgpt using outside information for the scoring.)\n",
        "    \"I am a male 28 year-old Graduate School student from Korea, currently studying in a Master’s program. My lab partner\\\n",
        "    and I are trying to create a Stock Recommendation System that utilizes machine learning, which will recommend \\\n",
        "    US-listed stocks to its users based on how well-matched the characteristics of the stocks are with the investment\\\n",
        "    characteristics of the users. This system would be based on financial analysis of various companies’ financial\\\n",
        "    fundamentals, and also an analysis of the texts in company’s webpages. The financial and textual analyses will aid\\\n",
        "    in classifying the stocks to match the behavioral biases of the users, and create a stock portfolio accordingly.\\\n",
        "    The textual analysis you will do now is a part of how the companies’ webpage textual data is scored on a variety of\\\n",
        "    characteristics. For this, you need to score all the following companies by these 5 criteria: 1) growth oriented \\\n",
        "    2) stability oriented 3) disruption oriented 4) cyclical business 5) future-proof. Growth oriented companies would be\\\n",
        "    ones that seek to significantly increase their revenue and market share. Stability oriented companies would seek to\\\n",
        "    sustain their current revenue and market share. Disruption oriented companies seek to use innovative products \\\n",
        "    to create a new market, or enter at the bottom of an existing market to eventually displace previous market leaders.\\\n",
        "    Companies with cyclical businesses are ones whereby revenue is affected greatly by macroeconomic changes, following\\\n",
        "    the cycles of an economy through expansion, peak, recession and depression. Future proof companies are ones whereby\\\n",
        "    future events or developments will minimally affect business performance. These 5 scores need to range on a\\\n",
        "    continuous scale of 0 to 5, with 0 and 5 being the minimum and maximum levels of the respective characteristics.\\\n",
        "    For example, a company with a disruption oriented score of 4.7 means this company is very disruption-oriented. \\\n",
        "    A company with a stability oriented score of 0.6 means this company is very minimally stability oriented. I will \\\n",
        "    show you Mission Statements from various companies, and you are to score the companies on these 5 criteria based on\\\n",
        "    the Mission Statements. These scores will be used to classify various stocks for the stock recommendation system,\\\n",
        "    to match companies to users based on the users’ behavioral biases. You need to give a summary for each company where\\\n",
        "    you justify your scores.\"]\n",
        "\n",
        "len(commands)"
      ],
      "metadata": {
        "colab": {
          "base_uri": "https://localhost:8080/"
        },
        "id": "1CmzawXJzXud",
        "outputId": "9dcb4b4b-5818-4a56-d6bc-629ffb46fec7"
      },
      "id": "1CmzawXJzXud",
      "execution_count": null,
      "outputs": [
        {
          "output_type": "execute_result",
          "data": {
            "text/plain": [
              "3"
            ]
          },
          "metadata": {},
          "execution_count": 17
        }
      ]
    },
    {
      "cell_type": "code",
      "source": [
        "statements = [\n",
        " 'Linkedin: “To connect the world’s professionals to make them more productive and successful.\"',\n",
        " 'Asos: “To become the number 1 fashion destination for 20-somethings globally.\"',\n",
        " 'Home Depot: “The Home Depot is in the home improvement business and our goal is to provide the highest level \\\n",
        "  of service, the broadest selection of products and the most competitive prices.”',\n",
        " 'Uber: “Uber is evolving the way the world moves. By seamlessly connecting riders to drivers through our apps, \\\n",
        "  we make cities more accessible, opening up more possibilities for riders and more business for drivers.”',\n",
        " 'Tesla: “Our goal when we created Tesla a decade ago was the same as it is today: to accelerate the advent of \\\n",
        "  sustainable transport by bringing compelling mass market electric cars to market as soon as possible.”',]\n",
        "additional_statements = [\n",
        " 'Walt Disney: “To be one of the world’s leading producers and providers of entertainment and information, \\\n",
        "  using its portfolio of brands to differentiate its content, services and consumer products.”',\n",
        " 'Sony: “To be a company that inspires and fulfils your curiosity.”',\n",
        " 'Du Pont: “To create shareholder and societal value while reducing the environmental footprint along the value \\\n",
        "  chains in which we operate.”',\n",
        " 'Proctor & Gamble: “We will provide branded products and services of superior quality and value that improve \\\n",
        "  the lives of the world’s consumers.”',]\n",
        "\n",
        "len(statements)"
      ],
      "metadata": {
        "colab": {
          "base_uri": "https://localhost:8080/"
        },
        "id": "ASvI9bgf1-fm",
        "outputId": "693863aa-8e0a-4d76-8bc9-668f528d846c"
      },
      "id": "ASvI9bgf1-fm",
      "execution_count": null,
      "outputs": [
        {
          "output_type": "execute_result",
          "data": {
            "text/plain": [
              "5"
            ]
          },
          "metadata": {},
          "execution_count": 8
        }
      ]
    },
    {
      "cell_type": "code",
      "source": [
        "prompt0 = commands[0]+' '+statements[0]\n",
        "prompt0"
      ],
      "metadata": {
        "colab": {
          "base_uri": "https://localhost:8080/",
          "height": 70
        },
        "id": "ZzW4fJA72ThN",
        "outputId": "2d4df50e-71c9-4da7-af31-3adbbecf2b87"
      },
      "id": "ZzW4fJA72ThN",
      "execution_count": null,
      "outputs": [
        {
          "output_type": "execute_result",
          "data": {
            "text/plain": [
              "'I will show you Mission Statements from various companies. You will score all these companies on a scale of 0 to 5,    with the scores in increments of 0.1. The scores showing how growth-oriented the companies are based on their mission     statements. 0 being not growth-oriented at all, while 5 is extremely growth-oriented. Just give me the score value. Linkedin: “To connect the world’s professionals to make them more productive and successful.\"'"
            ],
            "application/vnd.google.colaboratory.intrinsic+json": {
              "type": "string"
            }
          },
          "metadata": {},
          "execution_count": 15
        }
      ]
    },
    {
      "cell_type": "code",
      "source": [
        "prompt1 = commands[1]+' '+statements[0]\n",
        "prompt1"
      ],
      "metadata": {
        "colab": {
          "base_uri": "https://localhost:8080/",
          "height": 105
        },
        "id": "HROG3PXEmAu5",
        "outputId": "2e734d74-a26d-433e-e017-a710b6ef503c"
      },
      "id": "HROG3PXEmAu5",
      "execution_count": null,
      "outputs": [
        {
          "output_type": "execute_result",
          "data": {
            "text/plain": [
              "'I am trying to create a stock recommendation system that recommends stocks to its users based on how well-matched    the characteristics of the stocks are with the investment characteristics of the users. For this, you need to score     all the following companies by these 4 criteria: 1) growth oriented 2) stability oriented 3) disruption oriented    4) cyclical business oriented. I will show you Mission Statements from various companies. The scores need to range     on a scale of 0 to 5, with the scores in increments of 0.1. A score of 0 shows minimal levels of that characteristic,    while 5 shows maximal levels. Give me the score values only. Linkedin: “To connect the world’s professionals to make them more productive and successful.\"'"
            ],
            "application/vnd.google.colaboratory.intrinsic+json": {
              "type": "string"
            }
          },
          "metadata": {},
          "execution_count": 13
        }
      ]
    },
    {
      "cell_type": "code",
      "source": [
        "response = scoring_with_chatgpt(prompt0)\n",
        "response"
      ],
      "metadata": {
        "id": "wDHRSgxo3C_F",
        "colab": {
          "base_uri": "https://localhost:8080/",
          "height": 36
        },
        "outputId": "88c3f5ee-3f72-4664-f8c0-a1e3b025fa4f"
      },
      "id": "wDHRSgxo3C_F",
      "execution_count": null,
      "outputs": [
        {
          "output_type": "execute_result",
          "data": {
            "text/plain": [
              "'4.5'"
            ],
            "application/vnd.google.colaboratory.intrinsic+json": {
              "type": "string"
            }
          },
          "metadata": {},
          "execution_count": 16
        }
      ]
    },
    {
      "cell_type": "code",
      "source": [
        "response = scoring_with_chatgpt(prompt1)\n",
        "response"
      ],
      "metadata": {
        "colab": {
          "base_uri": "https://localhost:8080/",
          "height": 36
        },
        "id": "oPzv6kwtmNmx",
        "outputId": "4d90791d-37c9-4592-c99a-252640cee3e8"
      },
      "id": "oPzv6kwtmNmx",
      "execution_count": null,
      "outputs": [
        {
          "output_type": "execute_result",
          "data": {
            "text/plain": [
              "'Growth Oriented: 4.5\\nStability Oriented: 3.5\\nDisruption Oriented: 4.0\\nCyclical Business Oriented: 1.0'"
            ],
            "application/vnd.google.colaboratory.intrinsic+json": {
              "type": "string"
            }
          },
          "metadata": {},
          "execution_count": 14
        }
      ]
    },
    {
      "cell_type": "code",
      "source": [
        "prompt2 = commands[2]+' '+statements[0]\n",
        "response = scoring_with_chatgpt(prompt2)\n",
        "response"
      ],
      "metadata": {
        "colab": {
          "base_uri": "https://localhost:8080/",
          "height": 36
        },
        "id": "MtXKZF8Ymupx",
        "outputId": "1733b8ea-4c38-44ff-e673-b30d56780cac"
      },
      "id": "MtXKZF8Ymupx",
      "execution_count": null,
      "outputs": [
        {
          "output_type": "execute_result",
          "data": {
            "text/plain": [
              "'Growth Oriented: 4.5\\nStability Oriented: 2.5\\nDisruption Oriented: 3.5\\nCyclical Business: 2.0'"
            ],
            "application/vnd.google.colaboratory.intrinsic+json": {
              "type": "string"
            }
          },
          "metadata": {},
          "execution_count": 18
        }
      ]
    },
    {
      "cell_type": "code",
      "source": [
        "responses_all = []\n",
        "for command in commands:\n",
        "    responses = []\n",
        "    for statement in statements:\n",
        "        prompt = command + ' ' + statement\n",
        "        response = scoring_with_chatgpt(prompt)\n",
        "        responses.append(response)\n",
        "    responses_all.append(responses)\n"
      ],
      "metadata": {
        "id": "U1q9uI4PIn7-"
      },
      "id": "U1q9uI4PIn7-",
      "execution_count": null,
      "outputs": []
    },
    {
      "cell_type": "code",
      "source": [
        "responses_all"
      ],
      "metadata": {
        "colab": {
          "base_uri": "https://localhost:8080/"
        },
        "id": "6wfRzUozJ_Tv",
        "outputId": "041ff99d-56ec-4b9e-d2cc-696e7ce55240"
      },
      "id": "6wfRzUozJ_Tv",
      "execution_count": null,
      "outputs": [
        {
          "output_type": "execute_result",
          "data": {
            "text/plain": [
              "[['4.5', '4.5', '3.7', '4.5', '4.5'],\n",
              " ['Growth Oriented: 4.5\\nStability Oriented: 3.5\\nDisruption Oriented: 4.0\\nCyclical Business Oriented: 2.0',\n",
              "  'Growth Oriented: 4.5\\nStability Oriented: 2.5\\nDisruption Oriented: 3.5\\nCyclical Business Oriented: 2.0',\n",
              "  'Growth Oriented: 3.5\\nStability Oriented: 4.0\\nDisruption Oriented: 1.0\\nCyclical Business Oriented: 3.5',\n",
              "  'Growth Oriented: 4.5\\nStability Oriented: 2.5\\nDisruption Oriented: 5.0\\nCyclical Business Oriented: 2.0',\n",
              "  'Growth Oriented: 5\\nStability Oriented: 2\\nDisruption Oriented: 5\\nCyclical Business Oriented: 0'],\n",
              " ['Growth Oriented: 4.5\\nStability Oriented: 2.5\\nDisruption Oriented: 3.5\\nCyclical Business: 1.5',\n",
              "  'Growth Oriented: 4.5\\nStability Oriented: 2.5\\nDisruption Oriented: 4.0\\nCyclical Business: 2.0',\n",
              "  'Growth Oriented: 3.5\\nStability Oriented: 4.5\\nDisruption Oriented: 1.5\\nCyclical Business: 2.5',\n",
              "  'Growth Oriented: 4.5\\nStability Oriented: 1.5\\nDisruption Oriented: 4.8\\nCyclical Business: 2.0',\n",
              "  'Growth Oriented: 4.5\\nStability Oriented: 2.5\\nDisruption Oriented: 4.7\\nCyclical Business: 2.0']]"
            ]
          },
          "metadata": {},
          "execution_count": 27
        }
      ]
    },
    {
      "cell_type": "markdown",
      "source": [
        "-----"
      ],
      "metadata": {
        "id": "_O5YRzu_PBkI"
      },
      "id": "_O5YRzu_PBkI"
    }
  ],
  "metadata": {
    "kernelspec": {
      "display_name": "Python 3 (ipykernel)",
      "language": "python",
      "name": "python3"
    },
    "language_info": {
      "codemirror_mode": {
        "name": "ipython",
        "version": 3
      },
      "file_extension": ".py",
      "mimetype": "text/x-python",
      "name": "python",
      "nbconvert_exporter": "python",
      "pygments_lexer": "ipython3",
      "version": "3.9.13"
    },
    "colab": {
      "provenance": [],
      "include_colab_link": true
    }
  },
  "nbformat": 4,
  "nbformat_minor": 5
}